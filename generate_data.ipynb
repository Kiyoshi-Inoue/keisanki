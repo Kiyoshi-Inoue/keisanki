{
 "cells": [
  {
   "cell_type": "code",
   "execution_count": 47,
   "metadata": {},
   "outputs": [],
   "source": [
    "import random\n",
    "import numpy as np"
   ]
  },
  {
   "attachments": {},
   "cell_type": "markdown",
   "metadata": {},
   "source": [
    "## U_iの生成"
   ]
  },
  {
   "cell_type": "code",
   "execution_count": 48,
   "metadata": {},
   "outputs": [],
   "source": [
    "import random"
   ]
  },
  {
   "cell_type": "code",
   "execution_count": 49,
   "metadata": {},
   "outputs": [],
   "source": [
    "import numpy as np"
   ]
  },
  {
   "cell_type": "code",
   "execution_count": 98,
   "metadata": {},
   "outputs": [],
   "source": [
    "p_1=50\n",
    "r_J=10\n",
    "p_2=50\n",
    "n=50\n",
    "\n"
   ]
  },
  {
   "cell_type": "code",
   "execution_count": 99,
   "metadata": {},
   "outputs": [],
   "source": [
    "U_1=np.random.uniform(low=0.5, high=1, size=(p_1,r_J))\n",
    "U_2=np.random.uniform(low=0.5, high=1, size=(p_2,r_J))"
   ]
  },
  {
   "attachments": {},
   "cell_type": "markdown",
   "metadata": {},
   "source": [
    "## theta_1の生成"
   ]
  },
  {
   "cell_type": "code",
   "execution_count": 100,
   "metadata": {},
   "outputs": [],
   "source": [
    "r_prop=0.8"
   ]
  },
  {
   "cell_type": "code",
   "execution_count": 101,
   "metadata": {},
   "outputs": [],
   "source": [
    "\n",
    "\n",
    "vec_theta_1_a=np.random.uniform(low=0.5, high=1, size=int(r_J*r_prop))\n",
    "vec_theta_1_b=np.zeros(int(r_J-r_J*r_prop))\n",
    "\n",
    "vec_theta_1=np.concatenate((vec_theta_1_a,vec_theta_1_b))\n",
    "vec_theta_1=vec_theta_1.reshape(1,r_J)\n"
   ]
  },
  {
   "cell_type": "code",
   "execution_count": 103,
   "metadata": {},
   "outputs": [
    {
     "data": {
      "text/plain": [
       "(1, 10)"
      ]
     },
     "execution_count": 103,
     "metadata": {},
     "output_type": "execute_result"
    }
   ],
   "source": [
    "vec_theta_1.shape"
   ]
  },
  {
   "cell_type": "code",
   "execution_count": 104,
   "metadata": {},
   "outputs": [
    {
     "data": {
      "text/plain": [
       "(50, 10)"
      ]
     },
     "execution_count": 104,
     "metadata": {},
     "output_type": "execute_result"
    }
   ],
   "source": [
    "U_1.shape"
   ]
  },
  {
   "attachments": {},
   "cell_type": "markdown",
   "metadata": {},
   "source": [
    "## U_iとtheta_1の更新"
   ]
  },
  {
   "cell_type": "code",
   "execution_count": 105,
   "metadata": {},
   "outputs": [
    {
     "data": {
      "text/plain": [
       "array([[0.60729016, 0.88038845, 0.82745043, ..., 0.6971093 , 0.98318935,\n",
       "        0.78155107],\n",
       "       [0.61976722, 0.55290677, 0.92567519, ..., 0.82060181, 0.79988463,\n",
       "        0.65682938],\n",
       "       [0.77945717, 0.87663628, 0.89290543, ..., 0.85060581, 0.54688014,\n",
       "        0.91697928],\n",
       "       ...,\n",
       "       [0.53522705, 0.79785532, 0.66721516, ..., 0.7658806 , 0.56939373,\n",
       "        0.66586039],\n",
       "       [0.55032307, 0.9505526 , 0.57745401, ..., 0.69647844, 0.64302602,\n",
       "        0.52200273],\n",
       "       [0.68666004, 0.57845769, 0.52230307, ..., 0.86855449, 0.        ,\n",
       "        0.        ]])"
      ]
     },
     "execution_count": 105,
     "metadata": {},
     "output_type": "execute_result"
    }
   ],
   "source": [
    "U_theta_1=np.row_stack((U_1,U_2,vec_theta_1))\n",
    "U_theta_1"
   ]
  },
  {
   "cell_type": "code",
   "execution_count": 106,
   "metadata": {},
   "outputs": [
    {
     "data": {
      "text/plain": [
       "(101, 10)"
      ]
     },
     "execution_count": 106,
     "metadata": {},
     "output_type": "execute_result"
    }
   ],
   "source": [
    "U_theta_1.shape\n"
   ]
  },
  {
   "cell_type": "code",
   "execution_count": 107,
   "metadata": {},
   "outputs": [
    {
     "data": {
      "text/plain": [
       "(101, 10)"
      ]
     },
     "execution_count": 107,
     "metadata": {},
     "output_type": "execute_result"
    }
   ],
   "source": [
    "U_theta_1_Q,R=np.linalg.qr(U_theta_1)\n",
    "U_theta_1_Q.shape"
   ]
  },
  {
   "cell_type": "code",
   "execution_count": 108,
   "metadata": {},
   "outputs": [],
   "source": [
    "U_1_new=U_theta_1_Q[:p_1,:]\n",
    "U_2_new=U_theta_1_Q[p_1:p_1+p_2,:]\n",
    "theta_1_new=U_theta_1_Q[p_1+p_2:,:]"
   ]
  },
  {
   "cell_type": "code",
   "execution_count": 109,
   "metadata": {},
   "outputs": [
    {
     "data": {
      "text/plain": [
       "array([[ 1.00000000e+00,  5.69003295e-17,  1.88911492e-19,\n",
       "         5.63455086e-17,  3.95313588e-17, -4.69793158e-17,\n",
       "        -1.60483792e-17,  4.50828127e-17,  1.03044682e-18,\n",
       "        -2.62191298e-17],\n",
       "       [ 5.69003295e-17,  1.00000000e+00, -1.45480663e-16,\n",
       "         7.33337461e-17,  3.70219013e-17, -6.05214822e-18,\n",
       "        -8.82752175e-17,  1.76922244e-17, -7.31723344e-18,\n",
       "         4.46328758e-17],\n",
       "       [ 1.88911492e-19, -1.45480663e-16,  1.00000000e+00,\n",
       "         3.99674077e-17,  2.86649095e-17,  1.04742001e-17,\n",
       "        -2.67590299e-17,  1.27875127e-17, -1.21926942e-17,\n",
       "         5.77023823e-18],\n",
       "       [ 5.63455086e-17,  7.33337461e-17,  3.99674077e-17,\n",
       "         1.00000000e+00,  4.15029687e-17, -5.38832910e-18,\n",
       "         7.33161156e-18, -5.25136912e-17,  8.08457984e-17,\n",
       "        -1.15405739e-18],\n",
       "       [ 3.95313588e-17,  3.70219013e-17,  2.86649095e-17,\n",
       "         4.15029687e-17,  1.00000000e+00, -2.65326324e-17,\n",
       "         3.52933507e-18,  2.78451338e-17,  1.22449025e-16,\n",
       "        -1.08620267e-17],\n",
       "       [-4.69793158e-17, -6.05214822e-18,  1.04742001e-17,\n",
       "        -5.38832910e-18, -2.65326324e-17,  1.00000000e+00,\n",
       "         1.73102603e-18,  2.81285528e-17, -7.86567187e-17,\n",
       "         1.58791399e-17],\n",
       "       [-1.60483792e-17, -8.82752175e-17, -2.67590299e-17,\n",
       "         7.33161156e-18,  3.52933507e-18,  1.73102603e-18,\n",
       "         1.00000000e+00, -8.92125837e-18,  1.98671895e-17,\n",
       "        -1.22919437e-17],\n",
       "       [ 4.50828127e-17,  1.76922244e-17,  1.27875127e-17,\n",
       "        -5.25136912e-17,  2.78451338e-17,  2.81285528e-17,\n",
       "        -8.92125837e-18,  1.00000000e+00, -4.45261017e-17,\n",
       "        -6.52939360e-17],\n",
       "       [ 1.03044682e-18, -7.31723344e-18, -1.21926942e-17,\n",
       "         8.08457984e-17,  1.22449025e-16, -7.86567187e-17,\n",
       "         1.98671895e-17, -4.45261017e-17,  1.00000000e+00,\n",
       "        -1.25389375e-16],\n",
       "       [-2.62191298e-17,  4.46328758e-17,  5.77023823e-18,\n",
       "        -1.15405739e-18, -1.08620267e-17,  1.58791399e-17,\n",
       "        -1.22919437e-17, -6.52939360e-17, -1.25389375e-16,\n",
       "         1.00000000e+00]])"
      ]
     },
     "execution_count": 109,
     "metadata": {},
     "output_type": "execute_result"
    }
   ],
   "source": [
    "np.dot(U_theta_1_Q.T,U_theta_1_Q)"
   ]
  },
  {
   "attachments": {},
   "cell_type": "markdown",
   "metadata": {},
   "source": [
    "## S_Jの作成"
   ]
  },
  {
   "cell_type": "code",
   "execution_count": 110,
   "metadata": {},
   "outputs": [],
   "source": [
    "w_J=2.0"
   ]
  },
  {
   "cell_type": "code",
   "execution_count": 111,
   "metadata": {},
   "outputs": [
    {
     "data": {
      "text/plain": [
       "array([[2., 0., 0., 0., 0., 0., 0., 0., 0., 0.],\n",
       "       [0., 2., 0., 0., 0., 0., 0., 0., 0., 0.],\n",
       "       [0., 0., 2., 0., 0., 0., 0., 0., 0., 0.],\n",
       "       [0., 0., 0., 2., 0., 0., 0., 0., 0., 0.],\n",
       "       [0., 0., 0., 0., 2., 0., 0., 0., 0., 0.],\n",
       "       [0., 0., 0., 0., 0., 2., 0., 0., 0., 0.],\n",
       "       [0., 0., 0., 0., 0., 0., 2., 0., 0., 0.],\n",
       "       [0., 0., 0., 0., 0., 0., 0., 2., 0., 0.],\n",
       "       [0., 0., 0., 0., 0., 0., 0., 0., 2., 0.],\n",
       "       [0., 0., 0., 0., 0., 0., 0., 0., 0., 2.]])"
      ]
     },
     "execution_count": 111,
     "metadata": {},
     "output_type": "execute_result"
    }
   ],
   "source": [
    "diag_joint_matrix = np.diag([w_J] * r_J)\n",
    "diag_joint_matrix"
   ]
  },
  {
   "cell_type": "code",
   "execution_count": 112,
   "metadata": {},
   "outputs": [
    {
     "data": {
      "text/plain": [
       "(10, 50)"
      ]
     },
     "execution_count": 112,
     "metadata": {},
     "output_type": "execute_result"
    }
   ],
   "source": [
    "S_J_old=np.random.uniform(low=0, high=1, size=(r_J,n))\n",
    "S_J_old.shape"
   ]
  },
  {
   "cell_type": "code",
   "execution_count": 113,
   "metadata": {},
   "outputs": [
    {
     "data": {
      "text/plain": [
       "(10, 50)"
      ]
     },
     "execution_count": 113,
     "metadata": {},
     "output_type": "execute_result"
    }
   ],
   "source": [
    "S_J=np.dot(diag_joint_matrix,S_J_old)\n",
    "S_J.shape"
   ]
  },
  {
   "attachments": {},
   "cell_type": "markdown",
   "metadata": {},
   "source": [
    "## W_iの生成"
   ]
  },
  {
   "cell_type": "code",
   "execution_count": 114,
   "metadata": {},
   "outputs": [],
   "source": [
    "r_1=5\n",
    "r_2=5\n"
   ]
  },
  {
   "cell_type": "code",
   "execution_count": 115,
   "metadata": {},
   "outputs": [],
   "source": [
    "W_1=np.random.uniform(low=0.5, high=1, size=(p_1,r_1))\n",
    "W_2=np.random.uniform(low=0.5, high=1, size=(p_2,r_2))"
   ]
  },
  {
   "attachments": {},
   "cell_type": "markdown",
   "metadata": {},
   "source": [
    "## theta_{2i}の生成"
   ]
  },
  {
   "cell_type": "code",
   "execution_count": 116,
   "metadata": {},
   "outputs": [
    {
     "data": {
      "text/plain": [
       "array([[0.53082142, 0.76930636, 0.79582265, 0.88439866, 0.        ]])"
      ]
     },
     "execution_count": 116,
     "metadata": {},
     "output_type": "execute_result"
    }
   ],
   "source": [
    "vec_theta_21_a=np.random.uniform(low=0.5, high=1, size=int(r_1*r_prop))\n",
    "vec_theta_21_b=np.zeros(int(r_1-r_1*r_prop))\n",
    "vec_theta_21=np.concatenate((vec_theta_21_a,vec_theta_21_b))\n",
    "vec_theta_21=vec_theta_21.reshape(1,r_1)\n",
    "vec_theta_21"
   ]
  },
  {
   "cell_type": "code",
   "execution_count": 117,
   "metadata": {},
   "outputs": [
    {
     "data": {
      "text/plain": [
       "array([[0.84560067, 0.60524039, 0.630047  , 0.54326018, 0.        ]])"
      ]
     },
     "execution_count": 117,
     "metadata": {},
     "output_type": "execute_result"
    }
   ],
   "source": [
    "vec_theta_22_a=np.random.uniform(low=0.5, high=1, size=int(r_2*r_prop))\n",
    "vec_theta_22_b=np.zeros(int(r_2-r_2*r_prop))\n",
    "vec_theta_22=np.concatenate((vec_theta_22_a,vec_theta_22_b))\n",
    "vec_theta_22=vec_theta_22.reshape(1,r_2)\n",
    "vec_theta_22"
   ]
  },
  {
   "attachments": {},
   "cell_type": "markdown",
   "metadata": {},
   "source": [
    "## W_1とtheta_{21}の更新"
   ]
  },
  {
   "cell_type": "code",
   "execution_count": 118,
   "metadata": {},
   "outputs": [
    {
     "data": {
      "text/plain": [
       "(51, 5)"
      ]
     },
     "execution_count": 118,
     "metadata": {},
     "output_type": "execute_result"
    }
   ],
   "source": [
    "W_theta_21=np.row_stack((W_1,vec_theta_21))\n",
    "W_theta_21.shape"
   ]
  },
  {
   "cell_type": "code",
   "execution_count": 71,
   "metadata": {},
   "outputs": [
    {
     "data": {
      "text/plain": [
       "(51, 5)"
      ]
     },
     "execution_count": 71,
     "metadata": {},
     "output_type": "execute_result"
    }
   ],
   "source": [
    "W_theta_21_Q,R=np.linalg.qr(W_theta_21)\n",
    "W_theta_21_Q.shape"
   ]
  },
  {
   "cell_type": "code",
   "execution_count": 119,
   "metadata": {},
   "outputs": [
    {
     "data": {
      "text/plain": [
       "(51, 5)"
      ]
     },
     "execution_count": 119,
     "metadata": {},
     "output_type": "execute_result"
    }
   ],
   "source": [
    "W_theta_22=np.row_stack((W_2,vec_theta_22))\n",
    "W_theta_22.shape"
   ]
  },
  {
   "cell_type": "code",
   "execution_count": 120,
   "metadata": {},
   "outputs": [
    {
     "data": {
      "text/plain": [
       "(51, 5)"
      ]
     },
     "execution_count": 120,
     "metadata": {},
     "output_type": "execute_result"
    }
   ],
   "source": [
    "W_theta_22_Q,R=np.linalg.qr(W_theta_22)\n",
    "W_theta_22_Q.shape"
   ]
  },
  {
   "cell_type": "code",
   "execution_count": 121,
   "metadata": {},
   "outputs": [],
   "source": [
    "W_1_new=W_theta_21_Q[:p_1,:]\n",
    "W_2_new=W_theta_22_Q[:p_2,:]\n",
    "theta_21_new=W_theta_21_Q[p_1:,:]\n",
    "theta_22_new=W_theta_22_Q[p_2:,:]"
   ]
  },
  {
   "attachments": {},
   "cell_type": "markdown",
   "metadata": {},
   "source": [
    "## S_iの生成"
   ]
  },
  {
   "cell_type": "code",
   "execution_count": 122,
   "metadata": {},
   "outputs": [],
   "source": [
    "w_1=1.0\n",
    "w_2=2.0"
   ]
  },
  {
   "cell_type": "code",
   "execution_count": 123,
   "metadata": {},
   "outputs": [
    {
     "data": {
      "text/plain": [
       "(5, 5)"
      ]
     },
     "execution_count": 123,
     "metadata": {},
     "output_type": "execute_result"
    }
   ],
   "source": [
    "diag_x1_matrix = np.diag([w_1] * r_1)\n",
    "diag_x1_matrix.shape"
   ]
  },
  {
   "cell_type": "code",
   "execution_count": 124,
   "metadata": {},
   "outputs": [
    {
     "data": {
      "text/plain": [
       "(5, 50)"
      ]
     },
     "execution_count": 124,
     "metadata": {},
     "output_type": "execute_result"
    }
   ],
   "source": [
    "S_1_old=np.random.uniform(low=0, high=1, size=(r_1,n))\n",
    "S_1_old.shape"
   ]
  },
  {
   "cell_type": "code",
   "execution_count": 125,
   "metadata": {},
   "outputs": [
    {
     "data": {
      "text/plain": [
       "(50, 50)"
      ]
     },
     "execution_count": 125,
     "metadata": {},
     "output_type": "execute_result"
    }
   ],
   "source": [
    "P_SJ=S_J.T.dot(np.linalg.inv(S_J.dot(S_J.T))).dot(S_J)\n",
    "P_SJ.shape"
   ]
  },
  {
   "cell_type": "code",
   "execution_count": 126,
   "metadata": {},
   "outputs": [
    {
     "data": {
      "text/plain": [
       "(50, 50)"
      ]
     },
     "execution_count": 126,
     "metadata": {},
     "output_type": "execute_result"
    }
   ],
   "source": [
    "diag_matrix = np.diag([1] * n)\n",
    "P_SJ_C=diag_matrix-P_SJ\n",
    "P_SJ_C.shape"
   ]
  },
  {
   "cell_type": "code",
   "execution_count": 127,
   "metadata": {},
   "outputs": [
    {
     "data": {
      "text/plain": [
       "(5, 50)"
      ]
     },
     "execution_count": 127,
     "metadata": {},
     "output_type": "execute_result"
    }
   ],
   "source": [
    "S_1=diag_x1_matrix.dot(S_1_old).dot(P_SJ_C)\n",
    "S_1.shape"
   ]
  },
  {
   "cell_type": "code",
   "execution_count": 128,
   "metadata": {},
   "outputs": [
    {
     "data": {
      "text/plain": [
       "(5, 50)"
      ]
     },
     "execution_count": 128,
     "metadata": {},
     "output_type": "execute_result"
    }
   ],
   "source": [
    "diag_x2_matrix = np.diag([w_2] * r_2)\n",
    "S_2_old=np.random.uniform(low=0, high=1, size=(r_2,n))\n",
    "S_2=diag_x2_matrix.dot(S_2_old).dot(P_SJ_C)\n",
    "S_2.shape"
   ]
  },
  {
   "attachments": {},
   "cell_type": "markdown",
   "metadata": {},
   "source": [
    "## X_iの生成"
   ]
  },
  {
   "cell_type": "code",
   "execution_count": 129,
   "metadata": {},
   "outputs": [],
   "source": [
    "X1_erro=0.2\n",
    "X2_erro=0.2\n",
    "y_erro=0.2"
   ]
  },
  {
   "cell_type": "code",
   "execution_count": 130,
   "metadata": {},
   "outputs": [
    {
     "data": {
      "text/plain": [
       "0.10737290068304937"
      ]
     },
     "execution_count": 130,
     "metadata": {},
     "output_type": "execute_result"
    }
   ],
   "source": [
    "X_1=U_1_new.dot(S_J)+W_1_new.dot(S_1)\n",
    "var_X1=np.var(X_1)\n",
    "var_X1"
   ]
  },
  {
   "cell_type": "code",
   "execution_count": 131,
   "metadata": {},
   "outputs": [
    {
     "data": {
      "text/plain": [
       "0.021474580136609876"
      ]
     },
     "execution_count": 131,
     "metadata": {},
     "output_type": "execute_result"
    }
   ],
   "source": [
    "var_E1=X1_erro*var_X1\n",
    "var_E1"
   ]
  },
  {
   "cell_type": "code",
   "execution_count": 132,
   "metadata": {},
   "outputs": [],
   "source": [
    "E_1=np.random.normal(loc=0, scale=np.sqrt(var_E1), size=(p_1,n))\n",
    "X_1=X_1+E_1"
   ]
  },
  {
   "cell_type": "code",
   "execution_count": 133,
   "metadata": {},
   "outputs": [],
   "source": [
    "X_2=U_2_new.dot(S_J)+W_2_new.dot(S_2)\n",
    "var_X2=np.var(X_2)\n",
    "var_E2=X2_erro*var_X2\n",
    "E_2=np.random.normal(loc=0, scale=np.sqrt(var_E2), size=(p_2,n))\n",
    "X_2=X_2+E_2"
   ]
  },
  {
   "attachments": {},
   "cell_type": "markdown",
   "metadata": {},
   "source": [
    "## yの生成\n"
   ]
  },
  {
   "cell_type": "code",
   "execution_count": 134,
   "metadata": {},
   "outputs": [],
   "source": [
    "y=theta_1_new.dot(S_J)+theta_21_new.dot(S_1)+theta_22_new.dot(S_2)\n",
    "var_y=np.var(y)\n",
    "var_e_y=y_erro*var_y\n",
    "e_y=np.random.normal(loc=0, scale=np.sqrt(var_e_y), size=(1,n))\n",
    "y=y+e_y\n"
   ]
  },
  {
   "cell_type": "code",
   "execution_count": 135,
   "metadata": {},
   "outputs": [
    {
     "data": {
      "text/plain": [
       "(1, 50)"
      ]
     },
     "execution_count": 135,
     "metadata": {},
     "output_type": "execute_result"
    }
   ],
   "source": [
    "y.shape"
   ]
  },
  {
   "cell_type": "code",
   "execution_count": 136,
   "metadata": {},
   "outputs": [],
   "source": [
    "from sklearn.preprocessing import StandardScaler"
   ]
  },
  {
   "cell_type": "code",
   "execution_count": 137,
   "metadata": {},
   "outputs": [],
   "source": [
    "ms = StandardScaler()\n",
    "X_1_final = ms.fit_transform(X_1)"
   ]
  },
  {
   "cell_type": "code",
   "execution_count": 138,
   "metadata": {},
   "outputs": [
    {
     "data": {
      "text/plain": [
       "1.0"
      ]
     },
     "execution_count": 138,
     "metadata": {},
     "output_type": "execute_result"
    }
   ],
   "source": [
    "np.var(X_1_final)"
   ]
  },
  {
   "cell_type": "code",
   "execution_count": 139,
   "metadata": {},
   "outputs": [],
   "source": [
    "import function"
   ]
  },
  {
   "cell_type": "markdown",
   "metadata": {},
   "source": []
  },
  {
   "cell_type": "code",
   "execution_count": 141,
   "metadata": {},
   "outputs": [],
   "source": [
    "X_1,X_2,y=function.gene_data(p_1=50,p_2=50,n=100,r_J=10,r_1=5,r_2=5,r_prop=0.8,w_J=2.0,w_1=1.0,w_2=1.0,X1_erro=0.2,X2_erro=0.2,y_erro=0.2)\n"
   ]
  },
  {
   "cell_type": "code",
   "execution_count": 142,
   "metadata": {},
   "outputs": [
    {
     "data": {
      "text/plain": [
       "1.0"
      ]
     },
     "execution_count": 142,
     "metadata": {},
     "output_type": "execute_result"
    }
   ],
   "source": [
    "np.var(X_1)"
   ]
  },
  {
   "cell_type": "code",
   "execution_count": 140,
   "metadata": {},
   "outputs": [
    {
     "data": {
      "text/plain": [
       "0.1307661393663321"
      ]
     },
     "execution_count": 140,
     "metadata": {},
     "output_type": "execute_result"
    }
   ],
   "source": [
    "np.var(X_1)"
   ]
  },
  {
   "cell_type": "code",
   "execution_count": null,
   "metadata": {},
   "outputs": [],
   "source": [
    "norm_v = np.linalg.norm(v)"
   ]
  }
 ],
 "metadata": {
  "kernelspec": {
   "display_name": "Python 3",
   "language": "python",
   "name": "python3"
  },
  "language_info": {
   "codemirror_mode": {
    "name": "ipython",
    "version": 3
   },
   "file_extension": ".py",
   "mimetype": "text/x-python",
   "name": "python",
   "nbconvert_exporter": "python",
   "pygments_lexer": "ipython3",
   "version": "3.9.6"
  },
  "orig_nbformat": 4
 },
 "nbformat": 4,
 "nbformat_minor": 2
}
