{
 "cells": [
  {
   "cell_type": "code",
   "execution_count": 2,
   "metadata": {},
   "outputs": [],
   "source": [
    "import random\n",
    "import numpy as np"
   ]
  },
  {
   "attachments": {},
   "cell_type": "markdown",
   "metadata": {},
   "source": [
    "## U_iの生成"
   ]
  },
  {
   "cell_type": "code",
   "execution_count": 3,
   "metadata": {},
   "outputs": [],
   "source": [
    "import random"
   ]
  },
  {
   "cell_type": "code",
   "execution_count": 4,
   "metadata": {},
   "outputs": [],
   "source": [
    "import numpy as np"
   ]
  },
  {
   "cell_type": "code",
   "execution_count": 5,
   "metadata": {},
   "outputs": [],
   "source": [
    "p_1=50\n",
    "r_J=10\n",
    "p_2=50\n",
    "n=50\n",
    "\n"
   ]
  },
  {
   "cell_type": "code",
   "execution_count": 6,
   "metadata": {},
   "outputs": [],
   "source": [
    "U_1=np.random.uniform(low=0.5, high=1, size=(p_1,r_J))\n",
    "U_2=np.random.uniform(low=0.5, high=1, size=(p_2,r_J))"
   ]
  },
  {
   "attachments": {},
   "cell_type": "markdown",
   "metadata": {},
   "source": [
    "## theta_1の生成"
   ]
  },
  {
   "cell_type": "code",
   "execution_count": 7,
   "metadata": {},
   "outputs": [],
   "source": [
    "r_prop=0.8"
   ]
  },
  {
   "cell_type": "code",
   "execution_count": 8,
   "metadata": {},
   "outputs": [],
   "source": [
    "\n",
    "\n",
    "vec_theta_1_a=np.random.uniform(low=0.5, high=1, size=int(r_J*r_prop))\n",
    "vec_theta_1_b=np.zeros(int(r_J-r_J*r_prop))\n",
    "\n",
    "vec_theta_1=np.concatenate((vec_theta_1_a,vec_theta_1_b))\n",
    "vec_theta_1=vec_theta_1.reshape(1,r_J)\n"
   ]
  },
  {
   "cell_type": "code",
   "execution_count": 9,
   "metadata": {},
   "outputs": [
    {
     "data": {
      "text/plain": [
       "(1, 10)"
      ]
     },
     "execution_count": 9,
     "metadata": {},
     "output_type": "execute_result"
    }
   ],
   "source": [
    "vec_theta_1.shape"
   ]
  },
  {
   "cell_type": "code",
   "execution_count": 10,
   "metadata": {},
   "outputs": [
    {
     "data": {
      "text/plain": [
       "(50, 10)"
      ]
     },
     "execution_count": 10,
     "metadata": {},
     "output_type": "execute_result"
    }
   ],
   "source": [
    "U_1.shape"
   ]
  },
  {
   "attachments": {},
   "cell_type": "markdown",
   "metadata": {},
   "source": [
    "## U_iとtheta_1の更新"
   ]
  },
  {
   "cell_type": "code",
   "execution_count": 11,
   "metadata": {},
   "outputs": [
    {
     "data": {
      "text/plain": [
       "array([[0.83847253, 0.55966128, 0.94440054, ..., 0.51159436, 0.80077311,\n",
       "        0.68948406],\n",
       "       [0.6992576 , 0.50441676, 0.65847732, ..., 0.85695963, 0.72265791,\n",
       "        0.62802013],\n",
       "       [0.89778028, 0.80607992, 0.71502184, ..., 0.5245767 , 0.50246795,\n",
       "        0.97237853],\n",
       "       ...,\n",
       "       [0.71518612, 0.93008447, 0.74735881, ..., 0.8630661 , 0.67842177,\n",
       "        0.74530115],\n",
       "       [0.95228693, 0.59834677, 0.92739577, ..., 0.90327396, 0.62407172,\n",
       "        0.61766064],\n",
       "       [0.72176034, 0.97553363, 0.92758369, ..., 0.515768  , 0.        ,\n",
       "        0.        ]])"
      ]
     },
     "execution_count": 11,
     "metadata": {},
     "output_type": "execute_result"
    }
   ],
   "source": [
    "U_theta_1=np.row_stack((U_1,U_2,vec_theta_1))\n",
    "U_theta_1"
   ]
  },
  {
   "cell_type": "code",
   "execution_count": 12,
   "metadata": {},
   "outputs": [
    {
     "data": {
      "text/plain": [
       "(101, 10)"
      ]
     },
     "execution_count": 12,
     "metadata": {},
     "output_type": "execute_result"
    }
   ],
   "source": [
    "U_theta_1.shape\n"
   ]
  },
  {
   "cell_type": "code",
   "execution_count": 13,
   "metadata": {},
   "outputs": [
    {
     "data": {
      "text/plain": [
       "(101, 10)"
      ]
     },
     "execution_count": 13,
     "metadata": {},
     "output_type": "execute_result"
    }
   ],
   "source": [
    "U_theta_1_Q,R=np.linalg.qr(U_theta_1)\n",
    "U_theta_1_Q.shape"
   ]
  },
  {
   "cell_type": "code",
   "execution_count": 14,
   "metadata": {},
   "outputs": [],
   "source": [
    "U_1_new=U_theta_1_Q[:p_1,:]\n",
    "U_2_new=U_theta_1_Q[p_1:p_1+p_2,:]\n",
    "theta_1_new=U_theta_1_Q[p_1+p_2:,:]"
   ]
  },
  {
   "cell_type": "code",
   "execution_count": 16,
   "metadata": {},
   "outputs": [
    {
     "data": {
      "text/plain": [
       "array([[ 1.00000000e+00,  1.17809811e-17, -5.22261360e-17,\n",
       "        -8.40811174e-18,  1.27574419e-17, -1.18636908e-17,\n",
       "         1.67683994e-18, -2.87076422e-17, -9.30733153e-19,\n",
       "         2.39626090e-18],\n",
       "       [ 1.17809811e-17,  1.00000000e+00, -2.93059670e-17,\n",
       "        -2.32430586e-17,  2.68912392e-17,  5.69654056e-17,\n",
       "        -2.32705259e-17,  5.85638516e-17, -2.26094425e-17,\n",
       "        -2.16458796e-17],\n",
       "       [-5.22261360e-17, -2.93059670e-17,  1.00000000e+00,\n",
       "         4.08304636e-17,  7.14145853e-17,  2.79950582e-17,\n",
       "        -1.22192428e-16,  9.61260694e-17,  1.31324998e-16,\n",
       "        -1.21675435e-16],\n",
       "       [-8.40811174e-18, -2.32430586e-17,  4.08304636e-17,\n",
       "         1.00000000e+00, -6.53632165e-17, -4.14689103e-17,\n",
       "         1.19558252e-17, -2.40981285e-17, -7.90229375e-17,\n",
       "         1.08657782e-17],\n",
       "       [ 1.27574419e-17,  2.68912392e-17,  7.14145853e-17,\n",
       "        -6.53632165e-17,  1.00000000e+00,  7.50456089e-17,\n",
       "         2.07975740e-17,  1.75555783e-17,  1.45479412e-17,\n",
       "         1.59913758e-17],\n",
       "       [-1.18636908e-17,  5.69654056e-17,  2.79950582e-17,\n",
       "        -4.14689103e-17,  7.50456089e-17,  1.00000000e+00,\n",
       "        -2.62054202e-17, -1.19738481e-17, -2.82038759e-17,\n",
       "         2.35924987e-17],\n",
       "       [ 1.67683994e-18, -2.32705259e-17, -1.22192428e-16,\n",
       "         1.19558252e-17,  2.07975740e-17, -2.62054202e-17,\n",
       "         1.00000000e+00, -4.83907708e-17, -6.91256203e-17,\n",
       "        -7.30089998e-18],\n",
       "       [-2.87076422e-17,  5.85638516e-17,  9.61260694e-17,\n",
       "        -2.40981285e-17,  1.75555783e-17, -1.19738481e-17,\n",
       "        -4.83907708e-17,  1.00000000e+00,  8.15135251e-17,\n",
       "         3.22235551e-17],\n",
       "       [-9.30733153e-19, -2.26094425e-17,  1.31324998e-16,\n",
       "        -7.90229375e-17,  1.45479412e-17, -2.82038759e-17,\n",
       "        -6.91256203e-17,  8.15135251e-17,  1.00000000e+00,\n",
       "         1.02437536e-16],\n",
       "       [ 2.39626090e-18, -2.16458796e-17, -1.21675435e-16,\n",
       "         1.08657782e-17,  1.59913758e-17,  2.35924987e-17,\n",
       "        -7.30089998e-18,  3.22235551e-17,  1.02437536e-16,\n",
       "         1.00000000e+00]])"
      ]
     },
     "execution_count": 16,
     "metadata": {},
     "output_type": "execute_result"
    }
   ],
   "source": [
    "np.dot(U_theta_1_Q.T,U_theta_1_Q)"
   ]
  },
  {
   "attachments": {},
   "cell_type": "markdown",
   "metadata": {},
   "source": [
    "## S_Jの作成"
   ]
  },
  {
   "cell_type": "code",
   "execution_count": 17,
   "metadata": {},
   "outputs": [],
   "source": [
    "w_J=2.0"
   ]
  },
  {
   "cell_type": "code",
   "execution_count": 18,
   "metadata": {},
   "outputs": [
    {
     "data": {
      "text/plain": [
       "array([[2., 0., 0., 0., 0., 0., 0., 0., 0., 0.],\n",
       "       [0., 2., 0., 0., 0., 0., 0., 0., 0., 0.],\n",
       "       [0., 0., 2., 0., 0., 0., 0., 0., 0., 0.],\n",
       "       [0., 0., 0., 2., 0., 0., 0., 0., 0., 0.],\n",
       "       [0., 0., 0., 0., 2., 0., 0., 0., 0., 0.],\n",
       "       [0., 0., 0., 0., 0., 2., 0., 0., 0., 0.],\n",
       "       [0., 0., 0., 0., 0., 0., 2., 0., 0., 0.],\n",
       "       [0., 0., 0., 0., 0., 0., 0., 2., 0., 0.],\n",
       "       [0., 0., 0., 0., 0., 0., 0., 0., 2., 0.],\n",
       "       [0., 0., 0., 0., 0., 0., 0., 0., 0., 2.]])"
      ]
     },
     "execution_count": 18,
     "metadata": {},
     "output_type": "execute_result"
    }
   ],
   "source": [
    "diag_joint_matrix = np.diag([w_J] * r_J)\n",
    "diag_joint_matrix"
   ]
  },
  {
   "cell_type": "code",
   "execution_count": 19,
   "metadata": {},
   "outputs": [
    {
     "data": {
      "text/plain": [
       "(10, 50)"
      ]
     },
     "execution_count": 19,
     "metadata": {},
     "output_type": "execute_result"
    }
   ],
   "source": [
    "S_J_old=np.random.uniform(low=0, high=1, size=(r_J,n))\n",
    "S_J_old.shape"
   ]
  },
  {
   "cell_type": "code",
   "execution_count": 20,
   "metadata": {},
   "outputs": [
    {
     "data": {
      "text/plain": [
       "(10, 50)"
      ]
     },
     "execution_count": 20,
     "metadata": {},
     "output_type": "execute_result"
    }
   ],
   "source": [
    "S_J=np.dot(diag_joint_matrix,S_J_old)\n",
    "S_J.shape"
   ]
  },
  {
   "attachments": {},
   "cell_type": "markdown",
   "metadata": {},
   "source": [
    "## W_iの生成"
   ]
  },
  {
   "cell_type": "code",
   "execution_count": 21,
   "metadata": {},
   "outputs": [],
   "source": [
    "r_1=5\n",
    "r_2=5\n"
   ]
  },
  {
   "cell_type": "code",
   "execution_count": 22,
   "metadata": {},
   "outputs": [],
   "source": [
    "W_1=np.random.uniform(low=0.5, high=1, size=(p_1,r_1))\n",
    "W_2=np.random.uniform(low=0.5, high=1, size=(p_2,r_2))"
   ]
  },
  {
   "attachments": {},
   "cell_type": "markdown",
   "metadata": {},
   "source": [
    "## theta_{2i}の生成"
   ]
  },
  {
   "cell_type": "code",
   "execution_count": 23,
   "metadata": {},
   "outputs": [
    {
     "data": {
      "text/plain": [
       "array([[0.70023121, 0.64957509, 0.9164587 , 0.57063079, 0.        ]])"
      ]
     },
     "execution_count": 23,
     "metadata": {},
     "output_type": "execute_result"
    }
   ],
   "source": [
    "vec_theta_21_a=np.random.uniform(low=0.5, high=1, size=int(r_1*r_prop))\n",
    "vec_theta_21_b=np.zeros(int(r_1-r_1*r_prop))\n",
    "vec_theta_21=np.concatenate((vec_theta_21_a,vec_theta_21_b))\n",
    "vec_theta_21=vec_theta_21.reshape(1,r_1)\n",
    "vec_theta_21"
   ]
  },
  {
   "cell_type": "code",
   "execution_count": 24,
   "metadata": {},
   "outputs": [
    {
     "data": {
      "text/plain": [
       "array([[0.51630821, 0.99364451, 0.95212841, 0.51758854, 0.        ]])"
      ]
     },
     "execution_count": 24,
     "metadata": {},
     "output_type": "execute_result"
    }
   ],
   "source": [
    "vec_theta_22_a=np.random.uniform(low=0.5, high=1, size=int(r_2*r_prop))\n",
    "vec_theta_22_b=np.zeros(int(r_2-r_2*r_prop))\n",
    "vec_theta_22=np.concatenate((vec_theta_22_a,vec_theta_22_b))\n",
    "vec_theta_22=vec_theta_22.reshape(1,r_2)\n",
    "vec_theta_22"
   ]
  },
  {
   "attachments": {},
   "cell_type": "markdown",
   "metadata": {},
   "source": [
    "## W_1とtheta_{21}の更新"
   ]
  },
  {
   "cell_type": "code",
   "execution_count": 25,
   "metadata": {},
   "outputs": [
    {
     "data": {
      "text/plain": [
       "(51, 5)"
      ]
     },
     "execution_count": 25,
     "metadata": {},
     "output_type": "execute_result"
    }
   ],
   "source": [
    "W_theta_21=np.row_stack((W_1,vec_theta_21))\n",
    "W_theta_21.shape"
   ]
  },
  {
   "cell_type": "code",
   "execution_count": 26,
   "metadata": {},
   "outputs": [
    {
     "data": {
      "text/plain": [
       "(51, 5)"
      ]
     },
     "execution_count": 26,
     "metadata": {},
     "output_type": "execute_result"
    }
   ],
   "source": [
    "W_theta_21_Q,R=np.linalg.qr(W_theta_21)\n",
    "W_theta_21_Q.shape"
   ]
  },
  {
   "cell_type": "code",
   "execution_count": 27,
   "metadata": {},
   "outputs": [
    {
     "data": {
      "text/plain": [
       "(51, 5)"
      ]
     },
     "execution_count": 27,
     "metadata": {},
     "output_type": "execute_result"
    }
   ],
   "source": [
    "W_theta_22=np.row_stack((W_2,vec_theta_22))\n",
    "W_theta_22.shape"
   ]
  },
  {
   "cell_type": "code",
   "execution_count": 28,
   "metadata": {},
   "outputs": [
    {
     "data": {
      "text/plain": [
       "(51, 5)"
      ]
     },
     "execution_count": 28,
     "metadata": {},
     "output_type": "execute_result"
    }
   ],
   "source": [
    "W_theta_22_Q,R=np.linalg.qr(W_theta_22)\n",
    "W_theta_22_Q.shape"
   ]
  },
  {
   "cell_type": "code",
   "execution_count": 29,
   "metadata": {},
   "outputs": [],
   "source": [
    "W_1_new=W_theta_21_Q[:p_1,:]\n",
    "W_2_new=W_theta_22_Q[:p_2,:]\n",
    "theta_21_new=W_theta_21_Q[p_1:,:]\n",
    "theta_22_new=W_theta_22_Q[p_2:,:]"
   ]
  },
  {
   "attachments": {},
   "cell_type": "markdown",
   "metadata": {},
   "source": [
    "## S_iの生成"
   ]
  },
  {
   "cell_type": "code",
   "execution_count": 30,
   "metadata": {},
   "outputs": [],
   "source": [
    "w_1=1.0\n",
    "w_2=2.0"
   ]
  },
  {
   "cell_type": "markdown",
   "metadata": {},
   "source": []
  },
  {
   "cell_type": "code",
   "execution_count": 31,
   "metadata": {},
   "outputs": [
    {
     "data": {
      "text/plain": [
       "(5, 5)"
      ]
     },
     "execution_count": 31,
     "metadata": {},
     "output_type": "execute_result"
    }
   ],
   "source": [
    "diag_x1_matrix = np.diag([w_1] * r_1)\n",
    "diag_x1_matrix.shape"
   ]
  },
  {
   "cell_type": "code",
   "execution_count": 32,
   "metadata": {},
   "outputs": [
    {
     "data": {
      "text/plain": [
       "(5, 50)"
      ]
     },
     "execution_count": 32,
     "metadata": {},
     "output_type": "execute_result"
    }
   ],
   "source": [
    "S_1_old=np.random.uniform(low=0, high=1, size=(r_1,n))\n",
    "S_1_old.shape"
   ]
  },
  {
   "cell_type": "code",
   "execution_count": 33,
   "metadata": {},
   "outputs": [
    {
     "data": {
      "text/plain": [
       "(50, 50)"
      ]
     },
     "execution_count": 33,
     "metadata": {},
     "output_type": "execute_result"
    }
   ],
   "source": [
    "P_SJ=S_J.T.dot(np.linalg.inv(S_J.dot(S_J.T))).dot(S_J)\n",
    "P_SJ.shape"
   ]
  },
  {
   "cell_type": "code",
   "execution_count": 34,
   "metadata": {},
   "outputs": [
    {
     "data": {
      "text/plain": [
       "(50, 50)"
      ]
     },
     "execution_count": 34,
     "metadata": {},
     "output_type": "execute_result"
    }
   ],
   "source": [
    "diag_matrix = np.diag([1] * n)\n",
    "P_SJ_C=diag_matrix-P_SJ\n",
    "P_SJ_C.shape"
   ]
  },
  {
   "cell_type": "code",
   "execution_count": 35,
   "metadata": {},
   "outputs": [
    {
     "data": {
      "text/plain": [
       "(5, 50)"
      ]
     },
     "execution_count": 35,
     "metadata": {},
     "output_type": "execute_result"
    }
   ],
   "source": [
    "S_1=diag_x1_matrix.dot(S_1_old).dot(P_SJ_C)\n",
    "S_1.shape"
   ]
  },
  {
   "cell_type": "code",
   "execution_count": 36,
   "metadata": {},
   "outputs": [
    {
     "data": {
      "text/plain": [
       "(5, 50)"
      ]
     },
     "execution_count": 36,
     "metadata": {},
     "output_type": "execute_result"
    }
   ],
   "source": [
    "diag_x2_matrix = np.diag([w_2] * r_2)\n",
    "S_2_old=np.random.uniform(low=0, high=1, size=(r_2,n))\n",
    "S_2=diag_x2_matrix.dot(S_2_old).dot(P_SJ_C)\n",
    "S_2.shape"
   ]
  },
  {
   "attachments": {},
   "cell_type": "markdown",
   "metadata": {},
   "source": [
    "## X_iの生成"
   ]
  },
  {
   "cell_type": "code",
   "execution_count": 37,
   "metadata": {},
   "outputs": [],
   "source": [
    "X1_erro=0.2\n",
    "X2_erro=0.2\n",
    "y_erro=0.2"
   ]
  },
  {
   "cell_type": "code",
   "execution_count": 38,
   "metadata": {},
   "outputs": [
    {
     "data": {
      "text/plain": [
       "0.11663941841399719"
      ]
     },
     "execution_count": 38,
     "metadata": {},
     "output_type": "execute_result"
    }
   ],
   "source": [
    "X_1=U_1_new.dot(S_J)+W_1_new.dot(S_1)\n",
    "var_X1=np.var(X_1)\n",
    "var_X1"
   ]
  },
  {
   "cell_type": "code",
   "execution_count": 39,
   "metadata": {},
   "outputs": [
    {
     "data": {
      "text/plain": [
       "0.02332788368279944"
      ]
     },
     "execution_count": 39,
     "metadata": {},
     "output_type": "execute_result"
    }
   ],
   "source": [
    "var_E1=X1_erro*var_X1\n",
    "var_E1"
   ]
  },
  {
   "cell_type": "code",
   "execution_count": 40,
   "metadata": {},
   "outputs": [],
   "source": [
    "E_1=np.random.normal(loc=0, scale=np.sqrt(var_E1), size=(p_1,n))\n",
    "X_1=X_1+E_1"
   ]
  },
  {
   "cell_type": "code",
   "execution_count": 41,
   "metadata": {},
   "outputs": [],
   "source": [
    "X_2=U_2_new.dot(S_J)+W_2_new.dot(S_2)\n",
    "var_X2=np.var(X_2)\n",
    "var_E2=X2_erro*var_X2\n",
    "E_2=np.random.normal(loc=0, scale=np.sqrt(var_E2), size=(p_2,n))\n",
    "X_2=X_2+E_2"
   ]
  },
  {
   "attachments": {},
   "cell_type": "markdown",
   "metadata": {},
   "source": [
    "## yの生成\n"
   ]
  },
  {
   "cell_type": "code",
   "execution_count": 42,
   "metadata": {},
   "outputs": [],
   "source": [
    "y=theta_1_new.dot(S_J)+theta_21_new.dot(S_1)+theta_22_new.dot(S_2)\n",
    "var_y=np.var(y)\n",
    "var_e_y=y_erro*var_y\n",
    "e_y=np.random.normal(loc=0, scale=np.sqrt(var_e_y), size=(1,n))\n",
    "y=y+e_y\n"
   ]
  },
  {
   "cell_type": "code",
   "execution_count": 43,
   "metadata": {},
   "outputs": [
    {
     "data": {
      "text/plain": [
       "array([[ 1.10262309,  0.96815155,  0.06388595,  0.14761586,  0.79780479,\n",
       "         0.99800179,  1.18874895,  0.75483307,  0.36623859,  1.59452765,\n",
       "        -0.58017706,  1.94824755,  0.87449209,  1.21963427,  1.21531879,\n",
       "         0.33254952,  1.36971826,  1.59907205,  1.49158811,  0.45729938,\n",
       "         1.44419586,  0.97628136,  0.75711719,  1.16300141,  1.26956521,\n",
       "         0.26660778,  0.52011215,  0.90029359,  0.72528898,  0.62305636,\n",
       "        -0.12160178,  1.50911277,  0.78114143,  1.82338089,  1.26738331,\n",
       "         0.60475489,  0.75970077,  1.47211585,  1.18534191,  2.12386307,\n",
       "         0.38286511,  0.67813254, -0.44719636, -0.2976923 ,  0.45173736,\n",
       "         0.50268463,  0.80216821,  1.48217313,  0.96909713,  0.29362188]])"
      ]
     },
     "execution_count": 43,
     "metadata": {},
     "output_type": "execute_result"
    }
   ],
   "source": [
    "y"
   ]
  },
  {
   "cell_type": "code",
   "execution_count": 44,
   "metadata": {},
   "outputs": [
    {
     "data": {
      "text/plain": [
       "(1, 50)"
      ]
     },
     "execution_count": 44,
     "metadata": {},
     "output_type": "execute_result"
    }
   ],
   "source": [
    "y.shape"
   ]
  },
  {
   "cell_type": "code",
   "execution_count": 45,
   "metadata": {},
   "outputs": [],
   "source": [
    "from sklearn.preprocessing import StandardScaler"
   ]
  },
  {
   "cell_type": "code",
   "execution_count": 46,
   "metadata": {},
   "outputs": [],
   "source": [
    "ms = StandardScaler()\n",
    "X_1_final = ms.fit_transform(X_1)"
   ]
  },
  {
   "cell_type": "code",
   "execution_count": 56,
   "metadata": {},
   "outputs": [
    {
     "data": {
      "text/plain": [
       "0.9999999999999997"
      ]
     },
     "execution_count": 56,
     "metadata": {},
     "output_type": "execute_result"
    }
   ],
   "source": [
    "y_final=(y-np.mean(y))/np.std(y)\n",
    "np.var(y_final)"
   ]
  },
  {
   "cell_type": "code",
   "execution_count": null,
   "metadata": {},
   "outputs": [],
   "source": []
  },
  {
   "cell_type": "code",
   "execution_count": 49,
   "metadata": {},
   "outputs": [
    {
     "data": {
      "text/plain": [
       "0.348594944904288"
      ]
     },
     "execution_count": 49,
     "metadata": {},
     "output_type": "execute_result"
    }
   ],
   "source": [
    "np.var(y)"
   ]
  },
  {
   "cell_type": "code",
   "execution_count": 139,
   "metadata": {},
   "outputs": [],
   "source": [
    "import function"
   ]
  },
  {
   "cell_type": "markdown",
   "metadata": {},
   "source": []
  },
  {
   "cell_type": "code",
   "execution_count": 141,
   "metadata": {},
   "outputs": [],
   "source": [
    "X_1,X_2,y=function.gene_data(p_1=50,p_2=50,n=100,r_J=10,r_1=5,r_2=5,r_prop=0.8,w_J=2.0,w_1=1.0,w_2=1.0,X1_erro=0.2,X2_erro=0.2,y_erro=0.2)\n"
   ]
  },
  {
   "cell_type": "code",
   "execution_count": 142,
   "metadata": {},
   "outputs": [
    {
     "data": {
      "text/plain": [
       "1.0"
      ]
     },
     "execution_count": 142,
     "metadata": {},
     "output_type": "execute_result"
    }
   ],
   "source": [
    "np.var(X_1)"
   ]
  },
  {
   "cell_type": "code",
   "execution_count": 140,
   "metadata": {},
   "outputs": [
    {
     "data": {
      "text/plain": [
       "0.1307661393663321"
      ]
     },
     "execution_count": 140,
     "metadata": {},
     "output_type": "execute_result"
    }
   ],
   "source": [
    "np.var(X_1)"
   ]
  },
  {
   "cell_type": "code",
   "execution_count": null,
   "metadata": {},
   "outputs": [],
   "source": [
    "norm_v = np.linalg.norm(v)"
   ]
  }
 ],
 "metadata": {
  "kernelspec": {
   "display_name": "Python 3",
   "language": "python",
   "name": "python3"
  },
  "language_info": {
   "codemirror_mode": {
    "name": "ipython",
    "version": 3
   },
   "file_extension": ".py",
   "mimetype": "text/x-python",
   "name": "python",
   "nbconvert_exporter": "python",
   "pygments_lexer": "ipython3",
   "version": "3.9.6"
  },
  "orig_nbformat": 4
 },
 "nbformat": 4,
 "nbformat_minor": 2
}
