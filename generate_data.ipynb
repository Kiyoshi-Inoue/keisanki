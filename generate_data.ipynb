{
 "cells": [
  {
   "cell_type": "code",
   "execution_count": 47,
   "metadata": {},
   "outputs": [],
   "source": [
    "import random\n",
    "import numpy as np"
   ]
  },
  {
   "attachments": {},
   "cell_type": "markdown",
   "metadata": {},
   "source": [
    "## U_iの生成"
   ]
  },
  {
   "cell_type": "code",
   "execution_count": 48,
   "metadata": {},
   "outputs": [],
   "source": [
    "import random"
   ]
  },
  {
   "cell_type": "code",
   "execution_count": 49,
   "metadata": {},
   "outputs": [],
   "source": [
    "import numpy as np"
   ]
  },
  {
   "cell_type": "code",
   "execution_count": 50,
   "metadata": {},
   "outputs": [],
   "source": [
    "p_1=50\n",
    "r_J=10\n",
    "p_2=50\n",
    "n=50\n",
    "\n"
   ]
  },
  {
   "cell_type": "code",
   "execution_count": 54,
   "metadata": {},
   "outputs": [],
   "source": [
    "U_1=np.random.uniform(low=0.5, high=1, size=(p_1,r_J))\n",
    "U_2=np.random.uniform(low=0.5, high=1, size=(p_2,r_J))"
   ]
  },
  {
   "attachments": {},
   "cell_type": "markdown",
   "metadata": {},
   "source": [
    "## theta_1の生成"
   ]
  },
  {
   "cell_type": "code",
   "execution_count": 53,
   "metadata": {},
   "outputs": [],
   "source": [
    "r_prop=0.8"
   ]
  },
  {
   "cell_type": "code",
   "execution_count": 7,
   "metadata": {},
   "outputs": [],
   "source": [
    "\n",
    "\n",
    "vec_theta_1_a=np.random.uniform(low=0.5, high=1, size=int(r_J*r_prop))\n",
    "vec_theta_1_b=np.zeros(int(r_J-r_J*r_prop))\n",
    "\n",
    "vec_theta_1=np.concatenate((vec_theta_1_a,vec_theta_1_b))\n",
    "vec_theta_1=vec_theta_1.reshape(1,r_J)\n"
   ]
  },
  {
   "cell_type": "code",
   "execution_count": 55,
   "metadata": {},
   "outputs": [
    {
     "data": {
      "text/plain": [
       "(1, 10)"
      ]
     },
     "execution_count": 55,
     "metadata": {},
     "output_type": "execute_result"
    }
   ],
   "source": [
    "vec_theta_1.shape"
   ]
  },
  {
   "cell_type": "code",
   "execution_count": 56,
   "metadata": {},
   "outputs": [
    {
     "data": {
      "text/plain": [
       "(50, 10)"
      ]
     },
     "execution_count": 56,
     "metadata": {},
     "output_type": "execute_result"
    }
   ],
   "source": [
    "U_1.shape"
   ]
  },
  {
   "attachments": {},
   "cell_type": "markdown",
   "metadata": {},
   "source": [
    "## U_iとtheta_1の更新"
   ]
  },
  {
   "cell_type": "code",
   "execution_count": 57,
   "metadata": {},
   "outputs": [
    {
     "data": {
      "text/plain": [
       "array([[0.8057086 , 0.98126692, 0.95901061, ..., 0.5872768 , 0.94283733,\n",
       "        0.92872267],\n",
       "       [0.771639  , 0.93826428, 0.76521329, ..., 0.77692243, 0.59361478,\n",
       "        0.90614085],\n",
       "       [0.92998439, 0.78458491, 0.64857214, ..., 0.924177  , 0.90650096,\n",
       "        0.50362757],\n",
       "       ...,\n",
       "       [0.96837606, 0.60290049, 0.923807  , ..., 0.69973248, 0.64669162,\n",
       "        0.50785993],\n",
       "       [0.73398198, 0.7554376 , 0.95296363, ..., 0.83319243, 0.59219516,\n",
       "        0.80110532],\n",
       "       [0.64231123, 0.97237385, 0.94201473, ..., 0.94650772, 0.        ,\n",
       "        0.        ]])"
      ]
     },
     "execution_count": 57,
     "metadata": {},
     "output_type": "execute_result"
    }
   ],
   "source": [
    "U_theta_1=np.row_stack((U_1,U_2,vec_theta_1))\n",
    "U_theta_1"
   ]
  },
  {
   "cell_type": "code",
   "execution_count": 58,
   "metadata": {},
   "outputs": [
    {
     "data": {
      "text/plain": [
       "(101, 10)"
      ]
     },
     "execution_count": 58,
     "metadata": {},
     "output_type": "execute_result"
    }
   ],
   "source": [
    "U_theta_1.shape\n"
   ]
  },
  {
   "cell_type": "code",
   "execution_count": 59,
   "metadata": {},
   "outputs": [
    {
     "data": {
      "text/plain": [
       "(101, 10)"
      ]
     },
     "execution_count": 59,
     "metadata": {},
     "output_type": "execute_result"
    }
   ],
   "source": [
    "U_theta_1_Q,R=np.linalg.qr(U_theta_1)\n",
    "U_theta_1_Q.shape"
   ]
  },
  {
   "cell_type": "code",
   "execution_count": 60,
   "metadata": {},
   "outputs": [],
   "source": [
    "U_1_new=U_theta_1_Q[:p_1,:]\n",
    "U_2_new=U_theta_1_Q[p_1:p_1+p_2,:]\n",
    "theta_1_new=U_theta_1_Q[p_1+p_2:,:]"
   ]
  },
  {
   "cell_type": "code",
   "execution_count": 61,
   "metadata": {},
   "outputs": [
    {
     "data": {
      "text/plain": [
       "array([[ 1.00000000e+00, -5.56689477e-17,  1.41901461e-17,\n",
       "         1.00980656e-16, -2.72648526e-17,  7.68850734e-18,\n",
       "         3.77226224e-17,  5.28447292e-17, -6.52003381e-17,\n",
       "         8.10851373e-17],\n",
       "       [-5.56689477e-17,  1.00000000e+00, -3.40586558e-18,\n",
       "         5.05496804e-18,  2.27377760e-17, -2.35542080e-17,\n",
       "         1.36265291e-17,  1.38635549e-17,  6.46127536e-17,\n",
       "        -2.60598339e-17],\n",
       "       [ 1.41901461e-17, -3.40586558e-18,  1.00000000e+00,\n",
       "         5.84171441e-17, -9.55053832e-18,  1.09107680e-17,\n",
       "         3.43258570e-17,  2.12079641e-17,  5.64556842e-17,\n",
       "         3.89850736e-17],\n",
       "       [ 1.00980656e-16,  5.05496804e-18,  5.84171441e-17,\n",
       "         1.00000000e+00, -1.00478766e-16, -3.98462190e-17,\n",
       "        -8.79538362e-18, -5.47914430e-17, -5.05202260e-17,\n",
       "        -1.06215048e-17],\n",
       "       [-2.72648526e-17,  2.27377760e-17, -9.55053832e-18,\n",
       "        -1.00478766e-16,  1.00000000e+00,  1.43161432e-17,\n",
       "        -3.13948749e-18, -1.68669892e-17, -4.36168664e-17,\n",
       "         1.79346132e-17],\n",
       "       [ 7.68850734e-18, -2.35542080e-17,  1.09107680e-17,\n",
       "        -3.98462190e-17,  1.43161432e-17,  1.00000000e+00,\n",
       "        -3.15247788e-17,  6.72975953e-17, -2.55806733e-19,\n",
       "        -1.64464031e-17],\n",
       "       [ 3.77226224e-17,  1.36265291e-17,  3.43258570e-17,\n",
       "        -8.79538362e-18, -3.13948749e-18, -3.15247788e-17,\n",
       "         1.00000000e+00, -1.17893151e-16,  5.12692390e-17,\n",
       "         3.71272938e-17],\n",
       "       [ 5.28447292e-17,  1.38635549e-17,  2.12079641e-17,\n",
       "        -5.47914430e-17, -1.68669892e-17,  6.72975953e-17,\n",
       "        -1.17893151e-16,  1.00000000e+00,  6.21992469e-19,\n",
       "         1.54089868e-17],\n",
       "       [-6.52003381e-17,  6.46127536e-17,  5.64556842e-17,\n",
       "        -5.05202260e-17, -4.36168664e-17, -2.55806733e-19,\n",
       "         5.12692390e-17,  6.21992469e-19,  1.00000000e+00,\n",
       "        -7.84374142e-17],\n",
       "       [ 8.10851373e-17, -2.60598339e-17,  3.89850736e-17,\n",
       "        -1.06215048e-17,  1.79346132e-17, -1.64464031e-17,\n",
       "         3.71272938e-17,  1.54089868e-17, -7.84374142e-17,\n",
       "         1.00000000e+00]])"
      ]
     },
     "execution_count": 61,
     "metadata": {},
     "output_type": "execute_result"
    }
   ],
   "source": [
    "np.dot(U_theta_1_Q.T,U_theta_1_Q)"
   ]
  },
  {
   "attachments": {},
   "cell_type": "markdown",
   "metadata": {},
   "source": [
    "## S_Jの作成"
   ]
  },
  {
   "cell_type": "code",
   "execution_count": 62,
   "metadata": {},
   "outputs": [],
   "source": [
    "w_J=2.0"
   ]
  },
  {
   "cell_type": "code",
   "execution_count": 63,
   "metadata": {},
   "outputs": [
    {
     "data": {
      "text/plain": [
       "array([[2., 0., 0., 0., 0., 0., 0., 0., 0., 0.],\n",
       "       [0., 2., 0., 0., 0., 0., 0., 0., 0., 0.],\n",
       "       [0., 0., 2., 0., 0., 0., 0., 0., 0., 0.],\n",
       "       [0., 0., 0., 2., 0., 0., 0., 0., 0., 0.],\n",
       "       [0., 0., 0., 0., 2., 0., 0., 0., 0., 0.],\n",
       "       [0., 0., 0., 0., 0., 2., 0., 0., 0., 0.],\n",
       "       [0., 0., 0., 0., 0., 0., 2., 0., 0., 0.],\n",
       "       [0., 0., 0., 0., 0., 0., 0., 2., 0., 0.],\n",
       "       [0., 0., 0., 0., 0., 0., 0., 0., 2., 0.],\n",
       "       [0., 0., 0., 0., 0., 0., 0., 0., 0., 2.]])"
      ]
     },
     "execution_count": 63,
     "metadata": {},
     "output_type": "execute_result"
    }
   ],
   "source": [
    "diag_joint_matrix = np.diag([w_J] * r_J)\n",
    "diag_joint_matrix"
   ]
  },
  {
   "cell_type": "code",
   "execution_count": 64,
   "metadata": {},
   "outputs": [
    {
     "data": {
      "text/plain": [
       "(10, 50)"
      ]
     },
     "execution_count": 64,
     "metadata": {},
     "output_type": "execute_result"
    }
   ],
   "source": [
    "S_J_old=np.random.uniform(low=0, high=1, size=(r_J,n))\n",
    "S_J_old.shape"
   ]
  },
  {
   "cell_type": "code",
   "execution_count": 65,
   "metadata": {},
   "outputs": [
    {
     "data": {
      "text/plain": [
       "(10, 50)"
      ]
     },
     "execution_count": 65,
     "metadata": {},
     "output_type": "execute_result"
    }
   ],
   "source": [
    "S_J=np.dot(diag_joint_matrix,S_J_old)\n",
    "S_J.shape"
   ]
  },
  {
   "attachments": {},
   "cell_type": "markdown",
   "metadata": {},
   "source": [
    "## W_iの生成"
   ]
  },
  {
   "cell_type": "code",
   "execution_count": 66,
   "metadata": {},
   "outputs": [],
   "source": [
    "r_1=5\n",
    "r_2=5\n"
   ]
  },
  {
   "cell_type": "code",
   "execution_count": 67,
   "metadata": {},
   "outputs": [],
   "source": [
    "W_1=np.random.uniform(low=0.5, high=1, size=(p_1,r_1))\n",
    "W_2=np.random.uniform(low=0.5, high=1, size=(p_2,r_2))"
   ]
  },
  {
   "attachments": {},
   "cell_type": "markdown",
   "metadata": {},
   "source": [
    "## theta_{2i}の生成"
   ]
  },
  {
   "cell_type": "code",
   "execution_count": 68,
   "metadata": {},
   "outputs": [
    {
     "data": {
      "text/plain": [
       "array([[0.85065727, 0.79906217, 0.57419818, 0.76932887, 0.        ]])"
      ]
     },
     "execution_count": 68,
     "metadata": {},
     "output_type": "execute_result"
    }
   ],
   "source": [
    "vec_theta_21_a=np.random.uniform(low=0.5, high=1, size=int(r_1*r_prop))\n",
    "vec_theta_21_b=np.zeros(int(r_1-r_1*r_prop))\n",
    "vec_theta_21=np.concatenate((vec_theta_21_a,vec_theta_21_b))\n",
    "vec_theta_21=vec_theta_21.reshape(1,r_1)\n",
    "vec_theta_21"
   ]
  },
  {
   "cell_type": "code",
   "execution_count": 69,
   "metadata": {},
   "outputs": [
    {
     "data": {
      "text/plain": [
       "array([[0.53343435, 0.62070434, 0.5015465 , 0.8723312 , 0.        ]])"
      ]
     },
     "execution_count": 69,
     "metadata": {},
     "output_type": "execute_result"
    }
   ],
   "source": [
    "vec_theta_22_a=np.random.uniform(low=0.5, high=1, size=int(r_2*r_prop))\n",
    "vec_theta_22_b=np.zeros(int(r_2-r_2*r_prop))\n",
    "vec_theta_22=np.concatenate((vec_theta_22_a,vec_theta_22_b))\n",
    "vec_theta_22=vec_theta_22.reshape(1,r_2)\n",
    "vec_theta_22"
   ]
  },
  {
   "attachments": {},
   "cell_type": "markdown",
   "metadata": {},
   "source": [
    "## W_1とtheta_{21}の更新"
   ]
  },
  {
   "cell_type": "code",
   "execution_count": 70,
   "metadata": {},
   "outputs": [
    {
     "data": {
      "text/plain": [
       "(51, 5)"
      ]
     },
     "execution_count": 70,
     "metadata": {},
     "output_type": "execute_result"
    }
   ],
   "source": [
    "W_theta_21=np.row_stack((W_1,vec_theta_21))\n",
    "W_theta_21.shape"
   ]
  },
  {
   "cell_type": "code",
   "execution_count": 71,
   "metadata": {},
   "outputs": [
    {
     "data": {
      "text/plain": [
       "(51, 5)"
      ]
     },
     "execution_count": 71,
     "metadata": {},
     "output_type": "execute_result"
    }
   ],
   "source": [
    "W_theta_21_Q,R=np.linalg.qr(W_theta_21)\n",
    "W_theta_21_Q.shape"
   ]
  },
  {
   "cell_type": "code",
   "execution_count": 72,
   "metadata": {},
   "outputs": [
    {
     "data": {
      "text/plain": [
       "(51, 5)"
      ]
     },
     "execution_count": 72,
     "metadata": {},
     "output_type": "execute_result"
    }
   ],
   "source": [
    "W_theta_22=np.row_stack((W_2,vec_theta_22))\n",
    "W_theta_22.shape"
   ]
  },
  {
   "cell_type": "code",
   "execution_count": 73,
   "metadata": {},
   "outputs": [
    {
     "data": {
      "text/plain": [
       "(51, 5)"
      ]
     },
     "execution_count": 73,
     "metadata": {},
     "output_type": "execute_result"
    }
   ],
   "source": [
    "W_theta_22_Q,R=np.linalg.qr(W_theta_22)\n",
    "W_theta_22_Q.shape"
   ]
  },
  {
   "cell_type": "code",
   "execution_count": 74,
   "metadata": {},
   "outputs": [],
   "source": [
    "W_1_new=W_theta_21_Q[:p_1,:]\n",
    "W_2_new=W_theta_22_Q[:p_2,:]\n",
    "theta_21_new=W_theta_21_Q[p_1:,:]\n",
    "theta_22_new=W_theta_22_Q[p_2:,:]"
   ]
  },
  {
   "attachments": {},
   "cell_type": "markdown",
   "metadata": {},
   "source": [
    "## S_iの生成"
   ]
  },
  {
   "cell_type": "code",
   "execution_count": 75,
   "metadata": {},
   "outputs": [],
   "source": [
    "w_1=1.0\n",
    "w_2=2.0"
   ]
  },
  {
   "cell_type": "code",
   "execution_count": 76,
   "metadata": {},
   "outputs": [
    {
     "data": {
      "text/plain": [
       "(5, 5)"
      ]
     },
     "execution_count": 76,
     "metadata": {},
     "output_type": "execute_result"
    }
   ],
   "source": [
    "diag_x1_matrix = np.diag([w_1] * r_1)\n",
    "diag_x1_matrix.shape"
   ]
  },
  {
   "cell_type": "code",
   "execution_count": 77,
   "metadata": {},
   "outputs": [
    {
     "data": {
      "text/plain": [
       "(5, 50)"
      ]
     },
     "execution_count": 77,
     "metadata": {},
     "output_type": "execute_result"
    }
   ],
   "source": [
    "S_1_old=np.random.uniform(low=0, high=1, size=(r_1,n))\n",
    "S_1_old.shape"
   ]
  },
  {
   "cell_type": "code",
   "execution_count": 78,
   "metadata": {},
   "outputs": [
    {
     "data": {
      "text/plain": [
       "(50, 50)"
      ]
     },
     "execution_count": 78,
     "metadata": {},
     "output_type": "execute_result"
    }
   ],
   "source": [
    "P_SJ=S_J.T.dot(np.linalg.inv(S_J.dot(S_J.T))).dot(S_J)\n",
    "P_SJ.shape"
   ]
  },
  {
   "cell_type": "code",
   "execution_count": 79,
   "metadata": {},
   "outputs": [
    {
     "data": {
      "text/plain": [
       "(50, 50)"
      ]
     },
     "execution_count": 79,
     "metadata": {},
     "output_type": "execute_result"
    }
   ],
   "source": [
    "diag_matrix = np.diag([1] * n)\n",
    "P_SJ_C=diag_matrix-P_SJ\n",
    "P_SJ_C.shape"
   ]
  },
  {
   "cell_type": "code",
   "execution_count": 80,
   "metadata": {},
   "outputs": [
    {
     "data": {
      "text/plain": [
       "(5, 50)"
      ]
     },
     "execution_count": 80,
     "metadata": {},
     "output_type": "execute_result"
    }
   ],
   "source": [
    "S_1=diag_x1_matrix.dot(S_1_old).dot(P_SJ_C)\n",
    "S_1.shape"
   ]
  },
  {
   "cell_type": "code",
   "execution_count": 81,
   "metadata": {},
   "outputs": [
    {
     "data": {
      "text/plain": [
       "(5, 50)"
      ]
     },
     "execution_count": 81,
     "metadata": {},
     "output_type": "execute_result"
    }
   ],
   "source": [
    "diag_x2_matrix = np.diag([w_2] * r_2)\n",
    "S_2_old=np.random.uniform(low=0, high=1, size=(r_2,n))\n",
    "S_2=diag_x2_matrix.dot(S_2_old).dot(P_SJ_C)\n",
    "S_2.shape"
   ]
  },
  {
   "attachments": {},
   "cell_type": "markdown",
   "metadata": {},
   "source": [
    "## X_iの生成"
   ]
  },
  {
   "cell_type": "code",
   "execution_count": 82,
   "metadata": {},
   "outputs": [],
   "source": [
    "X1_erro=0.2\n",
    "X2_erro=0.2\n",
    "y_erro=0.2"
   ]
  },
  {
   "cell_type": "code",
   "execution_count": 83,
   "metadata": {},
   "outputs": [
    {
     "data": {
      "text/plain": [
       "0.1326059255585994"
      ]
     },
     "execution_count": 83,
     "metadata": {},
     "output_type": "execute_result"
    }
   ],
   "source": [
    "X_1=U_1_new.dot(S_J)+W_1_new.dot(S_1)\n",
    "var_X1=np.var(X_1)\n",
    "var_X1"
   ]
  },
  {
   "cell_type": "code",
   "execution_count": 84,
   "metadata": {},
   "outputs": [
    {
     "data": {
      "text/plain": [
       "0.026521185111719883"
      ]
     },
     "execution_count": 84,
     "metadata": {},
     "output_type": "execute_result"
    }
   ],
   "source": [
    "var_E1=X1_erro*var_X1\n",
    "var_E1"
   ]
  },
  {
   "cell_type": "code",
   "execution_count": 85,
   "metadata": {},
   "outputs": [],
   "source": [
    "E_1=np.random.normal(loc=0, scale=np.sqrt(var_E1), size=(p_1,n))\n",
    "X_1=X_1+E_1"
   ]
  },
  {
   "cell_type": "code",
   "execution_count": 86,
   "metadata": {},
   "outputs": [],
   "source": [
    "X_2=U_2_new.dot(S_J)+W_2_new.dot(S_2)\n",
    "var_X2=np.var(X_2)\n",
    "var_E2=X2_erro*var_X2\n",
    "E_2=np.random.normal(loc=0, scale=np.sqrt(var_E2), size=(p_2,n))\n",
    "X_2=X_2+E_2"
   ]
  },
  {
   "attachments": {},
   "cell_type": "markdown",
   "metadata": {},
   "source": [
    "## yの生成\n"
   ]
  },
  {
   "cell_type": "code",
   "execution_count": 87,
   "metadata": {},
   "outputs": [],
   "source": [
    "y=theta_1_new.dot(S_J)+theta_21_new.dot(S_1)+theta_22_new.dot(S_2)\n",
    "var_y=np.var(y)\n",
    "var_e_y=y_erro*var_y\n",
    "e_y=np.random.normal(loc=0, scale=np.sqrt(var_e_y), size=(1,n))\n",
    "y=y+e_y\n"
   ]
  },
  {
   "cell_type": "code",
   "execution_count": 88,
   "metadata": {},
   "outputs": [
    {
     "data": {
      "text/plain": [
       "(1, 50)"
      ]
     },
     "execution_count": 88,
     "metadata": {},
     "output_type": "execute_result"
    }
   ],
   "source": [
    "y.shape"
   ]
  },
  {
   "cell_type": "code",
   "execution_count": 89,
   "metadata": {},
   "outputs": [],
   "source": [
    "from sklearn.preprocessing import StandardScaler"
   ]
  },
  {
   "cell_type": "code",
   "execution_count": 91,
   "metadata": {},
   "outputs": [],
   "source": [
    "ms = StandardScaler()\n",
    "X_1_final = ms.fit_transform(X_1)"
   ]
  },
  {
   "cell_type": "code",
   "execution_count": 94,
   "metadata": {},
   "outputs": [
    {
     "data": {
      "text/plain": [
       "1.0"
      ]
     },
     "execution_count": 94,
     "metadata": {},
     "output_type": "execute_result"
    }
   ],
   "source": [
    "np.var(X_1_final)"
   ]
  },
  {
   "cell_type": "markdown",
   "metadata": {},
   "source": []
  }
 ],
 "metadata": {
  "kernelspec": {
   "display_name": "Python 3",
   "language": "python",
   "name": "python3"
  },
  "language_info": {
   "codemirror_mode": {
    "name": "ipython",
    "version": 3
   },
   "file_extension": ".py",
   "mimetype": "text/x-python",
   "name": "python",
   "nbconvert_exporter": "python",
   "pygments_lexer": "ipython3",
   "version": "3.9.6"
  },
  "orig_nbformat": 4
 },
 "nbformat": 4,
 "nbformat_minor": 2
}
