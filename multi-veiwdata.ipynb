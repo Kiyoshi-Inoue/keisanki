{
 "cells": [
  {
   "cell_type": "code",
   "execution_count": 75,
   "metadata": {},
   "outputs": [],
   "source": [
    "import pandas as pd\n",
    "from sklearn.preprocessing import StandardScaler\n",
    "from sklearn.cluster import KMeans\n",
    "from sklearn.cluster import AgglomerativeClustering\n",
    "from sklearn.model_selection import KFold\n",
    "import random\n",
    "import numpy as np\n",
    "from sklearn.preprocessing import StandardScaler\n",
    "import function\n",
    "import matplotlib.pyplot as plt\n",
    "import math\n",
    "import tqdm\n",
    "import optuna\n",
    "import matplotlib.pyplot as plt"
   ]
  },
  {
   "cell_type": "code",
   "execution_count": 2,
   "metadata": {},
   "outputs": [
    {
     "data": {
      "text/html": [
       "<div>\n",
       "<style scoped>\n",
       "    .dataframe tbody tr th:only-of-type {\n",
       "        vertical-align: middle;\n",
       "    }\n",
       "\n",
       "    .dataframe tbody tr th {\n",
       "        vertical-align: top;\n",
       "    }\n",
       "\n",
       "    .dataframe thead th {\n",
       "        text-align: right;\n",
       "    }\n",
       "</style>\n",
       "<table border=\"1\" class=\"dataframe\">\n",
       "  <thead>\n",
       "    <tr style=\"text-align: right;\">\n",
       "      <th></th>\n",
       "      <th>1</th>\n",
       "      <th>2</th>\n",
       "      <th>3</th>\n",
       "      <th>4</th>\n",
       "      <th>5</th>\n",
       "      <th>6</th>\n",
       "      <th>7</th>\n",
       "      <th>8</th>\n",
       "      <th>9</th>\n",
       "      <th>10</th>\n",
       "      <th>...</th>\n",
       "      <th>97</th>\n",
       "      <th>98</th>\n",
       "      <th>99</th>\n",
       "      <th>100</th>\n",
       "      <th>101</th>\n",
       "      <th>102</th>\n",
       "      <th>103</th>\n",
       "      <th>104</th>\n",
       "      <th>105</th>\n",
       "      <th>106</th>\n",
       "    </tr>\n",
       "  </thead>\n",
       "  <tbody>\n",
       "    <tr>\n",
       "      <th>1</th>\n",
       "      <td>-0.159900</td>\n",
       "      <td>-0.052800</td>\n",
       "      <td>0.017700</td>\n",
       "      <td>-0.396100</td>\n",
       "      <td>0.034000</td>\n",
       "      <td>-0.031600</td>\n",
       "      <td>-0.103700</td>\n",
       "      <td>-0.507400</td>\n",
       "      <td>-0.097300</td>\n",
       "      <td>0.053500</td>\n",
       "      <td>...</td>\n",
       "      <td>-0.000900</td>\n",
       "      <td>0.002600</td>\n",
       "      <td>0.280400</td>\n",
       "      <td>-0.003200</td>\n",
       "      <td>-0.022500</td>\n",
       "      <td>0.009900</td>\n",
       "      <td>0.021300</td>\n",
       "      <td>0.013300</td>\n",
       "      <td>-0.060300</td>\n",
       "      <td>-0.019700</td>\n",
       "    </tr>\n",
       "    <tr>\n",
       "      <th>2</th>\n",
       "      <td>-0.159900</td>\n",
       "      <td>-0.052800</td>\n",
       "      <td>0.017700</td>\n",
       "      <td>-0.396100</td>\n",
       "      <td>0.034000</td>\n",
       "      <td>-0.031600</td>\n",
       "      <td>-0.103700</td>\n",
       "      <td>-0.243900</td>\n",
       "      <td>-0.097300</td>\n",
       "      <td>0.053500</td>\n",
       "      <td>...</td>\n",
       "      <td>-0.000900</td>\n",
       "      <td>0.002600</td>\n",
       "      <td>0.280400</td>\n",
       "      <td>-0.003200</td>\n",
       "      <td>-0.022500</td>\n",
       "      <td>0.009900</td>\n",
       "      <td>0.021300</td>\n",
       "      <td>0.013300</td>\n",
       "      <td>-0.060300</td>\n",
       "      <td>-0.019700</td>\n",
       "    </tr>\n",
       "    <tr>\n",
       "      <th>3</th>\n",
       "      <td>-0.159900</td>\n",
       "      <td>-0.052800</td>\n",
       "      <td>0.017700</td>\n",
       "      <td>-1.026700</td>\n",
       "      <td>0.034000</td>\n",
       "      <td>-0.031600</td>\n",
       "      <td>-0.103700</td>\n",
       "      <td>-0.243900</td>\n",
       "      <td>-0.097300</td>\n",
       "      <td>0.053500</td>\n",
       "      <td>...</td>\n",
       "      <td>-0.000900</td>\n",
       "      <td>0.002600</td>\n",
       "      <td>0.280400</td>\n",
       "      <td>-0.003200</td>\n",
       "      <td>-0.022500</td>\n",
       "      <td>0.009900</td>\n",
       "      <td>0.021300</td>\n",
       "      <td>0.013300</td>\n",
       "      <td>-0.060300</td>\n",
       "      <td>-0.019700</td>\n",
       "    </tr>\n",
       "    <tr>\n",
       "      <th>4</th>\n",
       "      <td>-0.159900</td>\n",
       "      <td>-0.052800</td>\n",
       "      <td>0.017700</td>\n",
       "      <td>-0.182600</td>\n",
       "      <td>0.034000</td>\n",
       "      <td>-0.031600</td>\n",
       "      <td>-0.103700</td>\n",
       "      <td>-0.243900</td>\n",
       "      <td>-0.097300</td>\n",
       "      <td>0.053500</td>\n",
       "      <td>...</td>\n",
       "      <td>-0.000900</td>\n",
       "      <td>0.002600</td>\n",
       "      <td>0.280400</td>\n",
       "      <td>-0.003200</td>\n",
       "      <td>-0.022500</td>\n",
       "      <td>0.009900</td>\n",
       "      <td>0.021300</td>\n",
       "      <td>0.013300</td>\n",
       "      <td>-0.060300</td>\n",
       "      <td>-0.019700</td>\n",
       "    </tr>\n",
       "    <tr>\n",
       "      <th>5</th>\n",
       "      <td>0.265100</td>\n",
       "      <td>-0.052800</td>\n",
       "      <td>0.017700</td>\n",
       "      <td>0.010700</td>\n",
       "      <td>0.034000</td>\n",
       "      <td>-0.031600</td>\n",
       "      <td>0.012000</td>\n",
       "      <td>-0.243900</td>\n",
       "      <td>-0.097300</td>\n",
       "      <td>0.053500</td>\n",
       "      <td>...</td>\n",
       "      <td>-0.000900</td>\n",
       "      <td>0.002600</td>\n",
       "      <td>0.280400</td>\n",
       "      <td>-0.003200</td>\n",
       "      <td>-0.022500</td>\n",
       "      <td>0.009900</td>\n",
       "      <td>0.021300</td>\n",
       "      <td>0.013300</td>\n",
       "      <td>-0.060300</td>\n",
       "      <td>-0.019700</td>\n",
       "    </tr>\n",
       "    <tr>\n",
       "      <th>...</th>\n",
       "      <td>...</td>\n",
       "      <td>...</td>\n",
       "      <td>...</td>\n",
       "      <td>...</td>\n",
       "      <td>...</td>\n",
       "      <td>...</td>\n",
       "      <td>...</td>\n",
       "      <td>...</td>\n",
       "      <td>...</td>\n",
       "      <td>...</td>\n",
       "      <td>...</td>\n",
       "      <td>...</td>\n",
       "      <td>...</td>\n",
       "      <td>...</td>\n",
       "      <td>...</td>\n",
       "      <td>...</td>\n",
       "      <td>...</td>\n",
       "      <td>...</td>\n",
       "      <td>...</td>\n",
       "      <td>...</td>\n",
       "      <td>...</td>\n",
       "    </tr>\n",
       "    <tr>\n",
       "      <th>out3</th>\n",
       "      <td>-0.090088</td>\n",
       "      <td>-0.005679</td>\n",
       "      <td>0.192402</td>\n",
       "      <td>-0.134553</td>\n",
       "      <td>-0.087229</td>\n",
       "      <td>0.084115</td>\n",
       "      <td>0.291586</td>\n",
       "      <td>0.049682</td>\n",
       "      <td>-0.159526</td>\n",
       "      <td>-0.268062</td>\n",
       "      <td>...</td>\n",
       "      <td>0.073891</td>\n",
       "      <td>-0.032199</td>\n",
       "      <td>-0.115032</td>\n",
       "      <td>-0.264316</td>\n",
       "      <td>0.107866</td>\n",
       "      <td>0.079619</td>\n",
       "      <td>0.326709</td>\n",
       "      <td>-0.123156</td>\n",
       "      <td>0.024471</td>\n",
       "      <td>-0.000358</td>\n",
       "    </tr>\n",
       "    <tr>\n",
       "      <th>out4</th>\n",
       "      <td>-0.634703</td>\n",
       "      <td>0.188877</td>\n",
       "      <td>-0.016539</td>\n",
       "      <td>-0.045775</td>\n",
       "      <td>0.108053</td>\n",
       "      <td>0.280210</td>\n",
       "      <td>0.057139</td>\n",
       "      <td>-0.132316</td>\n",
       "      <td>0.261257</td>\n",
       "      <td>-0.102028</td>\n",
       "      <td>...</td>\n",
       "      <td>-0.001068</td>\n",
       "      <td>-0.119141</td>\n",
       "      <td>0.285350</td>\n",
       "      <td>0.159624</td>\n",
       "      <td>-0.118591</td>\n",
       "      <td>0.130766</td>\n",
       "      <td>0.119857</td>\n",
       "      <td>-0.539387</td>\n",
       "      <td>-0.154919</td>\n",
       "      <td>0.265596</td>\n",
       "    </tr>\n",
       "    <tr>\n",
       "      <th>out5</th>\n",
       "      <td>-0.684023</td>\n",
       "      <td>-0.714745</td>\n",
       "      <td>-1.011498</td>\n",
       "      <td>0.465976</td>\n",
       "      <td>-0.003450</td>\n",
       "      <td>-0.556974</td>\n",
       "      <td>-0.267338</td>\n",
       "      <td>-0.128580</td>\n",
       "      <td>0.372200</td>\n",
       "      <td>-1.198347</td>\n",
       "      <td>...</td>\n",
       "      <td>-0.200467</td>\n",
       "      <td>0.510243</td>\n",
       "      <td>-0.735992</td>\n",
       "      <td>-0.269868</td>\n",
       "      <td>0.707126</td>\n",
       "      <td>0.053456</td>\n",
       "      <td>-1.433486</td>\n",
       "      <td>-0.576037</td>\n",
       "      <td>-0.566147</td>\n",
       "      <td>-0.035926</td>\n",
       "    </tr>\n",
       "    <tr>\n",
       "      <th>out6</th>\n",
       "      <td>2.004422</td>\n",
       "      <td>2.455895</td>\n",
       "      <td>0.002784</td>\n",
       "      <td>-0.633038</td>\n",
       "      <td>2.184560</td>\n",
       "      <td>2.081852</td>\n",
       "      <td>2.582015</td>\n",
       "      <td>0.807239</td>\n",
       "      <td>0.535628</td>\n",
       "      <td>2.684185</td>\n",
       "      <td>...</td>\n",
       "      <td>-0.017312</td>\n",
       "      <td>0.041337</td>\n",
       "      <td>-0.002784</td>\n",
       "      <td>0.123914</td>\n",
       "      <td>-0.025541</td>\n",
       "      <td>-0.224077</td>\n",
       "      <td>-0.072520</td>\n",
       "      <td>0.496500</td>\n",
       "      <td>0.353878</td>\n",
       "      <td>-0.269561</td>\n",
       "    </tr>\n",
       "    <tr>\n",
       "      <th>out7</th>\n",
       "      <td>-0.071378</td>\n",
       "      <td>0.031916</td>\n",
       "      <td>0.058801</td>\n",
       "      <td>-0.044943</td>\n",
       "      <td>0.095083</td>\n",
       "      <td>-0.032734</td>\n",
       "      <td>0.151317</td>\n",
       "      <td>0.211750</td>\n",
       "      <td>-0.226889</td>\n",
       "      <td>0.184461</td>\n",
       "      <td>...</td>\n",
       "      <td>0.016352</td>\n",
       "      <td>-0.103093</td>\n",
       "      <td>0.102777</td>\n",
       "      <td>-0.063300</td>\n",
       "      <td>0.083761</td>\n",
       "      <td>0.083273</td>\n",
       "      <td>0.032477</td>\n",
       "      <td>-0.163291</td>\n",
       "      <td>0.042058</td>\n",
       "      <td>-0.067868</td>\n",
       "    </tr>\n",
       "  </tbody>\n",
       "</table>\n",
       "<p>346 rows × 106 columns</p>\n",
       "</div>"
      ],
      "text/plain": [
       "           1         2         3         4         5         6         7    \\\n",
       "1    -0.159900 -0.052800  0.017700 -0.396100  0.034000 -0.031600 -0.103700   \n",
       "2    -0.159900 -0.052800  0.017700 -0.396100  0.034000 -0.031600 -0.103700   \n",
       "3    -0.159900 -0.052800  0.017700 -1.026700  0.034000 -0.031600 -0.103700   \n",
       "4    -0.159900 -0.052800  0.017700 -0.182600  0.034000 -0.031600 -0.103700   \n",
       "5     0.265100 -0.052800  0.017700  0.010700  0.034000 -0.031600  0.012000   \n",
       "...        ...       ...       ...       ...       ...       ...       ...   \n",
       "out3 -0.090088 -0.005679  0.192402 -0.134553 -0.087229  0.084115  0.291586   \n",
       "out4 -0.634703  0.188877 -0.016539 -0.045775  0.108053  0.280210  0.057139   \n",
       "out5 -0.684023 -0.714745 -1.011498  0.465976 -0.003450 -0.556974 -0.267338   \n",
       "out6  2.004422  2.455895  0.002784 -0.633038  2.184560  2.081852  2.582015   \n",
       "out7 -0.071378  0.031916  0.058801 -0.044943  0.095083 -0.032734  0.151317   \n",
       "\n",
       "           8         9         10   ...       97        98        99   \\\n",
       "1    -0.507400 -0.097300  0.053500  ... -0.000900  0.002600  0.280400   \n",
       "2    -0.243900 -0.097300  0.053500  ... -0.000900  0.002600  0.280400   \n",
       "3    -0.243900 -0.097300  0.053500  ... -0.000900  0.002600  0.280400   \n",
       "4    -0.243900 -0.097300  0.053500  ... -0.000900  0.002600  0.280400   \n",
       "5    -0.243900 -0.097300  0.053500  ... -0.000900  0.002600  0.280400   \n",
       "...        ...       ...       ...  ...       ...       ...       ...   \n",
       "out3  0.049682 -0.159526 -0.268062  ...  0.073891 -0.032199 -0.115032   \n",
       "out4 -0.132316  0.261257 -0.102028  ... -0.001068 -0.119141  0.285350   \n",
       "out5 -0.128580  0.372200 -1.198347  ... -0.200467  0.510243 -0.735992   \n",
       "out6  0.807239  0.535628  2.684185  ... -0.017312  0.041337 -0.002784   \n",
       "out7  0.211750 -0.226889  0.184461  ...  0.016352 -0.103093  0.102777   \n",
       "\n",
       "           100       101       102       103       104       105       106  \n",
       "1    -0.003200 -0.022500  0.009900  0.021300  0.013300 -0.060300 -0.019700  \n",
       "2    -0.003200 -0.022500  0.009900  0.021300  0.013300 -0.060300 -0.019700  \n",
       "3    -0.003200 -0.022500  0.009900  0.021300  0.013300 -0.060300 -0.019700  \n",
       "4    -0.003200 -0.022500  0.009900  0.021300  0.013300 -0.060300 -0.019700  \n",
       "5    -0.003200 -0.022500  0.009900  0.021300  0.013300 -0.060300 -0.019700  \n",
       "...        ...       ...       ...       ...       ...       ...       ...  \n",
       "out3 -0.264316  0.107866  0.079619  0.326709 -0.123156  0.024471 -0.000358  \n",
       "out4  0.159624 -0.118591  0.130766  0.119857 -0.539387 -0.154919  0.265596  \n",
       "out5 -0.269868  0.707126  0.053456 -1.433486 -0.576037 -0.566147 -0.035926  \n",
       "out6  0.123914 -0.025541 -0.224077 -0.072520  0.496500  0.353878 -0.269561  \n",
       "out7 -0.063300  0.083761  0.083273  0.032477 -0.163291  0.042058 -0.067868  \n",
       "\n",
       "[346 rows x 106 columns]"
      ]
     },
     "execution_count": 2,
     "metadata": {},
     "output_type": "execute_result"
    }
   ],
   "source": [
    "chin07 = pd.read_excel(\"/Users/inouekiyoshi/Library/Mobile Documents/com~apple~Numbers/Documents/chin07.xlsx\",index_col=0)\n",
    "chin07  "
   ]
  },
  {
   "cell_type": "code",
   "execution_count": 3,
   "metadata": {},
   "outputs": [
    {
     "data": {
      "text/plain": [
       "(45, 20)"
      ]
     },
     "execution_count": 3,
     "metadata": {},
     "output_type": "execute_result"
    }
   ],
   "source": [
    "X_1=chin07.iloc[251:296]\n",
    "X_1_tra=X_1.iloc[:,:86]\n",
    "X_1_tes=X_1.iloc[:,86:]\n",
    "X_1_tes.shape"
   ]
  },
  {
   "cell_type": "code",
   "execution_count": 4,
   "metadata": {},
   "outputs": [
    {
     "data": {
      "text/plain": [
       "(34, 20)"
      ]
     },
     "execution_count": 4,
     "metadata": {},
     "output_type": "execute_result"
    }
   ],
   "source": [
    "X_2=chin07.iloc[157:191]\n",
    "X_2_tra=X_2.iloc[:,:86]\n",
    "X_2_tes=X_2.iloc[:,86:]\n",
    "X_2_tes.shape"
   ]
  },
  {
   "cell_type": "code",
   "execution_count": 21,
   "metadata": {},
   "outputs": [
    {
     "data": {
      "text/plain": [
       "(20,)"
      ]
     },
     "execution_count": 21,
     "metadata": {},
     "output_type": "execute_result"
    }
   ],
   "source": [
    "y=chin07.loc[\"out1\"]\n",
    "y_tra=y[:86]\n",
    "y_tes=y[86:]\n",
    "y_tes.shape"
   ]
  },
  {
   "cell_type": "code",
   "execution_count": 124,
   "metadata": {},
   "outputs": [
    {
     "name": "stderr",
     "output_type": "stream",
     "text": [
      "100%|██████████| 100/100 [00:04<00:00, 20.35it/s]\n",
      "100%|██████████| 100/100 [00:00<00:00, 16616.37it/s]\n",
      "100%|██████████| 100/100 [00:01<00:00, 74.41it/s]\n",
      "100%|██████████| 100/100 [00:00<00:00, 1353.89it/s]\n",
      "100%|██████████| 100/100 [00:00<00:00, 13945.22it/s]\n",
      "100%|██████████| 1/1 [00:06<00:00,  6.44s/it]\n"
     ]
    }
   ],
   "source": [
    "\n",
    "sJIVE_tes_lis=[]\n",
    "W_sJIVE_tes_lis=[]\n",
    "\n",
    "#生成するデータの条件\n",
    "# p_1=100\n",
    "# p_2=100\n",
    "# n=150\n",
    "# r_J_or=30\n",
    "# r_1_or=30\n",
    "# r_2_or=30\n",
    "# r_prop=0.3\n",
    "# w_J=1.0\n",
    "# w_1=1.0\n",
    "# w_2=1.0\n",
    "# W_J_lis=[10,5,3]\n",
    "# for i in range(27):\n",
    "#     W_J_lis.append(0.1)\n",
    "# W_1_lis=[10,5,3]\n",
    "# for i in range(27):\n",
    "#     W_1_lis.append(0.1)\n",
    "# W_2_lis=[10,5,3]\n",
    "# for i in range(27):\n",
    "#     W_2_lis.append(0.1)\n",
    "# X1_erro=0.001\n",
    "# X2_erro=0.001\n",
    "# y_erro=0.0001\n",
    "\n",
    "#sJIVEと共通の条件\n",
    "k = 5\n",
    "kf = KFold(n_splits=k)\n",
    "\n",
    "times=100\n",
    "threshold=1.0\n",
    "\n",
    "#sJIVEに固有の条件\n",
    "\n",
    "times_tes=100\n",
    "threshold_tes=1.0\n",
    "\n",
    "eta=0.95\n",
    "r_J_s=1\n",
    "r_1_s=1\n",
    "r_2_s=1\n",
    "\n",
    "#proposedに固有の条件\n",
    "\n",
    "r_J_W=9\n",
    "r_1_W=9\n",
    "r_2_W=9\n",
    "\n",
    "\n",
    "lam_J=0.1\n",
    "lam_1=0.1\n",
    "lam_2=0.1\n",
    "gamma_1=0\n",
    "gamma_21=0\n",
    "gamma_22=0\n",
    "\n",
    "for i in tqdm.tqdm(range(1)):\n",
    "    #データの生成\n",
    "    # X_1_al,X_2_al,y_al=function.gene_data_2(p_1,p_2,n,r_J_or,r_1_or,r_2_or,r_prop,W_J_lis=W_J_lis,W_1_lis=W_1_lis,W_2_lis=W_2_lis,X1_erro=X1_erro,X2_erro=X2_erro,y_erro=y_erro)\n",
    "    # X_1_original=X_1_al[:,:100]\n",
    "    # X_2_original=X_2_al[:,:100]\n",
    "    # y_original=y_al[:,:100]\n",
    "\n",
    "    # X_1_test=X_1_al[:,100:150]\n",
    "    # X_2_test=X_2_al[:,100:150]\n",
    "    # y_test=y_al[:,100:150]\n",
    "    \n",
    "    ar_X_1_tra=X_1_tra.values\n",
    "    ar_X_1_tes=X_1_tes.values\n",
    "    ar_X_2_tra=X_2_tra.values\n",
    "    ar_X_2_tes=X_2_tes.values\n",
    "    ar_y_tra=y_tra.values\n",
    "    ar_y_tes=y_tes.values\n",
    "\n",
    "    df_tra=np.row_stack((ar_X_1_tra,ar_X_2_tra,ar_y_tra))\n",
    "    df_tes=np.row_stack((ar_X_1_tes,ar_X_2_tes,ar_y_tes))\n",
    "\n",
    "    # sJIVEの実装\n",
    "    # #パラメータ推定\n",
    "    # ##sJIVEのパラメータ推定の定義式\n",
    "    # def objective(trial):\n",
    "    #     #ハイパーパラメータを定義\n",
    "    #     eta=trial.suggest_float(\"eta\",0.01,0.99)\n",
    "    #     r_J=trial.suggest_int(\"r_J\",1,15)\n",
    "    #     r_1=trial.suggest_int(\"r_1\",1,10)\n",
    "    #     r_2=trial.suggest_int(\"r_2\",1,10)\n",
    "\n",
    "    #     accuracy_sJIVE_cv=function.cv_sJIVE_2(df_tra,eta=eta,r_J=r_J,r_1=r_1,r_2=r_2,times=times,threshold=threshold,times_tes=times_tes,threshold_tes=threshold_tes)\n",
    "\n",
    "    #     return accuracy_sJIVE_cv\n",
    "    # ###推定\n",
    "    # study=optuna.create_study(direction=\"minimize\")\n",
    "    # study.optimize(objective,n_trials=100)\n",
    "    # best_params = study.best_params\n",
    "    # best_accuracy = study.best_value\n",
    "\n",
    "    # ##sJIVEの実行\n",
    "    # eta=best_params[\"eta\"]\n",
    "    # r_J_s=best_params[\"r_J\"]\n",
    "    # r_1_s=best_params[\"r_1\"]\n",
    "    # r_2_s=best_params[\"r_2\"]\n",
    "\n",
    "    erro_lis,number_best,erro_best,S_J_best,U_1_best,U_2_best,theta_1_best,S_1_best,W_1_best,theta_21_best,S_2_best,W_2_best,theta_22_best,hat_X_y_best=function.sJIVE(\n",
    "        eta=eta,times=times,r_J=r_J_s,r_1=r_1_s,r_2=r_2_s,X_1_or=ar_X_1_tra,X_2_or=ar_X_2_tra,y_or=ar_y_tra,threshold=threshold)\n",
    "    \n",
    "    ##テストデータに対して実行\n",
    "    erro_tes_lis,erro_tes_best,S_J_new_best,S_1_new_best,S_2_new_best,y_new,erro_result=function.sJIVE_prediction(\n",
    "        ar_X_1_tes,ar_X_2_tes,ar_y_tes,U_1_best,U_2_best,W_1_best,W_2_best,theta_1_best,theta_21_best,theta_22_best,times_tes,threshold_tes)\n",
    "    \n",
    "    ##結果をリストに代入\n",
    "    sJIVE_tes_score=np.linalg.norm(ar_y_tes-y_new)**2\n",
    "    sJIVE_tes_lis.append(sJIVE_tes_score)\n",
    "\n",
    "    #proposed_methodの実行\n",
    "    ##パラメータ推定\n",
    "    # def objective_2(trial):\n",
    "    # #ハイパーパラメータを定義\n",
    "    #     lam_J=trial.suggest_float(\"lam_J\",0.00,1.00)\n",
    "    #     lam_1=trial.suggest_float(\"lam_1\",0.00,0.50)\n",
    "    #     lam_2=trial.suggest_float(\"lam_2\",0.00,0.50)\n",
    "    #     gamma_1=trial.suggest_float(\"gamma_1\",0.00,2.00)\n",
    "    #     gamma_21=trial.suggest_float(\"gamma_21\",0.00,2.00)\n",
    "    #     gamma_22=trial.suggest_float(\"gamma_22\",0.00,2.00)\n",
    "\n",
    "    #     accuracy_W_sJIVE_decomposition=function.cv_W_sJIVE_decomposition_2(df_tra,r_J=r_J_W,r_1=r_1_W,r_2=r_2_W,lam_J=lam_J,lam_1=lam_1,lam_2=lam_2,gamma_1=gamma_1,gamma_21=gamma_21,gamma_22=gamma_22,times=times,threshold=threshold,k=k)\n",
    "\n",
    "    #     return accuracy_W_sJIVE_decomposition\n",
    "        \n",
    "    # study_2=optuna.create_study(direction=\"minimize\")\n",
    "    # study_2.optimize(objective_2,n_trials=100)\n",
    "    # best_params_2 = study_2.best_params\n",
    "    # best_accuracy_2 = study_2.best_value\n",
    "\n",
    "    # lam_J=best_params_2[\"lam_J\"]\n",
    "    # lam_1=best_params_2[\"lam_1\"]\n",
    "    # lam_2=best_params_2[\"lam_2\"]\n",
    "    # gamma_1=best_params_2[\"gamma_1\"]\n",
    "    # gamma_21=best_params_2[\"gamma_21\"]\n",
    "    # gamma_22=best_params_2[\"gamma_22\"]\n",
    "\n",
    "    erro_lis_W,erro_best_W,S_J_best_W,U_1_best_W,U_2_best_W,S_1_best_W,W_1_best_W,S_2_best_W,W_2_best_W,sigma_J_best_W,sigma_1_best_W,sigma_2_best_W,M_J_best_W,M_1_best_W,M_2_best_W,hat_X_best_W=function.W_sJIVE_decompositon_1(\n",
    "        times=times,r_J=r_J_W,r_1=r_1_W,r_2=r_2_W,X_1_or=ar_X_1_tra,X_2_or=ar_X_2_tra,threshold=threshold\n",
    "        )\n",
    "    erro_y_lis_W,erro,theta_1_best_W,theta_21_best_W,theta_22_best_W,hat_y_W=function.W_sJIVE_decomposition_2(\n",
    "        ar_y_tra,times,lam_J,lam_1,lam_2,gamma_1,gamma_21,gamma_22,S_J_best_W,S_1_best_W,S_2_best_W,sigma_J_best_W,sigma_1_best_W,sigma_2_best_W\n",
    "    )\n",
    "    nonzero_theta_1 = np.nonzero(theta_1_best_W)[0]\n",
    "    theta_1_best_sparse=theta_1_best_W[nonzero_theta_1]\n",
    "\n",
    "    U_1_best_sparse=U_1_best_W[:,nonzero_theta_1]\n",
    "    U_2_best_sparse=U_2_best_W[:,nonzero_theta_1]\n",
    "    S_J_best_sparse=S_J_best_W[nonzero_theta_1,:]\n",
    "    M_J_best_sparse=M_J_best_W[nonzero_theta_1,:]\n",
    "    sigma_J_best_sparse=sigma_J_best_W[nonzero_theta_1]\n",
    "\n",
    "    nonzero_theta_21 = np.nonzero(theta_21_best_W)[0]\n",
    "    theta_21_best_sparse=theta_21_best_W[nonzero_theta_21]\n",
    "    W_1_best_sparse=W_1_best_W[:,nonzero_theta_21]\n",
    "    S_1_best_sparse=S_1_best_W[nonzero_theta_21,:]\n",
    "    M_1_best_sparse=M_1_best_W[nonzero_theta_21,:]\n",
    "    sigma_1_best_sparse=sigma_1_best_W[nonzero_theta_21]\n",
    "\n",
    "    nonzero_theta_22 = np.nonzero(theta_22_best_W)[0]\n",
    "    theta_22_best_sparse=theta_22_best_W[nonzero_theta_22]\n",
    "    W_2_best_sparse=W_2_best_W[:,nonzero_theta_22]\n",
    "    S_2_best_sparse=S_2_best_W[nonzero_theta_22,:]\n",
    "    M_2_best_sparse=M_2_best_W[nonzero_theta_22,:]\n",
    "    sigma_2_best_sparse=sigma_2_best_W[nonzero_theta_22]\n",
    "\n",
    "    erro_tes_lis_w,erro_tes_best,S_J_new_best,S_1_new_best,S_2_new_best,theta_1_new,theta_21_new,theta_22_new,y_new_W,erro_result,sigma_J_new=function.W_sJIVE_prediction(\n",
    "        X_1_tes=ar_X_1_tes,X_2_tes=ar_X_2_tes,y_tes=ar_y_tes,gamma_1=gamma_1,gamma_21=gamma_21,gamma_22=gamma_22,U_1_best_sparse=U_1_best_sparse,U_2_best_sparse=U_2_best_sparse,W_1_best_sparse=W_1_best_sparse,W_2_best_sparse=W_2_best_sparse,theta_1_best_sparse=theta_1_best_sparse,theta_21_best_sparse=theta_21_best_sparse,theta_22_best_sparse=theta_22_best_sparse,sigma_J_best_sparse=sigma_J_best_sparse,sigma_1_best_sparse=sigma_1_best_sparse,sigma_2_best_sparse=sigma_2_best_sparse,times_tes=100,threshold_tes=0.01\n",
    "    )\n",
    "\n",
    "    ##結果をリストに代入\n",
    "    W_sJIVE_tes_score=np.linalg.norm(ar_y_tes-y_new_W)**2\n",
    "    W_sJIVE_tes_lis.append(W_sJIVE_tes_score)"
   ]
  },
  {
   "cell_type": "code",
   "execution_count": 125,
   "metadata": {},
   "outputs": [
    {
     "data": {
      "text/plain": [
       "[1.9764358514315945]"
      ]
     },
     "execution_count": 125,
     "metadata": {},
     "output_type": "execute_result"
    }
   ],
   "source": [
    "sJIVE_tes_lis"
   ]
  },
  {
   "cell_type": "code",
   "execution_count": 126,
   "metadata": {},
   "outputs": [
    {
     "data": {
      "text/plain": [
       "[39.01548667647781]"
      ]
     },
     "execution_count": 126,
     "metadata": {},
     "output_type": "execute_result"
    }
   ],
   "source": [
    "W_sJIVE_tes_lis"
   ]
  },
  {
   "cell_type": "code",
   "execution_count": 10,
   "metadata": {},
   "outputs": [
    {
     "name": "stdout",
     "output_type": "stream",
     "text": [
      "10\n",
      "10\n",
      "10\n"
     ]
    }
   ],
   "source": [
    "print(r_J_s)\n",
    "print(r_1_s)\n",
    "print(r_2_s)"
   ]
  },
  {
   "cell_type": "code",
   "execution_count": 31,
   "metadata": {},
   "outputs": [
    {
     "data": {
      "text/plain": [
       "array([-0.11601792,  0.02047175, -0.00740263, -0.00130918,  0.00377989,\n",
       "        0.01029503,  0.00328919, -0.00513025, -0.00202748,  0.00163174,\n",
       "       -0.00035675, -0.00473271, -0.003165  , -0.00339371, -0.00289196,\n",
       "       -0.00100653,  0.00125348,  0.00086303,  0.00031506,  0.00064451,\n",
       "       -0.00150326,  0.00075215, -0.00095157,  0.00094833, -0.00041896])"
      ]
     },
     "execution_count": 31,
     "metadata": {},
     "output_type": "execute_result"
    }
   ],
   "source": [
    "theta_1_best_sparse"
   ]
  },
  {
   "cell_type": "code",
   "execution_count": 85,
   "metadata": {},
   "outputs": [],
   "source": [
    "ar_X_tra=np.row_stack((ar_X_1_tra,ar_X_2_tra))"
   ]
  },
  {
   "cell_type": "code",
   "execution_count": 101,
   "metadata": {},
   "outputs": [
    {
     "data": {
      "image/png": "[encoded data removed]",
      "text/plain": [
       "<Figure size 640x480 with 2 Axes>"
      ]
     },
     "metadata": {},
     "output_type": "display_data"
    }
   ],
   "source": [
    "plt.imshow(ar_X_tra, cmap='YlGnBu', interpolation='nearest')\n",
    "plt.colorbar()\n",
    "plt.show()"
   ]
  },
  {
   "cell_type": "code",
   "execution_count": 102,
   "metadata": {},
   "outputs": [
    {
     "data": {
      "image/png": "[encoded data removed]",
      "text/plain": [
       "<Figure size 640x480 with 2 Axes>"
      ]
     },
     "metadata": {},
     "output_type": "display_data"
    }
   ],
   "source": [
    "plt.imshow(ar_X_2_tra, cmap='YlGnBu', interpolation='nearest')\n",
    "plt.colorbar()\n",
    "plt.show()"
   ]
  },
  {
   "cell_type": "code",
   "execution_count": 80,
   "metadata": {},
   "outputs": [],
   "source": [
    "ar_y_tra_1=ar_y_tra.reshape(1,86)"
   ]
  },
  {
   "cell_type": "code",
   "execution_count": 103,
   "metadata": {},
   "outputs": [
    {
     "data": {
      "image/png": "[encoded data removed]",
      "text/plain": [
       "<Figure size 640x480 with 2 Axes>"
      ]
     },
     "metadata": {},
     "output_type": "display_data"
    }
   ],
   "source": [
    "plt.imshow(ar_y_tra_1, cmap='YlGnBu', interpolation='nearest')\n",
    "plt.colorbar()\n",
    "plt.show()"
   ]
  },
  {
   "cell_type": "code",
   "execution_count": 121,
   "metadata": {},
   "outputs": [],
   "source": [
    "U_best=np.row_stack((U_1_best,U_2_best))\n",
    "ones = np.ones((1, 86))\n",
    "# arr_lis=arr_list.reshape(1,86)\n",
    "est_joint=U_best.dot(S_J_best)\n",
    "est_inv_1=W_1_best.dot(S_1_best)\n",
    "est_inv_2=W_2_best.dot(S_2_best)\n",
    "est_ar=np.row_stack((df_tra,ones,est_joint,ones,est_inv_1,ones,est_inv_2))"
   ]
  },
  {
   "cell_type": "code",
   "execution_count": 109,
   "metadata": {},
   "outputs": [],
   "source": [
    "min_val = min(est_joint.min(), est_inv_1.min(),est_inv_2.min())\n",
    "max_val = max(est_joint.max(), est_inv_1.max(),est_inv_2.max())\n",
    "\n",
    "# 共通の尺度でデータをスケーリング\n",
    "scaled_est_joint = (est_joint - min_val) / (max_val - min_val)\n",
    "scaled_est_inv_1= (est_inv_1- min_val) / (max_val - min_val)\n",
    "scaled_est_inv_2= (est_inv_2- min_val) / (max_val - min_val)"
   ]
  },
  {
   "cell_type": "code",
   "execution_count": 122,
   "metadata": {},
   "outputs": [
    {
     "data": {
      "image/png": "[encoded data removed]",
      "text/plain": [
       "<Figure size 640x480 with 2 Axes>"
      ]
     },
     "metadata": {},
     "output_type": "display_data"
    }
   ],
   "source": [
    "plt.imshow(est_ar, cmap=\"YlGnBu\", interpolation='nearest')\n",
    "plt.colorbar()\n",
    "plt.show()"
   ]
  },
  {
   "cell_type": "code",
   "execution_count": 104,
   "metadata": {},
   "outputs": [],
   "source": []
  },
  {
   "cell_type": "code",
   "execution_count": 112,
   "metadata": {},
   "outputs": [
    {
     "data": {
      "image/png": "[encoded data removed]",
      "text/plain": [
       "<Figure size 640x480 with 2 Axes>"
      ]
     },
     "metadata": {},
     "output_type": "display_data"
    }
   ],
   "source": [
    "plt.imshow(scaled_est_inv_1, cmap=\"YlGnBu\", interpolation='nearest')\n",
    "plt.colorbar()\n",
    "plt.show()"
   ]
  },
  {
   "cell_type": "code",
   "execution_count": null,
   "metadata": {},
   "outputs": [],
   "source": []
  }
 ],
 "metadata": {
  "kernelspec": {
   "display_name": "Python 3",
   "language": "python",
   "name": "python3"
  },
  "language_info": {
   "codemirror_mode": {
    "name": "ipython",
    "version": 3
   },
   "file_extension": ".py",
   "mimetype": "text/x-python",
   "name": "python",
   "nbconvert_exporter": "python",
   "pygments_lexer": "ipython3",
   "version": "3.9.6"
  },
  "orig_nbformat": 4
 },
 "nbformat": 4,
 "nbformat_minor": 2
}
