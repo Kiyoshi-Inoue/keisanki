{
 "cells": [
  {
   "cell_type": "code",
   "execution_count": 1,
   "metadata": {},
   "outputs": [],
   "source": [
    "from sklearn.model_selection import KFold\n",
    "import random\n",
    "import numpy as np\n",
    "from sklearn.preprocessing import StandardScaler\n",
    "import function\n",
    "import matplotlib.pyplot as plt\n",
    "import math\n",
    "import tqdm\n",
    "import optuna"
   ]
  },
  {
   "cell_type": "code",
   "execution_count": 2,
   "metadata": {},
   "outputs": [],
   "source": [
    "p_1=50\n",
    "p_2=50\n",
    "n=150\n",
    "r_J_or=10\n",
    "r_1_or=10\n",
    "r_2_or=10\n",
    "r_prop=1.0\n",
    "w_J=1.0\n",
    "w_1=1.0\n",
    "w_2=1.0\n",
    "X1_erro=0.2\n",
    "X2_erro=0.2\n",
    "y_erro=0.0001"
   ]
  },
  {
   "cell_type": "code",
   "execution_count": 3,
   "metadata": {},
   "outputs": [],
   "source": [
    "X_1_al,X_2_al,y_al=function.gene_data(p_1,p_2,n,r_J_or,r_1_or,r_2_or,r_prop,w_J,w_1,w_2,X1_erro,X2_erro,y_erro)"
   ]
  },
  {
   "cell_type": "code",
   "execution_count": 4,
   "metadata": {},
   "outputs": [],
   "source": [
    "X_1_original=X_1_al[:,:100]\n",
    "X_2_original=X_2_al[:,:100]\n",
    "y_original=y_al[:,:100]\n",
    "\n",
    "X_1_test=X_1_al[:,100:150]\n",
    "X_2_test=X_2_al[:,100:150]\n",
    "y_test=y_al[:,100:150]"
   ]
  },
  {
   "cell_type": "code",
   "execution_count": 5,
   "metadata": {},
   "outputs": [],
   "source": [
    "df_tra=np.row_stack((X_1_original,X_2_original,y_original))\n",
    "df_tes=np.row_stack((X_1_test,X_2_test,y_test))"
   ]
  },
  {
   "cell_type": "code",
   "execution_count": 6,
   "metadata": {},
   "outputs": [],
   "source": [
    "U_J,sigma_J,VT_J=np.linalg.svd(X_1_original,full_matrices=False)\n",
    "\n"
   ]
  },
  {
   "cell_type": "code",
   "execution_count": 44,
   "metadata": {},
   "outputs": [
    {
     "data": {
      "text/plain": [
       "array([[2.05545192e+03, 0.00000000e+00, 0.00000000e+00, ...,\n",
       "        0.00000000e+00, 0.00000000e+00, 0.00000000e+00],\n",
       "       [0.00000000e+00, 2.53836278e+02, 0.00000000e+00, ...,\n",
       "        0.00000000e+00, 0.00000000e+00, 0.00000000e+00],\n",
       "       [0.00000000e+00, 0.00000000e+00, 1.78422113e+02, ...,\n",
       "        0.00000000e+00, 0.00000000e+00, 0.00000000e+00],\n",
       "       ...,\n",
       "       [0.00000000e+00, 0.00000000e+00, 0.00000000e+00, ...,\n",
       "        1.18854473e-02, 0.00000000e+00, 0.00000000e+00],\n",
       "       [0.00000000e+00, 0.00000000e+00, 0.00000000e+00, ...,\n",
       "        0.00000000e+00, 2.93715591e-03, 0.00000000e+00],\n",
       "       [0.00000000e+00, 0.00000000e+00, 0.00000000e+00, ...,\n",
       "        0.00000000e+00, 0.00000000e+00, 8.13380352e-06]])"
      ]
     },
     "execution_count": 44,
     "metadata": {},
     "output_type": "execute_result"
    }
   ],
   "source": [
    "diag_sigma_J=np.diag(sigma_J**2)\n",
    "diag_sigma_J"
   ]
  },
  {
   "cell_type": "code",
   "execution_count": 43,
   "metadata": {},
   "outputs": [
    {
     "data": {
      "text/plain": [
       "array([[   0.        ,    0.        ,    0.        , ...,    0.        ,\n",
       "           0.        ,    0.        ],\n",
       "       [   0.        , 1801.61564255,    0.        , ...,    0.        ,\n",
       "           0.        ,    0.        ],\n",
       "       [   0.        ,    0.        , 1877.02980785, ...,    0.        ,\n",
       "           0.        ,    0.        ],\n",
       "       ...,\n",
       "       [   0.        ,    0.        ,    0.        , ..., 2055.44003543,\n",
       "           0.        ,    0.        ],\n",
       "       [   0.        ,    0.        ,    0.        , ...,    0.        ,\n",
       "        2055.44898372,    0.        ],\n",
       "       [   0.        ,    0.        ,    0.        , ...,    0.        ,\n",
       "           0.        , 2055.45191274]])"
      ]
     },
     "execution_count": 43,
     "metadata": {},
     "output_type": "execute_result"
    }
   ],
   "source": [
    "pclasso_sigma_J=[]\n",
    "for i in range(len(sigma_J)):\n",
    "    a_i=sigma_J[0]**2-sigma_J[i]**2\n",
    "    pclasso_sigma_J.append(a_i)\n",
    "pclasso_sigma_J_flo=np.float_(pclasso_sigma_J)\n",
    "diag_pcLasso_sigma_J=np.diag(pclasso_sigma_J_flo)\n",
    "diag_pcLasso_sigma_J"
   ]
  },
  {
   "cell_type": "code",
   "execution_count": 27,
   "metadata": {},
   "outputs": [],
   "source": [
    "eta=0.5\n",
    "times=100\n",
    "r_J=10\n",
    "r_1=10\n",
    "r_2=10\n",
    "threshold=100.0\n",
    "gamma_1=1.0\n",
    "gamma_21=1.0\n",
    "gamma_22=1.0\n",
    "X_1_or=X_1_original\n",
    "X_2_or=X_2_original\n",
    "y_or=y_original"
   ]
  },
  {
   "cell_type": "code",
   "execution_count": 22,
   "metadata": {},
   "outputs": [],
   "source": [
    "times=times\n",
    "erro_lis=[]\n",
    "erro_best=1000.0\n",
    "threshold=threshold\n",
    "p_1=X_1_or.shape[0]\n",
    "p_2=X_2_or.shape[0]\n",
    "n=X_1_or.shape[1]\n",
    "X_1=math.sqrt(eta)*X_1_or\n",
    "X_2=math.sqrt(eta)*X_2_or\n",
    "y=math.sqrt(1-eta)*y_or"
   ]
  },
  {
   "cell_type": "code",
   "execution_count": 23,
   "metadata": {},
   "outputs": [],
   "source": [
    "U_1=U_1_best=math.sqrt(eta)*np.random.uniform(low=-0.1, high=0.1, size=(p_1,r_J))\n",
    "U_2=U_2_best=math.sqrt(eta)*np.random.uniform(low=-0.1, high=0.1, size=(p_2,r_J))\n",
    "W_1=W_1_best=math.sqrt(eta)*np.random.uniform(low=-0.1, high=0.1, size=(p_1,r_1))\n",
    "W_2=W_2_best=math.sqrt(eta)*np.random.uniform(low=-0.1, high=0.1, size=(p_2,r_2))\n",
    "theta_1=theta_1_best=math.sqrt(1-eta)*np.random.uniform(low=-0.1, high=0.1, size=int(r_J))\n",
    "theta_21=theta_21_best=math.sqrt(1-eta)*np.random.uniform(low=-0.1, high=0.1, size=int(r_1))\n",
    "theta_22=theta_22_best=math.sqrt(1-eta)*np.random.uniform(low=-0.1, high=0.1, size=int(r_2))\n",
    "S_J=S_J_best=np.random.uniform(low=-0.1, high=0.1, size=(r_J,n))\n",
    "S_1=S_1_best=np.random.uniform(low=-0.1, high=0.1, size=(r_1,n))\n",
    "S_2=S_2_best=np.random.uniform(low=-0.1, high=0.1, size=(r_2,n))\n",
    "hat_X_y_best=np.random.uniform(low=-0.1, high=0.1, size=(p_1+p_2+1,n))"
   ]
  },
  {
   "cell_type": "code",
   "execution_count": 24,
   "metadata": {},
   "outputs": [],
   "source": [
    "zeros_1=np.zeros((p_2, r_1))\n",
    "zeros_2=np.zeros((p_1, r_2))"
   ]
  },
  {
   "cell_type": "code",
   "execution_count": 25,
   "metadata": {},
   "outputs": [],
   "source": [
    "U_theta_1=np.row_stack((U_1,U_2,theta_1)) #1\n",
    "X_y=np.row_stack((X_1,X_2,y)) #2\n",
    "W_1_S_1=W_1.dot(S_1)\n",
    "W_2_S_2=W_2.dot(S_2)\n",
    "theta_2i_S_i=theta_21.dot(S_1)+theta_22.dot(S_2)\n",
    "W_theta_2i_S_i=np.row_stack((W_1_S_1,W_2_S_2,theta_2i_S_i)) #3\n",
    "S_J=U_theta_1.T.dot(X_y-W_theta_2i_S_i) #1,2,3からS_Jを更新"
   ]
  },
  {
   "cell_type": "code",
   "execution_count": 67,
   "metadata": {},
   "outputs": [],
   "source": [
    "#U_1,U_2,theta_1を更新\n",
    "X_y_joint=X_y-W_theta_2i_S_i\n",
    "U_J,sigma_J,VT_J=np.linalg.svd(X_y_joint,full_matrices=False) #特異値分解を行う\n",
    "U_1=U_J[:p_1,:r_J]\n",
    "U_2=U_J[p_1:p_1+p_2,:r_J]\n",
    "#提案手法の更新 \n",
    "pcLasso_sigma_J=[]\n",
    "for i in range(len(sigma_J)):\n",
    "    a_i=sigma_J[0]**2-sigma_J[i]**2\n",
    "    pcLasso_sigma_J.append(a_i)\n",
    "sigma_J_final=[1/(sigma_J[i]**2+(gamma_1/2)*pcLasso_sigma_J[i]) for i in range(len(sigma_J))]\n",
    "diag_sigma_J_final=np.diag(sigma_J_final)\n",
    "diag_sigma_J_final_r_J=diag_sigma_J_final[:r_J,:r_J]\n",
    "theta_1=(y-(theta_21.dot(S_1)+theta_22.dot(S_2))).dot(S_J.T).dot(diag_sigma_J_final_r_J)\n",
    "U_theta_1=np.row_stack((U_1,U_2,theta_1))\n",
    "#正規化\n",
    "U_theta_1=U_theta_1/np.linalg.norm(U_theta_1)\n",
    "U_1=U_theta_1[:p_1,:]\n",
    "U_2=U_theta_1[p_1:p_1+p_2,:]\n",
    "theta_1=U_theta_1[p_1+p_2:,:]\n",
    "U_theta_1=np.row_stack((U_1,U_2,theta_1))"
   ]
  },
  {
   "cell_type": "code",
   "execution_count": null,
   "metadata": {},
   "outputs": [],
   "source": [
    "#W_1,theta_21を更新\n",
    "##特異値分解\n",
    "U_I_1,sigma_1,VT_1=np.linalg.svd((X_1_y_theta_22S_2-U_1_S_J_theta_1_S_J).dot(P_SJ_C),full_matrices=False) #特異値分解を行う\n",
    "W_1=U_I_1[:p_1,:r_1]\n",
    "zeros_1=np.zeros((p_2, r_1))\n",
    "##提案手法の更新\n",
    "pcLasso_sigma_1=[]\n",
    "for i in range(len(sigma_1)):\n",
    "    a_i=sigma_1[0]**2-sigma_1[i]**2\n",
    "    pcLasso_sigma_1.append(a_i)\n",
    "sigma_1_final=[1/(sigma_1[i]**2+(gamma_21/2)*pcLasso_sigma_1[i]) for i in range(len(sigma_1))]\n",
    "diag_sigma_1_final=np.diag(sigma_1_final)\n",
    "diag_sigma_1_final_r_1=diag_sigma_J_final[:r_1,:r_1]\n",
    "theta_21=(y-(theta_21.dot(S_1)+theta_22.dot(S_2))).dot(S_1.T).dot(diag_sigma_1_final_r_1)\n",
    "##正規化\n",
    "W_1_theta_21=np.row_stack((W_1,zeros_1,theta_21))\n",
    "W_1_theta_21=W_1_theta_21/np.linalg.norm(W_1_theta_21)\n",
    "W_1=W_1_theta_21[:p_1,:]\n",
    "theta_21=W_1_theta_21[p_1+p_2:,:]\n",
    "W_1_theta_21=np.row_stack((W_1,zeros_1,theta_21))"
   ]
  },
  {
   "cell_type": "code",
   "execution_count": null,
   "metadata": {},
   "outputs": [],
   "source": [
    "#W_1,theta_21を更新\n",
    "##特異値分解\n",
    "U_I_2,sigma_2,VT_2=np.linalg.svd((X_2_y_theta_21S_1-U_2_S_J_theta_1_S_J).dot(P_SJ_C),full_matrices=False) #特異値分解を行う\n",
    "zeros_2=np.zeros((p_1, r_2))\n",
    "W_2=U_I_2[:p_2,:r_2]\n",
    "##提案手法の更新\n",
    "pcLasso_sigma_2=[]\n",
    "for i in range(len(sigma_2)):\n",
    "    a_i=sigma_2[0]**2-sigma_2[i]**2\n",
    "    pcLasso_sigma_2.append(a_i)\n",
    "sigma_2_final=[1/(sigma_2[i]**2+(gamma_22/2)*pcLasso_sigma_2[i]) for i in range(len(sigma_2))]\n",
    "diag_sigma_2_final=np.diag(sigma_2_final)\n",
    "diag_sigma_2_final_r_2=diag_sigma_2_final[:r_2,:r_2]\n",
    "theta_22=(y-(theta_1.dot(S_J)+theta_21.dot(S_1))).dot(S_2.T).dot(diag_sigma_2_final_r_2)\n",
    "##正規化\n",
    "W_2_theta_22=np.row_stack((zeros_2,W_2,theta_22))\n",
    "W_2_theta_22=W_2_theta_22/np.linalg.norm(W_2_theta_22)\n",
    "W_2=W_2_theta_22[p_1:p_1+p_2,:]\n",
    "theta_22=W_2_theta_22[p_1+p_2:,:]\n",
    "W_2_theta_22=np.row_stack((zeros_2,W_2,theta_22))"
   ]
  },
  {
   "cell_type": "code",
   "execution_count": 71,
   "metadata": {},
   "outputs": [],
   "source": [
    "U_theta_1_norm=U_theta_1/np.linalg.norm(U_theta_1)"
   ]
  },
  {
   "cell_type": "code",
   "execution_count": 72,
   "metadata": {},
   "outputs": [
    {
     "data": {
      "text/plain": [
       "array([[ 9.99994143e-01, -4.24646633e-04, -4.53305028e-04,\n",
       "         6.25061382e-04,  3.55327522e-04,  2.05748972e-04,\n",
       "         4.26336081e-04,  5.35880736e-04,  8.87503499e-05,\n",
       "         3.16021877e-04],\n",
       "       [-4.24646633e-04,  9.69397140e-01, -3.26923573e-02,\n",
       "         4.51689047e-02,  2.56619949e-02,  1.48757780e-02,\n",
       "         3.07634101e-02,  3.87855208e-02,  6.36578763e-03,\n",
       "         2.28491737e-02],\n",
       "       [-4.53305028e-04, -3.26923573e-02,  9.65078656e-01,\n",
       "         4.82368037e-02,  2.74069502e-02,  1.58851396e-02,\n",
       "         3.28587724e-02,  4.14118524e-02,  6.80439135e-03,\n",
       "         2.43994737e-02],\n",
       "       [ 6.25061382e-04,  4.51689047e-02,  4.82368037e-02,\n",
       "         9.33414008e-01, -3.78398154e-02, -2.19240809e-02,\n",
       "        -4.53799835e-02, -5.71352383e-02, -9.41583203e-03,\n",
       "        -3.36749601e-02],\n",
       "       [ 3.55327522e-04,  2.56619949e-02,  2.74069502e-02,\n",
       "        -3.78398154e-02,  9.78497436e-01, -1.24597539e-02,\n",
       "        -2.57850882e-02, -3.24740818e-02, -5.34698983e-03,\n",
       "        -1.91379874e-02],\n",
       "       [ 2.05748972e-04,  1.48757780e-02,  1.58851396e-02,\n",
       "        -2.19240809e-02, -1.24597539e-02,  9.92781606e-01,\n",
       "        -1.49436735e-02, -1.88097811e-02, -3.10223842e-03,\n",
       "        -1.10872871e-02],\n",
       "       [ 4.26336081e-04,  3.07634101e-02,  3.28587724e-02,\n",
       "        -4.53799835e-02, -2.57850882e-02, -1.49436735e-02,\n",
       "         9.69083375e-01, -3.89539281e-02, -6.40553957e-03,\n",
       "        -2.29533358e-02],\n",
       "       [ 5.35880736e-04,  3.87855208e-02,  4.14118524e-02,\n",
       "        -5.71352383e-02, -3.24740818e-02, -1.88097811e-02,\n",
       "        -3.89539281e-02,  9.50994331e-01, -8.09514289e-03,\n",
       "        -2.88912594e-02],\n",
       "       [ 8.87503499e-05,  6.36578763e-03,  6.80439135e-03,\n",
       "        -9.41583203e-03, -5.34698983e-03, -3.10223842e-03,\n",
       "        -6.40553957e-03, -8.09514289e-03,  9.98680774e-01,\n",
       "        -4.76513117e-03],\n",
       "       [ 3.16021877e-04,  2.28491737e-02,  2.43994737e-02,\n",
       "        -3.36749601e-02, -1.91379874e-02, -1.10872871e-02,\n",
       "        -2.29533358e-02, -2.88912594e-02, -4.76513117e-03,\n",
       "         9.82970184e-01]])"
      ]
     },
     "execution_count": 72,
     "metadata": {},
     "output_type": "execute_result"
    }
   ],
   "source": [
    "U_theta_1.T.dot(U_theta_1)"
   ]
  },
  {
   "cell_type": "code",
   "execution_count": 59,
   "metadata": {},
   "outputs": [
    {
     "ename": "ValueError",
     "evalue": "shapes (100,100) and (1,10) not aligned: 100 (dim 1) != 1 (dim 0)",
     "output_type": "error",
     "traceback": [
      "\u001b[0;31m---------------------------------------------------------------------------\u001b[0m",
      "\u001b[0;31mValueError\u001b[0m                                Traceback (most recent call last)",
      "Cell \u001b[0;32mIn[59], line 1\u001b[0m\n\u001b[0;32m----> 1\u001b[0m theta_1\u001b[39m=\u001b[39mdiag_sigma_J_final\u001b[39m.\u001b[39;49mdot((y\u001b[39m-\u001b[39;49m(theta_21\u001b[39m.\u001b[39;49mdot(S_1)\u001b[39m+\u001b[39;49mtheta_22\u001b[39m.\u001b[39;49mdot(S_2)))\u001b[39m.\u001b[39;49mdot(S_J\u001b[39m.\u001b[39;49mT))\n",
      "\u001b[0;31mValueError\u001b[0m: shapes (100,100) and (1,10) not aligned: 100 (dim 1) != 1 (dim 0)"
     ]
    }
   ],
   "source": [
    "theta_1=diag_sigma_J_final.dot((y-(theta_21.dot(S_1)+theta_22.dot(S_2))).dot(S_J.T))"
   ]
  },
  {
   "cell_type": "code",
   "execution_count": null,
   "metadata": {},
   "outputs": [],
   "source": []
  }
 ],
 "metadata": {
  "kernelspec": {
   "display_name": "Python 3",
   "language": "python",
   "name": "python3"
  },
  "language_info": {
   "codemirror_mode": {
    "name": "ipython",
    "version": 3
   },
   "file_extension": ".py",
   "mimetype": "text/x-python",
   "name": "python",
   "nbconvert_exporter": "python",
   "pygments_lexer": "ipython3",
   "version": "3.9.6"
  },
  "orig_nbformat": 4
 },
 "nbformat": 4,
 "nbformat_minor": 2
}
