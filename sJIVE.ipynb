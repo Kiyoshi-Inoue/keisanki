{
 "cells": [
  {
   "cell_type": "code",
   "execution_count": 11,
   "metadata": {},
   "outputs": [],
   "source": [
    "import random\n",
    "import numpy as np\n",
    "from sklearn.preprocessing import StandardScaler\n",
    "import function\n",
    "import matplotlib.pyplot as plt\n",
    "import math"
   ]
  },
  {
   "cell_type": "code",
   "execution_count": 12,
   "metadata": {},
   "outputs": [],
   "source": [
    "p_1=50\n",
    "p_2=50\n",
    "n=100\n",
    "r_J=10\n",
    "r_1=5\n",
    "r_2=5\n",
    "r_prop=0.8\n",
    "w_J=2.0\n",
    "w_1=1.0\n",
    "w_2=1.0\n",
    "X1_erro=0.2\n",
    "X2_erro=0.2\n",
    "y_erro=0.2"
   ]
  },
  {
   "cell_type": "code",
   "execution_count": 13,
   "metadata": {},
   "outputs": [],
   "source": [
    "X_1,X_2,y=function.gene_data(p_1,p_2,n,r_J,r_1,r_2,r_prop,w_J,w_1,w_2,X1_erro,X2_erro,y_erro)"
   ]
  },
  {
   "attachments": {},
   "cell_type": "markdown",
   "metadata": {},
   "source": [
    "## U_1,U_2,W_1,W_2,S_1,S_2,S_J,theta_1,theta_2を初期化する"
   ]
  },
  {
   "cell_type": "code",
   "execution_count": 14,
   "metadata": {},
   "outputs": [],
   "source": [
    "U_1=np.random.uniform(low=-0.1, high=0.1, size=(p_1,r_J))\n",
    "U_2=np.random.uniform(low=-0.1, high=0.1, size=(p_2,r_J))\n",
    "W_1=np.random.uniform(low=-0.1, high=0.1, size=(p_1,r_1))\n",
    "W_2=np.random.uniform(low=-0.1, high=0.1, size=(p_2,r_2))\n",
    "theta_1=np.random.uniform(low=-0.1, high=0.1, size=int(r_J))\n",
    "theta_21=np.random.uniform(low=-0.1, high=0.1, size=int(r_1))\n",
    "theta_22=np.random.uniform(low=-0.1, high=0.1, size=int(r_2))\n",
    "S_J=np.random.uniform(low=-0.1, high=0.1, size=(r_J,n))\n",
    "S_1=np.random.uniform(low=-0.1, high=0.1, size=(r_1,n))\n",
    "S_2=np.random.uniform(low=-0.1, high=0.1, size=(r_2,n))\n",
    "\n"
   ]
  },
  {
   "attachments": {},
   "cell_type": "markdown",
   "metadata": {},
   "source": [
    "## 手順２(a)を実行"
   ]
  },
  {
   "cell_type": "code",
   "execution_count": 15,
   "metadata": {},
   "outputs": [
    {
     "data": {
      "text/plain": [
       "(101, 10)"
      ]
     },
     "execution_count": 15,
     "metadata": {},
     "output_type": "execute_result"
    }
   ],
   "source": [
    "U=np.row_stack((U_1,U_2,theta_1))\n",
    "U.shape"
   ]
  },
  {
   "cell_type": "code",
   "execution_count": 16,
   "metadata": {},
   "outputs": [
    {
     "data": {
      "text/plain": [
       "(102, 10)"
      ]
     },
     "execution_count": 16,
     "metadata": {},
     "output_type": "execute_result"
    }
   ],
   "source": [
    "\n",
    "U_theta_1=np.row_stack((U,theta_1))\n",
    "U_theta_1.shape"
   ]
  },
  {
   "cell_type": "code",
   "execution_count": null,
   "metadata": {},
   "outputs": [],
   "source": []
  },
  {
   "cell_type": "code",
   "execution_count": 17,
   "metadata": {},
   "outputs": [
    {
     "data": {
      "text/plain": [
       "(101, 100)"
      ]
     },
     "execution_count": 17,
     "metadata": {},
     "output_type": "execute_result"
    }
   ],
   "source": [
    "X=np.row_stack((X_1,X_2))\n",
    "X_y=np.row_stack((X,y))\n",
    "X_y.shape"
   ]
  },
  {
   "cell_type": "code",
   "execution_count": 18,
   "metadata": {},
   "outputs": [
    {
     "data": {
      "text/plain": [
       "(101, 100)"
      ]
     },
     "execution_count": 18,
     "metadata": {},
     "output_type": "execute_result"
    }
   ],
   "source": [
    "W_1_S_1=W_1.dot(S_1)\n",
    "W_2_S_2=W_2.dot(S_2)\n",
    "W_S=np.row_stack((W_1_S_1,W_2_S_2))\n",
    "theta_2i_S_i=theta_21.dot(S_1)+theta_22.dot(S_2)\n",
    "W_theta_2i_S_i=np.row_stack((W_S,theta_2i_S_i))\n",
    "W_theta_2i_S_i.shape"
   ]
  },
  {
   "cell_type": "code",
   "execution_count": 19,
   "metadata": {},
   "outputs": [
    {
     "data": {
      "text/plain": [
       "array([[ 0.00517446,  0.00861333,  0.00106454, ...,  0.00454123,\n",
       "        -0.00858462, -0.00028807],\n",
       "       [-0.00548482,  0.01220882,  0.00206738, ...,  0.00463322,\n",
       "        -0.00352636, -0.00311027],\n",
       "       [ 0.00521834,  0.0120982 ,  0.01115917, ...,  0.00126675,\n",
       "        -0.0075578 ,  0.00796498],\n",
       "       ...,\n",
       "       [ 0.00869718,  0.00938027,  0.01166774, ...,  0.00377185,\n",
       "         0.00565288,  0.01852832],\n",
       "       [ 0.00172599, -0.00476714,  0.0074671 , ..., -0.00412423,\n",
       "         0.01659189,  0.00733494],\n",
       "       [ 0.01316166,  0.00618585, -0.0005156 , ...,  0.01407849,\n",
       "        -0.01643361,  0.00193155]])"
      ]
     },
     "execution_count": 19,
     "metadata": {},
     "output_type": "execute_result"
    }
   ],
   "source": [
    "W_theta_2i_S_i"
   ]
  },
  {
   "cell_type": "code",
   "execution_count": 20,
   "metadata": {},
   "outputs": [
    {
     "ename": "ValueError",
     "evalue": "shapes (10,102) and (101,100) not aligned: 102 (dim 1) != 101 (dim 0)",
     "output_type": "error",
     "traceback": [
      "\u001b[0;31m---------------------------------------------------------------------------\u001b[0m",
      "\u001b[0;31mValueError\u001b[0m                                Traceback (most recent call last)",
      "Cell \u001b[0;32mIn[20], line 1\u001b[0m\n\u001b[0;32m----> 1\u001b[0m S_J\u001b[39m=\u001b[39mU_theta_1\u001b[39m.\u001b[39;49mT\u001b[39m.\u001b[39;49mdot(X_y\u001b[39m-\u001b[39;49mW_theta_2i_S_i)\n\u001b[1;32m      2\u001b[0m S_J\n",
      "\u001b[0;31mValueError\u001b[0m: shapes (10,102) and (101,100) not aligned: 102 (dim 1) != 101 (dim 0)"
     ]
    }
   ],
   "source": [
    "S_J=U_theta_1.T.dot(X_y-W_theta_2i_S_i)\n",
    "S_J"
   ]
  },
  {
   "cell_type": "code",
   "execution_count": null,
   "metadata": {},
   "outputs": [],
   "source": [
    "S_J.shape"
   ]
  },
  {
   "cell_type": "code",
   "execution_count": null,
   "metadata": {},
   "outputs": [],
   "source": [
    "# ms = StandardScaler()\n",
    "# S_J_final = ms.fit_transform(S_J)"
   ]
  },
  {
   "cell_type": "code",
   "execution_count": null,
   "metadata": {},
   "outputs": [],
   "source": []
  },
  {
   "attachments": {},
   "cell_type": "markdown",
   "metadata": {},
   "source": [
    "## 手順２(b)を実行"
   ]
  },
  {
   "cell_type": "code",
   "execution_count": null,
   "metadata": {},
   "outputs": [],
   "source": [
    "X_y_joint=X_y-W_theta_2i_S_i\n",
    "U_J,sigma_J,VT_J=np.linalg.svd(X_y-W_theta_2i_S_i,full_matrices=False)"
   ]
  },
  {
   "cell_type": "code",
   "execution_count": null,
   "metadata": {},
   "outputs": [],
   "source": [
    "X_y_joint.shape"
   ]
  },
  {
   "cell_type": "code",
   "execution_count": null,
   "metadata": {},
   "outputs": [],
   "source": [
    "sigma_J"
   ]
  },
  {
   "cell_type": "code",
   "execution_count": null,
   "metadata": {},
   "outputs": [],
   "source": [
    "import matplotlib.pyplot as plt"
   ]
  },
  {
   "cell_type": "code",
   "execution_count": null,
   "metadata": {},
   "outputs": [],
   "source": [
    "plt.plot(sigma_J)\n",
    "plt.scatter(range(len(sigma_J)),sigma_J,color=\"red\")\n",
    "plt.show"
   ]
  },
  {
   "cell_type": "code",
   "execution_count": null,
   "metadata": {},
   "outputs": [],
   "source": []
  },
  {
   "cell_type": "code",
   "execution_count": null,
   "metadata": {},
   "outputs": [],
   "source": [
    "U_J.shape"
   ]
  },
  {
   "cell_type": "code",
   "execution_count": null,
   "metadata": {},
   "outputs": [],
   "source": [
    "U_1=U_J[:p_1,:r_J]\n",
    "U_2=U_J[p_1:p_1+p_2,:r_J]\n",
    "theta_1=U_J[p_1+p_2:,:r_J]"
   ]
  },
  {
   "attachments": {},
   "cell_type": "markdown",
   "metadata": {},
   "source": [
    "## 手順２(c)を実行"
   ]
  },
  {
   "cell_type": "code",
   "execution_count": null,
   "metadata": {},
   "outputs": [],
   "source": [
    "S_1.shape"
   ]
  },
  {
   "attachments": {},
   "cell_type": "markdown",
   "metadata": {},
   "source": [
    "#### データ１に対して実行"
   ]
  },
  {
   "cell_type": "code",
   "execution_count": null,
   "metadata": {},
   "outputs": [],
   "source": [
    "W_1_theta_21=np.row_stack((W_1,theta_21))\n",
    "W_1_theta_21.shape"
   ]
  },
  {
   "cell_type": "code",
   "execution_count": null,
   "metadata": {},
   "outputs": [],
   "source": [
    "y_theta_22S_2=y-theta_22.dot(S_2)\n",
    "X_1_y_theta_22S_2=np.row_stack((X_1,y_theta_22S_2))\n",
    "X_1_y_theta_22S_2.shape"
   ]
  },
  {
   "cell_type": "code",
   "execution_count": null,
   "metadata": {},
   "outputs": [],
   "source": [
    "U_1_S_J=U_1.dot(S_J)\n",
    "theta_1_S_J=theta_1.dot(S_J)\n",
    "U_1_S_J_theta_1_S_J=np.row_stack((U_1_S_J,theta_1_S_J))\n",
    "U_1_S_J_theta_1_S_J.shape"
   ]
  },
  {
   "cell_type": "code",
   "execution_count": null,
   "metadata": {},
   "outputs": [],
   "source": [
    "P_SJ=S_J.T.dot(np.linalg.inv(S_J.dot(S_J.T))).dot(S_J)\n",
    "diag_matrix = np.diag([1] * n)\n",
    "P_SJ_C=diag_matrix-P_SJ\n",
    "P_SJ_C.shape"
   ]
  },
  {
   "cell_type": "code",
   "execution_count": null,
   "metadata": {},
   "outputs": [],
   "source": [
    "S_1=W_1_theta_21.T.dot((X_1_y_theta_22S_2-U_1_S_J_theta_1_S_J)).dot(P_SJ_C)\n",
    "S_1.shape\n"
   ]
  },
  {
   "cell_type": "code",
   "execution_count": null,
   "metadata": {},
   "outputs": [],
   "source": [
    "U_I_1,sigma_1,VT_1=np.linalg.svd((X_1_y_theta_22S_2-U_1_S_J_theta_1_S_J).dot(P_SJ_C),full_matrices=False)\n",
    "U_I_1.shape"
   ]
  },
  {
   "cell_type": "code",
   "execution_count": null,
   "metadata": {},
   "outputs": [],
   "source": [
    "plt.plot(sigma_1)\n",
    "plt.scatter(range(len(sigma_1)),sigma_1,color=\"red\")\n",
    "plt.show"
   ]
  },
  {
   "cell_type": "code",
   "execution_count": null,
   "metadata": {},
   "outputs": [],
   "source": [
    "W_1=U_I_1[:p_1,:r_1]\n",
    "theta_21=U_I_1[p_1:,:r_1]\n",
    "theta_21.shape"
   ]
  },
  {
   "attachments": {},
   "cell_type": "markdown",
   "metadata": {},
   "source": [
    "### データ２に対して適用"
   ]
  },
  {
   "cell_type": "code",
   "execution_count": null,
   "metadata": {},
   "outputs": [],
   "source": [
    "W_2_theta_22=np.row_stack((W_2,theta_22))\n",
    "W_2_theta_22.shape"
   ]
  },
  {
   "cell_type": "code",
   "execution_count": null,
   "metadata": {},
   "outputs": [],
   "source": [
    "y_theta_21S_1=y-theta_21.dot(S_1)\n",
    "X_2_y_theta_21S_1=np.row_stack((X_2,y_theta_21S_1))\n",
    "X_2_y_theta_21S_1.shape"
   ]
  },
  {
   "cell_type": "code",
   "execution_count": null,
   "metadata": {},
   "outputs": [],
   "source": [
    "U_2_S_J=U_2.dot(S_J)\n",
    "theta_1_S_J=theta_1.dot(S_J)\n",
    "U_2_S_J_theta_1_S_J=np.row_stack((U_2_S_J,theta_1_S_J))\n",
    "U_2_S_J_theta_1_S_J.shape"
   ]
  },
  {
   "cell_type": "code",
   "execution_count": null,
   "metadata": {},
   "outputs": [],
   "source": [
    "S_2=W_2_theta_22.T.dot(X_2_y_theta_21S_1-U_2_S_J_theta_1_S_J).dot(P_SJ_C)\n",
    "S_2.shape"
   ]
  },
  {
   "cell_type": "code",
   "execution_count": null,
   "metadata": {},
   "outputs": [],
   "source": [
    "U_I_2,sigma_2,VT_2=np.linalg.svd((X_2_y_theta_21S_1-U_2_S_J_theta_1_S_J).dot(P_SJ_C),full_matrices=False)\n",
    "U_I_2.shape"
   ]
  },
  {
   "cell_type": "code",
   "execution_count": null,
   "metadata": {},
   "outputs": [],
   "source": [
    "plt.plot(sigma_2)\n",
    "plt.scatter(range(len(sigma_2)),sigma_2,color=\"red\")\n",
    "plt.show"
   ]
  },
  {
   "cell_type": "code",
   "execution_count": null,
   "metadata": {},
   "outputs": [],
   "source": [
    "W_2=U_I_2[:p_2,:r_2]\n",
    "theta_22=U_I_2[p_2:,:r_2]\n",
    "theta_22.shape"
   ]
  },
  {
   "cell_type": "code",
   "execution_count": null,
   "metadata": {},
   "outputs": [],
   "source": [
    "U_1.shape"
   ]
  },
  {
   "cell_type": "code",
   "execution_count": null,
   "metadata": {},
   "outputs": [],
   "source": [
    "U=np.row_stack((U_1,U_2))\n",
    "U_theta_1=np.row_stack((U,theta_1))\n",
    "W_1_S_1=W_1.dot(S_1)\n",
    "W_2_S_2=W_2.dot(S_2)\n",
    "W_S=np.row_stack((W_1_S_1,W_2_S_2))\n",
    "theta_2i_S_i=theta_21.dot(S_1)+theta_22.dot(S_2)\n",
    "W_theta_2i_S_i=np.row_stack((W_S,theta_2i_S_i))\n"
   ]
  },
  {
   "cell_type": "code",
   "execution_count": null,
   "metadata": {},
   "outputs": [],
   "source": [
    "W_theta_2i_S_i.shape"
   ]
  },
  {
   "cell_type": "code",
   "execution_count": null,
   "metadata": {},
   "outputs": [],
   "source": [
    "hat_X_y=U_theta_1.dot(S_J)+W_theta_2i_S_i"
   ]
  },
  {
   "cell_type": "code",
   "execution_count": null,
   "metadata": {},
   "outputs": [],
   "source": [
    "np.linalg.norm(X_y-hat_X_y,ord=2)"
   ]
  },
  {
   "cell_type": "code",
   "execution_count": null,
   "metadata": {},
   "outputs": [],
   "source": [
    "X_y"
   ]
  },
  {
   "cell_type": "code",
   "execution_count": null,
   "metadata": {},
   "outputs": [],
   "source": [
    "hat_X_y"
   ]
  },
  {
   "cell_type": "code",
   "execution_count": 21,
   "metadata": {},
   "outputs": [
    {
     "data": {
      "text/plain": [
       "5.000000000000001"
      ]
     },
     "execution_count": 21,
     "metadata": {},
     "output_type": "execute_result"
    }
   ],
   "source": [
    "A = np.array([[1, 2], [3, 4]])\n",
    "B = np.array([[1, 2], [2, 2]])\n",
    "np.linalg.norm(A - B, ord=2)**2"
   ]
  },
  {
   "cell_type": "code",
   "execution_count": null,
   "metadata": {},
   "outputs": [],
   "source": [
    "import math"
   ]
  },
  {
   "cell_type": "code",
   "execution_count": null,
   "metadata": {},
   "outputs": [],
   "source": [
    "U_J,sigma_J,VT_J=np.linalg.svd(A,full_matrices=False) \n",
    "U_J"
   ]
  },
  {
   "cell_type": "code",
   "execution_count": null,
   "metadata": {},
   "outputs": [],
   "source": [
    "U_J,sigma_J,VT_J=np.linalg.svd(A,full_matrices=False) \n",
    "U_J"
   ]
  },
  {
   "cell_type": "code",
   "execution_count": 22,
   "metadata": {},
   "outputs": [
    {
     "data": {
      "text/plain": [
       "array([[1, 2],\n",
       "       [3, 4],\n",
       "       [1, 2],\n",
       "       [2, 2]])"
      ]
     },
     "execution_count": 22,
     "metadata": {},
     "output_type": "execute_result"
    }
   ],
   "source": [
    "np.row_stack((A,B))"
   ]
  },
  {
   "cell_type": "code",
   "execution_count": null,
   "metadata": {},
   "outputs": [],
   "source": []
  }
 ],
 "metadata": {
  "kernelspec": {
   "display_name": "Python 3",
   "language": "python",
   "name": "python3"
  },
  "language_info": {
   "codemirror_mode": {
    "name": "ipython",
    "version": 3
   },
   "file_extension": ".py",
   "mimetype": "text/x-python",
   "name": "python",
   "nbconvert_exporter": "python",
   "pygments_lexer": "ipython3",
   "version": "3.9.6"
  },
  "orig_nbformat": 4
 },
 "nbformat": 4,
 "nbformat_minor": 2
}
