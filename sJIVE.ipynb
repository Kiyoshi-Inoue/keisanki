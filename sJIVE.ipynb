{
 "cells": [
  {
   "cell_type": "code",
   "execution_count": 1,
   "metadata": {},
   "outputs": [],
   "source": [
    "import random\n",
    "import numpy as np\n",
    "from sklearn.preprocessing import StandardScaler\n",
    "import function\n",
    "import matplotlib.pyplot as plt\n",
    "import math"
   ]
  },
  {
   "cell_type": "code",
   "execution_count": 2,
   "metadata": {},
   "outputs": [],
   "source": [
    "p_1=50\n",
    "p_2=50\n",
    "n=100\n",
    "r_J=10\n",
    "r_1=5\n",
    "r_2=5\n",
    "r_prop=0.8\n",
    "w_J=2.0\n",
    "w_1=1.0\n",
    "w_2=1.0\n",
    "X1_erro=0.2\n",
    "X2_erro=0.2\n",
    "y_erro=0.2"
   ]
  },
  {
   "cell_type": "code",
   "execution_count": 3,
   "metadata": {},
   "outputs": [],
   "source": [
    "X_1,X_2,y=function.gene_data(p_1,p_2,n,r_J,r_1,r_2,r_prop,w_J,w_1,w_2,X1_erro,X2_erro,y_erro)"
   ]
  },
  {
   "attachments": {},
   "cell_type": "markdown",
   "metadata": {},
   "source": [
    "## U_1,U_2,W_1,W_2,S_1,S_2,S_J,theta_1,theta_2を初期化する"
   ]
  },
  {
   "cell_type": "code",
   "execution_count": 4,
   "metadata": {},
   "outputs": [],
   "source": [
    "U_1=np.random.uniform(low=-0.1, high=0.1, size=(p_1,r_J))\n",
    "U_2=np.random.uniform(low=-0.1, high=0.1, size=(p_2,r_J))\n",
    "W_1=np.random.uniform(low=-0.1, high=0.1, size=(p_1,r_1))\n",
    "W_2=np.random.uniform(low=-0.1, high=0.1, size=(p_2,r_2))\n",
    "theta_1=np.random.uniform(low=-0.1, high=0.1, size=int(r_J))\n",
    "theta_21=np.random.uniform(low=-0.1, high=0.1, size=int(r_1))\n",
    "theta_22=np.random.uniform(low=-0.1, high=0.1, size=int(r_2))\n",
    "S_J=np.random.uniform(low=-0.1, high=0.1, size=(r_J,n))\n",
    "S_1=np.random.uniform(low=-0.1, high=0.1, size=(r_1,n))\n",
    "S_2=np.random.uniform(low=-0.1, high=0.1, size=(r_2,n))\n",
    "\n"
   ]
  },
  {
   "attachments": {},
   "cell_type": "markdown",
   "metadata": {},
   "source": [
    "## 手順２(a)を実行"
   ]
  },
  {
   "cell_type": "code",
   "execution_count": 44,
   "metadata": {},
   "outputs": [
    {
     "data": {
      "text/plain": [
       "(101, 10)"
      ]
     },
     "execution_count": 44,
     "metadata": {},
     "output_type": "execute_result"
    }
   ],
   "source": [
    "U=np.row_stack((U_1,U_2,theta_1))\n",
    "U.shape"
   ]
  },
  {
   "cell_type": "code",
   "execution_count": 43,
   "metadata": {},
   "outputs": [
    {
     "data": {
      "text/plain": [
       "(101, 10)"
      ]
     },
     "execution_count": 43,
     "metadata": {},
     "output_type": "execute_result"
    }
   ],
   "source": [
    "\n",
    "U_theta_1=np.row_stack((U,theta_1))\n",
    "U_theta_1.shape"
   ]
  },
  {
   "cell_type": "code",
   "execution_count": null,
   "metadata": {},
   "outputs": [],
   "source": []
  },
  {
   "cell_type": "code",
   "execution_count": 6,
   "metadata": {},
   "outputs": [
    {
     "data": {
      "text/plain": [
       "(101, 100)"
      ]
     },
     "execution_count": 6,
     "metadata": {},
     "output_type": "execute_result"
    }
   ],
   "source": [
    "X=np.row_stack((X_1,X_2))\n",
    "X_y=np.row_stack((X,y))\n",
    "X_y.shape"
   ]
  },
  {
   "cell_type": "code",
   "execution_count": 7,
   "metadata": {},
   "outputs": [
    {
     "data": {
      "text/plain": [
       "(101, 100)"
      ]
     },
     "execution_count": 7,
     "metadata": {},
     "output_type": "execute_result"
    }
   ],
   "source": [
    "W_1_S_1=W_1.dot(S_1)\n",
    "W_2_S_2=W_2.dot(S_2)\n",
    "W_S=np.row_stack((W_1_S_1,W_2_S_2))\n",
    "theta_2i_S_i=theta_21.dot(S_1)+theta_22.dot(S_2)\n",
    "W_theta_2i_S_i=np.row_stack((W_S,theta_2i_S_i))\n",
    "W_theta_2i_S_i.shape"
   ]
  },
  {
   "cell_type": "code",
   "execution_count": 8,
   "metadata": {},
   "outputs": [
    {
     "data": {
      "text/plain": [
       "array([[ 0.00211299, -0.00241744,  0.00363166, ..., -0.00262012,\n",
       "        -0.0114125 ,  0.00577675],\n",
       "       [ 0.00103646, -0.01304383,  0.00949032, ..., -0.00496066,\n",
       "        -0.01680659,  0.0100744 ],\n",
       "       [ 0.01403404, -0.00115129,  0.00899725, ...,  0.01299299,\n",
       "        -0.00146018, -0.01000239],\n",
       "       ...,\n",
       "       [ 0.0099593 , -0.00304291, -0.01778919, ...,  0.01424593,\n",
       "         0.00819844, -0.00215916],\n",
       "       [-0.01029518,  0.00809836, -0.00192063, ...,  0.00553291,\n",
       "         0.00359442, -0.00293652],\n",
       "       [ 0.0160838 ,  0.01688482, -0.00194853, ...,  0.01740816,\n",
       "        -0.01735197,  0.0010907 ]])"
      ]
     },
     "execution_count": 8,
     "metadata": {},
     "output_type": "execute_result"
    }
   ],
   "source": [
    "W_theta_2i_S_i"
   ]
  },
  {
   "cell_type": "code",
   "execution_count": 9,
   "metadata": {},
   "outputs": [
    {
     "data": {
      "text/plain": [
       "array([[-5.78317910e-01, -6.83721404e-01, -2.03067903e-02,\n",
       "        -5.03204592e-02, -6.37642631e-01, -6.42800971e-01,\n",
       "        -1.99266265e-01, -4.45074521e-01, -5.52808937e-02,\n",
       "        -1.14864912e+00, -4.62978034e-01, -4.18966278e-01,\n",
       "        -3.16268620e-01,  3.76801987e-01, -5.51181940e-01,\n",
       "        -4.43926120e-01, -4.94915667e-01, -5.18771706e-01,\n",
       "        -7.17810921e-01, -1.71014662e-01, -1.16478312e+00,\n",
       "        -4.39411855e-02, -1.24034050e-01, -2.48415492e-02,\n",
       "        -1.06995667e+00, -1.45294321e+00, -3.16799510e-01,\n",
       "        -1.21522267e-01, -7.37014399e-02, -6.18749934e-01,\n",
       "        -4.69188028e-01, -9.09723816e-02, -8.38058234e-01,\n",
       "        -5.29335076e-02, -4.58612472e-01, -5.23912698e-01,\n",
       "        -2.33538871e-01,  9.11976106e-02, -7.77343939e-01,\n",
       "        -2.49320745e-01, -7.14991439e-01, -1.00685785e+00,\n",
       "         7.80649274e-01, -7.05774899e-01, -1.59354383e-01,\n",
       "        -3.54036703e-02, -4.19437530e-01, -1.09353753e-01,\n",
       "        -3.24311996e-01,  2.46162082e-01, -1.07965959e+00,\n",
       "        -1.10379344e-01, -1.21476552e-01, -4.73722559e-01,\n",
       "        -5.51214588e-01, -4.41700141e-01, -5.06051283e-01,\n",
       "        -3.76717761e-01, -5.79327745e-01, -8.56778219e-01,\n",
       "        -8.30335599e-01, -7.42044512e-01, -6.97778866e-01,\n",
       "         8.73321854e-02, -4.65441550e-02, -5.57783698e-01,\n",
       "        -1.00551135e-01, -3.91532103e-01, -2.64408059e-02,\n",
       "        -6.54735066e-01, -9.48787511e-01, -4.87439818e-01,\n",
       "         3.28682393e-01, -4.72286269e-01, -5.59540045e-01,\n",
       "        -2.52157974e-02, -4.87242807e-01, -1.02712001e+00,\n",
       "        -3.01615182e-01, -5.91954814e-01, -8.02088023e-01,\n",
       "        -1.97669720e-01,  6.26123198e-02, -4.49942670e-01,\n",
       "        -4.43289476e-01, -3.06211967e-01, -6.81442771e-01,\n",
       "        -5.20088558e-01,  1.42442441e-01, -5.46377982e-01,\n",
       "        -5.44089692e-01, -7.44111609e-01, -3.27370186e-01,\n",
       "        -7.71263162e-01, -4.67819088e-01, -9.51409666e-01,\n",
       "        -2.30306288e-01, -1.92975435e-01, -4.08360477e-01,\n",
       "        -3.72153969e-01],\n",
       "       [-2.08426428e-01,  6.77259022e-01,  1.83029998e-01,\n",
       "        -6.73730716e-01,  7.45673755e-01,  5.28831806e-01,\n",
       "        -7.43994758e-02,  1.52831080e-01,  2.84006458e-01,\n",
       "         1.30394463e+00,  9.83250479e-01,  1.27480458e+00,\n",
       "         5.35243104e-01,  5.52810538e-02,  6.62369558e-01,\n",
       "         4.81168499e-01,  7.89665676e-01,  8.95577570e-01,\n",
       "         4.67963726e-01,  8.21987070e-01,  5.29824048e-01,\n",
       "         1.34826351e-01,  6.23551861e-01,  8.36359620e-01,\n",
       "         6.04467435e-01,  9.63196808e-01,  9.88018939e-01,\n",
       "         5.58656780e-01, -2.73845231e-02,  9.07091141e-01,\n",
       "         1.45259842e+00,  6.06333674e-01,  5.78227818e-01,\n",
       "         3.11329427e-01,  1.85096276e-01,  5.12736839e-01,\n",
       "         7.12027403e-01,  5.99091496e-01,  2.94576090e-01,\n",
       "         8.95161120e-01,  1.23589502e-01,  8.16132524e-01,\n",
       "        -9.42332179e-02,  2.51962112e-01,  2.66200178e-01,\n",
       "         6.43385188e-01,  1.20624407e-01, -1.49734859e-01,\n",
       "         5.49800481e-01,  3.99411911e-01,  8.41697210e-01,\n",
       "         9.39718840e-01,  5.15109299e-02, -3.09940714e-02,\n",
       "         4.72895990e-01,  7.24138921e-01,  1.00800920e-01,\n",
       "         2.56658619e-01,  6.02264301e-01,  1.72449780e-01,\n",
       "         1.52512026e+00, -5.39849951e-01,  9.64066785e-02,\n",
       "        -1.28040457e-01,  3.70232991e-01,  5.21142138e-01,\n",
       "         7.63014602e-01,  3.48964935e-01,  2.38415295e-01,\n",
       "         2.85279217e-01,  1.09325655e+00,  6.62611281e-01,\n",
       "        -2.78581822e-02,  7.87212420e-01, -2.11999819e-01,\n",
       "         5.50485098e-01,  8.22660985e-01,  1.53579340e-01,\n",
       "         1.44438953e-01,  4.28235419e-01,  5.70628466e-01,\n",
       "         8.26158537e-01,  7.58082518e-01, -2.41819835e-01,\n",
       "         5.91789168e-01,  9.13188397e-01,  1.22113541e-01,\n",
       "         5.45652376e-01,  2.50887751e-01,  8.46283394e-01,\n",
       "         4.51574687e-01,  8.22655066e-01, -1.20897750e-01,\n",
       "         5.93492756e-01,  7.46236769e-01,  5.30688783e-01,\n",
       "         8.26006945e-01,  9.74859994e-01,  6.68572083e-01,\n",
       "         4.01920669e-01],\n",
       "       [ 1.19867165e+00,  9.41581750e-01,  8.88851858e-02,\n",
       "         6.17603838e-01,  7.91047884e-01,  1.01488667e+00,\n",
       "         5.41343954e-01,  4.33157138e-01,  4.19077605e-01,\n",
       "         3.52185609e-01,  5.70142175e-02, -1.25925824e-02,\n",
       "         4.39532456e-01,  4.08162593e-01,  7.40433083e-01,\n",
       "         4.02291294e-01,  6.08840614e-01,  2.65487789e-01,\n",
       "         1.18119666e+00,  3.10384114e-01,  1.65177882e+00,\n",
       "         7.93112152e-02,  1.37739387e+00,  1.17318934e-01,\n",
       "         6.42952029e-01,  1.90308526e+00,  1.41474361e-02,\n",
       "         7.46634033e-01, -1.62405801e-01,  3.89284580e-01,\n",
       "         4.15932114e-01,  4.20941258e-01,  6.75223464e-01,\n",
       "         3.21265355e-01,  5.55004656e-01,  7.96477797e-01,\n",
       "         3.29845050e-01,  5.24042721e-01,  6.78793042e-01,\n",
       "         6.93966916e-01,  8.71402145e-01,  1.16493103e+00,\n",
       "        -5.33725993e-02,  1.29302366e+00, -9.08520142e-03,\n",
       "         2.94356063e-01,  5.19550589e-01,  7.92104843e-01,\n",
       "         1.30830120e+00,  1.06323863e-01,  5.63774070e-01,\n",
       "         1.24687130e-01,  9.03423664e-02,  8.66597372e-01,\n",
       "         9.65768731e-01,  4.49145024e-01,  7.42887440e-01,\n",
       "         6.94011285e-01,  7.83807259e-01,  6.15666516e-01,\n",
       "         6.92808466e-01,  1.01966444e+00,  7.18079615e-01,\n",
       "         8.25467016e-01,  4.25471149e-01,  7.45544122e-01,\n",
       "         2.83945968e-01,  4.51195676e-01, -2.52067523e-03,\n",
       "         1.06532109e+00,  4.77570032e-01,  3.44113698e-01,\n",
       "         4.41142807e-01,  8.63948526e-01,  9.99269565e-01,\n",
       "         5.82509004e-01, -2.01224916e-01,  1.51898359e+00,\n",
       "         8.24799720e-01,  2.68145550e-01,  9.92186197e-01,\n",
       "         2.33523433e-01,  8.07503185e-01,  6.47548536e-01,\n",
       "        -2.10470438e-02,  4.87440968e-01,  2.02492767e-01,\n",
       "         9.80659319e-01, -1.17592010e-01,  5.18809483e-01,\n",
       "         1.14334924e+00,  9.25462720e-01,  7.44338890e-01,\n",
       "         1.14259976e+00,  6.91399996e-01,  7.46080976e-01,\n",
       "         3.44066152e-01,  2.80167035e-01,  2.38694358e-01,\n",
       "         6.27263919e-01],\n",
       "       [ 3.11294948e-01,  1.07227461e-01, -3.21631630e-02,\n",
       "        -5.09336932e-01, -6.01479769e-01,  2.76066911e-01,\n",
       "        -1.38126322e-01, -6.25600476e-01, -8.58968753e-01,\n",
       "         3.85044771e-02, -2.97846425e-01, -6.62541279e-01,\n",
       "        -8.17973237e-02, -1.02201263e+00,  8.79153368e-02,\n",
       "        -4.04087685e-01, -6.74612746e-01,  3.64713043e-01,\n",
       "        -2.78248469e-01, -8.38047204e-02,  1.00281145e+00,\n",
       "         1.07068321e+00,  4.05183989e-01, -4.31495197e-01,\n",
       "         2.06831881e-01,  4.70928924e-01, -7.74664044e-02,\n",
       "        -6.39763569e-01,  2.80953331e-01, -9.27676265e-02,\n",
       "        -7.11991425e-01, -5.38798347e-01,  1.33597313e-01,\n",
       "        -7.16676545e-01,  1.00121395e-01,  2.78931879e-01,\n",
       "        -4.37432835e-01, -3.43731604e-01, -2.97374167e-01,\n",
       "        -5.63024354e-01,  1.46870346e-01, -2.88764189e-02,\n",
       "        -6.41906898e-01,  1.50099510e-01,  4.79331642e-04,\n",
       "        -1.98134395e-01, -2.73507907e-01, -1.80864249e-01,\n",
       "        -6.44316700e-02, -3.83795823e-01,  3.35835860e-01,\n",
       "         1.95528564e-02, -4.17540172e-01,  1.68329296e-01,\n",
       "        -3.07048814e-01, -4.18491591e-01,  2.51888754e-01,\n",
       "         2.69381100e-02, -5.01923268e-01,  6.50412286e-01,\n",
       "         1.60279787e-01, -3.80786327e-02,  7.31184150e-02,\n",
       "        -1.34762142e-01,  3.29868777e-01, -7.18938075e-01,\n",
       "        -3.99327668e-01, -4.85849756e-02, -5.32307953e-01,\n",
       "         5.04720430e-02, -3.36617353e-02, -2.18660847e-01,\n",
       "        -9.54446199e-02,  1.12055419e-01, -3.76000033e-01,\n",
       "        -7.20078364e-02, -4.28511972e-01,  8.16358175e-01,\n",
       "        -1.35273867e-01, -1.28881650e-02,  2.20855592e-02,\n",
       "        -3.99090482e-01,  1.12182377e-01, -4.88330127e-01,\n",
       "        -4.29468805e-01, -2.39270238e-01,  8.49690147e-01,\n",
       "        -1.28078101e-01, -4.49921646e-01, -2.79172662e-01,\n",
       "        -7.11494192e-02, -2.28104136e-01, -6.27163267e-02,\n",
       "        -5.61209243e-01, -5.33245433e-01,  1.34070065e-01,\n",
       "        -9.41874740e-02,  7.98765865e-02,  3.30076896e-01,\n",
       "        -8.46711227e-03],\n",
       "       [ 9.83159884e-01,  9.95244324e-02, -4.55865712e-01,\n",
       "         6.63077618e-02, -2.86673280e-01,  6.30861649e-01,\n",
       "         1.27209258e-02,  8.42918599e-01,  4.82389379e-01,\n",
       "         3.61187223e-01,  8.11940713e-01, -6.06539309e-02,\n",
       "         5.11872567e-01,  7.52736535e-01,  9.56023829e-01,\n",
       "         6.04455392e-01,  1.22664649e+00,  6.67969668e-01,\n",
       "         1.05565050e+00,  9.80650568e-01,  7.06124449e-01,\n",
       "         4.05968465e-01,  3.64657403e-01,  1.00022334e+00,\n",
       "         4.28973421e-01,  9.77208325e-01,  1.89816769e-01,\n",
       "         4.91246161e-01,  6.00764965e-01,  6.48901603e-01,\n",
       "         3.82403649e-01, -2.03794260e-01,  3.76662680e-01,\n",
       "         6.74751093e-01,  7.09866067e-01,  5.78496564e-01,\n",
       "         1.78184437e+00,  8.26019153e-01,  5.68567644e-01,\n",
       "         6.75160828e-01,  5.83943138e-01,  4.85468291e-01,\n",
       "         1.70365271e-01,  6.61020901e-01, -7.44048553e-02,\n",
       "        -3.34918987e-02,  4.91539616e-01,  5.94557354e-01,\n",
       "         5.47535868e-01,  6.02925389e-02,  2.72293884e-01,\n",
       "        -6.34186745e-02,  5.68502972e-01, -4.18996793e-01,\n",
       "         1.13626380e+00,  7.59978904e-01,  5.33000662e-01,\n",
       "         1.63227060e-01,  4.21623559e-01, -4.99775977e-01,\n",
       "         4.27579571e-01,  4.75910189e-01, -4.35369401e-01,\n",
       "         4.82848927e-01,  1.05236442e+00,  6.27522970e-01,\n",
       "        -4.19015774e-01,  2.10145364e-01,  4.05840190e-01,\n",
       "         8.95643969e-01, -2.42667617e-02, -4.94174720e-01,\n",
       "         8.80785417e-01,  9.98549985e-01, -1.95960848e-01,\n",
       "         7.63422227e-01,  7.62299516e-01,  6.26328948e-01,\n",
       "         4.86283955e-01,  3.68379813e-01,  1.24359914e+00,\n",
       "         9.17827597e-01,  8.83501509e-01,  7.23724692e-01,\n",
       "         2.06821702e-01,  4.68122061e-01,  3.09465903e-01,\n",
       "         7.11810112e-01,  6.00617120e-01,  3.77226819e-01,\n",
       "         4.95262646e-01,  7.99666542e-01,  9.85347894e-01,\n",
       "         6.43736096e-01,  3.28783762e-01,  2.05905837e-01,\n",
       "         5.84737744e-01,  7.71138882e-01,  1.03105587e+00,\n",
       "         8.23209544e-01],\n",
       "       [ 3.93444351e-02,  3.03333793e-01, -8.23152557e-02,\n",
       "         4.99752077e-02,  6.25790546e-01, -5.43742021e-01,\n",
       "        -1.61808696e-01,  4.12014346e-01,  5.08158351e-01,\n",
       "         5.95008432e-01,  3.58207282e-01,  6.10980418e-01,\n",
       "        -3.86222212e-01,  6.90276295e-01,  2.77402355e-01,\n",
       "         3.49163770e-01,  2.81150461e-01,  1.86668352e-01,\n",
       "         4.75882886e-01,  5.76061919e-01, -4.50188087e-02,\n",
       "        -1.69742490e-01,  2.74141054e-01,  3.26771268e-01,\n",
       "         5.39213447e-01,  5.08802040e-01,  4.00030120e-02,\n",
       "         4.44571388e-01, -3.89793588e-01, -1.53112994e-01,\n",
       "         1.19428071e-01,  7.18067688e-01, -3.43319414e-02,\n",
       "         9.46512437e-01,  4.71318160e-01, -7.59205438e-02,\n",
       "         7.94891886e-01,  4.90578271e-01,  3.10100660e-01,\n",
       "         5.22798931e-01,  3.92616082e-01,  7.93511206e-01,\n",
       "         2.61855155e-01,  2.36147443e-01,  2.81707284e-01,\n",
       "         7.58924330e-01,  3.20149062e-01, -1.16534316e-01,\n",
       "        -1.52007652e-02, -2.92695645e-01, -1.18205220e-01,\n",
       "        -1.21796516e-01,  2.41886891e-01,  3.42894332e-01,\n",
       "         6.10808905e-02,  6.91175423e-01,  4.03591125e-01,\n",
       "         4.24420398e-01,  1.52806112e-01,  2.69814359e-01,\n",
       "         7.71412584e-01,  4.89896149e-01,  2.61775251e-01,\n",
       "        -5.87519191e-01, -3.44710474e-01,  4.17485001e-01,\n",
       "         3.70891152e-01,  2.34936106e-01,  2.02003962e-01,\n",
       "         4.23233450e-01,  3.53579747e-01,  2.91073729e-01,\n",
       "        -1.30527865e-01,  1.48532382e-01,  3.96525009e-01,\n",
       "         6.97394466e-01,  4.25490028e-02,  4.75646639e-01,\n",
       "         1.70343316e-01,  5.43825691e-01,  1.12057046e-01,\n",
       "         4.31400799e-02,  5.49088981e-01,  6.03625871e-01,\n",
       "        -1.70955326e-01,  4.94412607e-01, -2.40988863e-01,\n",
       "         6.62739224e-01, -4.60249072e-02,  4.86699319e-01,\n",
       "         8.77366269e-01,  6.27377343e-01,  4.28253506e-02,\n",
       "         6.55884005e-01,  4.04403127e-01,  5.37380495e-01,\n",
       "         3.13309530e-01,  6.25967311e-01,  9.65595084e-02,\n",
       "        -1.14388430e-01],\n",
       "       [-5.31156584e-01, -4.61476317e-01, -1.85913162e-01,\n",
       "         2.42719574e-01, -1.02544522e+00, -1.67896058e-01,\n",
       "         2.67907597e-01,  2.16249844e-01, -8.15356693e-01,\n",
       "        -5.54849222e-01, -3.99562933e-01,  3.85865232e-02,\n",
       "         2.20561681e-01,  1.55460628e-01,  1.31561485e-02,\n",
       "        -5.36344635e-01, -6.19587739e-02, -2.37928146e-01,\n",
       "        -4.44870769e-01, -2.38398285e-01,  2.35006501e-01,\n",
       "         2.65509095e-01, -5.95144954e-01, -3.13872205e-01,\n",
       "        -2.43720552e-01, -3.05982878e-01, -4.63972498e-01,\n",
       "        -9.48430642e-01,  1.21073318e-01, -1.61039235e-02,\n",
       "        -3.08273592e-01,  4.45378280e-01, -9.51861200e-01,\n",
       "         8.11898237e-02, -3.80100172e-01, -3.53921313e-01,\n",
       "        -4.42943319e-01, -5.29626317e-01,  3.69223750e-02,\n",
       "        -5.43023522e-01,  5.36452452e-01,  1.87800010e-01,\n",
       "        -1.51580123e-01, -3.86489704e-01, -4.50789159e-01,\n",
       "         9.81520657e-02,  8.90080378e-02, -4.37071033e-01,\n",
       "        -5.08076068e-01,  3.42384705e-01, -2.53644347e-01,\n",
       "        -7.64639405e-01, -3.05421890e-01,  5.31422483e-02,\n",
       "        -8.89552072e-01,  3.89852269e-01, -2.80901379e-01,\n",
       "        -3.45722320e-01, -6.63858275e-02, -7.06631739e-01,\n",
       "        -1.23440189e+00,  2.35062808e-01, -3.61434032e-01,\n",
       "         8.31513476e-01, -9.69625836e-01, -7.35318642e-01,\n",
       "         8.11178443e-02,  7.07488743e-01, -3.11352839e-02,\n",
       "         1.83911226e-02, -2.46774528e-01, -2.43015421e-02,\n",
       "        -6.01822038e-02, -5.83083747e-01, -6.59518617e-02,\n",
       "         3.14352045e-01,  7.43770543e-02,  1.33003225e-01,\n",
       "        -7.16901432e-01,  8.22030517e-02, -1.61355330e-01,\n",
       "         2.02826584e-01,  5.43897771e-02,  7.38542126e-02,\n",
       "        -8.54160452e-02,  1.37159902e-01,  5.26117273e-01,\n",
       "        -2.49628439e-01,  2.65797853e-01, -4.19226807e-01,\n",
       "        -6.03061396e-01, -2.45216848e-01,  3.82572327e-01,\n",
       "        -5.02945913e-01, -7.45848775e-01, -2.24424356e-01,\n",
       "        -5.32826977e-01, -8.90254599e-01, -4.35554987e-01,\n",
       "        -4.50189675e-01],\n",
       "       [ 3.95072990e-01,  7.33681968e-01,  1.35283748e-01,\n",
       "         6.25340153e-01,  3.52574284e-01,  1.76121305e-01,\n",
       "        -8.48353011e-01,  2.33724919e-01,  1.28828524e-01,\n",
       "         2.00056001e-01,  5.50176041e-01, -2.41635225e-01,\n",
       "        -2.89046034e-02, -1.30375501e-01,  1.95776989e-01,\n",
       "        -3.34454521e-01, -2.40244801e-01,  1.29985596e-01,\n",
       "        -4.93013234e-02,  1.14708379e-01,  5.30952102e-01,\n",
       "        -2.71610785e-02,  2.48860871e-01,  1.58684363e-01,\n",
       "         7.32329834e-01,  2.49607694e-01,  8.46784899e-02,\n",
       "         3.40880604e-01, -4.08275360e-01, -2.26019375e-01,\n",
       "         8.49943348e-01, -2.71143730e-01,  1.74325275e-01,\n",
       "         1.75096251e-01,  9.13397985e-02,  1.96598015e-02,\n",
       "         1.01633451e-01,  3.23826654e-01, -1.97995101e-01,\n",
       "        -1.09334409e-01,  5.82908007e-01,  5.55439980e-01,\n",
       "        -1.61630602e-01,  1.92052604e-03, -9.96166712e-02,\n",
       "         1.35165988e-01,  2.89138106e-01, -4.55789872e-01,\n",
       "        -6.36272920e-02, -6.84662160e-01, -1.64243586e-02,\n",
       "         1.73384457e-02,  4.27274653e-02,  9.02028737e-02,\n",
       "         4.24777245e-01, -1.06751266e-01,  4.48696863e-01,\n",
       "        -2.14117043e-01, -8.37454980e-02,  8.25860622e-01,\n",
       "         8.58320316e-01,  1.98199417e-01,  2.47057278e-01,\n",
       "        -3.06870301e-01, -2.60663242e-01, -3.12717209e-01,\n",
       "         2.57063176e-01,  5.44213175e-02,  1.73380484e-01,\n",
       "         2.43961734e-01,  8.20013657e-01, -2.03950884e-01,\n",
       "        -3.00142093e-01,  4.96363528e-01, -1.76446493e-01,\n",
       "         3.52670425e-01, -1.33749918e-01,  4.33467480e-01,\n",
       "         2.95190120e-01, -4.04862507e-01,  4.60508399e-01,\n",
       "        -5.21032829e-01,  7.82215079e-02,  5.93506729e-01,\n",
       "        -3.01279767e-02, -3.44131087e-01,  3.67068826e-01,\n",
       "        -3.54600743e-02, -6.54333115e-01,  5.41821598e-01,\n",
       "         4.63672283e-01,  1.48297551e-01, -1.53756516e-01,\n",
       "         7.36861830e-01,  1.89961854e-01,  1.46208033e-01,\n",
       "        -1.62541194e-01,  4.57661212e-01, -1.62597255e-01,\n",
       "         5.43889055e-01],\n",
       "       [ 1.22690501e-01, -5.54331957e-01, -7.78097265e-01,\n",
       "         8.86458142e-02, -6.46200283e-01,  1.01597425e-02,\n",
       "        -3.40803454e-01, -1.29433381e-01, -7.50483667e-01,\n",
       "        -5.49427526e-01, -7.45497746e-01, -4.98974534e-01,\n",
       "        -1.90815105e-01, -4.82101297e-01, -1.97898249e-01,\n",
       "        -7.77256191e-01, -5.14026846e-02, -3.37492971e-02,\n",
       "         6.86280445e-02,  1.33178893e-01,  6.98822421e-02,\n",
       "         2.94100003e-01, -2.11403986e-02, -1.62482394e-01,\n",
       "        -6.32928831e-01,  3.59735553e-01, -8.03373881e-01,\n",
       "        -5.43078319e-02, -1.68397540e-01, -1.54896015e-01,\n",
       "        -4.28916817e-01, -2.29227914e-01, -5.28706285e-01,\n",
       "        -4.12836400e-01, -1.07495165e+00,  1.43675678e-01,\n",
       "         7.91496082e-02, -4.89823580e-01,  4.65252045e-02,\n",
       "        -7.22661675e-01,  1.79039793e-01,  5.05251951e-01,\n",
       "        -6.17687653e-01, -4.21781074e-01, -9.14100994e-01,\n",
       "        -2.72983543e-01,  2.54942381e-01, -2.69868178e-01,\n",
       "         4.33396707e-01, -1.80308404e-01,  2.17318641e-01,\n",
       "        -6.58540161e-01, -7.98148095e-02, -4.12293019e-01,\n",
       "        -2.54881089e-01,  2.10045055e-01, -4.38507441e-01,\n",
       "         1.84405648e-01, -3.20047818e-01, -5.23003010e-01,\n",
       "        -1.92837111e-01, -3.35758110e-01, -8.39467247e-01,\n",
       "         7.76029353e-01, -4.99443700e-01, -9.48479424e-01,\n",
       "        -3.29826866e-01, -3.08041471e-01, -4.62256959e-01,\n",
       "         1.55787699e-01, -1.84555123e-01, -5.15823007e-01,\n",
       "        -1.13476229e-01, -9.03012615e-01, -8.28417800e-01,\n",
       "        -1.94496661e-01, -6.63388497e-01, -7.19074860e-02,\n",
       "        -6.75362621e-01,  1.40052647e-01, -9.09480527e-03,\n",
       "         1.05192022e-02, -7.28389554e-02, -2.70655215e-01,\n",
       "        -7.63003787e-01, -3.80427954e-01,  3.77167372e-01,\n",
       "        -6.03854784e-01, -4.53159966e-01, -3.30017654e-02,\n",
       "        -7.21773646e-01, -2.84430241e-01, -4.78304276e-01,\n",
       "        -3.16106619e-01, -5.06298871e-01, -3.57781774e-01,\n",
       "        -9.82915784e-02, -8.05971257e-01,  2.51611555e-01,\n",
       "        -4.35569682e-01],\n",
       "       [ 1.74250200e-01,  7.10023546e-01,  5.55665875e-01,\n",
       "         2.83113714e-01, -2.35707201e-01,  7.63374707e-01,\n",
       "         7.19157977e-01,  5.96862574e-01,  6.07124616e-01,\n",
       "         5.72108976e-01,  6.13226953e-01,  9.66295727e-01,\n",
       "         4.33024218e-01,  7.46268171e-01,  3.71444492e-01,\n",
       "         3.33364234e-01,  3.63714348e-01,  2.91347775e-01,\n",
       "        -2.96703546e-01,  6.66254734e-01,  1.13865483e-01,\n",
       "         6.49498938e-01,  6.41273808e-01,  6.61966249e-01,\n",
       "         1.71664041e-01, -3.12584365e-01,  1.15408411e+00,\n",
       "         1.71191076e-01,  4.60992471e-01,  9.14846619e-01,\n",
       "         1.89314984e-01,  4.63503888e-01,  9.21085155e-01,\n",
       "         2.61109494e-01,  5.38899299e-01,  8.15252183e-01,\n",
       "         3.43646181e-01,  7.45065139e-01,  5.26236820e-01,\n",
       "         5.65729349e-01,  5.20806744e-01,  5.09303324e-01,\n",
       "         5.09471244e-01,  2.74433875e-01,  5.02178970e-01,\n",
       "         3.51667349e-01,  4.27645021e-01,  7.64711484e-01,\n",
       "         4.49805185e-01,  9.19560215e-01,  8.46187926e-01,\n",
       "         8.17285922e-01,  7.32437733e-01,  5.85566845e-01,\n",
       "        -3.49110068e-01,  9.92667361e-01,  6.31159450e-01,\n",
       "         4.40161224e-01,  5.94954781e-01,  6.25150939e-01,\n",
       "         4.51754947e-01, -3.74221604e-02,  6.15296902e-01,\n",
       "         1.31126693e-01,  7.66387164e-01,  7.14454026e-01,\n",
       "         3.06995943e-02,  1.07797578e+00,  9.06468486e-01,\n",
       "         1.19679650e-01,  1.27131277e-01,  9.81390383e-01,\n",
       "         1.73548931e-01,  6.22659700e-01,  3.99240509e-01,\n",
       "         1.03241208e+00,  2.71166171e-01, -1.93474344e-01,\n",
       "         1.16195630e-01,  9.76513403e-01, -1.66051954e-02,\n",
       "         5.53970378e-01,  3.89860827e-01,  2.26216170e-01,\n",
       "         5.36988818e-01,  1.17144598e+00,  2.73727015e-01,\n",
       "         3.85305241e-01,  1.18369164e+00,  1.23914440e-01,\n",
       "         4.06689260e-01,  4.49009511e-01,  2.19804597e-03,\n",
       "         1.63303724e-01,  5.54374137e-01,  5.21652688e-01,\n",
       "         1.04109887e+00,  5.90944957e-01,  5.58917136e-01,\n",
       "         7.84384035e-02]])"
      ]
     },
     "execution_count": 9,
     "metadata": {},
     "output_type": "execute_result"
    }
   ],
   "source": [
    "S_J=U_theta_1.T.dot(X_y-W_theta_2i_S_i)\n",
    "S_J"
   ]
  },
  {
   "cell_type": "code",
   "execution_count": 41,
   "metadata": {},
   "outputs": [
    {
     "data": {
      "text/plain": [
       "(10, 100)"
      ]
     },
     "execution_count": 41,
     "metadata": {},
     "output_type": "execute_result"
    }
   ],
   "source": [
    "S_J.shape"
   ]
  },
  {
   "cell_type": "code",
   "execution_count": 10,
   "metadata": {},
   "outputs": [],
   "source": [
    "# ms = StandardScaler()\n",
    "# S_J_final = ms.fit_transform(S_J)"
   ]
  },
  {
   "cell_type": "code",
   "execution_count": null,
   "metadata": {},
   "outputs": [],
   "source": []
  },
  {
   "attachments": {},
   "cell_type": "markdown",
   "metadata": {},
   "source": [
    "## 手順２(b)を実行"
   ]
  },
  {
   "cell_type": "code",
   "execution_count": 11,
   "metadata": {},
   "outputs": [],
   "source": [
    "X_y_joint=X_y-W_theta_2i_S_i\n",
    "U_J,sigma_J,VT_J=np.linalg.svd(X_y-W_theta_2i_S_i,full_matrices=False)"
   ]
  },
  {
   "cell_type": "code",
   "execution_count": 12,
   "metadata": {},
   "outputs": [
    {
     "data": {
      "text/plain": [
       "(101, 100)"
      ]
     },
     "execution_count": 12,
     "metadata": {},
     "output_type": "execute_result"
    }
   ],
   "source": [
    "X_y_joint.shape"
   ]
  },
  {
   "cell_type": "code",
   "execution_count": 13,
   "metadata": {},
   "outputs": [
    {
     "data": {
      "text/plain": [
       "array([7.60131713e+01, 2.17525910e+01, 2.02846280e+01, 1.80684146e+01,\n",
       "       1.76398523e+01, 1.67631051e+01, 1.58981107e+01, 1.52322952e+01,\n",
       "       1.37882363e+01, 1.11452584e+01, 1.10979515e+01, 9.72100573e+00,\n",
       "       8.90274303e+00, 8.72821375e+00, 8.43424518e+00, 7.95426396e+00,\n",
       "       7.27656947e+00, 7.17274708e+00, 7.02086930e+00, 6.93003963e+00,\n",
       "       6.79564154e+00, 6.61242595e+00, 6.36083212e+00, 6.27430332e+00,\n",
       "       6.23664079e+00, 6.14549356e+00, 5.99898656e+00, 5.85472187e+00,\n",
       "       5.78112826e+00, 5.67796475e+00, 5.64464116e+00, 5.34520537e+00,\n",
       "       5.26787325e+00, 5.07757576e+00, 5.04288888e+00, 4.99953527e+00,\n",
       "       4.83291470e+00, 4.80130031e+00, 4.67879729e+00, 4.53848781e+00,\n",
       "       4.43895648e+00, 4.33869288e+00, 4.27722667e+00, 4.24961346e+00,\n",
       "       4.17999479e+00, 4.05047000e+00, 3.91202400e+00, 3.86243230e+00,\n",
       "       3.83331279e+00, 3.64234171e+00, 3.58319035e+00, 3.45204291e+00,\n",
       "       3.44522704e+00, 3.30236031e+00, 3.24745699e+00, 3.13867732e+00,\n",
       "       3.10276426e+00, 3.00510054e+00, 2.95575933e+00, 2.94130236e+00,\n",
       "       2.76011555e+00, 2.71604654e+00, 2.67368657e+00, 2.59086553e+00,\n",
       "       2.47723298e+00, 2.39043318e+00, 2.36348968e+00, 2.32320002e+00,\n",
       "       2.14591713e+00, 2.09395706e+00, 2.00193922e+00, 1.99169401e+00,\n",
       "       1.86409406e+00, 1.83006918e+00, 1.79043043e+00, 1.74853309e+00,\n",
       "       1.64411119e+00, 1.57521157e+00, 1.53127093e+00, 1.41070436e+00,\n",
       "       1.35333721e+00, 1.27787279e+00, 1.25180347e+00, 1.21049405e+00,\n",
       "       1.12274292e+00, 1.07712399e+00, 9.72809578e-01, 8.75996063e-01,\n",
       "       8.44236087e-01, 6.95784445e-01, 6.66652686e-01, 5.94883244e-01,\n",
       "       5.17715978e-01, 4.25390865e-01, 3.95178818e-01, 2.52319825e-01,\n",
       "       1.93691122e-01, 1.62131068e-01, 5.34817580e-02, 1.40038293e-02])"
      ]
     },
     "execution_count": 13,
     "metadata": {},
     "output_type": "execute_result"
    }
   ],
   "source": [
    "sigma_J"
   ]
  },
  {
   "cell_type": "code",
   "execution_count": 14,
   "metadata": {},
   "outputs": [],
   "source": [
    "import matplotlib.pyplot as plt"
   ]
  },
  {
   "cell_type": "code",
   "execution_count": 15,
   "metadata": {},
   "outputs": [
    {
     "data": {
      "text/plain": [
       "<function matplotlib.pyplot.show(close=None, block=None)>"
      ]
     },
     "execution_count": 15,
     "metadata": {},
     "output_type": "execute_result"
    },
    {
     "data": {
      "image/png": "[encoded data removed]",
      "text/plain": [
       "<Figure size 640x480 with 1 Axes>"
      ]
     },
     "metadata": {},
     "output_type": "display_data"
    }
   ],
   "source": [
    "plt.plot(sigma_J)\n",
    "plt.scatter(range(len(sigma_J)),sigma_J,color=\"red\")\n",
    "plt.show"
   ]
  },
  {
   "cell_type": "code",
   "execution_count": 16,
   "metadata": {},
   "outputs": [
    {
     "data": {
      "text/plain": [
       "(101, 100)"
      ]
     },
     "execution_count": 16,
     "metadata": {},
     "output_type": "execute_result"
    }
   ],
   "source": [
    "U_J.shape"
   ]
  },
  {
   "cell_type": "code",
   "execution_count": 17,
   "metadata": {},
   "outputs": [],
   "source": [
    "U_1=U_J[:p_1,:r_J]\n",
    "U_2=U_J[p_1:p_1+p_2,:r_J]\n",
    "theta_1=U_J[p_1+p_2:,:r_J]"
   ]
  },
  {
   "attachments": {},
   "cell_type": "markdown",
   "metadata": {},
   "source": [
    "## 手順２(c)を実行"
   ]
  },
  {
   "cell_type": "code",
   "execution_count": 18,
   "metadata": {},
   "outputs": [
    {
     "data": {
      "text/plain": [
       "(5, 100)"
      ]
     },
     "execution_count": 18,
     "metadata": {},
     "output_type": "execute_result"
    }
   ],
   "source": [
    "S_1.shape"
   ]
  },
  {
   "attachments": {},
   "cell_type": "markdown",
   "metadata": {},
   "source": [
    "#### データ１に対して実行"
   ]
  },
  {
   "cell_type": "code",
   "execution_count": 19,
   "metadata": {},
   "outputs": [
    {
     "data": {
      "text/plain": [
       "(51, 5)"
      ]
     },
     "execution_count": 19,
     "metadata": {},
     "output_type": "execute_result"
    }
   ],
   "source": [
    "W_1_theta_21=np.row_stack((W_1,theta_21))\n",
    "W_1_theta_21.shape"
   ]
  },
  {
   "cell_type": "code",
   "execution_count": 20,
   "metadata": {},
   "outputs": [
    {
     "data": {
      "text/plain": [
       "(51, 100)"
      ]
     },
     "execution_count": 20,
     "metadata": {},
     "output_type": "execute_result"
    }
   ],
   "source": [
    "y_theta_22S_2=y-theta_22.dot(S_2)\n",
    "X_1_y_theta_22S_2=np.row_stack((X_1,y_theta_22S_2))\n",
    "X_1_y_theta_22S_2.shape"
   ]
  },
  {
   "cell_type": "code",
   "execution_count": 21,
   "metadata": {},
   "outputs": [
    {
     "data": {
      "text/plain": [
       "(51, 100)"
      ]
     },
     "execution_count": 21,
     "metadata": {},
     "output_type": "execute_result"
    }
   ],
   "source": [
    "U_1_S_J=U_1.dot(S_J)\n",
    "theta_1_S_J=theta_1.dot(S_J)\n",
    "U_1_S_J_theta_1_S_J=np.row_stack((U_1_S_J,theta_1_S_J))\n",
    "U_1_S_J_theta_1_S_J.shape"
   ]
  },
  {
   "cell_type": "code",
   "execution_count": 22,
   "metadata": {},
   "outputs": [
    {
     "data": {
      "text/plain": [
       "(100, 100)"
      ]
     },
     "execution_count": 22,
     "metadata": {},
     "output_type": "execute_result"
    }
   ],
   "source": [
    "P_SJ=S_J.T.dot(np.linalg.inv(S_J.dot(S_J.T))).dot(S_J)\n",
    "diag_matrix = np.diag([1] * n)\n",
    "P_SJ_C=diag_matrix-P_SJ\n",
    "P_SJ_C.shape"
   ]
  },
  {
   "cell_type": "code",
   "execution_count": 23,
   "metadata": {},
   "outputs": [
    {
     "data": {
      "text/plain": [
       "(5, 100)"
      ]
     },
     "execution_count": 23,
     "metadata": {},
     "output_type": "execute_result"
    }
   ],
   "source": [
    "S_1=W_1_theta_21.T.dot((X_1_y_theta_22S_2-U_1_S_J_theta_1_S_J)).dot(P_SJ_C)\n",
    "S_1.shape\n"
   ]
  },
  {
   "cell_type": "code",
   "execution_count": 24,
   "metadata": {},
   "outputs": [
    {
     "data": {
      "text/plain": [
       "(51, 51)"
      ]
     },
     "execution_count": 24,
     "metadata": {},
     "output_type": "execute_result"
    }
   ],
   "source": [
    "U_I_1,sigma_1,VT_1=np.linalg.svd((X_1_y_theta_22S_2-U_1_S_J_theta_1_S_J).dot(P_SJ_C),full_matrices=False)\n",
    "U_I_1.shape"
   ]
  },
  {
   "cell_type": "code",
   "execution_count": 25,
   "metadata": {},
   "outputs": [
    {
     "data": {
      "text/plain": [
       "<function matplotlib.pyplot.show(close=None, block=None)>"
      ]
     },
     "execution_count": 25,
     "metadata": {},
     "output_type": "execute_result"
    },
    {
     "data": {
      "image/png": "[encoded data removed]",
      "text/plain": [
       "<Figure size 640x480 with 1 Axes>"
      ]
     },
     "metadata": {},
     "output_type": "display_data"
    }
   ],
   "source": [
    "plt.plot(sigma_1)\n",
    "plt.scatter(range(len(sigma_1)),sigma_1,color=\"red\")\n",
    "plt.show"
   ]
  },
  {
   "cell_type": "code",
   "execution_count": 26,
   "metadata": {},
   "outputs": [
    {
     "data": {
      "text/plain": [
       "(1, 5)"
      ]
     },
     "execution_count": 26,
     "metadata": {},
     "output_type": "execute_result"
    }
   ],
   "source": [
    "W_1=U_I_1[:p_1,:r_1]\n",
    "theta_21=U_I_1[p_1:,:r_1]\n",
    "theta_21.shape"
   ]
  },
  {
   "attachments": {},
   "cell_type": "markdown",
   "metadata": {},
   "source": [
    "### データ２に対して適用"
   ]
  },
  {
   "cell_type": "code",
   "execution_count": 27,
   "metadata": {},
   "outputs": [
    {
     "data": {
      "text/plain": [
       "(51, 5)"
      ]
     },
     "execution_count": 27,
     "metadata": {},
     "output_type": "execute_result"
    }
   ],
   "source": [
    "W_2_theta_22=np.row_stack((W_2,theta_22))\n",
    "W_2_theta_22.shape"
   ]
  },
  {
   "cell_type": "code",
   "execution_count": 28,
   "metadata": {},
   "outputs": [
    {
     "data": {
      "text/plain": [
       "(51, 100)"
      ]
     },
     "execution_count": 28,
     "metadata": {},
     "output_type": "execute_result"
    }
   ],
   "source": [
    "y_theta_21S_1=y-theta_21.dot(S_1)\n",
    "X_2_y_theta_21S_1=np.row_stack((X_2,y_theta_21S_1))\n",
    "X_2_y_theta_21S_1.shape"
   ]
  },
  {
   "cell_type": "code",
   "execution_count": 29,
   "metadata": {},
   "outputs": [
    {
     "data": {
      "text/plain": [
       "(51, 100)"
      ]
     },
     "execution_count": 29,
     "metadata": {},
     "output_type": "execute_result"
    }
   ],
   "source": [
    "U_2_S_J=U_2.dot(S_J)\n",
    "theta_1_S_J=theta_1.dot(S_J)\n",
    "U_2_S_J_theta_1_S_J=np.row_stack((U_2_S_J,theta_1_S_J))\n",
    "U_2_S_J_theta_1_S_J.shape"
   ]
  },
  {
   "cell_type": "code",
   "execution_count": 30,
   "metadata": {},
   "outputs": [
    {
     "data": {
      "text/plain": [
       "(5, 100)"
      ]
     },
     "execution_count": 30,
     "metadata": {},
     "output_type": "execute_result"
    }
   ],
   "source": [
    "S_2=W_2_theta_22.T.dot(X_2_y_theta_21S_1-U_2_S_J_theta_1_S_J).dot(P_SJ_C)\n",
    "S_2.shape"
   ]
  },
  {
   "cell_type": "code",
   "execution_count": 31,
   "metadata": {},
   "outputs": [
    {
     "data": {
      "text/plain": [
       "(51, 51)"
      ]
     },
     "execution_count": 31,
     "metadata": {},
     "output_type": "execute_result"
    }
   ],
   "source": [
    "U_I_2,sigma_2,VT_2=np.linalg.svd((X_2_y_theta_21S_1-U_2_S_J_theta_1_S_J).dot(P_SJ_C),full_matrices=False)\n",
    "U_I_2.shape"
   ]
  },
  {
   "cell_type": "code",
   "execution_count": 32,
   "metadata": {},
   "outputs": [
    {
     "data": {
      "text/plain": [
       "<function matplotlib.pyplot.show(close=None, block=None)>"
      ]
     },
     "execution_count": 32,
     "metadata": {},
     "output_type": "execute_result"
    },
    {
     "data": {
      "image/png": "[encoded data removed]",
      "text/plain": [
       "<Figure size 640x480 with 1 Axes>"
      ]
     },
     "metadata": {},
     "output_type": "display_data"
    }
   ],
   "source": [
    "plt.plot(sigma_2)\n",
    "plt.scatter(range(len(sigma_2)),sigma_2,color=\"red\")\n",
    "plt.show"
   ]
  },
  {
   "cell_type": "code",
   "execution_count": 33,
   "metadata": {},
   "outputs": [
    {
     "data": {
      "text/plain": [
       "(1, 5)"
      ]
     },
     "execution_count": 33,
     "metadata": {},
     "output_type": "execute_result"
    }
   ],
   "source": [
    "W_2=U_I_2[:p_2,:r_2]\n",
    "theta_22=U_I_2[p_2:,:r_2]\n",
    "theta_22.shape"
   ]
  },
  {
   "cell_type": "code",
   "execution_count": 34,
   "metadata": {},
   "outputs": [
    {
     "data": {
      "text/plain": [
       "(50, 10)"
      ]
     },
     "execution_count": 34,
     "metadata": {},
     "output_type": "execute_result"
    }
   ],
   "source": [
    "U_1.shape"
   ]
  },
  {
   "cell_type": "code",
   "execution_count": 35,
   "metadata": {},
   "outputs": [],
   "source": [
    "U=np.row_stack((U_1,U_2))\n",
    "U_theta_1=np.row_stack((U,theta_1))\n",
    "W_1_S_1=W_1.dot(S_1)\n",
    "W_2_S_2=W_2.dot(S_2)\n",
    "W_S=np.row_stack((W_1_S_1,W_2_S_2))\n",
    "theta_2i_S_i=theta_21.dot(S_1)+theta_22.dot(S_2)\n",
    "W_theta_2i_S_i=np.row_stack((W_S,theta_2i_S_i))\n"
   ]
  },
  {
   "cell_type": "code",
   "execution_count": 36,
   "metadata": {},
   "outputs": [
    {
     "data": {
      "text/plain": [
       "(101, 100)"
      ]
     },
     "execution_count": 36,
     "metadata": {},
     "output_type": "execute_result"
    }
   ],
   "source": [
    "W_theta_2i_S_i.shape"
   ]
  },
  {
   "cell_type": "code",
   "execution_count": 37,
   "metadata": {},
   "outputs": [],
   "source": [
    "hat_X_y=U_theta_1.dot(S_J)+W_theta_2i_S_i"
   ]
  },
  {
   "cell_type": "code",
   "execution_count": 38,
   "metadata": {},
   "outputs": [
    {
     "data": {
      "text/plain": [
       "72.74273999122569"
      ]
     },
     "execution_count": 38,
     "metadata": {},
     "output_type": "execute_result"
    }
   ],
   "source": [
    "np.linalg.norm(X_y-hat_X_y,ord=2)"
   ]
  },
  {
   "cell_type": "code",
   "execution_count": 39,
   "metadata": {},
   "outputs": [
    {
     "data": {
      "text/plain": [
       "array([[ 0.00950953,  0.34940329, -0.77967265, ...,  0.1763447 ,\n",
       "        -0.25362197, -0.97852224],\n",
       "       [ 0.44157245, -1.33270744, -0.95343861, ...,  0.60318056,\n",
       "         0.40834681, -0.08479353],\n",
       "       [ 0.4067808 , -1.43760389,  0.18555892, ...,  0.29920151,\n",
       "        -0.17914824, -0.33255786],\n",
       "       ...,\n",
       "       [ 0.36012342, -0.56777976,  0.22892796, ...,  0.97078343,\n",
       "        -0.14860305,  1.02425882],\n",
       "       [ 0.88276879,  0.65746189,  0.63931904, ...,  0.82553589,\n",
       "         1.71780741,  1.95072188],\n",
       "       [ 0.47314242,  0.69855327, -0.37534656, ..., -0.50099755,\n",
       "        -0.93447703, -0.40184293]])"
      ]
     },
     "execution_count": 39,
     "metadata": {},
     "output_type": "execute_result"
    }
   ],
   "source": [
    "X_y"
   ]
  },
  {
   "cell_type": "code",
   "execution_count": 40,
   "metadata": {},
   "outputs": [
    {
     "data": {
      "text/plain": [
       "array([[ 0.14042916, -0.04580434, -0.01328388, ..., -0.01269597,\n",
       "        -0.00735729,  0.03934532],\n",
       "       [ 0.00917753,  0.00518518,  0.13104932, ..., -0.1971251 ,\n",
       "        -0.26249564, -0.03504099],\n",
       "       [-0.33070073, -0.3234368 , -0.10350791, ..., -0.32680001,\n",
       "        -0.05603322, -0.181346  ],\n",
       "       ...,\n",
       "       [-0.16867101, -0.00622962, -0.13048033, ..., -0.04986642,\n",
       "        -0.06566035, -0.24351054],\n",
       "       [-0.20204832,  0.36221334,  0.21424371, ...,  0.13122509,\n",
       "        -0.16578218, -0.12065265],\n",
       "       [-0.10393642,  0.28705455,  0.07395373, ...,  0.13831107,\n",
       "        -0.28142023, -0.42904884]])"
      ]
     },
     "execution_count": 40,
     "metadata": {},
     "output_type": "execute_result"
    }
   ],
   "source": [
    "hat_X_y"
   ]
  },
  {
   "cell_type": "code",
   "execution_count": 52,
   "metadata": {},
   "outputs": [
    {
     "data": {
      "text/plain": [
       "5.000000000000001"
      ]
     },
     "execution_count": 52,
     "metadata": {},
     "output_type": "execute_result"
    }
   ],
   "source": [
    "A = np.array([[1, 2], [3, 4]])\n",
    "B = np.array([[1, 2], [2, 2]])\n",
    "np.linalg.norm(A - B, ord=2)**2"
   ]
  },
  {
   "cell_type": "code",
   "execution_count": 47,
   "metadata": {},
   "outputs": [],
   "source": [
    "import math"
   ]
  },
  {
   "cell_type": "code",
   "execution_count": 53,
   "metadata": {},
   "outputs": [
    {
     "data": {
      "text/plain": [
       "array([[-0.40455358, -0.9145143 ],\n",
       "       [-0.9145143 ,  0.40455358]])"
      ]
     },
     "execution_count": 53,
     "metadata": {},
     "output_type": "execute_result"
    }
   ],
   "source": [
    "U_J,sigma_J,VT_J=np.linalg.svd(A,full_matrices=False) \n",
    "U_J"
   ]
  },
  {
   "cell_type": "code",
   "execution_count": 51,
   "metadata": {},
   "outputs": [
    {
     "data": {
      "text/plain": [
       "array([[-0.40455358, -0.9145143 ],\n",
       "       [-0.9145143 ,  0.40455358]])"
      ]
     },
     "execution_count": 51,
     "metadata": {},
     "output_type": "execute_result"
    }
   ],
   "source": [
    "U_J,sigma_J,VT_J=np.linalg.svd(A,full_matrices=False) \n",
    "U_J"
   ]
  },
  {
   "cell_type": "code",
   "execution_count": null,
   "metadata": {},
   "outputs": [],
   "source": []
  }
 ],
 "metadata": {
  "kernelspec": {
   "display_name": "Python 3",
   "language": "python",
   "name": "python3"
  },
  "language_info": {
   "codemirror_mode": {
    "name": "ipython",
    "version": 3
   },
   "file_extension": ".py",
   "mimetype": "text/x-python",
   "name": "python",
   "nbconvert_exporter": "python",
   "pygments_lexer": "ipython3",
   "version": "3.9.6"
  },
  "orig_nbformat": 4
 },
 "nbformat": 4,
 "nbformat_minor": 2
}
