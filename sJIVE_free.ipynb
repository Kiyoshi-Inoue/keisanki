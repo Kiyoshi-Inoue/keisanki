{
 "cells": [
  {
   "cell_type": "code",
   "execution_count": 4,
   "metadata": {},
   "outputs": [],
   "source": [
    "import random\n",
    "import numpy as np\n",
    "from sklearn.preprocessing import StandardScaler\n",
    "from sklearn.model_selection import KFold\n",
    "import matplotlib.pyplot as plt\n",
    "import math\n",
    "import tqdm"
   ]
  },
  {
   "cell_type": "code",
   "execution_count": 18,
   "metadata": {},
   "outputs": [],
   "source": [
    "p_1=50\n",
    "p_2=50\n",
    "n=150\n",
    "r_J_or=5\n",
    "r_1_or=5\n",
    "r_2_or=5\n",
    "r_prop=1.0\n",
    "W_J_lis=[100,10,0.1,0.1,0.01]\n",
    "W_1_lis=[100,10,0.1,0.1,0.01]\n",
    "W_2_lis=[100,10,0.1,0.1,0.01]\n",
    "X1_erro=0\n",
    "X2_erro=0\n",
    "y_erro=0\n",
    "\n",
    "#sJIVEとproposed共通の条件\n",
    "k = 5\n",
    "kf = KFold(n_splits=k)\n",
    "\n",
    "times=100\n",
    "threshold=10.0\n",
    "\n",
    "times_tes=100\n",
    "threshold_tes=10.0 \n"
   ]
  },
  {
   "cell_type": "code",
   "execution_count": 19,
   "metadata": {},
   "outputs": [],
   "source": [
    "#データの生成\n",
    "X_1_al,X_2_al,y_al=function.gene_data_2(p_1,p_2,n,r_J_or,r_1_or,r_2_or,r_prop,W_J_lis,W_1_lis,W_2_lis,X1_erro,X2_erro,y_erro)\n",
    "X_1_original=X_1_al[:,:100]\n",
    "X_2_original=X_2_al[:,:100]\n",
    "y_original=y_al[:,:100]\n",
    "\n",
    "X_1_test=X_1_al[:,100:150]\n",
    "X_2_test=X_2_al[:,100:150]\n",
    "y_test=y_al[:,100:150]\n",
    "\n",
    "df_tra=np.row_stack((X_1_original,X_2_original,y_original))\n",
    "df_tes=np.row_stack((X_1_test,X_2_test,y_test))"
   ]
  },
  {
   "cell_type": "code",
   "execution_count": 20,
   "metadata": {},
   "outputs": [],
   "source": [
    "eta=0.5\n",
    "r_J=10\n",
    "r_1=10\n",
    "r_2=10\n",
    "gamma_1=10\n",
    "gamma_21=10\n",
    "gamma_22=10"
   ]
  },
  {
   "cell_type": "code",
   "execution_count": 22,
   "metadata": {},
   "outputs": [],
   "source": [
    "X_1_or=X_1_original\n",
    "X_2_or=X_2_original\n",
    "y_or=y_original"
   ]
  },
  {
   "cell_type": "code",
   "execution_count": 30,
   "metadata": {},
   "outputs": [],
   "source": [
    "number_best=0\n",
    "times=times\n",
    "erro_lis=[]\n",
    "erro_best=1000.0\n",
    "threshold=threshold\n",
    "p_1=X_1_or.shape[0]\n",
    "p_2=X_2_or.shape[0]\n",
    "n=X_1_or.shape[1]\n",
    "X_1=math.sqrt(eta)*X_1_or\n",
    "X_2=math.sqrt(eta)*X_2_or\n",
    "y=math.sqrt(1-eta)*y_or\n",
    "#初期値を入れる\n",
    "U_1=U_1_best=math.sqrt(eta)*np.random.uniform(low=-0.1, high=0.1, size=(p_1,r_J))\n",
    "U_2=U_2_best=math.sqrt(eta)*np.random.uniform(low=-0.1, high=0.1, size=(p_2,r_J))\n",
    "W_1=W_1_best=math.sqrt(eta)*np.random.uniform(low=-0.1, high=0.1, size=(p_1,r_1))\n",
    "W_2=W_2_best=math.sqrt(eta)*np.random.uniform(low=-0.1, high=0.1, size=(p_2,r_2))\n",
    "theta_1=theta_1_best=math.sqrt(1-eta)*np.random.uniform(low=-0.1, high=0.1, size=int(r_J))\n",
    "theta_21=theta_21_best=math.sqrt(1-eta)*np.random.uniform(low=-0.1, high=0.1, size=int(r_1))\n",
    "theta_22=theta_22_best=math.sqrt(1-eta)*np.random.uniform(low=-0.1, high=0.1, size=int(r_2))\n",
    "S_J=S_J_best=np.random.uniform(low=-0.1, high=0.1, size=(r_J,n))\n",
    "S_1=S_1_best=np.random.uniform(low=-0.1, high=0.1, size=(r_1,n))\n",
    "S_2=S_2_best=np.random.uniform(low=-0.1, high=0.1, size=(r_2,n))\n",
    "hat_X_y_best=np.random.uniform(low=-0.1, high=0.1, size=(p_1+p_2+1,n))\n",
    "\n",
    "zeros_1=np.zeros((p_2, r_1))\n",
    "zeros_2=np.zeros((p_1, r_2))"
   ]
  },
  {
   "cell_type": "code",
   "execution_count": 31,
   "metadata": {},
   "outputs": [
    {
     "name": "stderr",
     "output_type": "stream",
     "text": [
      "100%|██████████| 10/10 [00:00<00:00, 31.27it/s]\n"
     ]
    }
   ],
   "source": [
    "for i in tqdm.tqdm(range(10)):\n",
    "        #以下を誤差が収束するまで繰り返し\n",
    "        #S_Jを更新\n",
    "        X_y=np.row_stack((X_1,X_2,y))\n",
    "        U_theta_1=np.row_stack((U_1,U_2,theta_1)) #1\n",
    "        W_1_S_1=W_1.dot(S_1) \n",
    "        W_2_S_2=W_2.dot(S_2)\n",
    "        theta_2i_S_i=theta_21.dot(S_1)+theta_22.dot(S_2) \n",
    "        W_theta_2i_S_i=np.row_stack((W_1_S_1,W_2_S_2,theta_2i_S_i)) #2\n",
    "        X_y_joint=X_y-W_theta_2i_S_i #1,2からjoint空間を算出\n",
    "        U_J,sigma_J,VT_J=np.linalg.svd(X_y_joint,full_matrices=False) #特異値分解を行う\n",
    "        S_J=VT_J[:r_J,:]\n",
    "\n",
    "        #推定値を計算\n",
    "        U_theta_1=np.row_stack((U_1,U_2,theta_1))\n",
    "        W_1_theta_21=np.row_stack((W_1,zeros_1,theta_21))\n",
    "        W_2_theta_22=np.row_stack((zeros_2,W_2,theta_22))\n",
    "        hat_X_y=U_theta_1.dot(S_J)+W_1_theta_21.dot(S_1)+W_2_theta_22.dot(S_2) #1,2,3から推定値を算出\n",
    "        #誤差を計算\n",
    "        X_y=np.row_stack((X_1,X_2,y))\n",
    "        erro=np.linalg.norm(X_y-hat_X_y,ord=2)**2\n",
    "        erro_lis.append(erro)\n",
    "\n",
    "        if erro<erro_best:\n",
    "            number_best=i\n",
    "            erro_best=erro\n",
    "            S_J_best=S_J\n",
    "            U_1_best=U_1\n",
    "            U_2_best=U_2\n",
    "            theta_1_best=theta_1\n",
    "            S_1_best=S_1\n",
    "            W_1_best=W_1\n",
    "            theta_21_best=theta_21\n",
    "            S_2_best=S_1\n",
    "            W_2_best=W_2\n",
    "            theta_22_best=theta_22\n",
    "            hat_X_y_best=hat_X_y\n",
    "\n",
    "        if erro<threshold:\n",
    "            break\n",
    "\n",
    "        #U_1,U_2,theta_1を更新\n",
    "        ##U_1,U_2を更新\n",
    "        X=np.row_stack((X_1,X_2)) #2\n",
    "        W_1_S_1=W_1.dot(S_1)\n",
    "        W_2_S_2=W_2.dot(S_2)\n",
    "        W_S=np.row_stack((W_1_S_1,W_2_S_2)) #3\n",
    "        U=(X-W_S).dot(S_J.T) #1,2,3からU_theta_1を更新\n",
    "        U_1=U[:p_1,:]\n",
    "        U_2=U[p_1:p_1+p_2,:]\n",
    "\n",
    "        ##theta_1を更新\n",
    "        pcLasso_sigma_J=[]\n",
    "        for i in range(len(sigma_J)):\n",
    "            a_i=sigma_J[0]**2-sigma_J[i]**2\n",
    "            pcLasso_sigma_J.append(a_i)\n",
    "        sigma_J_final=[1/(sigma_J[i]**2+(gamma_1/2)*pcLasso_sigma_J[i]) for i in range(len(sigma_J))]\n",
    "        diag_sigma_J_final=np.diag(sigma_J_final)\n",
    "        diag_sigma_J_final_r_J=diag_sigma_J_final[:r_J,:r_J]\n",
    "        theta_1=(y-(theta_21.dot(S_1)+theta_22.dot(S_2))).dot(S_J.T).dot(diag_sigma_J_final_r_J)\n",
    "\n",
    "        #推定値を計算\n",
    "        U_theta_1=np.row_stack((U_1,U_2,theta_1))\n",
    "        W_1_theta_21=np.row_stack((W_1,zeros_1,theta_21))\n",
    "        W_2_theta_22=np.row_stack((zeros_2,W_2,theta_22))\n",
    "        hat_X_y=U_theta_1.dot(S_J)+W_1_theta_21.dot(S_1)+W_2_theta_22.dot(S_2) #1,2,3から推定値を算出\n",
    "        #誤差を計算\n",
    "        X_y=np.row_stack((X_1,X_2,y))\n",
    "        erro=np.linalg.norm(X_y-hat_X_y,ord=2)**2\n",
    "        erro_lis.append(erro)\n",
    "\n",
    "        if erro<erro_best:\n",
    "            number_best=i\n",
    "            erro_best=erro\n",
    "            S_J_best=S_J\n",
    "            U_1_best=U_1\n",
    "            U_2_best=U_2\n",
    "            theta_1_best=theta_1\n",
    "            S_1_best=S_1\n",
    "            W_1_best=W_1\n",
    "            theta_21_best=theta_21\n",
    "            S_2_best=S_1\n",
    "            W_2_best=W_2\n",
    "            theta_22_best=theta_22\n",
    "            hat_X_y_best=hat_X_y\n",
    "\n",
    "        if erro<threshold:\n",
    "            break\n",
    "\n",
    "        #S_1を更新\n",
    "        y_theta_22S_2=y-theta_22.dot(S_2)\n",
    "        X_1_y_theta_22S_2=np.row_stack((X_1,y_theta_22S_2)) #1\n",
    "        U_1_S_J=U_1.dot(S_J)\n",
    "        theta_1_S_J=theta_1.dot(S_J)\n",
    "        U_1_S_J_theta_1_S_J=np.row_stack((U_1_S_J,theta_1_S_J)) #2\n",
    "        P_SJ=S_J.T.dot(np.linalg.inv(S_J.dot(S_J.T))).dot(S_J)\n",
    "        diag_matrix = np.diag([1] * n)\n",
    "        P_SJ_C=diag_matrix-P_SJ #Jointの直交補空間を作成 #3\n",
    "        X_y_indivi_1=(X_1_y_theta_22S_2-U_1_S_J_theta_1_S_J).dot(P_SJ_C)\n",
    "        U_I_1,sigma_1,VT_I_1=np.linalg.svd(X_y_indivi_1,full_matrices=False) #特異値分解を行う\n",
    "        S_1=VT_I_1[:r_1,:]\n",
    "\n",
    "        #推定値を計算\n",
    "        U_theta_1=np.row_stack((U_1,U_2,theta_1))\n",
    "        W_1_theta_21=np.row_stack((W_1,zeros_1,theta_21))\n",
    "        W_2_theta_22=np.row_stack((zeros_2,W_2,theta_22))\n",
    "        hat_X_y=U_theta_1.dot(S_J)+W_1_theta_21.dot(S_1)+W_2_theta_22.dot(S_2) #1,2,3から推定値を算出\n",
    "        #誤差を計算\n",
    "        X_y=np.row_stack((X_1,X_2,y))\n",
    "        erro=np.linalg.norm(X_y-hat_X_y,ord=2)**2\n",
    "        erro_lis.append(erro)\n",
    "\n",
    "        if erro<erro_best:\n",
    "            number_best=i\n",
    "            erro_best=erro\n",
    "            S_J_best=S_J\n",
    "            U_1_best=U_1\n",
    "            U_2_best=U_2\n",
    "            theta_1_best=theta_1\n",
    "            S_1_best=S_1\n",
    "            W_1_best=W_1\n",
    "            theta_21_best=theta_21\n",
    "            S_2_best=S_1\n",
    "            W_2_best=W_2\n",
    "            theta_22_best=theta_22\n",
    "            hat_X_y_best=hat_X_y\n",
    "\n",
    "        if erro<threshold:\n",
    "            break\n",
    "\n",
    "        #W_1,theta_21を更新\n",
    "        ##W_1から更新\n",
    "        W_1=(X_1-U_1.dot(S_J)).dot(S_1.T)\n",
    "        ##theta_21を更新\n",
    "        pcLasso_sigma_1=[]\n",
    "        for i in range(len(sigma_1)):\n",
    "            a_i=sigma_1[0]**2-sigma_1[i]**2\n",
    "            pcLasso_sigma_1.append(a_i)\n",
    "        sigma_1_final=[1/(sigma_1[i]**2+(gamma_21/2)*pcLasso_sigma_1[i]) for i in range(len(sigma_1))]\n",
    "        diag_sigma_1_final=np.diag(sigma_1_final)\n",
    "        diag_sigma_1_final_r_1=diag_sigma_1_final[:r_1,:r_1]\n",
    "        theta_21=(y-(theta_1.dot(S_J)+theta_22.dot(S_2))).dot(S_1.T).dot(diag_sigma_1_final_r_1)\n",
    "\n",
    "        #推定値を計算\n",
    "        U_theta_1=np.row_stack((U_1,U_2,theta_1))\n",
    "        W_1_theta_21=np.row_stack((W_1,zeros_1,theta_21))\n",
    "        W_2_theta_22=np.row_stack((zeros_2,W_2,theta_22))\n",
    "        hat_X_y=U_theta_1.dot(S_J)+W_1_theta_21.dot(S_1)+W_2_theta_22.dot(S_2) #1,2,3から推定値を算出\n",
    "        #誤差を計算\n",
    "        X_y=np.row_stack((X_1,X_2,y))\n",
    "        erro=np.linalg.norm(X_y-hat_X_y,ord=2)**2\n",
    "        erro_lis.append(erro)\n",
    "\n",
    "        if erro<erro_best:\n",
    "            number_best=i\n",
    "            erro_best=erro\n",
    "            S_J_best=S_J\n",
    "            U_1_best=U_1\n",
    "            U_2_best=U_2\n",
    "            theta_1_best=theta_1\n",
    "            S_1_best=S_1\n",
    "            W_1_best=W_1\n",
    "            theta_21_best=theta_21\n",
    "            S_2_best=S_1\n",
    "            W_2_best=W_2\n",
    "            theta_22_best=theta_22\n",
    "            hat_X_y_best=hat_X_y\n",
    "\n",
    "        if erro<threshold:\n",
    "            break\n",
    "\n",
    "        #S_2を更新\n",
    "        y_theta_21S_1=y-theta_21.dot(S_1)\n",
    "        X_2_y_theta_21S_1=np.row_stack((X_2,y_theta_21S_1)) #1\n",
    "        U_2_S_J=U_2.dot(S_J)\n",
    "        theta_1_S_J=theta_1.dot(S_J)\n",
    "        U_2_S_J_theta_1_S_J=np.row_stack((U_2_S_J,theta_1_S_J)) #2\n",
    "        P_SJ=S_J.T.dot(np.linalg.inv(S_J.dot(S_J.T))).dot(S_J)\n",
    "        diag_matrix = np.diag([1] * n)\n",
    "        P_SJ_C=diag_matrix-P_SJ #Jointの直交補空間を作成 #3\n",
    "        X_y_indivi_1=(X_2_y_theta_21S_1-U_2_S_J_theta_1_S_J).dot(P_SJ_C)\n",
    "        U_I_2,sigma_2,VT_I_2=np.linalg.svd(X_y_indivi_1,full_matrices=False) #特異値分解を行う\n",
    "        S_2=VT_I_2[:r_2,:]\n",
    "\n",
    "        #推定値を計算\n",
    "        U_theta_1=np.row_stack((U_1,U_2,theta_1))\n",
    "        W_1_theta_21=np.row_stack((W_1,zeros_1,theta_21))\n",
    "        W_2_theta_22=np.row_stack((zeros_2,W_2,theta_22))\n",
    "        hat_X_y=U_theta_1.dot(S_J)+W_1_theta_21.dot(S_1)+W_2_theta_22.dot(S_2) #1,2,3から推定値を算出\n",
    "        #誤差を計算\n",
    "        X_y=np.row_stack((X_1,X_2,y))\n",
    "        erro=np.linalg.norm(X_y-hat_X_y,ord=2)**2\n",
    "        erro_lis.append(erro)\n",
    "\n",
    "        if erro<erro_best:\n",
    "            number_best=i\n",
    "            erro_best=erro\n",
    "            S_J_best=S_J\n",
    "            U_1_best=U_1\n",
    "            U_2_best=U_2\n",
    "            theta_1_best=theta_1\n",
    "            S_1_best=S_1\n",
    "            W_1_best=W_1\n",
    "            theta_21_best=theta_21\n",
    "            S_2_best=S_1\n",
    "            W_2_best=W_2\n",
    "            theta_22_best=theta_22\n",
    "            hat_X_y_best=hat_X_y\n",
    "\n",
    "        if erro<threshold:\n",
    "            break\n",
    "\n",
    "        #W_2,theta_22を更新\n",
    "        ##W_2から更新\n",
    "        W_2=(X_2-U_2.dot(S_J)).dot(S_2.T)\n",
    "        ##theta_22を更新\n",
    "        pcLasso_sigma_2=[]\n",
    "        for i in range(len(sigma_2)):\n",
    "            a_i=sigma_2[0]**2-sigma_2[i]**2\n",
    "            pcLasso_sigma_2.append(a_i)\n",
    "        sigma_2_final=[1/(sigma_2[i]**2+(gamma_22/2)*pcLasso_sigma_2[i]) for i in range(len(sigma_2))]\n",
    "        diag_sigma_2_final=np.diag(sigma_2_final)\n",
    "        diag_sigma_2_final_r_2=diag_sigma_2_final[:r_2,:r_2]\n",
    "        theta_22=(y-(theta_1.dot(S_J)+theta_21.dot(S_1))).dot(S_2.T).dot(diag_sigma_2_final_r_2)\n",
    "\n",
    "        #推定値を計算\n",
    "        U_theta_1=np.row_stack((U_1,U_2,theta_1))\n",
    "        W_1_theta_21=np.row_stack((W_1,zeros_1,theta_21))\n",
    "        W_2_theta_22=np.row_stack((zeros_2,W_2,theta_22))\n",
    "        hat_X_y=U_theta_1.dot(S_J)+W_1_theta_21.dot(S_1)+W_2_theta_22.dot(S_2) #1,2,3から推定値を算出\n",
    "        #誤差を計算\n",
    "        X_y=np.row_stack((X_1,X_2,y))\n",
    "        erro=np.linalg.norm(X_y-hat_X_y,ord=2)**2\n",
    "        erro_lis.append(erro)\n",
    "\n",
    "        if erro<erro_best:\n",
    "            number_best=i\n",
    "            erro_best=erro\n",
    "            S_J_best=S_J\n",
    "            U_1_best=U_1\n",
    "            U_2_best=U_2\n",
    "            theta_1_best=theta_1\n",
    "            S_1_best=S_1\n",
    "            W_1_best=W_1\n",
    "            theta_21_best=theta_21\n",
    "            S_2_best=S_1\n",
    "            W_2_best=W_2\n",
    "            theta_22_best=theta_22\n",
    "            hat_X_y_best=hat_X_y\n",
    "\n",
    "        if erro<threshold:\n",
    "            break"
   ]
  },
  {
   "cell_type": "code",
   "execution_count": 32,
   "metadata": {},
   "outputs": [
    {
     "data": {
      "text/plain": [
       "<function matplotlib.pyplot.show(close=None, block=None)>"
      ]
     },
     "execution_count": 32,
     "metadata": {},
     "output_type": "execute_result"
    },
    {
     "data": {
      "image/png": "[encoded data removed]",
      "text/plain": [
       "<Figure size 640x480 with 1 Axes>"
      ]
     },
     "metadata": {},
     "output_type": "display_data"
    }
   ],
   "source": [
    "plt.plot(erro_lis)\n",
    "plt.scatter(range(len(erro_lis)),erro_lis,color=\"black\")\n",
    "plt.show"
   ]
  },
  {
   "cell_type": "code",
   "execution_count": 33,
   "metadata": {},
   "outputs": [
    {
     "data": {
      "text/plain": [
       "[2132.2679701943453,\n",
       " 50.11176047770353,\n",
       " 50.21643154044321,\n",
       " 50.40417397818995,\n",
       " 50.35015212790404,\n",
       " 52.77717229319297,\n",
       " 53.339786259833254,\n",
       " 52.77300384535676,\n",
       " 54.6535520150237,\n",
       " 57.637015911952,\n",
       " 50.36901862486966,\n",
       " 58.55261598670235,\n",
       " 62.9353344477253,\n",
       " 58.55064570721152,\n",
       " 49.21269750627152,\n",
       " 48.25267735420372,\n",
       " 49.248901141536344,\n",
       " 58.46752075905701,\n",
       " 58.46659941790183,\n",
       " 58.46555351837043,\n",
       " 55.70787106246358,\n",
       " 56.09403336974703,\n",
       " 56.53590602426145,\n",
       " 45.453328178036024,\n",
       " 46.62444849592061,\n",
       " 45.45350191291015,\n",
       " 44.99087771454816,\n",
       " 47.03152958733024,\n",
       " 45.59879794898916,\n",
       " 46.69516549802336,\n",
       " 46.73632016978375,\n",
       " 46.69457008208294,\n",
       " 48.59899973472045,\n",
       " 53.787991437510804,\n",
       " 52.279578667227625,\n",
       " 52.73187661035155,\n",
       " 54.24479980837784,\n",
       " 52.73058081340683,\n",
       " 70.91133373609689,\n",
       " 49.124230399194225,\n",
       " 47.64864286001838,\n",
       " 47.22752660309427,\n",
       " 47.425594913182024,\n",
       " 47.22774295690344,\n",
       " 48.618931922243526,\n",
       " 51.82074268079519,\n",
       " 49.44366872535014,\n",
       " 49.41792401495673,\n",
       " 49.42287964775364,\n",
       " 49.41759681989357,\n",
       " 69.05408645908972,\n",
       " 50.4778638589398,\n",
       " 51.245947278537855,\n",
       " 47.73728959913321,\n",
       " 47.73937835198394,\n",
       " 47.73740828507288,\n",
       " 47.988754574795344,\n",
       " 51.44436936698487,\n",
       " 52.04221797341013,\n",
       " 48.52226155592617]"
      ]
     },
     "execution_count": 33,
     "metadata": {},
     "output_type": "execute_result"
    }
   ],
   "source": [
    "erro_lis"
   ]
  },
  {
   "cell_type": "code",
   "execution_count": 34,
   "metadata": {},
   "outputs": [],
   "source": [
    "#S_Jを更新\n",
    "X_y=np.row_stack((X_1,X_2,y))\n",
    "U_theta_1=np.row_stack((U_1,U_2,theta_1)) #1\n",
    "W_1_S_1=W_1.dot(S_1) \n",
    "W_2_S_2=W_2.dot(S_2)\n",
    "theta_2i_S_i=theta_21.dot(S_1)+theta_22.dot(S_2) \n",
    "W_theta_2i_S_i=np.row_stack((W_1_S_1,W_2_S_2,theta_2i_S_i)) #2\n",
    "X_y_joint=X_y-W_theta_2i_S_i #1,2からjoint空間を算出\n",
    "U_J,sigma_J,VT_J=np.linalg.svd(X_y_joint,full_matrices=False) #特異値分解を行う\n",
    "S_J=VT_J[:r_J,:]"
   ]
  },
  {
   "cell_type": "code",
   "execution_count": 35,
   "metadata": {},
   "outputs": [],
   "source": [
    "#U_1,U_2,theta_1を更新\n",
    "##U_1,U_2を更新\n",
    "X=np.row_stack((X_1,X_2)) #2\n",
    "W_1_S_1=W_1.dot(S_1)\n",
    "W_2_S_2=W_2.dot(S_2)\n",
    "W_S=np.row_stack((W_1_S_1,W_2_S_2)) #3\n",
    "U=(X-W_S).dot(S_J.T) #1,2,3からU_theta_1を更新\n",
    "U_1=U[:p_1,:]\n",
    "U_2=U[p_1:p_1+p_2,:]\n",
    "\n",
    "##theta_1を更新\n",
    "pcLasso_sigma_J=[]\n",
    "for i in range(len(sigma_J)):\n",
    "    a_i=sigma_J[0]**2-sigma_J[i]**2\n",
    "    pcLasso_sigma_J.append(a_i)\n",
    "sigma_J_final=[1/(sigma_J[i]**2+(gamma_1/2)*pcLasso_sigma_J[i]) for i in range(len(sigma_J))]\n",
    "diag_sigma_J_final=np.diag(sigma_J_final)\n",
    "diag_sigma_J_final_r_J=diag_sigma_J_final[:r_J,:r_J]\n",
    "theta_1=(y-(theta_21.dot(S_1)+theta_22.dot(S_2))).dot(S_J.T).dot(diag_sigma_J_final_r_J)\n"
   ]
  },
  {
   "cell_type": "code",
   "execution_count": 36,
   "metadata": {},
   "outputs": [
    {
     "data": {
      "text/plain": [
       "array([[ 3.45903385e-04, -8.13987006e-04, -5.01161145e-04,\n",
       "        -1.58803566e-04, -1.19560516e-05, -2.20241596e-04,\n",
       "        -1.66677471e-05,  4.47172826e-05, -1.79504112e-04,\n",
       "         2.02786960e-06]])"
      ]
     },
     "execution_count": 36,
     "metadata": {},
     "output_type": "execute_result"
    }
   ],
   "source": [
    "theta_1"
   ]
  },
  {
   "cell_type": "code",
   "execution_count": 37,
   "metadata": {},
   "outputs": [
    {
     "data": {
      "text/plain": [
       "array([[4.67925808e-04, 0.00000000e+00, 0.00000000e+00, 0.00000000e+00,\n",
       "        0.00000000e+00, 0.00000000e+00, 0.00000000e+00, 0.00000000e+00,\n",
       "        0.00000000e+00, 0.00000000e+00],\n",
       "       [0.00000000e+00, 1.64438196e-04, 0.00000000e+00, 0.00000000e+00,\n",
       "        0.00000000e+00, 0.00000000e+00, 0.00000000e+00, 0.00000000e+00,\n",
       "        0.00000000e+00, 0.00000000e+00],\n",
       "       [0.00000000e+00, 0.00000000e+00, 1.41304592e-04, 0.00000000e+00,\n",
       "        0.00000000e+00, 0.00000000e+00, 0.00000000e+00, 0.00000000e+00,\n",
       "        0.00000000e+00, 0.00000000e+00],\n",
       "       [0.00000000e+00, 0.00000000e+00, 0.00000000e+00, 1.12089321e-04,\n",
       "        0.00000000e+00, 0.00000000e+00, 0.00000000e+00, 0.00000000e+00,\n",
       "        0.00000000e+00, 0.00000000e+00],\n",
       "       [0.00000000e+00, 0.00000000e+00, 0.00000000e+00, 0.00000000e+00,\n",
       "        1.01950982e-04, 0.00000000e+00, 0.00000000e+00, 0.00000000e+00,\n",
       "        0.00000000e+00, 0.00000000e+00],\n",
       "       [0.00000000e+00, 0.00000000e+00, 0.00000000e+00, 0.00000000e+00,\n",
       "        0.00000000e+00, 9.88807374e-05, 0.00000000e+00, 0.00000000e+00,\n",
       "        0.00000000e+00, 0.00000000e+00],\n",
       "       [0.00000000e+00, 0.00000000e+00, 0.00000000e+00, 0.00000000e+00,\n",
       "        0.00000000e+00, 0.00000000e+00, 9.50057716e-05, 0.00000000e+00,\n",
       "        0.00000000e+00, 0.00000000e+00],\n",
       "       [0.00000000e+00, 0.00000000e+00, 0.00000000e+00, 0.00000000e+00,\n",
       "        0.00000000e+00, 0.00000000e+00, 0.00000000e+00, 9.39615018e-05,\n",
       "        0.00000000e+00, 0.00000000e+00],\n",
       "       [0.00000000e+00, 0.00000000e+00, 0.00000000e+00, 0.00000000e+00,\n",
       "        0.00000000e+00, 0.00000000e+00, 0.00000000e+00, 0.00000000e+00,\n",
       "        9.37288331e-05, 0.00000000e+00],\n",
       "       [0.00000000e+00, 0.00000000e+00, 0.00000000e+00, 0.00000000e+00,\n",
       "        0.00000000e+00, 0.00000000e+00, 0.00000000e+00, 0.00000000e+00,\n",
       "        0.00000000e+00, 9.35882486e-05]])"
      ]
     },
     "execution_count": 37,
     "metadata": {},
     "output_type": "execute_result"
    }
   ],
   "source": [
    "diag_sigma_J_final_r_J"
   ]
  },
  {
   "cell_type": "code",
   "execution_count": 38,
   "metadata": {},
   "outputs": [
    {
     "data": {
      "text/plain": [
       "array([4.62286808e+01, 3.39269159e+01, 3.00355780e+01, 2.09999889e+01,\n",
       "       1.48055677e+01, 1.19609933e+01, 6.32017254e+00, 3.27100957e+00,\n",
       "       2.02355572e+00, 2.96839583e-01, 1.30177438e-02, 4.56614531e-03,\n",
       "       8.17020522e-04, 5.06815248e-14, 4.10593167e-14, 9.57137874e-15,\n",
       "       9.34473571e-15, 8.95415328e-15, 8.20297383e-15, 7.96147432e-15,\n",
       "       7.51201869e-15, 7.30391584e-15, 7.17408787e-15, 6.97442858e-15,\n",
       "       6.82148583e-15, 6.65576112e-15, 6.58167458e-15, 6.54346057e-15,\n",
       "       6.27513737e-15, 6.19244671e-15, 6.11547690e-15, 5.33342065e-15,\n",
       "       4.82136918e-15, 4.62861884e-15, 4.61647197e-15, 4.46515522e-15,\n",
       "       3.97499187e-15, 3.53890055e-15, 3.53890055e-15, 3.53890055e-15,\n",
       "       3.53890055e-15, 3.53890055e-15, 3.53890055e-15, 3.53890055e-15,\n",
       "       3.53890055e-15, 3.53890055e-15, 3.53890055e-15, 3.53890055e-15,\n",
       "       3.53890055e-15, 3.53890055e-15, 3.53890055e-15, 3.53890055e-15,\n",
       "       3.53890055e-15, 3.53890055e-15, 3.53890055e-15, 3.53890055e-15,\n",
       "       3.53890055e-15, 3.53890055e-15, 3.53890055e-15, 3.53890055e-15,\n",
       "       3.53890055e-15, 3.53890055e-15, 3.53890055e-15, 3.53890055e-15,\n",
       "       3.53890055e-15, 3.53890055e-15, 3.53890055e-15, 3.53890055e-15,\n",
       "       3.53890055e-15, 3.53890055e-15, 3.53890055e-15, 3.53890055e-15,\n",
       "       3.53890055e-15, 3.53890055e-15, 3.53890055e-15, 3.53890055e-15,\n",
       "       3.53890055e-15, 3.53890055e-15, 3.53890055e-15, 3.53890055e-15,\n",
       "       3.53890055e-15, 3.53890055e-15, 3.53890055e-15, 3.53890055e-15,\n",
       "       3.53890055e-15, 3.53890055e-15, 3.53890055e-15, 3.53890055e-15,\n",
       "       3.53890055e-15, 3.24994080e-15, 3.11207043e-15, 2.41084925e-15,\n",
       "       2.27026329e-15, 2.23459519e-15, 2.18627469e-15, 1.67469108e-15,\n",
       "       1.64497176e-15, 1.21766391e-15, 9.77184224e-16, 4.76653486e-16])"
      ]
     },
     "execution_count": 38,
     "metadata": {},
     "output_type": "execute_result"
    }
   ],
   "source": [
    "sigma_J"
   ]
  },
  {
   "cell_type": "code",
   "execution_count": 39,
   "metadata": {},
   "outputs": [
    {
     "data": {
      "text/plain": [
       "[0.0,\n",
       " 986.0553084499174,\n",
       " 1234.9549791464667,\n",
       " 1696.0913927958077,\n",
       " 1917.8860925245474,\n",
       " 1994.0255658761093,\n",
       " 2097.1463468733655,\n",
       " 2126.391424190308,\n",
       " 2132.9961500245413,\n",
       " 2137.0028140477975,\n",
       " 2137.090758324094,\n",
       " 2137.090906936064,\n",
       " 2137.0909271182245,\n",
       " 2137.090927785747,\n",
       " 2137.090927785747,\n",
       " 2137.090927785747,\n",
       " 2137.090927785747,\n",
       " 2137.090927785747,\n",
       " 2137.090927785747,\n",
       " 2137.090927785747,\n",
       " 2137.090927785747,\n",
       " 2137.090927785747,\n",
       " 2137.090927785747,\n",
       " 2137.090927785747,\n",
       " 2137.090927785747,\n",
       " 2137.090927785747,\n",
       " 2137.090927785747,\n",
       " 2137.090927785747,\n",
       " 2137.090927785747,\n",
       " 2137.090927785747,\n",
       " 2137.090927785747,\n",
       " 2137.090927785747,\n",
       " 2137.090927785747,\n",
       " 2137.090927785747,\n",
       " 2137.090927785747,\n",
       " 2137.090927785747,\n",
       " 2137.090927785747,\n",
       " 2137.090927785747,\n",
       " 2137.090927785747,\n",
       " 2137.090927785747,\n",
       " 2137.090927785747,\n",
       " 2137.090927785747,\n",
       " 2137.090927785747,\n",
       " 2137.090927785747,\n",
       " 2137.090927785747,\n",
       " 2137.090927785747,\n",
       " 2137.090927785747,\n",
       " 2137.090927785747,\n",
       " 2137.090927785747,\n",
       " 2137.090927785747,\n",
       " 2137.090927785747,\n",
       " 2137.090927785747,\n",
       " 2137.090927785747,\n",
       " 2137.090927785747,\n",
       " 2137.090927785747,\n",
       " 2137.090927785747,\n",
       " 2137.090927785747,\n",
       " 2137.090927785747,\n",
       " 2137.090927785747,\n",
       " 2137.090927785747,\n",
       " 2137.090927785747,\n",
       " 2137.090927785747,\n",
       " 2137.090927785747,\n",
       " 2137.090927785747,\n",
       " 2137.090927785747,\n",
       " 2137.090927785747,\n",
       " 2137.090927785747,\n",
       " 2137.090927785747,\n",
       " 2137.090927785747,\n",
       " 2137.090927785747,\n",
       " 2137.090927785747,\n",
       " 2137.090927785747,\n",
       " 2137.090927785747,\n",
       " 2137.090927785747,\n",
       " 2137.090927785747,\n",
       " 2137.090927785747,\n",
       " 2137.090927785747,\n",
       " 2137.090927785747,\n",
       " 2137.090927785747,\n",
       " 2137.090927785747,\n",
       " 2137.090927785747,\n",
       " 2137.090927785747,\n",
       " 2137.090927785747,\n",
       " 2137.090927785747,\n",
       " 2137.090927785747,\n",
       " 2137.090927785747,\n",
       " 2137.090927785747,\n",
       " 2137.090927785747,\n",
       " 2137.090927785747,\n",
       " 2137.090927785747,\n",
       " 2137.090927785747,\n",
       " 2137.090927785747,\n",
       " 2137.090927785747,\n",
       " 2137.090927785747,\n",
       " 2137.090927785747,\n",
       " 2137.090927785747,\n",
       " 2137.090927785747,\n",
       " 2137.090927785747,\n",
       " 2137.090927785747,\n",
       " 2137.090927785747]"
      ]
     },
     "execution_count": 39,
     "metadata": {},
     "output_type": "execute_result"
    }
   ],
   "source": [
    "pcLasso_sigma_J"
   ]
  },
  {
   "cell_type": "code",
   "execution_count": 43,
   "metadata": {},
   "outputs": [
    {
     "data": {
      "text/plain": [
       "<function matplotlib.pyplot.show(close=None, block=None)>"
      ]
     },
     "execution_count": 43,
     "metadata": {},
     "output_type": "execute_result"
    },
    {
     "data": {
      "image/png": "[encoded data removed]",
      "text/plain": [
       "<Figure size 640x480 with 1 Axes>"
      ]
     },
     "metadata": {},
     "output_type": "display_data"
    }
   ],
   "source": [
    "plt.plot(sigma_J)\n",
    "plt.scatter(range(len(sigma_J)),sigma_J,color=\"black\")\n",
    "plt.show"
   ]
  },
  {
   "cell_type": "code",
   "execution_count": 58,
   "metadata": {},
   "outputs": [],
   "source": [
    "x=np.random.uniform(low=-0.1, high=0.1, size=(100,100))"
   ]
  },
  {
   "cell_type": "code",
   "execution_count": 56,
   "metadata": {},
   "outputs": [],
   "source": [
    "L,Lam,M=np.linalg.svd(x)"
   ]
  },
  {
   "cell_type": "code",
   "execution_count": 59,
   "metadata": {},
   "outputs": [
    {
     "data": {
      "text/plain": [
       "(99, 10)"
      ]
     },
     "execution_count": 59,
     "metadata": {},
     "output_type": "execute_result"
    }
   ],
   "source": [
    "L_1=L[:99,:10]\n",
    "L_1.shape"
   ]
  },
  {
   "cell_type": "code",
   "execution_count": 60,
   "metadata": {},
   "outputs": [
    {
     "data": {
      "text/plain": [
       "(100, 10)"
      ]
     },
     "execution_count": 60,
     "metadata": {},
     "output_type": "execute_result"
    }
   ],
   "source": [
    "L=L[:,:10]\n",
    "L.shape"
   ]
  },
  {
   "cell_type": "code",
   "execution_count": 61,
   "metadata": {},
   "outputs": [
    {
     "data": {
      "text/plain": [
       "array([[ 1.00000000e+00,  3.04087120e-16,  3.32502210e-17,\n",
       "        -5.05353733e-16, -2.78194923e-16, -3.89481992e-16,\n",
       "         4.65681915e-16, -9.33531332e-17, -9.03900441e-17,\n",
       "        -3.04341733e-17],\n",
       "       [ 3.04087120e-16,  1.00000000e+00, -5.32441243e-16,\n",
       "        -8.43748568e-16,  3.25685116e-16,  4.52438117e-17,\n",
       "         9.41925141e-17, -1.18464415e-16,  3.06176788e-16,\n",
       "        -6.45140593e-16],\n",
       "       [ 3.32502210e-17, -5.32441243e-16,  1.00000000e+00,\n",
       "        -1.53934847e-16, -4.39878495e-17, -3.61618813e-16,\n",
       "        -2.08904553e-16, -3.76149787e-16,  6.60849786e-17,\n",
       "         1.68187837e-17],\n",
       "       [-5.05353733e-16, -8.43748568e-16, -1.53934847e-16,\n",
       "         1.00000000e+00,  6.58772205e-16,  1.80021412e-16,\n",
       "        -1.11444901e-16, -2.94356124e-16, -3.79200470e-16,\n",
       "        -3.35865743e-16],\n",
       "       [-2.78194923e-16,  3.25685116e-16, -4.39878495e-17,\n",
       "         6.58772205e-16,  1.00000000e+00,  1.81686658e-17,\n",
       "        -1.44678855e-17, -2.25283645e-16, -1.08308910e-16,\n",
       "         1.35257479e-16],\n",
       "       [-3.89481992e-16,  4.52438117e-17, -3.61618813e-16,\n",
       "         1.80021412e-16,  1.81686658e-17,  1.00000000e+00,\n",
       "         2.58045297e-16, -2.68935283e-16,  2.28081839e-16,\n",
       "         1.34900297e-16],\n",
       "       [ 4.65681915e-16,  9.41925141e-17, -2.08904553e-16,\n",
       "        -1.11444901e-16, -1.44678855e-17,  2.58045297e-16,\n",
       "         1.00000000e+00, -4.54847141e-16, -1.02295167e-17,\n",
       "        -5.55834210e-17],\n",
       "       [-9.33531332e-17, -1.18464415e-16, -3.76149787e-16,\n",
       "        -2.94356124e-16, -2.25283645e-16, -2.68935283e-16,\n",
       "        -4.54847141e-16,  1.00000000e+00, -7.44320916e-19,\n",
       "         1.90033286e-16],\n",
       "       [-9.03900441e-17,  3.06176788e-16,  6.60849786e-17,\n",
       "        -3.79200470e-16, -1.08308910e-16,  2.28081839e-16,\n",
       "        -1.02295167e-17, -7.44320916e-19,  1.00000000e+00,\n",
       "        -1.12891937e-16],\n",
       "       [-3.04341733e-17, -6.45140593e-16,  1.68187837e-17,\n",
       "        -3.35865743e-16,  1.35257479e-16,  1.34900297e-16,\n",
       "        -5.55834210e-17,  1.90033286e-16, -1.12891937e-16,\n",
       "         1.00000000e+00]])"
      ]
     },
     "execution_count": 61,
     "metadata": {},
     "output_type": "execute_result"
    }
   ],
   "source": [
    "L.T.dot(L)"
   ]
  },
  {
   "cell_type": "code",
   "execution_count": 62,
   "metadata": {},
   "outputs": [
    {
     "data": {
      "text/plain": [
       "array([[ 9.86530337e-01, -2.96424617e-03, -1.38276797e-02,\n",
       "        -1.99697209e-02,  2.28439122e-04,  1.18539699e-02,\n",
       "         5.43788791e-03, -8.53062816e-04, -1.11929284e-02,\n",
       "        -1.71453707e-03],\n",
       "       [-2.96424617e-03,  9.99347663e-01, -3.04303424e-03,\n",
       "        -4.39470294e-03,  5.02722140e-05,  2.60868326e-03,\n",
       "         1.19670686e-03, -1.87732101e-04, -2.46320895e-03,\n",
       "        -3.77315292e-04],\n",
       "       [-1.38276797e-02, -3.04303424e-03,  9.85804788e-01,\n",
       "        -2.05005053e-02,  2.34510911e-04,  1.21690421e-02,\n",
       "         5.58242404e-03, -8.75736765e-04, -1.14904304e-02,\n",
       "        -1.76010853e-03],\n",
       "       [-1.99697209e-02, -4.39470294e-03, -2.05005053e-02,\n",
       "         9.70393488e-01,  3.38677027e-04,  1.75743422e-02,\n",
       "         8.06205037e-03, -1.26472548e-03, -1.65943017e-02,\n",
       "        -2.54192150e-03],\n",
       "       [ 2.28439122e-04,  5.02722140e-05,  2.34510911e-04,\n",
       "         3.38677027e-04,  9.99996126e-01, -2.01037727e-04,\n",
       "        -9.22240087e-05,  1.44675421e-05,  1.89826775e-04,\n",
       "         2.90777382e-05],\n",
       "       [ 1.18539699e-02,  2.60868326e-03,  1.21690421e-02,\n",
       "         1.75743422e-02, -2.01037727e-04,  9.89567920e-01,\n",
       "        -4.78561034e-03,  7.50737474e-04,  9.85033062e-03,\n",
       "         1.50887743e-03],\n",
       "       [ 5.43788791e-03,  1.19670686e-03,  5.58242404e-03,\n",
       "         8.06205037e-03, -9.22240087e-05, -4.78561034e-03,\n",
       "         9.97804650e-01,  3.44393166e-04,  4.51873879e-03,\n",
       "         6.92182142e-04],\n",
       "       [-8.53062816e-04, -1.87732101e-04, -8.75736765e-04,\n",
       "        -1.26472548e-03,  1.44675421e-05,  7.50737474e-04,\n",
       "         3.44393166e-04,  9.99945974e-01, -7.08872286e-04,\n",
       "        -1.08585329e-04],\n",
       "       [-1.11929284e-02, -2.46320895e-03, -1.14904304e-02,\n",
       "        -1.65943017e-02,  1.89826775e-04,  9.85033062e-03,\n",
       "         4.51873879e-03, -7.08872286e-04,  9.90698977e-01,\n",
       "        -1.42473425e-03],\n",
       "       [-1.71453707e-03, -3.77315292e-04, -1.76010853e-03,\n",
       "        -2.54192150e-03,  2.90777382e-05,  1.50887743e-03,\n",
       "         6.92182142e-04, -1.08585329e-04, -1.42473425e-03,\n",
       "         9.99781759e-01]])"
      ]
     },
     "execution_count": 62,
     "metadata": {},
     "output_type": "execute_result"
    }
   ],
   "source": [
    "L_1.T.dot(L_1)"
   ]
  },
  {
   "cell_type": "code",
   "execution_count": null,
   "metadata": {},
   "outputs": [
    {
     "data": {
      "text/plain": [
       "array([[ 9.86530337e-01, -2.96424617e-03, -1.38276797e-02,\n",
       "        -1.99697209e-02,  2.28439122e-04,  1.18539699e-02,\n",
       "         5.43788791e-03, -8.53062816e-04, -1.11929284e-02,\n",
       "        -1.71453707e-03],\n",
       "       [-2.96424617e-03,  9.99347663e-01, -3.04303424e-03,\n",
       "        -4.39470294e-03,  5.02722140e-05,  2.60868326e-03,\n",
       "         1.19670686e-03, -1.87732101e-04, -2.46320895e-03,\n",
       "        -3.77315292e-04],\n",
       "       [-1.38276797e-02, -3.04303424e-03,  9.85804788e-01,\n",
       "        -2.05005053e-02,  2.34510911e-04,  1.21690421e-02,\n",
       "         5.58242404e-03, -8.75736765e-04, -1.14904304e-02,\n",
       "        -1.76010853e-03],\n",
       "       [-1.99697209e-02, -4.39470294e-03, -2.05005053e-02,\n",
       "         9.70393488e-01,  3.38677027e-04,  1.75743422e-02,\n",
       "         8.06205037e-03, -1.26472548e-03, -1.65943017e-02,\n",
       "        -2.54192150e-03],\n",
       "       [ 2.28439122e-04,  5.02722140e-05,  2.34510911e-04,\n",
       "         3.38677027e-04,  9.99996126e-01, -2.01037727e-04,\n",
       "        -9.22240087e-05,  1.44675421e-05,  1.89826775e-04,\n",
       "         2.90777382e-05],\n",
       "       [ 1.18539699e-02,  2.60868326e-03,  1.21690421e-02,\n",
       "         1.75743422e-02, -2.01037727e-04,  9.89567920e-01,\n",
       "        -4.78561034e-03,  7.50737474e-04,  9.85033062e-03,\n",
       "         1.50887743e-03],\n",
       "       [ 5.43788791e-03,  1.19670686e-03,  5.58242404e-03,\n",
       "         8.06205037e-03, -9.22240087e-05, -4.78561034e-03,\n",
       "         9.97804650e-01,  3.44393166e-04,  4.51873879e-03,\n",
       "         6.92182142e-04],\n",
       "       [-8.53062816e-04, -1.87732101e-04, -8.75736765e-04,\n",
       "        -1.26472548e-03,  1.44675421e-05,  7.50737474e-04,\n",
       "         3.44393166e-04,  9.99945974e-01, -7.08872286e-04,\n",
       "        -1.08585329e-04],\n",
       "       [-1.11929284e-02, -2.46320895e-03, -1.14904304e-02,\n",
       "        -1.65943017e-02,  1.89826775e-04,  9.85033062e-03,\n",
       "         4.51873879e-03, -7.08872286e-04,  9.90698977e-01,\n",
       "        -1.42473425e-03],\n",
       "       [-1.71453707e-03, -3.77315292e-04, -1.76010853e-03,\n",
       "        -2.54192150e-03,  2.90777382e-05,  1.50887743e-03,\n",
       "         6.92182142e-04, -1.08585329e-04, -1.42473425e-03,\n",
       "         9.99781759e-01]])"
      ]
     },
     "metadata": {},
     "output_type": "display_data"
    }
   ],
   "source": [
    "L_1.T.dot(L_1)"
   ]
  }
 ],
 "metadata": {
  "kernelspec": {
   "display_name": "Python 3",
   "language": "python",
   "name": "python3"
  },
  "language_info": {
   "codemirror_mode": {
    "name": "ipython",
    "version": 3
   },
   "file_extension": ".py",
   "mimetype": "text/x-python",
   "name": "python",
   "nbconvert_exporter": "python",
   "pygments_lexer": "ipython3",
   "version": "3.9.6"
  },
  "orig_nbformat": 4
 },
 "nbformat": 4,
 "nbformat_minor": 2
}
