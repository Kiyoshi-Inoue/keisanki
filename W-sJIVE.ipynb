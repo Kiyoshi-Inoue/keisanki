{
 "cells": [
  {
   "cell_type": "code",
   "execution_count": 1,
   "metadata": {},
   "outputs": [],
   "source": [
    "from sklearn.model_selection import KFold\n",
    "import random\n",
    "import numpy as np\n",
    "from sklearn.preprocessing import StandardScaler\n",
    "import function\n",
    "import matplotlib.pyplot as plt\n",
    "import math\n",
    "import tqdm\n",
    "import optuna"
   ]
  },
  {
   "cell_type": "code",
   "execution_count": 2,
   "metadata": {},
   "outputs": [],
   "source": [
    "p_1=50\n",
    "p_2=50\n",
    "n=150\n",
    "r_J_or=10\n",
    "r_1_or=10\n",
    "r_2_or=10\n",
    "r_prop=1.0\n",
    "w_J=5.0\n",
    "w_1=5.0\n",
    "w_2=5.0\n",
    "X1_erro=0.001\n",
    "X2_erro=0.001\n",
    "y_erro=0.001"
   ]
  },
  {
   "attachments": {},
   "cell_type": "markdown",
   "metadata": {},
   "source": [
    "## データの生成"
   ]
  },
  {
   "cell_type": "code",
   "execution_count": 3,
   "metadata": {},
   "outputs": [],
   "source": [
    "X_1_al,X_2_al,y_al=function.gene_data(p_1,p_2,n,r_J_or,r_1_or,r_2_or,r_prop,w_J,w_1,w_2,X1_erro,X2_erro,y_erro)"
   ]
  },
  {
   "cell_type": "code",
   "execution_count": 4,
   "metadata": {},
   "outputs": [],
   "source": [
    "X_1_original=X_1_al[:,:100]\n",
    "X_2_original=X_2_al[:,:100]\n",
    "y_original=y_al[:,:100]\n",
    "\n",
    "X_1_test=X_1_al[:,100:150]\n",
    "X_2_test=X_2_al[:,100:150]\n",
    "y_test=y_al[:,100:150]"
   ]
  },
  {
   "cell_type": "code",
   "execution_count": 5,
   "metadata": {},
   "outputs": [],
   "source": [
    "df_tra=np.row_stack((X_1_original,X_2_original,y_original))\n",
    "df_tes=np.row_stack((X_1_test,X_2_test,y_test))"
   ]
  },
  {
   "attachments": {},
   "cell_type": "markdown",
   "metadata": {},
   "source": [
    "## 本当にこのデータが正しいのか検証"
   ]
  },
  {
   "cell_type": "code",
   "execution_count": 6,
   "metadata": {},
   "outputs": [],
   "source": [
    "from sklearn.linear_model import LinearRegression"
   ]
  },
  {
   "cell_type": "code",
   "execution_count": 7,
   "metadata": {},
   "outputs": [],
   "source": [
    "X=np.row_stack((X_1_original,X_2_original))\n",
    "XT=X.T\n",
    "yT=y_original.T\n",
    "reg = LinearRegression().fit(XT, yT)"
   ]
  },
  {
   "cell_type": "code",
   "execution_count": 8,
   "metadata": {},
   "outputs": [
    {
     "data": {
      "text/plain": [
       "2.0269271218691105"
      ]
     },
     "execution_count": 8,
     "metadata": {},
     "output_type": "execute_result"
    }
   ],
   "source": [
    "erro=np.linalg.norm(yT-XT.dot(reg.coef_.T),ord=2)**2\n",
    "erro"
   ]
  },
  {
   "cell_type": "code",
   "execution_count": 9,
   "metadata": {},
   "outputs": [
    {
     "data": {
      "text/plain": [
       "array([[-5.85405304e-01],\n",
       "       [ 5.74798314e-02],\n",
       "       [-3.15238682e-01],\n",
       "       [-1.08990718e-01],\n",
       "       [ 2.08833353e-01],\n",
       "       [-1.40557261e-01],\n",
       "       [-1.05931827e-01],\n",
       "       [-1.87253404e-01],\n",
       "       [-6.65474891e-01],\n",
       "       [-2.69952847e-01],\n",
       "       [-1.14802097e-02],\n",
       "       [-1.02535187e-03],\n",
       "       [ 9.66650773e-02],\n",
       "       [ 2.18421917e-01],\n",
       "       [ 5.08273947e-01],\n",
       "       [-3.57861369e-01],\n",
       "       [-3.01322018e-01],\n",
       "       [-2.87725353e-03],\n",
       "       [-7.98575835e-02],\n",
       "       [ 4.32696148e-01],\n",
       "       [-5.25727039e-01],\n",
       "       [ 1.29628049e-01],\n",
       "       [ 1.88244558e-01],\n",
       "       [-6.80931355e-01],\n",
       "       [-2.57361181e-01],\n",
       "       [-4.49614436e-01],\n",
       "       [-1.95192412e-01],\n",
       "       [-6.17382953e-01],\n",
       "       [-7.43686780e-01],\n",
       "       [-2.57260508e-01],\n",
       "       [-2.87962338e-01],\n",
       "       [-6.38405304e-01],\n",
       "       [ 3.31280836e-01],\n",
       "       [-3.53569538e-01],\n",
       "       [-1.33399009e-01],\n",
       "       [ 2.25088017e-01],\n",
       "       [ 8.22939400e-02],\n",
       "       [-4.13021784e-01],\n",
       "       [-2.16035380e-01],\n",
       "       [-1.03670837e+00],\n",
       "       [-4.25145013e-01],\n",
       "       [-5.27188474e-01],\n",
       "       [-5.27022645e-01],\n",
       "       [ 1.17254207e-02],\n",
       "       [ 6.52097898e-02],\n",
       "       [ 9.08478529e-02],\n",
       "       [ 1.73979449e-01],\n",
       "       [-2.57141861e-01],\n",
       "       [-3.58377587e-02],\n",
       "       [-4.10304081e-01],\n",
       "       [ 7.13196350e-01],\n",
       "       [-3.04304934e-01],\n",
       "       [-7.87960251e-01],\n",
       "       [-1.20905511e-01],\n",
       "       [-2.05977582e-01],\n",
       "       [ 3.21709073e-01],\n",
       "       [-2.63127266e-01],\n",
       "       [-7.46299914e-01],\n",
       "       [-7.06540006e-01],\n",
       "       [-3.06098919e-01],\n",
       "       [-4.98862116e-01],\n",
       "       [-7.72415430e-01],\n",
       "       [-1.02020772e-01],\n",
       "       [-4.81825714e-01],\n",
       "       [-4.32052777e-01],\n",
       "       [-1.50931596e-01],\n",
       "       [-3.04486951e-01],\n",
       "       [ 2.13496359e-01],\n",
       "       [ 3.55016579e-01],\n",
       "       [-2.52844935e-01],\n",
       "       [ 2.72698480e-01],\n",
       "       [-2.21724983e-01],\n",
       "       [ 1.09928950e-01],\n",
       "       [ 1.30526333e-01],\n",
       "       [-7.82869141e-01],\n",
       "       [-4.17563165e-03],\n",
       "       [ 7.47574979e-02],\n",
       "       [-5.13262436e-02],\n",
       "       [-2.49397443e-01],\n",
       "       [-8.56772204e-01],\n",
       "       [-4.95429297e-01],\n",
       "       [ 3.56970184e-01],\n",
       "       [-2.02349918e-01],\n",
       "       [ 2.08587477e-01],\n",
       "       [-1.88851498e-01],\n",
       "       [ 8.52728575e-02],\n",
       "       [-6.83767841e-01],\n",
       "       [-9.33381185e-02],\n",
       "       [-7.37977217e-02],\n",
       "       [ 1.84654134e-01],\n",
       "       [ 1.68809753e-01],\n",
       "       [ 2.80315612e-01],\n",
       "       [-9.07329171e-03],\n",
       "       [-6.48828790e-01],\n",
       "       [-2.65597599e-01],\n",
       "       [-9.60064517e-02],\n",
       "       [-1.43601991e-01],\n",
       "       [-4.45396599e-01],\n",
       "       [ 3.88470002e-01],\n",
       "       [-3.82312144e-01]])"
      ]
     },
     "execution_count": 9,
     "metadata": {},
     "output_type": "execute_result"
    }
   ],
   "source": [
    "yT"
   ]
  },
  {
   "cell_type": "code",
   "execution_count": null,
   "metadata": {},
   "outputs": [],
   "source": []
  },
  {
   "attachments": {},
   "cell_type": "markdown",
   "metadata": {},
   "source": [
    "## W-sJIVE-decompositionを実装"
   ]
  },
  {
   "attachments": {},
   "cell_type": "markdown",
   "metadata": {},
   "source": [
    "### 分解"
   ]
  },
  {
   "cell_type": "code",
   "execution_count": 11,
   "metadata": {},
   "outputs": [],
   "source": [
    "times=100\n",
    "threshold=0.1\n",
    "r_J=40\n",
    "r_1=40\n",
    "r_2=40\n"
   ]
  },
  {
   "cell_type": "code",
   "execution_count": 12,
   "metadata": {},
   "outputs": [
    {
     "name": "stderr",
     "output_type": "stream",
     "text": [
      "  2%|▏         | 2/100 [00:00<00:04, 22.87it/s]\n"
     ]
    }
   ],
   "source": [
    "erro_lis,erro_best,S_J_best,U_1_best,U_2_best,S_1_best,W_1_best,S_2_best,W_2_best,sigma_J_best,sigma_1_best,sigma_2_best,hat_X_best=function.W_sJIVE_decompositon_1(\n",
    "    times=times,r_J=r_J,r_1=r_1,r_2=r_2,X_1_or=X_1_original,X_2_or=X_2_original,threshold=threshold\n",
    ")\n"
   ]
  },
  {
   "cell_type": "code",
   "execution_count": 13,
   "metadata": {},
   "outputs": [
    {
     "data": {
      "text/plain": [
       "[461.3096556545572,\n",
       " 617.8988765565349,\n",
       " 617.1197955211347,\n",
       " 617.1380384527499,\n",
       " 616.728184689983,\n",
       " 616.7619055842626,\n",
       " 0.15068677833905122,\n",
       " 2558.703165927566,\n",
       " 2558.7064667867976,\n",
       " 2558.709515728182,\n",
       " 2558.6638754002706,\n",
       " 2558.667551048768,\n",
       " 0.055259236512575645]"
      ]
     },
     "execution_count": 13,
     "metadata": {},
     "output_type": "execute_result"
    }
   ],
   "source": [
    "erro_lis"
   ]
  },
  {
   "cell_type": "code",
   "execution_count": 14,
   "metadata": {},
   "outputs": [
    {
     "data": {
      "text/plain": [
       "array([[ 0.02109614, -0.3736289 ,  0.37443546, ...,  0.09120635,\n",
       "        -0.15522169,  0.18616718],\n",
       "       [-0.08093684, -0.00218063, -0.50057854, ...,  0.12327294,\n",
       "         0.23094245, -0.18665605],\n",
       "       [-0.09107212, -0.49050233, -0.38465181, ..., -0.43161308,\n",
       "        -0.33745386, -0.13224536],\n",
       "       ...,\n",
       "       [ 0.22052834, -0.21000819, -0.05759824, ...,  0.25023366,\n",
       "        -0.05475891,  0.6244729 ],\n",
       "       [ 0.00232104,  0.06719086,  0.05910269, ..., -0.279626  ,\n",
       "        -0.6530456 , -0.10649147],\n",
       "       [ 0.41195189,  0.25004823,  0.16643902, ...,  0.00769651,\n",
       "         0.28469325,  0.18174049]])"
      ]
     },
     "execution_count": 14,
     "metadata": {},
     "output_type": "execute_result"
    }
   ],
   "source": [
    "X=np.row_stack((X_1_original,X_2_original))\n",
    "X"
   ]
  },
  {
   "cell_type": "code",
   "execution_count": 15,
   "metadata": {},
   "outputs": [
    {
     "data": {
      "text/plain": [
       "array([[ 1.43337140e-02, -3.75340351e-01,  3.71208042e-01, ...,\n",
       "         9.42636899e-02, -1.51146444e-01,  1.90084067e-01],\n",
       "       [-7.46469812e-02, -1.10414353e-02, -4.85710491e-01, ...,\n",
       "         1.22777196e-01,  2.21339573e-01, -2.02491868e-01],\n",
       "       [-7.51479416e-02, -4.93890521e-01, -3.86485324e-01, ...,\n",
       "        -4.61908500e-01, -3.41031645e-01, -1.30380526e-01],\n",
       "       ...,\n",
       "       [ 2.36814696e-01, -2.05635022e-01, -4.18124244e-02, ...,\n",
       "         2.49218029e-01, -5.66817266e-02,  6.25065628e-01],\n",
       "       [ 3.53185800e-03,  6.80483506e-02,  6.81175061e-02, ...,\n",
       "        -2.76846391e-01, -6.39663435e-01, -1.05575459e-01],\n",
       "       [ 3.99600367e-01,  2.64413303e-01,  1.64387314e-01, ...,\n",
       "        -3.11458775e-04,  2.90516417e-01,  1.75515600e-01]])"
      ]
     },
     "execution_count": 15,
     "metadata": {},
     "output_type": "execute_result"
    }
   ],
   "source": [
    "hat_X_best"
   ]
  },
  {
   "attachments": {},
   "cell_type": "markdown",
   "metadata": {},
   "source": [
    "### 最小二乗法で解いてみる"
   ]
  },
  {
   "cell_type": "code",
   "execution_count": 16,
   "metadata": {},
   "outputs": [],
   "source": [
    "#最小二乗法では解けるので自分のコードのミス\n",
    "erro_y_lis=[]\n",
    "theta_1=theta_1_best=np.random.uniform(low=-0.1, high=0.1, size=int(r_J))\n",
    "theta_21=theta_21_best=np.random.uniform(low=-0.1, high=0.1, size=int(r_1))\n",
    "theta_22=theta_22_best=np.random.uniform(low=-0.1, high=0.1, size=int(r_2))\n",
    "for l in range(10):\n",
    "    theta_1=(y_original-theta_21.dot(S_1_best)-theta_22.dot(S_2_best)).dot(S_J_best.T).dot(np.linalg.inv(S_J_best.dot(S_J_best.T)))\n",
    "    theta_21=(y_original-theta_1.dot(S_J_best)-theta_22.dot(S_2_best)).dot(S_1_best.T).dot(np.linalg.inv(S_1_best.dot(S_1_best.T)))\n",
    "    theta_22=(y_original-theta_1.dot(S_J_best)-theta_21.dot(S_1_best)).dot(S_2_best.T).dot(np.linalg.inv(S_2_best.dot(S_2_best.T)))\n",
    "    hat_y=theta_1.dot(S_J_best)+theta_21.dot(S_1_best)+theta_22.dot(S_2_best)\n",
    "    erro=np.linalg.norm(y_original-hat_y,ord=2)**2\n",
    "    erro_y_lis.append(erro)"
   ]
  },
  {
   "cell_type": "code",
   "execution_count": 17,
   "metadata": {},
   "outputs": [
    {
     "data": {
      "text/plain": [
       "[0.01152018951537879,\n",
       " 0.010407068556299363,\n",
       " 0.00996418833032752,\n",
       " 0.009716003886430598,\n",
       " 0.0095632076075806,\n",
       " 0.009462738565590118,\n",
       " 0.009392826955688499,\n",
       " 0.009341720837877529,\n",
       " 0.009302783868325627,\n",
       " 0.009272117221197782]"
      ]
     },
     "execution_count": 17,
     "metadata": {},
     "output_type": "execute_result"
    }
   ],
   "source": [
    "erro_y_lis"
   ]
  },
  {
   "attachments": {},
   "cell_type": "markdown",
   "metadata": {},
   "source": [
    "### 回帰係数のスパース推定"
   ]
  },
  {
   "cell_type": "code",
   "execution_count": 18,
   "metadata": {},
   "outputs": [],
   "source": [
    "times=100\n",
    "threshold=0.001\n",
    "lam_J=0.01\n",
    "lam_1=0.001\n",
    "lam_2=0.001\n",
    "gamma=0"
   ]
  },
  {
   "cell_type": "code",
   "execution_count": 19,
   "metadata": {},
   "outputs": [
    {
     "name": "stderr",
     "output_type": "stream",
     "text": [
      "100%|██████████| 100/100 [00:00<00:00, 565.12it/s]\n"
     ]
    }
   ],
   "source": [
    "erro_y_lis,erro_best,theta_1_best,theta_21_best,theta_22_best,hat_y_best=function.W_sJIVE_decomposition_2(\n",
    "    y_original,threshold,times,lam_J,lam_1,lam_2,gamma,S_J_best,S_1_best,S_2_best,sigma_J_best,sigma_1_best,sigma_2_best\n",
    ")"
   ]
  },
  {
   "cell_type": "code",
   "execution_count": 20,
   "metadata": {},
   "outputs": [
    {
     "data": {
      "text/plain": [
       "0.035218211907437"
      ]
     },
     "execution_count": 20,
     "metadata": {},
     "output_type": "execute_result"
    }
   ],
   "source": [
    "erro_best"
   ]
  },
  {
   "cell_type": "code",
   "execution_count": 21,
   "metadata": {},
   "outputs": [
    {
     "data": {
      "text/plain": [
       "[0.045368934175958914,\n",
       " 0.033359674898243236,\n",
       " 0.03245402232980159,\n",
       " 0.031970298418812805,\n",
       " 0.0315423351940052,\n",
       " 0.03144721997930415,\n",
       " 0.03272647653592814,\n",
       " 0.032937232601828854,\n",
       " 0.03295587107211288,\n",
       " 0.033395761653247084,\n",
       " 0.033258491476034685,\n",
       " 0.033377525712881835,\n",
       " 0.033880046493500834,\n",
       " 0.033715023651847705,\n",
       " 0.03385442157898154,\n",
       " 0.03418804065337352,\n",
       " 0.03406287543981411,\n",
       " 0.03415943519430571,\n",
       " 0.034443644607228804,\n",
       " 0.034368411677367317,\n",
       " 0.03445394340282873,\n",
       " 0.034641326967499005,\n",
       " 0.0345896417189757,\n",
       " 0.03464286404905927,\n",
       " 0.03478544568682806,\n",
       " 0.03475747458923214,\n",
       " 0.03479515381788392,\n",
       " 0.034889340883533335,\n",
       " 0.03487159053144257,\n",
       " 0.03489200989913167,\n",
       " 0.03497146921871519,\n",
       " 0.03496466071467396,\n",
       " 0.03498496194445021,\n",
       " 0.035040515091816694,\n",
       " 0.0350246888103604,\n",
       " 0.03503902149362847,\n",
       " 0.035082304756898997,\n",
       " 0.035075364713735055,\n",
       " 0.03508888927291428,\n",
       " 0.03512011943952298,\n",
       " 0.03511271291630954,\n",
       " 0.03512165546990776,\n",
       " 0.035144949333643816,\n",
       " 0.03513981722436399,\n",
       " 0.035146738296010664,\n",
       " 0.0351639209344105,\n",
       " 0.03515961780590248,\n",
       " 0.035164332523485414,\n",
       " 0.035177360256737546,\n",
       " 0.035174459870716074,\n",
       " 0.03517819360648198,\n",
       " 0.035187838557393616,\n",
       " 0.03518541135537091,\n",
       " 0.035187983578485446,\n",
       " 0.0351953057608184,\n",
       " 0.03519366626068593,\n",
       " 0.035195724040627416,\n",
       " 0.03520115037663756,\n",
       " 0.03519978102168387,\n",
       " 0.03520120695832383,\n",
       " 0.03520532908520721,\n",
       " 0.0352044034392955,\n",
       " 0.03520555023618508,\n",
       " 0.03520860700588681,\n",
       " 0.035207834518621646,\n",
       " 0.035208631607733125,\n",
       " 0.035210954658757135,\n",
       " 0.0352104322254677,\n",
       " 0.035211075076942634,\n",
       " 0.03521279840224611,\n",
       " 0.03521236257138182,\n",
       " 0.03521281011715466,\n",
       " 0.03521412012257149,\n",
       " 0.035213825281286644,\n",
       " 0.03521418677103845,\n",
       " 0.03521515880176882,\n",
       " 0.03521491287616089,\n",
       " 0.03521516476268885,\n",
       " 0.03521590377411242,\n",
       " 0.03521573737458209,\n",
       " 0.035215940993403985,\n",
       " 0.035216489416099894,\n",
       " 0.03521635063387836,\n",
       " 0.03521649258364588,\n",
       " 0.03521690957287878,\n",
       " 0.03521681565958867,\n",
       " 0.03521693045912813,\n",
       " 0.035217239931633115,\n",
       " 0.03521716160811202,\n",
       " 0.03521724165972785,\n",
       " 0.03521747697681517,\n",
       " 0.03521742397258265,\n",
       " 0.03521748872859585,\n",
       " 0.03521766337888237,\n",
       " 0.035217619174302356,\n",
       " 0.03521766433614315,\n",
       " 0.03521779714072249,\n",
       " 0.0352177672250046,\n",
       " 0.03521780376246011,\n",
       " 0.03521790233120082,\n",
       " 0.035217877382277885,\n",
       " 0.03521790286602165,\n",
       " 0.03521797781915015,\n",
       " 0.03521796093452315,\n",
       " 0.035217981553186374,\n",
       " 0.035218037184786,\n",
       " 0.03521802310352321,\n",
       " 0.03521803748499987,\n",
       " 0.03521807978845012,\n",
       " 0.035218070258616264,\n",
       " 0.035218081894978395,\n",
       " 0.03521811329360085,\n",
       " 0.035218105346031495,\n",
       " 0.03521811346255241,\n",
       " 0.0352181373388398,\n",
       " 0.03521813196010369,\n",
       " 0.035218138527488924,\n",
       " 0.03521815624910006,\n",
       " 0.03521815176341613,\n",
       " 0.03521815634431162,\n",
       " 0.035218169820294194,\n",
       " 0.03521816678447601,\n",
       " 0.03521817049109264,\n",
       " 0.03521818049334209,\n",
       " 0.03521817796157401,\n",
       " 0.03521818054703713,\n",
       " 0.0352181881530219,\n",
       " 0.035218186439571086,\n",
       " 0.03521818853160219,\n",
       " 0.035218194176981577,\n",
       " 0.03521819274802286,\n",
       " 0.03521819420727485,\n",
       " 0.0352181985001787,\n",
       " 0.03521819753308679,\n",
       " 0.03521819871384625,\n",
       " 0.03521820190016402,\n",
       " 0.03521820109364287,\n",
       " 0.03521820191725809,\n",
       " 0.035218204340223755,\n",
       " 0.03521820379438549,\n",
       " 0.03521820446081806,\n",
       " 0.035218206259213826,\n",
       " 0.035218205804003644,\n",
       " 0.035218206268860845,\n",
       " 0.035218207636411904,\n",
       " 0.03521820732833414,\n",
       " 0.035218207704476104,\n",
       " 0.03521820871951246,\n",
       " 0.035218208462586297,\n",
       " 0.03521820872495698,\n",
       " 0.035218209496819364,\n",
       " 0.035218209322936525,\n",
       " 0.03521820953523547,\n",
       " 0.035218210108134286,\n",
       " 0.035218209963122075,\n",
       " 0.03521821011120719,\n",
       " 0.03521821054685581,\n",
       " 0.035218210448714225,\n",
       " 0.03521821056853829,\n",
       " 0.03521821089188952,\n",
       " 0.03521821081004282,\n",
       " 0.035218210893623834,\n",
       " 0.03521821113950912,\n",
       " 0.03521821108411682,\n",
       " 0.03521821115174698,\n",
       " 0.035218211334250356,\n",
       " 0.03521821128805502,\n",
       " 0.0352182113352292,\n",
       " 0.03521821147401002,\n",
       " 0.0352182114427459,\n",
       " 0.03521821148091718,\n",
       " 0.03521821158392426,\n",
       " 0.03521821155785113,\n",
       " 0.035218211584476806,\n",
       " 0.03521821166280639,\n",
       " 0.0352182116451605,\n",
       " 0.03521821166670483,\n",
       " 0.03521821172484328,\n",
       " 0.035218211710127276,\n",
       " 0.03521821172515515,\n",
       " 0.03521821176936532,\n",
       " 0.03521821175940578,\n",
       " 0.035218211771565686,\n",
       " 0.03521821180437973,\n",
       " 0.035218211796073845,\n",
       " 0.035218211804555734,\n",
       " 0.035218211829508475,\n",
       " 0.03521821182388721,\n",
       " 0.035218211830750384,\n",
       " 0.03521821184927113,\n",
       " 0.035218211844583173,\n",
       " 0.03521821184937046,\n",
       " 0.03521821186345411,\n",
       " 0.03521821186028139,\n",
       " 0.03521821186415503,\n",
       " 0.035218211874608295,\n",
       " 0.035218211871962356,\n",
       " 0.03521821187466436,\n",
       " 0.03521821188261335,\n",
       " 0.03521821188082263,\n",
       " 0.035218211883009005,\n",
       " 0.035218211888908994,\n",
       " 0.03521821188741555,\n",
       " 0.03521821188894059,\n",
       " 0.0352182118934271,\n",
       " 0.035218211892416404,\n",
       " 0.03521821189365041,\n",
       " 0.03521821189698036,\n",
       " 0.035218211896137455,\n",
       " 0.03521821189699819,\n",
       " 0.03521821189953047,\n",
       " 0.03521821189896,\n",
       " 0.0352182118996565,\n",
       " 0.035218211901536046,\n",
       " 0.03521821190106029,\n",
       " 0.03521821190154611,\n",
       " 0.0352182119029754,\n",
       " 0.03521821190265344,\n",
       " 0.035218211903046547,\n",
       " 0.03521821190410721,\n",
       " 0.03521821190383873,\n",
       " 0.035218211904112943,\n",
       " 0.035218211904919604,\n",
       " 0.03521821190473786,\n",
       " 0.03521821190495975,\n",
       " 0.03521821190555855,\n",
       " 0.035218211905406985,\n",
       " 0.03521821190556176,\n",
       " 0.03521821190601701,\n",
       " 0.03521821190591446,\n",
       " 0.03521821190603967,\n",
       " 0.0352182119063776,\n",
       " 0.03521821190629203,\n",
       " 0.035218211906379374,\n",
       " 0.035218211906636335,\n",
       " 0.03521821190657844,\n",
       " 0.03521821190664915,\n",
       " 0.03521821190683994,\n",
       " 0.03521821190679167,\n",
       " 0.03521821190684096,\n",
       " 0.03521821190698604,\n",
       " 0.03521821190695334,\n",
       " 0.03521821190699324,\n",
       " 0.03521821190710087,\n",
       " 0.03521821190707363,\n",
       " 0.035218211907101435,\n",
       " 0.035218211907183355,\n",
       " 0.03521821190716486,\n",
       " 0.035218211907187366,\n",
       " 0.03521821190724811,\n",
       " 0.035218211907232726,\n",
       " 0.035218211907248456,\n",
       " 0.035218211907294635,\n",
       " 0.035218211907284254,\n",
       " 0.03521821190729698,\n",
       " 0.03521821190733137,\n",
       " 0.03521821190732268,\n",
       " 0.035218211907331536,\n",
       " 0.03521821190735755,\n",
       " 0.035218211907351665,\n",
       " 0.0352182119073588,\n",
       " 0.03521821190737813,\n",
       " 0.03521821190737324,\n",
       " 0.035218211907378234,\n",
       " 0.035218211907392966,\n",
       " 0.03521821190738968,\n",
       " 0.035218211907393694,\n",
       " 0.035218211907404644,\n",
       " 0.03521821190740186,\n",
       " 0.035218211907404685,\n",
       " 0.03521821190741302,\n",
       " 0.035218211907411166,\n",
       " 0.035218211907413435,\n",
       " 0.03521821190741958,\n",
       " 0.03521821190741802,\n",
       " 0.03521821190741962,\n",
       " 0.0352182119074244,\n",
       " 0.035218211907423344,\n",
       " 0.03521821190742463,\n",
       " 0.03521821190742799,\n",
       " 0.03521821190742712,\n",
       " 0.035218211907428056,\n",
       " 0.03521821190743071,\n",
       " 0.035218211907430116,\n",
       " 0.035218211907430845,\n",
       " 0.03521821190743275,\n",
       " 0.03521821190743228,\n",
       " 0.035218211907432795,\n",
       " 0.03521821190743438,\n",
       " 0.035218211907434,\n",
       " 0.03521821190743445,\n",
       " 0.03521821190743544,\n",
       " 0.03521821190743517,\n",
       " 0.03521821190743548,\n",
       " 0.035218211907436285,\n",
       " 0.03521821190743612,\n",
       " 0.03521821190743631,\n",
       " 0.035218211907437,\n",
       " 0.03521821190743685,\n",
       " 0.035218211907437]"
      ]
     },
     "execution_count": 21,
     "metadata": {},
     "output_type": "execute_result"
    }
   ],
   "source": [
    "erro_y_lis"
   ]
  },
  {
   "cell_type": "code",
   "execution_count": 23,
   "metadata": {},
   "outputs": [
    {
     "data": {
      "text/plain": [
       "array([[-5.85405304e-01,  5.74798314e-02, -3.15238682e-01,\n",
       "        -1.08990718e-01,  2.08833353e-01, -1.40557261e-01,\n",
       "        -1.05931827e-01, -1.87253404e-01, -6.65474891e-01,\n",
       "        -2.69952847e-01, -1.14802097e-02, -1.02535187e-03,\n",
       "         9.66650773e-02,  2.18421917e-01,  5.08273947e-01,\n",
       "        -3.57861369e-01, -3.01322018e-01, -2.87725353e-03,\n",
       "        -7.98575835e-02,  4.32696148e-01, -5.25727039e-01,\n",
       "         1.29628049e-01,  1.88244558e-01, -6.80931355e-01,\n",
       "        -2.57361181e-01, -4.49614436e-01, -1.95192412e-01,\n",
       "        -6.17382953e-01, -7.43686780e-01, -2.57260508e-01,\n",
       "        -2.87962338e-01, -6.38405304e-01,  3.31280836e-01,\n",
       "        -3.53569538e-01, -1.33399009e-01,  2.25088017e-01,\n",
       "         8.22939400e-02, -4.13021784e-01, -2.16035380e-01,\n",
       "        -1.03670837e+00, -4.25145013e-01, -5.27188474e-01,\n",
       "        -5.27022645e-01,  1.17254207e-02,  6.52097898e-02,\n",
       "         9.08478529e-02,  1.73979449e-01, -2.57141861e-01,\n",
       "        -3.58377587e-02, -4.10304081e-01,  7.13196350e-01,\n",
       "        -3.04304934e-01, -7.87960251e-01, -1.20905511e-01,\n",
       "        -2.05977582e-01,  3.21709073e-01, -2.63127266e-01,\n",
       "        -7.46299914e-01, -7.06540006e-01, -3.06098919e-01,\n",
       "        -4.98862116e-01, -7.72415430e-01, -1.02020772e-01,\n",
       "        -4.81825714e-01, -4.32052777e-01, -1.50931596e-01,\n",
       "        -3.04486951e-01,  2.13496359e-01,  3.55016579e-01,\n",
       "        -2.52844935e-01,  2.72698480e-01, -2.21724983e-01,\n",
       "         1.09928950e-01,  1.30526333e-01, -7.82869141e-01,\n",
       "        -4.17563165e-03,  7.47574979e-02, -5.13262436e-02,\n",
       "        -2.49397443e-01, -8.56772204e-01, -4.95429297e-01,\n",
       "         3.56970184e-01, -2.02349918e-01,  2.08587477e-01,\n",
       "        -1.88851498e-01,  8.52728575e-02, -6.83767841e-01,\n",
       "        -9.33381185e-02, -7.37977217e-02,  1.84654134e-01,\n",
       "         1.68809753e-01,  2.80315612e-01, -9.07329171e-03,\n",
       "        -6.48828790e-01, -2.65597599e-01, -9.60064517e-02,\n",
       "        -1.43601991e-01, -4.45396599e-01,  3.88470002e-01,\n",
       "        -3.82312144e-01]])"
      ]
     },
     "execution_count": 23,
     "metadata": {},
     "output_type": "execute_result"
    }
   ],
   "source": [
    "y_original"
   ]
  },
  {
   "cell_type": "code",
   "execution_count": 24,
   "metadata": {},
   "outputs": [
    {
     "data": {
      "text/plain": [
       "array([-0.58705022,  0.05451162, -0.30467862, -0.09041311,  0.18581668,\n",
       "       -0.13024211, -0.10335446, -0.190213  , -0.64656097, -0.30666091,\n",
       "       -0.02204696,  0.00564755,  0.13962052,  0.24056495,  0.51228193,\n",
       "       -0.33379134, -0.31636225,  0.02538505, -0.06491157,  0.42552204,\n",
       "       -0.51588973,  0.12296749,  0.18464471, -0.66966183, -0.25727408,\n",
       "       -0.42162377, -0.18488342, -0.60929626, -0.7403595 , -0.26219284,\n",
       "       -0.30489136, -0.61767123,  0.35430394, -0.32151167, -0.1287588 ,\n",
       "        0.19540795,  0.07348844, -0.42068588, -0.21314958, -1.05945431,\n",
       "       -0.3757655 , -0.50012989, -0.52169403,  0.00469204,  0.02620326,\n",
       "        0.08536717,  0.16671364, -0.2292115 , -0.02851321, -0.39405434,\n",
       "        0.69431313, -0.30308476, -0.79932673, -0.11468638, -0.2305366 ,\n",
       "        0.3160375 , -0.2434857 , -0.7641769 , -0.74553711, -0.2981797 ,\n",
       "       -0.51599072, -0.78258583, -0.07129019, -0.4801715 , -0.42556137,\n",
       "       -0.13525067, -0.31834611,  0.19552881,  0.31249202, -0.24125847,\n",
       "        0.26136498, -0.22683824,  0.09113025,  0.11752909, -0.78514783,\n",
       "        0.03232099,  0.06937578, -0.04133502, -0.2480772 , -0.83943042,\n",
       "       -0.49041579,  0.35410251, -0.24511526,  0.19351433, -0.20499981,\n",
       "        0.06731799, -0.68514643, -0.09770765, -0.04536252,  0.18465066,\n",
       "        0.13677043,  0.27646288, -0.04632725, -0.64773831, -0.25734346,\n",
       "       -0.11410346, -0.15813653, -0.45716272,  0.40520473, -0.38393537])"
      ]
     },
     "execution_count": 24,
     "metadata": {},
     "output_type": "execute_result"
    }
   ],
   "source": [
    "hat_y_best"
   ]
  },
  {
   "cell_type": "code",
   "execution_count": 25,
   "metadata": {},
   "outputs": [
    {
     "data": {
      "text/plain": [
       "<function matplotlib.pyplot.show(close=None, block=None)>"
      ]
     },
     "execution_count": 25,
     "metadata": {},
     "output_type": "execute_result"
    },
    {
     "data": {
      "image/png": "[encoded data removed]",
      "text/plain": [
       "<Figure size 640x480 with 1 Axes>"
      ]
     },
     "metadata": {},
     "output_type": "display_data"
    }
   ],
   "source": [
    "plt.plot(erro_y_lis)\n",
    "plt.scatter(range(len(erro_y_lis)),erro_y_lis,color=\"black\")\n",
    "plt.show"
   ]
  },
  {
   "attachments": {},
   "cell_type": "markdown",
   "metadata": {},
   "source": [
    "### 非ゼロの係数のみを残す"
   ]
  },
  {
   "cell_type": "code",
   "execution_count": 26,
   "metadata": {},
   "outputs": [
    {
     "data": {
      "text/plain": [
       "array([ 0.08039532, -0.03100526,  0.00182704, -0.06298138, -0.15527392,\n",
       "        0.08992492,  0.10002758, -0.14933919,  0.02079624,  0.0169161 ,\n",
       "       -0.08590838, -0.07312483, -0.05023824,  0.29835555, -0.13090565,\n",
       "        0.05782476,  0.26608498, -0.09529091,  0.07624428, -0.14560131,\n",
       "        0.31761064,  0.35035023,  0.31265015, -0.04148221, -0.13191669,\n",
       "       -0.17727011,  0.24849901,  0.00998813,  0.12093115,  0.0779991 ,\n",
       "        0.06291835, -0.83191694,  0.09155816,  0.        ,  0.        ,\n",
       "        0.        ,  0.        ,  0.        ,  0.        ,  0.        ])"
      ]
     },
     "execution_count": 26,
     "metadata": {},
     "output_type": "execute_result"
    }
   ],
   "source": [
    "theta_1_best"
   ]
  },
  {
   "cell_type": "code",
   "execution_count": 41,
   "metadata": {},
   "outputs": [
    {
     "data": {
      "text/plain": [
       "(33,)"
      ]
     },
     "execution_count": 41,
     "metadata": {},
     "output_type": "execute_result"
    }
   ],
   "source": [
    "nonzero_theta_1 = np.nonzero(theta_1_best)[0]\n",
    "theta_1_best_sparse=theta_1_best[nonzero_theta_1]\n",
    "theta_1_best_sparse.shape"
   ]
  },
  {
   "cell_type": "code",
   "execution_count": 28,
   "metadata": {},
   "outputs": [
    {
     "data": {
      "text/plain": [
       "(50, 33)"
      ]
     },
     "execution_count": 28,
     "metadata": {},
     "output_type": "execute_result"
    }
   ],
   "source": [
    "U_1_best_sparse=U_1_best[:,nonzero_theta_1]\n",
    "U_1_best_sparse.shape"
   ]
  },
  {
   "cell_type": "code",
   "execution_count": 29,
   "metadata": {},
   "outputs": [
    {
     "data": {
      "text/plain": [
       "(50, 33)"
      ]
     },
     "execution_count": 29,
     "metadata": {},
     "output_type": "execute_result"
    }
   ],
   "source": [
    "U_2_best_sparse=U_2_best[:,nonzero_theta_1]\n",
    "U_2_best_sparse.shape"
   ]
  },
  {
   "cell_type": "code",
   "execution_count": 30,
   "metadata": {},
   "outputs": [
    {
     "data": {
      "text/plain": [
       "(33, 100)"
      ]
     },
     "execution_count": 30,
     "metadata": {},
     "output_type": "execute_result"
    }
   ],
   "source": [
    "S_J_best_sparse=S_J_best[nonzero_theta_1,:]\n",
    "S_J_best_sparse.shape"
   ]
  },
  {
   "cell_type": "code",
   "execution_count": 42,
   "metadata": {},
   "outputs": [
    {
     "data": {
      "text/plain": [
       "(13,)"
      ]
     },
     "execution_count": 42,
     "metadata": {},
     "output_type": "execute_result"
    }
   ],
   "source": [
    "nonzero_theta_21 = np.nonzero(theta_21_best)[0]\n",
    "theta_21_best_sparse=theta_21_best[nonzero_theta_21]\n",
    "theta_21_best_sparse.shape"
   ]
  },
  {
   "cell_type": "code",
   "execution_count": 32,
   "metadata": {},
   "outputs": [
    {
     "data": {
      "text/plain": [
       "(50, 13)"
      ]
     },
     "execution_count": 32,
     "metadata": {},
     "output_type": "execute_result"
    }
   ],
   "source": [
    "W_1_best_sparse=W_1_best[:,nonzero_theta_21]\n",
    "W_1_best_sparse.shape"
   ]
  },
  {
   "cell_type": "code",
   "execution_count": 34,
   "metadata": {},
   "outputs": [
    {
     "data": {
      "text/plain": [
       "(13, 100)"
      ]
     },
     "execution_count": 34,
     "metadata": {},
     "output_type": "execute_result"
    }
   ],
   "source": [
    "S_1_best_sparse=S_1_best[nonzero_theta_21,:]\n",
    "S_1_best_sparse.shape"
   ]
  },
  {
   "cell_type": "code",
   "execution_count": 43,
   "metadata": {},
   "outputs": [
    {
     "data": {
      "text/plain": [
       "(9,)"
      ]
     },
     "execution_count": 43,
     "metadata": {},
     "output_type": "execute_result"
    }
   ],
   "source": [
    "nonzero_theta_22 = np.nonzero(theta_22_best)[0]\n",
    "theta_22_best_sparse=theta_22_best[nonzero_theta_22]\n",
    "theta_22_best_sparse.shape"
   ]
  },
  {
   "cell_type": "code",
   "execution_count": 36,
   "metadata": {},
   "outputs": [
    {
     "data": {
      "text/plain": [
       "(50, 9)"
      ]
     },
     "execution_count": 36,
     "metadata": {},
     "output_type": "execute_result"
    }
   ],
   "source": [
    "W_2_best_sparse=W_2_best[:,nonzero_theta_22]\n",
    "W_2_best_sparse.shape"
   ]
  },
  {
   "cell_type": "code",
   "execution_count": 37,
   "metadata": {},
   "outputs": [
    {
     "data": {
      "text/plain": [
       "(9, 100)"
      ]
     },
     "execution_count": 37,
     "metadata": {},
     "output_type": "execute_result"
    }
   ],
   "source": [
    "S_2_best_sparse=S_2_best[nonzero_theta_22,:]\n",
    "S_2_best_sparse.shape"
   ]
  },
  {
   "attachments": {},
   "cell_type": "markdown",
   "metadata": {},
   "source": [
    "### パラメータチューニング用の予測を行う"
   ]
  },
  {
   "cell_type": "code",
   "execution_count": null,
   "metadata": {},
   "outputs": [],
   "source": []
  },
  {
   "cell_type": "code",
   "execution_count": 44,
   "metadata": {},
   "outputs": [
    {
     "name": "stderr",
     "output_type": "stream",
     "text": [
      "100%|██████████| 100/100 [00:00<00:00, 6880.98it/s]\n"
     ]
    }
   ],
   "source": [
    "erro_tes_lis,erro_tes_best,S_J_new_best,S_1_new_best,S_2_new_best,y_new,erro_result=function.sJIVE_prediction(\n",
    "    X_1_tes=X_1_test,X_2_tes=X_2_test,y_tes=y_test,U_1_best=U_1_best_sparse,U_2_best=U_2_best_sparse,W_1_best=W_1_best_sparse,W_2_best=W_2_best_sparse,theta_1_best=theta_1_best_sparse,theta_21_best=theta_21_best_sparse,theta_22_best=theta_22_best_sparse,times_tes=100,threshold_tes=0.01\n",
    ")"
   ]
  },
  {
   "cell_type": "code",
   "execution_count": 45,
   "metadata": {},
   "outputs": [
    {
     "data": {
      "text/plain": [
       "[3.3362253587213124,\n",
       " 1.9346284462460344,\n",
       " 0.985763725499966,\n",
       " 0.5894164086712328,\n",
       " 0.5151827496261272,\n",
       " 0.46814270416891374,\n",
       " 0.41943225430955966,\n",
       " 0.4053581694174543,\n",
       " 0.39678361852861554,\n",
       " 0.3852758320889899,\n",
       " 0.38150278739843857,\n",
       " 0.3790744741434614,\n",
       " 0.3755918713411194,\n",
       " 0.37438663230049696,\n",
       " 0.37357694230502353,\n",
       " 0.3723854637624431,\n",
       " 0.37196143688814437,\n",
       " 0.3716694716210569,\n",
       " 0.3712340129909356,\n",
       " 0.3710767518644175,\n",
       " 0.37096676074834456,\n",
       " 0.3708015998429257,\n",
       " 0.3707415358636261,\n",
       " 0.3706989793634281,\n",
       " 0.370634945264674,\n",
       " 0.3706116032384228,\n",
       " 0.37059485153064425,\n",
       " 0.3705696771822522,\n",
       " 0.3705605051497979,\n",
       " 0.37055383370562334,\n",
       " 0.37054384303509136,\n",
       " 0.370540211321829,\n",
       " 0.37053753249071847,\n",
       " 0.3705335406886333,\n",
       " 0.3705320945079319,\n",
       " 0.37053101242391995,\n",
       " 0.3705294093127166,\n",
       " 0.3705288308490496,\n",
       " 0.37052839179973474,\n",
       " 0.3705277453897532,\n",
       " 0.3705275131519722,\n",
       " 0.37052733439944796,\n",
       " 0.3705270728945673,\n",
       " 0.37052697936258355,\n",
       " 0.37052690638986363,\n",
       " 0.37052680030604357,\n",
       " 0.3705267625323312,\n",
       " 0.37052673267779135,\n",
       " 0.3705266895411422,\n",
       " 0.3705266742481079,\n",
       " 0.3705266620122477,\n",
       " 0.3705266444353673,\n",
       " 0.3705266382299577,\n",
       " 0.37052663320759976,\n",
       " 0.37052662603242154,\n",
       " 0.3705266235093153,\n",
       " 0.3705266214451996,\n",
       " 0.37052661851136615,\n",
       " 0.3705266174835483,\n",
       " 0.3705266166342919,\n",
       " 0.37052661543291404,\n",
       " 0.3705266150134954,\n",
       " 0.37052661466374237,\n",
       " 0.37052661417113053,\n",
       " 0.3705266139997062,\n",
       " 0.3705266138555432,\n",
       " 0.3705266136533072,\n",
       " 0.37052661358314,\n",
       " 0.37052661352367366,\n",
       " 0.3705266134405558,\n",
       " 0.37052661341179616,\n",
       " 0.3705266133872499,\n",
       " 0.37052661335305426,\n",
       " 0.37052661334125203,\n",
       " 0.3705266133311137,\n",
       " 0.37052661331703246,\n",
       " 0.37052661331218345,\n",
       " 0.3705266133079943,\n",
       " 0.3705266133021905,\n",
       " 0.3705266133001961,\n",
       " 0.3705266132984636,\n",
       " 0.3705266132960702,\n",
       " 0.37052661329524894,\n",
       " 0.3705266132945323,\n",
       " 0.3705266132935447,\n",
       " 0.37052661329320635,\n",
       " 0.3705266132929097,\n",
       " 0.37052661329250225,\n",
       " 0.37052661329236264,\n",
       " 0.3705266132922398,\n",
       " 0.37052661329207115,\n",
       " 0.3705266132920136,\n",
       " 0.37052661329196285,\n",
       " 0.37052661329189307,\n",
       " 0.3705266132918692,\n",
       " 0.3705266132918477,\n",
       " 0.3705266132918194,\n",
       " 0.3705266132918098,\n",
       " 0.3705266132918011,\n",
       " 0.37052661329178904,\n",
       " 0.3705266132917847,\n",
       " 0.37052661329178094,\n",
       " 0.37052661329177616,\n",
       " 0.3705266132917745,\n",
       " 0.37052661329177305,\n",
       " 0.37052661329177067,\n",
       " 0.37052661329176984,\n",
       " 0.3705266132917697,\n",
       " 0.37052661329176884,\n",
       " 0.37052661329176845,\n",
       " 0.3705266132917681,\n",
       " 0.3705266132917678,\n",
       " 0.370526613291768,\n",
       " 0.37052661329176784,\n",
       " 0.3705266132917673,\n",
       " 0.37052661329176745,\n",
       " 0.3705266132917675,\n",
       " 0.37052661329176784,\n",
       " 0.37052661329176756,\n",
       " 0.3705266132917673,\n",
       " 0.37052661329176734,\n",
       " 0.3705266132917674,\n",
       " 0.3705266132917673,\n",
       " 0.3705266132917676,\n",
       " 0.37052661329176734,\n",
       " 0.37052661329176717,\n",
       " 0.3705266132917673,\n",
       " 0.3705266132917672,\n",
       " 0.3705266132917672,\n",
       " 0.3705266132917675,\n",
       " 0.37052661329176756,\n",
       " 0.3705266132917673,\n",
       " 0.3705266132917676,\n",
       " 0.37052661329176767,\n",
       " 0.3705266132917677,\n",
       " 0.37052661329176745,\n",
       " 0.3705266132917675,\n",
       " 0.3705266132917676,\n",
       " 0.3705266132917676,\n",
       " 0.37052661329176767,\n",
       " 0.3705266132917677,\n",
       " 0.3705266132917676,\n",
       " 0.3705266132917677,\n",
       " 0.3705266132917676,\n",
       " 0.37052661329176717,\n",
       " 0.37052661329176695,\n",
       " 0.3705266132917667,\n",
       " 0.37052661329176706,\n",
       " 0.37052661329176695,\n",
       " 0.37052661329176695,\n",
       " 0.3705266132917675,\n",
       " 0.3705266132917676,\n",
       " 0.3705266132917676,\n",
       " 0.37052661329176695,\n",
       " 0.3705266132917672,\n",
       " 0.3705266132917674,\n",
       " 0.3705266132917674,\n",
       " 0.3705266132917675,\n",
       " 0.3705266132917673,\n",
       " 0.37052661329176717,\n",
       " 0.3705266132917673,\n",
       " 0.3705266132917671,\n",
       " 0.37052661329176695,\n",
       " 0.37052661329176717,\n",
       " 0.3705266132917675,\n",
       " 0.37052661329176706,\n",
       " 0.3705266132917671,\n",
       " 0.3705266132917671,\n",
       " 0.37052661329176756,\n",
       " 0.3705266132917677,\n",
       " 0.3705266132917676,\n",
       " 0.37052661329176756,\n",
       " 0.37052661329176756,\n",
       " 0.37052661329176734,\n",
       " 0.3705266132917674,\n",
       " 0.3705266132917677,\n",
       " 0.37052661329176784,\n",
       " 0.37052661329176717,\n",
       " 0.37052661329176717,\n",
       " 0.37052661329176745,\n",
       " 0.37052661329176756,\n",
       " 0.3705266132917677,\n",
       " 0.3705266132917677,\n",
       " 0.37052661329176756,\n",
       " 0.3705266132917673,\n",
       " 0.3705266132917673,\n",
       " 0.3705266132917677,\n",
       " 0.3705266132917675,\n",
       " 0.3705266132917675,\n",
       " 0.3705266132917675,\n",
       " 0.370526613291768,\n",
       " 0.37052661329176795,\n",
       " 0.3705266132917676,\n",
       " 0.3705266132917677,\n",
       " 0.3705266132917676,\n",
       " 0.3705266132917674,\n",
       " 0.3705266132917676,\n",
       " 0.3705266132917675,\n",
       " 0.37052661329176734,\n",
       " 0.3705266132917676,\n",
       " 0.37052661329176756,\n",
       " 0.3705266132917673,\n",
       " 0.3705266132917675,\n",
       " 0.3705266132917675,\n",
       " 0.37052661329176734,\n",
       " 0.37052661329176734,\n",
       " 0.3705266132917674,\n",
       " 0.3705266132917675,\n",
       " 0.3705266132917676,\n",
       " 0.3705266132917677,\n",
       " 0.3705266132917675,\n",
       " 0.3705266132917675,\n",
       " 0.3705266132917675,\n",
       " 0.3705266132917676,\n",
       " 0.3705266132917675,\n",
       " 0.3705266132917676,\n",
       " 0.37052661329176717,\n",
       " 0.37052661329176734,\n",
       " 0.37052661329176734,\n",
       " 0.3705266132917674,\n",
       " 0.3705266132917674,\n",
       " 0.3705266132917675,\n",
       " 0.3705266132917676,\n",
       " 0.3705266132917676,\n",
       " 0.3705266132917675,\n",
       " 0.3705266132917675,\n",
       " 0.37052661329176734,\n",
       " 0.3705266132917674,\n",
       " 0.3705266132917676,\n",
       " 0.3705266132917675,\n",
       " 0.3705266132917675,\n",
       " 0.3705266132917675,\n",
       " 0.3705266132917675,\n",
       " 0.3705266132917674,\n",
       " 0.3705266132917674,\n",
       " 0.37052661329176756,\n",
       " 0.3705266132917675,\n",
       " 0.37052661329176767,\n",
       " 0.3705266132917675,\n",
       " 0.3705266132917674,\n",
       " 0.3705266132917675,\n",
       " 0.37052661329176767,\n",
       " 0.37052661329176767,\n",
       " 0.3705266132917676,\n",
       " 0.37052661329176745,\n",
       " 0.37052661329176734,\n",
       " 0.37052661329176745,\n",
       " 0.3705266132917675,\n",
       " 0.3705266132917674,\n",
       " 0.3705266132917675,\n",
       " 0.3705266132917674,\n",
       " 0.3705266132917675,\n",
       " 0.37052661329176756,\n",
       " 0.3705266132917675,\n",
       " 0.3705266132917676,\n",
       " 0.3705266132917675,\n",
       " 0.3705266132917675,\n",
       " 0.3705266132917674,\n",
       " 0.3705266132917676,\n",
       " 0.3705266132917676,\n",
       " 0.3705266132917675,\n",
       " 0.3705266132917673,\n",
       " 0.3705266132917672,\n",
       " 0.3705266132917674,\n",
       " 0.3705266132917674,\n",
       " 0.37052661329176756,\n",
       " 0.37052661329176767,\n",
       " 0.3705266132917675,\n",
       " 0.3705266132917674,\n",
       " 0.3705266132917674,\n",
       " 0.3705266132917675,\n",
       " 0.3705266132917675,\n",
       " 0.3705266132917677,\n",
       " 0.3705266132917674,\n",
       " 0.3705266132917674,\n",
       " 0.3705266132917675,\n",
       " 0.3705266132917675,\n",
       " 0.3705266132917676,\n",
       " 0.3705266132917676,\n",
       " 0.37052661329176767,\n",
       " 0.37052661329176756,\n",
       " 0.3705266132917675,\n",
       " 0.3705266132917676,\n",
       " 0.37052661329176767,\n",
       " 0.3705266132917677,\n",
       " 0.3705266132917675,\n",
       " 0.3705266132917677,\n",
       " 0.3705266132917677,\n",
       " 0.3705266132917676,\n",
       " 0.37052661329176745,\n",
       " 0.3705266132917675,\n",
       " 0.3705266132917675,\n",
       " 0.3705266132917675,\n",
       " 0.3705266132917675,\n",
       " 0.3705266132917675,\n",
       " 0.3705266132917675,\n",
       " 0.37052661329176756,\n",
       " 0.37052661329176784,\n",
       " 0.37052661329176784,\n",
       " 0.3705266132917678]"
      ]
     },
     "execution_count": 45,
     "metadata": {},
     "output_type": "execute_result"
    }
   ],
   "source": [
    "erro_tes_lis"
   ]
  },
  {
   "cell_type": "code",
   "execution_count": null,
   "metadata": {},
   "outputs": [],
   "source": []
  },
  {
   "cell_type": "code",
   "execution_count": null,
   "metadata": {},
   "outputs": [],
   "source": []
  },
  {
   "cell_type": "code",
   "execution_count": null,
   "metadata": {},
   "outputs": [],
   "source": []
  },
  {
   "cell_type": "code",
   "execution_count": null,
   "metadata": {},
   "outputs": [],
   "source": []
  },
  {
   "attachments": {},
   "cell_type": "markdown",
   "metadata": {},
   "source": [
    "## テスト広場"
   ]
  },
  {
   "cell_type": "code",
   "execution_count": 84,
   "metadata": {},
   "outputs": [],
   "source": [
    "lam_J=1.0\n",
    "lam_1=0.001\n",
    "lam_2=0.001\n",
    "gamma=0\n",
    "#(j=0,1,...,r_J)"
   ]
  },
  {
   "cell_type": "code",
   "execution_count": 85,
   "metadata": {},
   "outputs": [],
   "source": [
    "erro_y_lis=[]\n",
    "theta_1=theta_1_best=np.random.uniform(low=-0.1, high=0.1, size=int(r_J))\n",
    "theta_21=theta_21_best=np.random.uniform(low=-0.1, high=0.1, size=int(r_1))\n",
    "theta_22=theta_22_best=np.random.uniform(low=-0.1, high=0.1, size=int(r_2))\n",
    "for l in range(100):\n",
    "    #pcLassoの対角行列を作成\n",
    "    pcLasso_sigma_J=[]\n",
    "    for i in range(len(sigma_J_best)):\n",
    "        a_i=sigma_J_best[0]**2-sigma_J_best[i]**2\n",
    "        pcLasso_sigma_J.append(a_i)\n",
    "    diag_sigma_J_final=np.diag(pcLasso_sigma_J)\n",
    "    diag_sigma_J_final_r_J=diag_sigma_J_final[:r_J,:r_J]\n",
    "\n",
    "    pcLasso_sigma_1=[]\n",
    "    for i in range(len(sigma_1_best)):\n",
    "        a_i=sigma_1_best[0]**2-sigma_1_best[i]**2\n",
    "        pcLasso_sigma_1.append(a_i)\n",
    "    diag_sigma_1_final=np.diag(pcLasso_sigma_1)\n",
    "    diag_sigma_1_final_r_1=diag_sigma_1_final[:r_1,:r_1]\n",
    "\n",
    "    pcLasso_sigma_2=[]\n",
    "    for i in range(len(sigma_2_best)):\n",
    "        a_i=sigma_2_best[0]**2-sigma_2_best[i]**2\n",
    "        pcLasso_sigma_2.append(a_i)\n",
    "    diag_sigma_2_final=np.diag(pcLasso_sigma_2)\n",
    "    diag_sigma_2_final_r_2=diag_sigma_2_final[:r_2,:r_2]\n",
    "\n",
    "    #theta_1を更新\n",
    "    for j in range(r_J):\n",
    "        theta_1_del_j=np.delete(theta_1,j)\n",
    "        S_J_best_del_j=np.delete(S_J_best,j,axis=0)\n",
    "        S_J_best_j=S_J_best[j]\n",
    "        z=(y_original-theta_21.dot(S_1_best)-theta_22.dot(S_2_best)-theta_1_del_j.dot(S_J_best_del_j)).dot(S_J_best_j.T)\n",
    "        if z>lam_J:\n",
    "            theta_1[j]=(z-lam_J)/(np.linalg.norm(S_J_best_j,ord=2)**2)\n",
    "        elif np.absolute(z)<=lam_J:\n",
    "            theta_1[j]=0\n",
    "        else:\n",
    "            theta_1[j]=(z+lam_J)/(np.linalg.norm(S_J_best_j,ord=2)**2)\n",
    "\n",
    "\n",
    "\n",
    "    #誤差をとる\n",
    "    hat_y=theta_1.dot(S_J_best)+theta_21.dot(S_1_best)+theta_22.dot(S_2_best)\n",
    "    erro=np.linalg.norm(y_original-hat_y,ord=2)**2\n",
    "    erro_y_lis.append(erro)\n",
    "\n",
    "    #theta_21を更新\n",
    "    for j in range(r_1):\n",
    "        theta_21_del_j=np.delete(theta_21,j)\n",
    "        S_1_best_del_j=np.delete(S_1_best,j,axis=0)\n",
    "        S_1_best_j=S_1_best[j]\n",
    "        z=(y_original-theta_1.dot(S_J_best)-theta_22.dot(S_2_best)-theta_21_del_j.dot(S_1_best_del_j)).dot(S_1_best_j.T)\n",
    "        if z>lam_1:\n",
    "            theta_21[j]=(z-lam_1)/(np.linalg.norm(S_1_best_j,ord=2)**2+gamma*diag_sigma_1_final_r_1[j,j])\n",
    "        elif np.absolute(z)<=lam_1:\n",
    "            theta_21[j]=0\n",
    "        else:\n",
    "            theta_21[j]=(z+lam_1)/(np.linalg.norm(S_1_best_j,ord=2)**2+gamma*diag_sigma_1_final_r_1[j,j])\n",
    "\n",
    "    #誤差をとる\n",
    "    hat_y=theta_1.dot(S_J_best)+theta_21.dot(S_1_best)+theta_22.dot(S_2_best)\n",
    "    erro=np.linalg.norm(y_original-hat_y,ord=2)**2\n",
    "    erro_y_lis.append(erro)\n",
    "\n",
    "    #theta_22を更新\n",
    "    for j in range(r_2):\n",
    "        theta_22_del_j=np.delete(theta_22,j)\n",
    "        S_2_best_del_j=np.delete(S_2_best,j,axis=0)\n",
    "        S_2_best_j=S_2_best[j]\n",
    "        z=(y_original-theta_1.dot(S_J_best)-theta_21.dot(S_1_best)-theta_22_del_j.dot(S_2_best_del_j)).dot(S_2_best_j.T)\n",
    "        if z>lam_2:\n",
    "            theta_22[j]=-(z-lam_2)/(np.linalg.norm(S_2_best_j,ord=2)**2+gamma*diag_sigma_2_final_r_2[j,j])\n",
    "        elif np.absolute(z)<=lam_2:\n",
    "            theta_22[j]=0\n",
    "        else:\n",
    "            theta_22[j]=(z+lam_2)/(np.linalg.norm(S_2_best_j,ord=2)**2+gamma*diag_sigma_2_final_r_2[j,j])\n",
    "\n",
    "    #誤差をとる\n",
    "    hat_y=theta_1.dot(S_J_best)+theta_21.dot(S_1_best)+theta_22.dot(S_2_best)\n",
    "    erro=np.linalg.norm(y_original-hat_y,ord=2)**2\n",
    "    erro_y_lis.append(erro)"
   ]
  },
  {
   "cell_type": "code",
   "execution_count": 86,
   "metadata": {},
   "outputs": [
    {
     "data": {
      "text/plain": [
       "[1.180689302434097,\n",
       " 1.1500635705903877,\n",
       " 1.150444071476731,\n",
       " 1.1522481627171597,\n",
       " 1.1492425939879125,\n",
       " 1.1489214406890114,\n",
       " 1.149152605207301,\n",
       " 1.1490227408597071,\n",
       " 1.1490426073381153,\n",
       " 1.149619933914947,\n",
       " 1.1495868394722397,\n",
       " 1.1495694507133962,\n",
       " 1.1498381888011233,\n",
       " 1.1500171183434653,\n",
       " 1.150024711792463,\n",
       " 1.150027937563656,\n",
       " 1.150093173896041,\n",
       " 1.150047208097193,\n",
       " 1.1500725599135557,\n",
       " 1.1500956137551002,\n",
       " 1.1501133472575187,\n",
       " 1.1501433684653937,\n",
       " 1.1501196553126094,\n",
       " 1.1501048950592745,\n",
       " 1.1501309708720757,\n",
       " 1.1501244087986604,\n",
       " 1.1501194100959842,\n",
       " 1.150107057559982,\n",
       " 1.150110394458781,\n",
       " 1.150110685090219,\n",
       " 1.1501339921019011,\n",
       " 1.1501289226434919,\n",
       " 1.150118121043688,\n",
       " 1.150089781489033,\n",
       " 1.1501015353793735,\n",
       " 1.150102810020176,\n",
       " 1.1501299829272098,\n",
       " 1.1501284926108353,\n",
       " 1.1501185747542602,\n",
       " 1.150090371969414,\n",
       " 1.1500994721501285,\n",
       " 1.1501014932560387,\n",
       " 1.1501246791831656,\n",
       " 1.1501245565200138,\n",
       " 1.1501170689298932,\n",
       " 1.150095555096449,\n",
       " 1.1501019821672949,\n",
       " 1.1501037925932533,\n",
       " 1.1501204006750547,\n",
       " 1.1501205871116686,\n",
       " 1.1501154804804474,\n",
       " 1.1501007131482521,\n",
       " 1.15010508350568,\n",
       " 1.1501063565222267,\n",
       " 1.1501173773963242,\n",
       " 1.1501176182040018,\n",
       " 1.1501143125905144,\n",
       " 1.1501047435666232,\n",
       " 1.1501076082593584,\n",
       " 1.1501084350018216,\n",
       " 1.1501154311811916,\n",
       " 1.1501156484383688,\n",
       " 1.1501135782095133,\n",
       " 1.1501076055122545,\n",
       " 1.150109430045224,\n",
       " 1.1501099461806217,\n",
       " 1.1501142630246293,\n",
       " 1.1501144321588146,\n",
       " 1.1501131626669971,\n",
       " 1.1501095095224734,\n",
       " 1.1501106491234099,\n",
       " 1.1501109609104618,\n",
       " 1.1501135816459742,\n",
       " 1.1501137084132178,\n",
       " 1.1501129390157045,\n",
       " 1.1501107306617127,\n",
       " 1.150111435067536,\n",
       " 1.1501116198271508,\n",
       " 1.1501131961008537,\n",
       " 1.1501132876797688,\n",
       " 1.1501128244028835,\n",
       " 1.15011149822069,\n",
       " 1.1501119314468646,\n",
       " 1.150112039825983,\n",
       " 1.1501129835320112,\n",
       " 1.1501130478587471,\n",
       " 1.1501127696109206,\n",
       " 1.150111975103221,\n",
       " 1.1501122411220461,\n",
       " 1.150112304292502,\n",
       " 1.150112868614886,\n",
       " 1.150112913021109,\n",
       " 1.1501127459064124,\n",
       " 1.1501122698492612,\n",
       " 1.1501124332881092,\n",
       " 1.1501124699472578,\n",
       " 1.1501128076809797,\n",
       " 1.1501128380011068,\n",
       " 1.1501127374880853,\n",
       " 1.1501124517811987,\n",
       " 1.150112552385786,\n",
       " 1.1501125735947404,\n",
       " 1.1501127761218217,\n",
       " 1.1501127966703726,\n",
       " 1.1501127360751346,\n",
       " 1.1501125641810075,\n",
       " 1.150112626273609,\n",
       " 1.15011263851655,\n",
       " 1.150112760290426,\n",
       " 1.1501127741409836,\n",
       " 1.1501127375055995,\n",
       " 1.150112633775542,\n",
       " 1.1501126722182327,\n",
       " 1.150112679273071,\n",
       " 1.1501127527186519,\n",
       " 1.1501127620152896,\n",
       " 1.1501127397947486,\n",
       " 1.1501126769915144,\n",
       " 1.1501127008716119,\n",
       " 1.1501127049306068,\n",
       " 1.1501127493755219,\n",
       " 1.1501127555943935,\n",
       " 1.150112742070952,\n",
       " 1.1501127039145536,\n",
       " 1.1501127187992792,\n",
       " 1.150112721131118,\n",
       " 1.15011274811994,\n",
       " 1.150112752268284,\n",
       " 1.150112744008878,\n",
       " 1.150112720743969,\n",
       " 1.15011273005337,\n",
       " 1.1501127313908588,\n",
       " 1.1501127478378317,\n",
       " 1.1501127505984243,\n",
       " 1.1501127455359148,\n",
       " 1.1501127312993862,\n",
       " 1.15011273714119,\n",
       " 1.1501127379069842,\n",
       " 1.1501127479658009,\n",
       " 1.1501127497991344,\n",
       " 1.150112746684919,\n",
       " 1.1501127379414795,\n",
       " 1.1501127416191115,\n",
       " 1.1501127420566821,\n",
       " 1.150112748230795,\n",
       " 1.1501127494461763,\n",
       " 1.150112747523549,\n",
       " 1.1501127421342427,\n",
       " 1.1501127444565893,\n",
       " 1.1501127447060207,\n",
       " 1.1501127485093845,\n",
       " 1.150112749313866,\n",
       " 1.1501127481226456,\n",
       " 1.1501127447888102,\n",
       " 1.1501127462596261,\n",
       " 1.1501127464014114,\n",
       " 1.1501127487527667,\n",
       " 1.1501127492845535,\n",
       " 1.1501127485438922,\n",
       " 1.1501127464742433,\n",
       " 1.1501127474083421,\n",
       " 1.150112747488671,\n",
       " 1.1501127489475158,\n",
       " 1.1501127492986312,\n",
       " 1.15011274883652,\n",
       " 1.1501127475471913,\n",
       " 1.1501127481419773,\n",
       " 1.1501127481873055,\n",
       " 1.1501127490955776,\n",
       " 1.1501127493271657,\n",
       " 1.150112749037874,\n",
       " 1.1501127482319227,\n",
       " 1.1501127486115776,\n",
       " 1.150112748637034,\n",
       " 1.1501127492044558,\n",
       " 1.1501127493570698,\n",
       " 1.1501127491753762,\n",
       " 1.150112748669909,\n",
       " 1.1501127489127976,\n",
       " 1.150112748927012,\n",
       " 1.1501127492826757,\n",
       " 1.1501127493831662,\n",
       " 1.1501127492686913,\n",
       " 1.1501127489506657,\n",
       " 1.1501127491063856,\n",
       " 1.1501127491142664,\n",
       " 1.1501127493379162,\n",
       " 1.1501127494040404,\n",
       " 1.1501127493316992,\n",
       " 1.1501127491309906,\n",
       " 1.15011274923102,\n",
       " 1.1501127492353516,\n",
       " 1.1501127493764238,\n",
       " 1.1501127494199068,\n",
       " 1.1501127493740602,\n",
       " 1.1501127492470202,\n",
       " 1.1501127493113925,\n",
       " 1.1501127493137466,\n",
       " 1.1501127494029937,\n",
       " 1.1501127494315728,\n",
       " 1.1501127494024392,\n",
       " 1.150112749321804,\n",
       " 1.1501127493632972,\n",
       " 1.1501127493645589,\n",
       " 1.1501127494211805,\n",
       " 1.1501127494399543,\n",
       " 1.1501127494213927,\n",
       " 1.1501127493700778,\n",
       " 1.1501127493968648,\n",
       " 1.1501127493975285,\n",
       " 1.1501127494335446,\n",
       " 1.1501127494458734,\n",
       " 1.1501127494340193,\n",
       " 1.150112749401281,\n",
       " 1.1501127494185992,\n",
       " 1.1501127494189383,\n",
       " 1.1501127494419052,\n",
       " 1.1501127494499992,\n",
       " 1.1501127494424115,\n",
       " 1.150112749421478,\n",
       " 1.1501127494326868,\n",
       " 1.1501127494328554,\n",
       " 1.150112749447535,\n",
       " 1.1501127494528458,\n",
       " 1.1501127494479793,\n",
       " 1.150112749434566,\n",
       " 1.1501127494418286,\n",
       " 1.1501127494419066,\n",
       " 1.1501127494513104,\n",
       " 1.1501127494547945,\n",
       " 1.1501127494516665,\n",
       " 1.1501127494430539,\n",
       " 1.1501127494477654,\n",
       " 1.1501127494477983,\n",
       " 1.150112749453834,\n",
       " 1.15011274945612,\n",
       " 1.150112749454106,\n",
       " 1.1501127494485648,\n",
       " 1.1501127494516241,\n",
       " 1.1501127494516357,\n",
       " 1.1501127494555166,\n",
       " 1.150112749457015,\n",
       " 1.1501127494557162,\n",
       " 1.150112749452147,\n",
       " 1.1501127494541354,\n",
       " 1.150112749454135,\n",
       " 1.1501127494566363,\n",
       " 1.1501127494576178,\n",
       " 1.1501127494567795,\n",
       " 1.150112749454476,\n",
       " 1.1501127494557695,\n",
       " 1.1501127494557666,\n",
       " 1.1501127494573788,\n",
       " 1.1501127494580232,\n",
       " 1.1501127494574808,\n",
       " 1.1501127494559915,\n",
       " 1.150112749456833,\n",
       " 1.1501127494568297,\n",
       " 1.1501127494578711,\n",
       " 1.1501127494582937,\n",
       " 1.1501127494579417,\n",
       " 1.1501127494569778,\n",
       " 1.1501127494575263,\n",
       " 1.1501127494575225,\n",
       " 1.1501127494581975,\n",
       " 1.1501127494584726,\n",
       " 1.1501127494582455,\n",
       " 1.1501127494576215,\n",
       " 1.1501127494579793,\n",
       " 1.1501127494579764,\n",
       " 1.1501127494584131,\n",
       " 1.1501127494585937,\n",
       " 1.150112749458445,\n",
       " 1.1501127494580416,\n",
       " 1.1501127494582741,\n",
       " 1.1501127494582712,\n",
       " 1.1501127494585537,\n",
       " 1.1501127494586736,\n",
       " 1.1501127494585774,\n",
       " 1.150112749458314,\n",
       " 1.150112749458466,\n",
       " 1.1501127494584646,\n",
       " 1.1501127494586485,\n",
       " 1.150112749458726,\n",
       " 1.1501127494586636,\n",
       " 1.1501127494584926,\n",
       " 1.1501127494585923,\n",
       " 1.1501127494585903,\n",
       " 1.150112749458711,\n",
       " 1.1501127494587609,\n",
       " 1.1501127494587209,\n",
       " 1.150112749458609,\n",
       " 1.1501127494586747,\n",
       " 1.1501127494586731,\n",
       " 1.1501127494587509,\n",
       " 1.1501127494587837,\n",
       " 1.1501127494587575,\n",
       " 1.1501127494586851,\n",
       " 1.1501127494587267,\n",
       " 1.150112749458726]"
      ]
     },
     "execution_count": 86,
     "metadata": {},
     "output_type": "execute_result"
    }
   ],
   "source": [
    "erro_y_lis"
   ]
  },
  {
   "cell_type": "code",
   "execution_count": 87,
   "metadata": {},
   "outputs": [
    {
     "data": {
      "text/plain": [
       "<function matplotlib.pyplot.show(close=None, block=None)>"
      ]
     },
     "execution_count": 87,
     "metadata": {},
     "output_type": "execute_result"
    },
    {
     "data": {
      "image/png": "[encoded data removed]",
      "text/plain": [
       "<Figure size 640x480 with 1 Axes>"
      ]
     },
     "metadata": {},
     "output_type": "display_data"
    }
   ],
   "source": [
    "plt.plot(erro_y_lis)\n",
    "plt.scatter(range(len(erro_y_lis)),erro_y_lis,color=\"black\")\n",
    "plt.show"
   ]
  },
  {
   "cell_type": "code",
   "execution_count": 88,
   "metadata": {},
   "outputs": [
    {
     "data": {
      "text/plain": [
       "array([ 0.05123244,  0.21120311, -0.03056201,  0.        , -0.0825378 ,\n",
       "       -0.00996745, -0.11545755,  0.00231046,  0.16151542, -0.20438591,\n",
       "        0.17587973,  0.01330369,  0.        , -0.05405301,  0.07145153,\n",
       "        0.04051003,  0.        ,  0.        , -0.13833197,  0.        ,\n",
       "        0.        ,  0.        ,  0.14603287,  0.        ,  0.        ,\n",
       "        0.        ,  0.        , -0.03281539,  0.        ,  0.        ,\n",
       "        0.        ,  0.        ,  0.        ,  0.        ,  0.        ,\n",
       "        0.        ,  0.        ,  0.        ,  0.        ,  0.        ])"
      ]
     },
     "execution_count": 88,
     "metadata": {},
     "output_type": "execute_result"
    }
   ],
   "source": [
    "theta_1"
   ]
  },
  {
   "cell_type": "code",
   "execution_count": 89,
   "metadata": {},
   "outputs": [
    {
     "data": {
      "text/plain": [
       "array([ 0.        ,  0.11131884,  0.        ,  0.31693071,  0.        ,\n",
       "        0.29120397,  0.        ,  0.12867229,  0.52926681,  0.0218962 ,\n",
       "        0.        ,  0.08793252, -0.29574765,  0.        , -0.20577262,\n",
       "        0.10414683,  0.23922591, -0.25982112,  0.        ,  0.        ,\n",
       "       -0.26305251,  0.        ,  0.15634289,  0.        ,  0.14958489,\n",
       "        0.        ,  0.        ,  0.14843874, -0.28434528, -0.13296656,\n",
       "       -0.35570612,  0.        , -0.19926241,  0.        ,  0.        ,\n",
       "        0.08975083, -0.29224076,  0.        ,  0.        , -0.0154694 ])"
      ]
     },
     "execution_count": 89,
     "metadata": {},
     "output_type": "execute_result"
    }
   ],
   "source": [
    "theta_21"
   ]
  },
  {
   "cell_type": "code",
   "execution_count": 90,
   "metadata": {},
   "outputs": [
    {
     "data": {
      "text/plain": [
       "array([ 0.00000000e+00, -2.91925175e-12,  0.00000000e+00, -2.00539501e-12,\n",
       "        0.00000000e+00,  0.00000000e+00,  0.00000000e+00,  0.00000000e+00,\n",
       "        0.00000000e+00,  0.00000000e+00,  0.00000000e+00,  0.00000000e+00,\n",
       "        0.00000000e+00,  0.00000000e+00, -3.02303997e-02, -5.09256503e-12,\n",
       "        0.00000000e+00, -8.86264230e-02,  0.00000000e+00,  0.00000000e+00,\n",
       "        0.00000000e+00,  0.00000000e+00,  0.00000000e+00,  0.00000000e+00,\n",
       "       -1.51538168e-12,  0.00000000e+00, -6.21063398e-02, -1.56509578e-12,\n",
       "       -2.38409923e-04, -4.19130340e-02, -5.95110542e-04,  0.00000000e+00,\n",
       "       -1.51358670e-04,  0.00000000e+00,  0.00000000e+00, -2.77157845e-12,\n",
       "       -1.13029871e-03,  0.00000000e+00,  0.00000000e+00, -1.30745106e-12])"
      ]
     },
     "execution_count": 90,
     "metadata": {},
     "output_type": "execute_result"
    }
   ],
   "source": [
    "theta_22"
   ]
  },
  {
   "cell_type": "code",
   "execution_count": 91,
   "metadata": {},
   "outputs": [
    {
     "data": {
      "text/plain": [
       "<function matplotlib.pyplot.show(close=None, block=None)>"
      ]
     },
     "execution_count": 91,
     "metadata": {},
     "output_type": "execute_result"
    },
    {
     "data": {
      "image/png": "[encoded data removed]",
      "text/plain": [
       "<Figure size 640x480 with 1 Axes>"
      ]
     },
     "metadata": {},
     "output_type": "display_data"
    }
   ],
   "source": [
    "plt.plot(np.absolute(theta_1))\n",
    "plt.scatter(range(len(theta_1)),np.absolute(theta_1),color=\"black\")\n",
    "plt.show"
   ]
  },
  {
   "cell_type": "code",
   "execution_count": 62,
   "metadata": {},
   "outputs": [
    {
     "data": {
      "text/plain": [
       "<function matplotlib.pyplot.show(close=None, block=None)>"
      ]
     },
     "execution_count": 62,
     "metadata": {},
     "output_type": "execute_result"
    },
    {
     "data": {
      "image/png": "[encoded data removed]",
      "text/plain": [
       "<Figure size 640x480 with 1 Axes>"
      ]
     },
     "metadata": {},
     "output_type": "display_data"
    }
   ],
   "source": [
    "plt.plot(np.absolute(theta_21))\n",
    "plt.scatter(range(len(theta_21)),np.absolute(theta_21),color=\"black\")\n",
    "plt.show"
   ]
  },
  {
   "cell_type": "code",
   "execution_count": 93,
   "metadata": {},
   "outputs": [
    {
     "data": {
      "text/plain": [
       "<function matplotlib.pyplot.show(close=None, block=None)>"
      ]
     },
     "execution_count": 93,
     "metadata": {},
     "output_type": "execute_result"
    },
    {
     "data": {
      "image/png": "[encoded data removed]",
      "text/plain": [
       "<Figure size 640x480 with 1 Axes>"
      ]
     },
     "metadata": {},
     "output_type": "display_data"
    }
   ],
   "source": [
    "plt.plot(np.absolute(theta_22))\n",
    "plt.scatter(range(len(theta_22)),np.absolute(theta_22),color=\"black\")\n",
    "plt.show"
   ]
  },
  {
   "cell_type": "code",
   "execution_count": null,
   "metadata": {},
   "outputs": [],
   "source": [
    "theta_1_del_j=np.delete(theta_1,j)\n",
    "S_J_best_del_j=np.delete(S_J_best,j,axis=0)\n",
    "S_J_best_j=S_J_best[j]"
   ]
  },
  {
   "cell_type": "code",
   "execution_count": 42,
   "metadata": {},
   "outputs": [
    {
     "data": {
      "text/plain": [
       "array([[ 2.72888248e+00,  3.31787949e+00,  2.46493542e+00, ...,\n",
       "         2.45960637e+00,  2.88358910e+00,  2.04330008e+00],\n",
       "       [-4.08221182e-01,  1.89048705e+00, -6.68969952e-01, ...,\n",
       "        -3.64775919e-01,  1.01346155e+00, -2.46112373e-01],\n",
       "       [-2.64411253e-01,  5.98335664e-02, -6.14434190e-01, ...,\n",
       "        -2.24623455e-01,  1.43356130e-01,  1.79692324e-01],\n",
       "       ...,\n",
       "       [-1.10637652e-02,  3.10750482e-02, -4.03260996e-03, ...,\n",
       "         5.33046856e-03, -9.12227569e-03, -2.20904068e-02],\n",
       "       [-3.67050318e-02, -2.58426797e-03, -2.32908202e-03, ...,\n",
       "         2.63756270e-02, -2.17371867e-02, -3.23724277e-02],\n",
       "       [-7.41970466e-04,  1.08945909e-02,  1.95582739e-02, ...,\n",
       "        -1.35940669e-02, -9.26236613e-03, -4.74493719e-03]])"
      ]
     },
     "execution_count": 42,
     "metadata": {},
     "output_type": "execute_result"
    }
   ],
   "source": [
    "S_J_best"
   ]
  },
  {
   "cell_type": "code",
   "execution_count": 46,
   "metadata": {},
   "outputs": [
    {
     "data": {
      "text/plain": [
       "(100,)"
      ]
     },
     "execution_count": 46,
     "metadata": {},
     "output_type": "execute_result"
    }
   ],
   "source": [
    "S_J_best_j=S_J_best[0]\n",
    "S_J_best_j.shape"
   ]
  },
  {
   "cell_type": "code",
   "execution_count": 49,
   "metadata": {},
   "outputs": [
    {
     "data": {
      "text/plain": [
       "642.4561179275595"
      ]
     },
     "execution_count": 49,
     "metadata": {},
     "output_type": "execute_result"
    }
   ],
   "source": [
    "np.linalg.norm(S_J_best_j,ord=2)**2"
   ]
  },
  {
   "cell_type": "code",
   "execution_count": 50,
   "metadata": {},
   "outputs": [
    {
     "data": {
      "text/plain": [
       "642.4561179275595"
      ]
     },
     "execution_count": 50,
     "metadata": {},
     "output_type": "execute_result"
    }
   ],
   "source": [
    "S_J_best_j.dot(S_J_best_j.T)"
   ]
  },
  {
   "cell_type": "code",
   "execution_count": 41,
   "metadata": {},
   "outputs": [
    {
     "name": "stdout",
     "output_type": "stream",
     "text": [
      "0\n",
      "1\n",
      "2\n",
      "3\n",
      "4\n",
      "5\n",
      "6\n",
      "7\n",
      "8\n",
      "9\n",
      "10\n",
      "11\n",
      "12\n",
      "13\n",
      "14\n",
      "15\n",
      "16\n",
      "17\n",
      "18\n",
      "19\n",
      "20\n",
      "21\n",
      "22\n",
      "23\n",
      "24\n",
      "25\n",
      "26\n",
      "27\n",
      "28\n",
      "29\n",
      "30\n",
      "31\n",
      "32\n",
      "33\n",
      "34\n",
      "35\n",
      "36\n",
      "37\n",
      "38\n",
      "39\n"
     ]
    }
   ],
   "source": [
    "for j in range(r_J):\n",
    "    print(j)"
   ]
  },
  {
   "cell_type": "code",
   "execution_count": 48,
   "metadata": {},
   "outputs": [
    {
     "data": {
      "text/plain": [
       "array([5.62063886e-08])"
      ]
     },
     "execution_count": 48,
     "metadata": {},
     "output_type": "execute_result"
    }
   ],
   "source": [
    "(y_original-theta_21.dot(S_1_best)-theta_22.dot(S_2_best)-theta_1_del_j.dot(S_J_best_del_j)).dot(S_J_best_j)"
   ]
  },
  {
   "cell_type": "code",
   "execution_count": null,
   "metadata": {},
   "outputs": [],
   "source": []
  }
 ],
 "metadata": {
  "kernelspec": {
   "display_name": "Python 3",
   "language": "python",
   "name": "python3"
  },
  "language_info": {
   "codemirror_mode": {
    "name": "ipython",
    "version": 3
   },
   "file_extension": ".py",
   "mimetype": "text/x-python",
   "name": "python",
   "nbconvert_exporter": "python",
   "pygments_lexer": "ipython3",
   "version": "3.9.6"
  },
  "orig_nbformat": 4
 },
 "nbformat": 4,
 "nbformat_minor": 2
}
