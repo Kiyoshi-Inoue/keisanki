{
 "cells": [
  {
   "cell_type": "code",
   "execution_count": 1,
   "metadata": {},
   "outputs": [],
   "source": [
    "from sklearn.model_selection import KFold\n",
    "import random\n",
    "import numpy as np\n",
    "from sklearn.preprocessing import StandardScaler\n",
    "import function\n",
    "import matplotlib.pyplot as plt\n",
    "import math\n",
    "import tqdm\n",
    "import optuna"
   ]
  },
  {
   "cell_type": "code",
   "execution_count": 2,
   "metadata": {},
   "outputs": [],
   "source": [
    "p_1=50\n",
    "p_2=50\n",
    "n=150\n",
    "r_J_or=10\n",
    "r_1_or=10\n",
    "r_2_or=10\n",
    "r_prop=1.0\n",
    "w_J=5.0\n",
    "w_1=5.0\n",
    "w_2=5.0\n",
    "X1_erro=0.001\n",
    "X2_erro=0.001\n",
    "y_erro=0.001"
   ]
  },
  {
   "attachments": {},
   "cell_type": "markdown",
   "metadata": {},
   "source": [
    "## データの生成"
   ]
  },
  {
   "cell_type": "code",
   "execution_count": 3,
   "metadata": {},
   "outputs": [],
   "source": [
    "X_1_al,X_2_al,y_al=function.gene_data(p_1,p_2,n,r_J_or,r_1_or,r_2_or,r_prop,w_J,w_1,w_2,X1_erro,X2_erro,y_erro)"
   ]
  },
  {
   "cell_type": "code",
   "execution_count": 4,
   "metadata": {},
   "outputs": [],
   "source": [
    "X_1_original=X_1_al[:,:100]\n",
    "X_2_original=X_2_al[:,:100]\n",
    "y_original=y_al[:,:100]\n",
    "\n",
    "X_1_test=X_1_al[:,100:150]\n",
    "X_2_test=X_2_al[:,100:150]\n",
    "y_test=y_al[:,100:150]"
   ]
  },
  {
   "cell_type": "code",
   "execution_count": 5,
   "metadata": {},
   "outputs": [],
   "source": [
    "df_tra=np.row_stack((X_1_original,X_2_original,y_original))\n",
    "df_tes=np.row_stack((X_1_test,X_2_test,y_test))"
   ]
  },
  {
   "attachments": {},
   "cell_type": "markdown",
   "metadata": {},
   "source": [
    "## 本当にこのデータが正しいのか検証"
   ]
  },
  {
   "cell_type": "code",
   "execution_count": 6,
   "metadata": {},
   "outputs": [],
   "source": [
    "from sklearn.linear_model import LinearRegression"
   ]
  },
  {
   "cell_type": "code",
   "execution_count": 10,
   "metadata": {},
   "outputs": [],
   "source": [
    "X=np.row_stack((X_1_original,X_2_original))\n",
    "XT=X.T\n",
    "yT=y_original.T\n",
    "reg = LinearRegression().fit(XT, yT)"
   ]
  },
  {
   "cell_type": "code",
   "execution_count": 11,
   "metadata": {},
   "outputs": [
    {
     "data": {
      "text/plain": [
       "4.001531884294739"
      ]
     },
     "execution_count": 11,
     "metadata": {},
     "output_type": "execute_result"
    }
   ],
   "source": [
    "erro=np.linalg.norm(yT-XT.dot(reg.coef_.T),ord=2)**2\n",
    "erro"
   ]
  },
  {
   "cell_type": "code",
   "execution_count": 9,
   "metadata": {},
   "outputs": [
    {
     "data": {
      "text/plain": [
       "array([[ 0.02742548],\n",
       "       [-0.11885877],\n",
       "       [-0.22538802],\n",
       "       [-0.21922996],\n",
       "       [-0.01818128],\n",
       "       [ 0.02246357],\n",
       "       [-0.1695751 ],\n",
       "       [-0.18205876],\n",
       "       [ 0.5670637 ],\n",
       "       [-0.0223763 ],\n",
       "       [ 0.25238466],\n",
       "       [ 0.33608636],\n",
       "       [ 0.1041207 ],\n",
       "       [-0.02149303],\n",
       "       [-0.29158995],\n",
       "       [-0.08349342],\n",
       "       [-0.10526078],\n",
       "       [ 0.23297807],\n",
       "       [ 0.90865901],\n",
       "       [-0.24957089],\n",
       "       [ 0.39878643],\n",
       "       [ 0.17838625],\n",
       "       [ 0.57593614],\n",
       "       [ 0.1848684 ],\n",
       "       [ 0.07292035],\n",
       "       [-0.34089856],\n",
       "       [ 0.1743694 ],\n",
       "       [ 0.54890348],\n",
       "       [ 0.60592369],\n",
       "       [ 0.46011809],\n",
       "       [ 0.5260432 ],\n",
       "       [-0.30101301],\n",
       "       [-0.0957159 ],\n",
       "       [ 0.46170352],\n",
       "       [-0.06439358],\n",
       "       [-0.06236665],\n",
       "       [-0.00855408],\n",
       "       [ 0.40135766],\n",
       "       [ 0.15480045],\n",
       "       [-0.10689416],\n",
       "       [ 0.26868964],\n",
       "       [-0.02510604],\n",
       "       [ 0.1764352 ],\n",
       "       [ 0.47502237],\n",
       "       [ 0.26510441],\n",
       "       [-0.48351922],\n",
       "       [ 0.02244181],\n",
       "       [-0.1241529 ],\n",
       "       [-0.18563041],\n",
       "       [ 0.42713826],\n",
       "       [ 0.00866614],\n",
       "       [-0.12617103],\n",
       "       [ 0.27666653],\n",
       "       [ 0.46381191],\n",
       "       [-0.25932068],\n",
       "       [ 0.23183926],\n",
       "       [-0.13869123],\n",
       "       [ 0.89833223],\n",
       "       [-0.23088563],\n",
       "       [ 0.25011805],\n",
       "       [ 0.06305346],\n",
       "       [-0.12639128],\n",
       "       [-0.00809987],\n",
       "       [ 0.01850075],\n",
       "       [ 0.13252925],\n",
       "       [ 0.40785802],\n",
       "       [ 0.16187131],\n",
       "       [-0.00824959],\n",
       "       [ 0.39188907],\n",
       "       [ 0.24273028],\n",
       "       [ 0.52020569],\n",
       "       [-0.37011692],\n",
       "       [ 0.83336459],\n",
       "       [ 0.00953635],\n",
       "       [-0.05256271],\n",
       "       [ 0.20808455],\n",
       "       [-0.22745807],\n",
       "       [ 0.5284676 ],\n",
       "       [ 0.55172371],\n",
       "       [ 0.45146677],\n",
       "       [ 0.08798628],\n",
       "       [ 0.51315864],\n",
       "       [ 0.23120446],\n",
       "       [ 0.11674439],\n",
       "       [-0.18923436],\n",
       "       [-0.00957051],\n",
       "       [ 0.46913658],\n",
       "       [ 0.40261439],\n",
       "       [ 0.39639863],\n",
       "       [ 0.79393085],\n",
       "       [-0.04710841],\n",
       "       [-0.19733673],\n",
       "       [ 0.31657154],\n",
       "       [ 0.36705814],\n",
       "       [ 0.49121452],\n",
       "       [ 0.38508795],\n",
       "       [ 0.31387423],\n",
       "       [-0.03037258],\n",
       "       [ 0.43201975],\n",
       "       [-0.12876312]])"
      ]
     },
     "execution_count": 9,
     "metadata": {},
     "output_type": "execute_result"
    }
   ],
   "source": [
    "yT"
   ]
  },
  {
   "cell_type": "code",
   "execution_count": null,
   "metadata": {},
   "outputs": [],
   "source": []
  },
  {
   "attachments": {},
   "cell_type": "markdown",
   "metadata": {},
   "source": [
    "## W-sJIVE-decompositionを実装"
   ]
  },
  {
   "attachments": {},
   "cell_type": "markdown",
   "metadata": {},
   "source": [
    "### 分解"
   ]
  },
  {
   "cell_type": "code",
   "execution_count": 12,
   "metadata": {},
   "outputs": [],
   "source": [
    "times=100\n",
    "threshold=0.1\n",
    "r_J=40\n",
    "r_1=40\n",
    "r_2=40\n"
   ]
  },
  {
   "cell_type": "code",
   "execution_count": 13,
   "metadata": {},
   "outputs": [
    {
     "name": "stderr",
     "output_type": "stream",
     "text": [
      "  2%|▏         | 2/100 [00:00<00:11,  8.27it/s]\n"
     ]
    }
   ],
   "source": [
    "erro_lis,erro_best,S_J_best,U_1_best,U_2_best,S_1_best,W_1_best,S_2_best,W_2_best,sigma_J_best,sigma_1_best,sigma_2_best,hat_X_best=function.W_sJIVE_decompositon_1(\n",
    "    times=times,r_J=r_J,r_1=r_1,r_2=r_2,X_1_or=X_1_original,X_2_or=X_2_original,threshold=threshold\n",
    ")\n"
   ]
  },
  {
   "cell_type": "code",
   "execution_count": 14,
   "metadata": {},
   "outputs": [
    {
     "data": {
      "text/plain": [
       "[542.335633598556,\n",
       " 734.3650234078316,\n",
       " 732.8798676125219,\n",
       " 732.9328647890134,\n",
       " 731.6802034937419,\n",
       " 731.6523486452232,\n",
       " 0.2250588036338157,\n",
       " 172.05264009455684,\n",
       " 172.0893196576964,\n",
       " 172.0932345286444,\n",
       " 172.15055511466915,\n",
       " 172.15571633763167,\n",
       " 0.06136600782151308]"
      ]
     },
     "execution_count": 14,
     "metadata": {},
     "output_type": "execute_result"
    }
   ],
   "source": [
    "erro_lis"
   ]
  },
  {
   "cell_type": "code",
   "execution_count": 15,
   "metadata": {},
   "outputs": [
    {
     "data": {
      "text/plain": [
       "array([[-0.32825973, -0.0631087 ,  0.05693121, ..., -0.72217542,\n",
       "        -0.49452263, -0.29571805],\n",
       "       [-0.28622085, -0.46860394, -0.31465867, ..., -0.35804618,\n",
       "        -0.66092467, -0.47415471],\n",
       "       [ 0.12263345,  0.42665822,  0.23139743, ..., -0.44622099,\n",
       "         0.31470184, -0.21228065],\n",
       "       ...,\n",
       "       [ 0.01454667,  0.09700894, -0.53846956, ...,  0.05505535,\n",
       "         0.34251858,  0.02781205],\n",
       "       [-0.68786778, -0.48701115, -0.35744892, ..., -0.41553182,\n",
       "        -0.67448169, -0.13369761],\n",
       "       [ 0.51323851,  0.78735581,  0.08230545, ...,  0.41564213,\n",
       "         0.37810733,  0.58158432]])"
      ]
     },
     "execution_count": 15,
     "metadata": {},
     "output_type": "execute_result"
    }
   ],
   "source": [
    "X=np.row_stack((X_1_original,X_2_original))\n",
    "X"
   ]
  },
  {
   "cell_type": "code",
   "execution_count": 16,
   "metadata": {},
   "outputs": [
    {
     "data": {
      "text/plain": [
       "array([[-0.313728  , -0.06289281,  0.04430193, ..., -0.71722394,\n",
       "        -0.5045501 , -0.30874261],\n",
       "       [-0.28911557, -0.46016771, -0.30466343, ..., -0.35811522,\n",
       "        -0.67979151, -0.47113862],\n",
       "       [ 0.11969201,  0.42484364,  0.24225236, ..., -0.44565558,\n",
       "         0.30504985, -0.21605471],\n",
       "       ...,\n",
       "       [ 0.01044752,  0.09534956, -0.52610021, ...,  0.05846159,\n",
       "         0.34178148,  0.01642754],\n",
       "       [-0.68757852, -0.48099542, -0.3597403 , ..., -0.41744598,\n",
       "        -0.67680787, -0.14431216],\n",
       "       [ 0.52272821,  0.78251824,  0.07922493, ...,  0.41490624,\n",
       "         0.38100638,  0.60196701]])"
      ]
     },
     "execution_count": 16,
     "metadata": {},
     "output_type": "execute_result"
    }
   ],
   "source": [
    "hat_X_best"
   ]
  },
  {
   "attachments": {},
   "cell_type": "markdown",
   "metadata": {},
   "source": [
    "### 最小二乗法で解いてみる"
   ]
  },
  {
   "cell_type": "code",
   "execution_count": 17,
   "metadata": {},
   "outputs": [],
   "source": [
    "#最小二乗法では解けるので自分のコードのミス\n",
    "erro_y_lis=[]\n",
    "theta_1=theta_1_best=np.random.uniform(low=-0.1, high=0.1, size=int(r_J))\n",
    "theta_21=theta_21_best=np.random.uniform(low=-0.1, high=0.1, size=int(r_1))\n",
    "theta_22=theta_22_best=np.random.uniform(low=-0.1, high=0.1, size=int(r_2))\n",
    "for l in range(10):\n",
    "    theta_1=(y_original-theta_21.dot(S_1_best)-theta_22.dot(S_2_best)).dot(S_J_best.T).dot(np.linalg.inv(S_J_best.dot(S_J_best.T)))\n",
    "    theta_21=(y_original-theta_1.dot(S_J_best)-theta_22.dot(S_2_best)).dot(S_1_best.T).dot(np.linalg.inv(S_1_best.dot(S_1_best.T)))\n",
    "    theta_22=(y_original-theta_1.dot(S_J_best)-theta_21.dot(S_1_best)).dot(S_2_best.T).dot(np.linalg.inv(S_2_best.dot(S_2_best.T)))\n",
    "    hat_y=theta_1.dot(S_J_best)+theta_21.dot(S_1_best)+theta_22.dot(S_2_best)\n",
    "    erro=np.linalg.norm(y_original-hat_y,ord=2)**2\n",
    "    erro_y_lis.append(erro)"
   ]
  },
  {
   "cell_type": "code",
   "execution_count": 18,
   "metadata": {},
   "outputs": [
    {
     "data": {
      "text/plain": [
       "[0.00945278342141662,\n",
       " 0.008359782728006004,\n",
       " 0.008037756937011703,\n",
       " 0.007898474365165926,\n",
       " 0.00782460054215723,\n",
       " 0.007780270645375347,\n",
       " 0.007751298006659118,\n",
       " 0.007731189649105545,\n",
       " 0.00771664413347165,\n",
       " 0.007705820904734467]"
      ]
     },
     "execution_count": 18,
     "metadata": {},
     "output_type": "execute_result"
    }
   ],
   "source": [
    "erro_y_lis"
   ]
  },
  {
   "attachments": {},
   "cell_type": "markdown",
   "metadata": {},
   "source": [
    "### 回帰係数のスパース推定"
   ]
  },
  {
   "cell_type": "code",
   "execution_count": 19,
   "metadata": {},
   "outputs": [],
   "source": [
    "times=100\n",
    "threshold=0.001\n",
    "lam_J=0.01\n",
    "lam_1=0.001\n",
    "lam_2=0.001\n",
    "gamma=0"
   ]
  },
  {
   "cell_type": "code",
   "execution_count": 26,
   "metadata": {},
   "outputs": [
    {
     "data": {
      "text/plain": [
       "array([0.15515929, 0.15022787, 0.1425997 , 0.13798356, 0.13266399,\n",
       "       0.12886647, 0.12611453, 0.11708004, 0.11187668, 0.10980268,\n",
       "       0.10691213, 0.10080708, 0.09929662, 0.09687161, 0.09431714,\n",
       "       0.08939202, 0.086297  , 0.0852245 , 0.08035025, 0.07617258,\n",
       "       0.07120547, 0.06967316, 0.06761682, 0.06407032, 0.06307782,\n",
       "       0.05868516, 0.05557422, 0.05463956, 0.05323381, 0.04937532,\n",
       "       0.04670986, 0.04635153, 0.03886011, 0.03787177, 0.03547398,\n",
       "       0.03296097, 0.03034708, 0.02810683, 0.02554474, 0.02398696,\n",
       "       0.02342574, 0.02049686, 0.01777261, 0.01687829, 0.01555545,\n",
       "       0.01377174, 0.01067206, 0.00747171, 0.00615144, 0.00348145])"
      ]
     },
     "execution_count": 26,
     "metadata": {},
     "output_type": "execute_result"
    }
   ],
   "source": [
    "sigma_1_best"
   ]
  },
  {
   "cell_type": "code",
   "execution_count": 20,
   "metadata": {},
   "outputs": [
    {
     "name": "stderr",
     "output_type": "stream",
     "text": [
      "100%|██████████| 100/100 [00:00<00:00, 576.10it/s]\n"
     ]
    }
   ],
   "source": [
    "erro_y_lis,erro_best,theta_1_best,theta_21_best,theta_22_best,hat_y_best=function.W_sJIVE_decomposition_2(\n",
    "    y_original,threshold,times,lam_J,lam_1,lam_2,gamma,S_J_best,S_1_best,S_2_best,sigma_J_best,sigma_1_best,sigma_2_best\n",
    ")"
   ]
  },
  {
   "cell_type": "code",
   "execution_count": 21,
   "metadata": {},
   "outputs": [
    {
     "data": {
      "text/plain": [
       "0.026507045498459406"
      ]
     },
     "execution_count": 21,
     "metadata": {},
     "output_type": "execute_result"
    }
   ],
   "source": [
    "erro_best"
   ]
  },
  {
   "cell_type": "code",
   "execution_count": 22,
   "metadata": {},
   "outputs": [
    {
     "data": {
      "text/plain": [
       "[0.03798656843354785,\n",
       " 0.026797660680956053,\n",
       " 0.026396408082484873,\n",
       " 0.027403506574525827,\n",
       " 0.02617786931371594,\n",
       " 0.025821056578438795,\n",
       " 0.026726817020962138,\n",
       " 0.026285957448215744,\n",
       " 0.026341292856853802,\n",
       " 0.02645993404129885,\n",
       " 0.026366974718604465,\n",
       " 0.02634712962034391,\n",
       " 0.02638338431833107,\n",
       " 0.026472122422171392,\n",
       " 0.026480021185278126,\n",
       " 0.026509463240953622,\n",
       " 0.026506139418856177,\n",
       " 0.02650542803927246,\n",
       " 0.026506736195400796,\n",
       " 0.026507014678741777,\n",
       " 0.026508800210926782,\n",
       " 0.02651274347863394,\n",
       " 0.026508600846237594,\n",
       " 0.026507968903191584,\n",
       " 0.026505839888398018,\n",
       " 0.026507443135425884,\n",
       " 0.026507301669804157,\n",
       " 0.026508611232146678,\n",
       " 0.02650739512505152,\n",
       " 0.026507071053286046,\n",
       " 0.026506424755909006,\n",
       " 0.026507031205821735,\n",
       " 0.02650697114276182,\n",
       " 0.02650727316347648,\n",
       " 0.02650708063846203,\n",
       " 0.026507018478558804,\n",
       " 0.026506893318922402,\n",
       " 0.026507027791838465,\n",
       " 0.026507017032357597,\n",
       " 0.026507073314548695,\n",
       " 0.026507047855483263,\n",
       " 0.026507041028446834,\n",
       " 0.026507019383870355,\n",
       " 0.026507042579110775,\n",
       " 0.026507040169688537,\n",
       " 0.026507046323608764,\n",
       " 0.026507044834025866,\n",
       " 0.026507044901151376,\n",
       " 0.02650704219362201,\n",
       " 0.0265070451075925,\n",
       " 0.02650704468500434,\n",
       " 0.026507044699228446,\n",
       " 0.026507045191731388,\n",
       " 0.026507045119836002,\n",
       " 0.02650704478784409,\n",
       " 0.026507045372521024,\n",
       " 0.026507045237557786,\n",
       " 0.026507045162846347,\n",
       " 0.026507045336615017,\n",
       " 0.026507045310504237,\n",
       " 0.02650704527828645,\n",
       " 0.02650704543399689,\n",
       " 0.026507045390435312,\n",
       " 0.026507045369295445,\n",
       " 0.0265070454344471,\n",
       " 0.026507045426361626,\n",
       " 0.026507045431511868,\n",
       " 0.026507045476106446,\n",
       " 0.02650704546215083,\n",
       " 0.026507045454425452,\n",
       " 0.026507045476235343,\n",
       " 0.026507045473664895,\n",
       " 0.026507045477376135,\n",
       " 0.026507045491031216,\n",
       " 0.026507045486629754,\n",
       " 0.026507045484310484,\n",
       " 0.02650704549124954,\n",
       " 0.026507045490396574,\n",
       " 0.026507045491770045,\n",
       " 0.026507045496080035,\n",
       " 0.026507045494683863,\n",
       " 0.026507045493977626,\n",
       " 0.02650704549616671,\n",
       " 0.026507045495893496,\n",
       " 0.02650704549634614,\n",
       " 0.026507045497706317,\n",
       " 0.026507045497267217,\n",
       " 0.026507045497045512,\n",
       " 0.02650704549773646,\n",
       " 0.02650704549765022,\n",
       " 0.026507045497793494,\n",
       " 0.026507045498222137,\n",
       " 0.02650704549808386,\n",
       " 0.026507045498014515,\n",
       " 0.026507045498232087,\n",
       " 0.026507045498204995,\n",
       " 0.026507045498249747,\n",
       " 0.026507045498384774,\n",
       " 0.02650704549834122,\n",
       " 0.026507045498319438,\n",
       " 0.026507045498387963,\n",
       " 0.02650704549837942,\n",
       " 0.026507045498393368,\n",
       " 0.0265070454984359,\n",
       " 0.026507045498422217,\n",
       " 0.026507045498415364,\n",
       " 0.02650704549843692,\n",
       " 0.026507045498434235,\n",
       " 0.026507045498438627,\n",
       " 0.02650704549845204,\n",
       " 0.026507045498447738,\n",
       " 0.026507045498445552,\n",
       " 0.026507045498452356,\n",
       " 0.02650704549845151,\n",
       " 0.026507045498452862,\n",
       " 0.026507045498457085,\n",
       " 0.02650704549845574,\n",
       " 0.02650704549845503,\n",
       " 0.02650704549845718,\n",
       " 0.02650704549845692,\n",
       " 0.0265070454984574,\n",
       " 0.0265070454984587,\n",
       " 0.026507045498458302,\n",
       " 0.026507045498458077,\n",
       " 0.026507045498458746,\n",
       " 0.026507045498458646,\n",
       " 0.026507045498458802,\n",
       " 0.026507045498459208,\n",
       " 0.02650704549845909,\n",
       " 0.02650704549845899,\n",
       " 0.026507045498459208,\n",
       " 0.02650704549845919,\n",
       " 0.026507045498459218,\n",
       " 0.026507045498459354,\n",
       " 0.026507045498459315,\n",
       " 0.026507045498459315,\n",
       " 0.026507045498459406,\n",
       " 0.0265070454984594,\n",
       " 0.026507045498459354,\n",
       " 0.0265070454984594,\n",
       " 0.0265070454984594,\n",
       " 0.026507045498459378,\n",
       " 0.026507045498459406,\n",
       " 0.026507045498459406,\n",
       " 0.026507045498459388,\n",
       " 0.0265070454984594,\n",
       " 0.026507045498459388,\n",
       " 0.026507045498459388,\n",
       " 0.0265070454984594,\n",
       " 0.026507045498459388,\n",
       " 0.026507045498459388,\n",
       " 0.0265070454984594,\n",
       " 0.026507045498459406,\n",
       " 0.026507045498459406,\n",
       " 0.026507045498459406,\n",
       " 0.026507045498459406,\n",
       " 0.026507045498459406,\n",
       " 0.026507045498459406,\n",
       " 0.026507045498459416,\n",
       " 0.026507045498459416,\n",
       " 0.026507045498459423,\n",
       " 0.026507045498459416,\n",
       " 0.026507045498459406,\n",
       " 0.026507045498459406,\n",
       " 0.026507045498459406,\n",
       " 0.026507045498459406,\n",
       " 0.026507045498459406,\n",
       " 0.026507045498459416,\n",
       " 0.026507045498459416,\n",
       " 0.026507045498459423,\n",
       " 0.026507045498459423,\n",
       " 0.026507045498459423,\n",
       " 0.026507045498459416,\n",
       " 0.026507045498459388,\n",
       " 0.026507045498459416,\n",
       " 0.026507045498459416,\n",
       " 0.026507045498459423,\n",
       " 0.026507045498459416,\n",
       " 0.026507045498459416,\n",
       " 0.026507045498459416,\n",
       " 0.026507045498459423,\n",
       " 0.026507045498459423,\n",
       " 0.026507045498459423,\n",
       " 0.026507045498459416,\n",
       " 0.026507045498459416,\n",
       " 0.026507045498459406,\n",
       " 0.026507045498459378,\n",
       " 0.026507045498459388,\n",
       " 0.026507045498459388,\n",
       " 0.02650704549845945,\n",
       " 0.026507045498459444,\n",
       " 0.026507045498459444,\n",
       " 0.026507045498459406,\n",
       " 0.026507045498459423,\n",
       " 0.026507045498459444,\n",
       " 0.026507045498459423,\n",
       " 0.026507045498459406,\n",
       " 0.026507045498459406,\n",
       " 0.026507045498459423,\n",
       " 0.026507045498459433,\n",
       " 0.026507045498459444,\n",
       " 0.026507045498459423,\n",
       " 0.026507045498459406,\n",
       " 0.026507045498459416,\n",
       " 0.026507045498459378,\n",
       " 0.026507045498459406,\n",
       " 0.026507045498459406,\n",
       " 0.026507045498459406,\n",
       " 0.026507045498459416,\n",
       " 0.0265070454984594,\n",
       " 0.0265070454984594,\n",
       " 0.026507045498459406,\n",
       " 0.0265070454984594,\n",
       " 0.026507045498459378,\n",
       " 0.02650704549845937,\n",
       " 0.02650704549845937,\n",
       " 0.026507045498459388,\n",
       " 0.026507045498459388,\n",
       " 0.026507045498459388,\n",
       " 0.0265070454984594,\n",
       " 0.0265070454984594,\n",
       " 0.0265070454984594,\n",
       " 0.026507045498459406,\n",
       " 0.026507045498459406,\n",
       " 0.026507045498459406,\n",
       " 0.026507045498459388,\n",
       " 0.026507045498459378,\n",
       " 0.026507045498459378,\n",
       " 0.026507045498459378,\n",
       " 0.026507045498459406,\n",
       " 0.0265070454984594,\n",
       " 0.026507045498459406,\n",
       " 0.026507045498459388,\n",
       " 0.026507045498459388,\n",
       " 0.026507045498459406,\n",
       " 0.026507045498459416,\n",
       " 0.026507045498459406,\n",
       " 0.026507045498459444,\n",
       " 0.026507045498459433,\n",
       " 0.026507045498459433,\n",
       " 0.02650704549845937,\n",
       " 0.0265070454984594,\n",
       " 0.026507045498459416,\n",
       " 0.026507045498459416,\n",
       " 0.026507045498459416,\n",
       " 0.026507045498459416,\n",
       " 0.026507045498459406,\n",
       " 0.026507045498459416,\n",
       " 0.026507045498459416,\n",
       " 0.026507045498459444,\n",
       " 0.026507045498459433,\n",
       " 0.026507045498459444,\n",
       " 0.026507045498459416,\n",
       " 0.026507045498459423,\n",
       " 0.026507045498459416,\n",
       " 0.02650704549845937,\n",
       " 0.02650704549845937,\n",
       " 0.026507045498459388,\n",
       " 0.026507045498459444,\n",
       " 0.026507045498459423,\n",
       " 0.026507045498459423,\n",
       " 0.026507045498459388,\n",
       " 0.026507045498459378,\n",
       " 0.0265070454984594,\n",
       " 0.02650704549845937,\n",
       " 0.026507045498459388,\n",
       " 0.026507045498459378,\n",
       " 0.026507045498459433,\n",
       " 0.026507045498459423,\n",
       " 0.026507045498459423,\n",
       " 0.026507045498459378,\n",
       " 0.026507045498459388,\n",
       " 0.026507045498459388,\n",
       " 0.026507045498459444,\n",
       " 0.02650704549845945,\n",
       " 0.02650704549845945,\n",
       " 0.026507045498459416,\n",
       " 0.026507045498459416,\n",
       " 0.026507045498459406,\n",
       " 0.026507045498459388,\n",
       " 0.02650704549845937,\n",
       " 0.02650704549845937,\n",
       " 0.026507045498459388,\n",
       " 0.026507045498459416,\n",
       " 0.026507045498459423,\n",
       " 0.026507045498459406,\n",
       " 0.026507045498459378,\n",
       " 0.02650704549845937,\n",
       " 0.02650704549845937,\n",
       " 0.02650704549845937,\n",
       " 0.02650704549845937,\n",
       " 0.02650704549845937,\n",
       " 0.026507045498459388,\n",
       " 0.026507045498459388,\n",
       " 0.026507045498459388,\n",
       " 0.026507045498459378,\n",
       " 0.026507045498459388,\n",
       " 0.026507045498459423,\n",
       " 0.026507045498459406,\n",
       " 0.026507045498459406]"
      ]
     },
     "execution_count": 22,
     "metadata": {},
     "output_type": "execute_result"
    }
   ],
   "source": [
    "erro_y_lis"
   ]
  },
  {
   "cell_type": "code",
   "execution_count": 23,
   "metadata": {},
   "outputs": [
    {
     "data": {
      "text/plain": [
       "array([[ 0.02742548, -0.11885877, -0.22538802, -0.21922996, -0.01818128,\n",
       "         0.02246357, -0.1695751 , -0.18205876,  0.5670637 , -0.0223763 ,\n",
       "         0.25238466,  0.33608636,  0.1041207 , -0.02149303, -0.29158995,\n",
       "        -0.08349342, -0.10526078,  0.23297807,  0.90865901, -0.24957089,\n",
       "         0.39878643,  0.17838625,  0.57593614,  0.1848684 ,  0.07292035,\n",
       "        -0.34089856,  0.1743694 ,  0.54890348,  0.60592369,  0.46011809,\n",
       "         0.5260432 , -0.30101301, -0.0957159 ,  0.46170352, -0.06439358,\n",
       "        -0.06236665, -0.00855408,  0.40135766,  0.15480045, -0.10689416,\n",
       "         0.26868964, -0.02510604,  0.1764352 ,  0.47502237,  0.26510441,\n",
       "        -0.48351922,  0.02244181, -0.1241529 , -0.18563041,  0.42713826,\n",
       "         0.00866614, -0.12617103,  0.27666653,  0.46381191, -0.25932068,\n",
       "         0.23183926, -0.13869123,  0.89833223, -0.23088563,  0.25011805,\n",
       "         0.06305346, -0.12639128, -0.00809987,  0.01850075,  0.13252925,\n",
       "         0.40785802,  0.16187131, -0.00824959,  0.39188907,  0.24273028,\n",
       "         0.52020569, -0.37011692,  0.83336459,  0.00953635, -0.05256271,\n",
       "         0.20808455, -0.22745807,  0.5284676 ,  0.55172371,  0.45146677,\n",
       "         0.08798628,  0.51315864,  0.23120446,  0.11674439, -0.18923436,\n",
       "        -0.00957051,  0.46913658,  0.40261439,  0.39639863,  0.79393085,\n",
       "        -0.04710841, -0.19733673,  0.31657154,  0.36705814,  0.49121452,\n",
       "         0.38508795,  0.31387423, -0.03037258,  0.43201975, -0.12876312]])"
      ]
     },
     "execution_count": 23,
     "metadata": {},
     "output_type": "execute_result"
    }
   ],
   "source": [
    "y_original"
   ]
  },
  {
   "cell_type": "code",
   "execution_count": 24,
   "metadata": {},
   "outputs": [
    {
     "data": {
      "text/plain": [
       "array([ 2.28504779e-02, -1.21021021e-01, -2.13047166e-01, -2.24091042e-01,\n",
       "       -1.40031542e-03,  4.21905236e-02, -1.64156016e-01, -1.80126992e-01,\n",
       "        5.61256000e-01, -3.34684709e-02,  2.62197813e-01,  3.41941801e-01,\n",
       "        8.99480664e-02, -1.61981931e-02, -3.05238588e-01, -9.30443518e-02,\n",
       "       -1.07980833e-01,  2.28122429e-01,  8.95127089e-01, -2.29244705e-01,\n",
       "        4.27486349e-01,  1.73779455e-01,  5.79026853e-01,  1.63973975e-01,\n",
       "        8.73556520e-02, -3.42994802e-01,  1.59560996e-01,  5.61471060e-01,\n",
       "        5.97195265e-01,  4.03963553e-01,  5.11566416e-01, -3.02467102e-01,\n",
       "       -8.76527752e-02,  4.77082423e-01, -7.30900518e-02, -5.39360637e-02,\n",
       "       -4.09908539e-02,  4.06234189e-01,  1.51256734e-01, -1.16758664e-01,\n",
       "        2.64818831e-01, -2.27014826e-02,  1.77982746e-01,  4.76161292e-01,\n",
       "        2.92402785e-01, -4.86419118e-01,  3.25055796e-02, -1.11853247e-01,\n",
       "       -1.87634173e-01,  3.83419929e-01,  1.11215376e-02, -1.27913914e-01,\n",
       "        2.67120219e-01,  4.67083374e-01, -2.27951987e-01,  2.06845714e-01,\n",
       "       -1.29560847e-01,  8.93651320e-01, -2.31585893e-01,  2.59108127e-01,\n",
       "        4.14710050e-02, -1.30323951e-01, -3.76156334e-03,  2.58683766e-02,\n",
       "        1.27867227e-01,  3.78708262e-01,  1.77436308e-01, -1.52106591e-02,\n",
       "        3.92087518e-01,  2.88459795e-01,  5.40215807e-01, -3.71832926e-01,\n",
       "        8.26008071e-01, -1.34902976e-04, -4.75104297e-02,  1.89406788e-01,\n",
       "       -2.30564154e-01,  5.25077924e-01,  5.33352100e-01,  4.45191935e-01,\n",
       "        7.04882014e-02,  5.44685276e-01,  2.63177738e-01,  9.64924722e-02,\n",
       "       -1.52327380e-01,  9.67249864e-03,  4.51896891e-01,  3.89933028e-01,\n",
       "        4.14875416e-01,  7.78872784e-01, -4.57755688e-02, -2.05174045e-01,\n",
       "        2.96108528e-01,  3.68312270e-01,  4.82724631e-01,  4.09732498e-01,\n",
       "        3.34112868e-01, -2.47849116e-02,  4.28446383e-01, -1.17210589e-01])"
      ]
     },
     "execution_count": 24,
     "metadata": {},
     "output_type": "execute_result"
    }
   ],
   "source": [
    "hat_y_best"
   ]
  },
  {
   "cell_type": "code",
   "execution_count": 25,
   "metadata": {},
   "outputs": [
    {
     "data": {
      "text/plain": [
       "<function matplotlib.pyplot.show(close=None, block=None)>"
      ]
     },
     "execution_count": 25,
     "metadata": {},
     "output_type": "execute_result"
    },
    {
     "data": {
      "image/png": "[encoded data removed]",
      "text/plain": [
       "<Figure size 640x480 with 1 Axes>"
      ]
     },
     "metadata": {},
     "output_type": "display_data"
    }
   ],
   "source": [
    "plt.plot(erro_y_lis)\n",
    "plt.scatter(range(len(erro_y_lis)),erro_y_lis,color=\"black\")\n",
    "plt.show"
   ]
  },
  {
   "attachments": {},
   "cell_type": "markdown",
   "metadata": {},
   "source": [
    "### 非ゼロの係数のみを残す"
   ]
  },
  {
   "cell_type": "code",
   "execution_count": 26,
   "metadata": {},
   "outputs": [
    {
     "data": {
      "text/plain": [
       "array([ 0.08039532, -0.03100526,  0.00182704, -0.06298138, -0.15527392,\n",
       "        0.08992492,  0.10002758, -0.14933919,  0.02079624,  0.0169161 ,\n",
       "       -0.08590838, -0.07312483, -0.05023824,  0.29835555, -0.13090565,\n",
       "        0.05782476,  0.26608498, -0.09529091,  0.07624428, -0.14560131,\n",
       "        0.31761064,  0.35035023,  0.31265015, -0.04148221, -0.13191669,\n",
       "       -0.17727011,  0.24849901,  0.00998813,  0.12093115,  0.0779991 ,\n",
       "        0.06291835, -0.83191694,  0.09155816,  0.        ,  0.        ,\n",
       "        0.        ,  0.        ,  0.        ,  0.        ,  0.        ])"
      ]
     },
     "execution_count": 26,
     "metadata": {},
     "output_type": "execute_result"
    }
   ],
   "source": [
    "theta_1_best"
   ]
  },
  {
   "cell_type": "code",
   "execution_count": 41,
   "metadata": {},
   "outputs": [
    {
     "data": {
      "text/plain": [
       "(33,)"
      ]
     },
     "execution_count": 41,
     "metadata": {},
     "output_type": "execute_result"
    }
   ],
   "source": [
    "nonzero_theta_1 = np.nonzero(theta_1_best)[0]\n",
    "theta_1_best_sparse=theta_1_best[nonzero_theta_1]\n",
    "theta_1_best_sparse.shape"
   ]
  },
  {
   "cell_type": "code",
   "execution_count": 28,
   "metadata": {},
   "outputs": [
    {
     "data": {
      "text/plain": [
       "(50, 33)"
      ]
     },
     "execution_count": 28,
     "metadata": {},
     "output_type": "execute_result"
    }
   ],
   "source": [
    "U_1_best_sparse=U_1_best[:,nonzero_theta_1]\n",
    "U_1_best_sparse.shape"
   ]
  },
  {
   "cell_type": "code",
   "execution_count": 29,
   "metadata": {},
   "outputs": [
    {
     "data": {
      "text/plain": [
       "(50, 33)"
      ]
     },
     "execution_count": 29,
     "metadata": {},
     "output_type": "execute_result"
    }
   ],
   "source": [
    "U_2_best_sparse=U_2_best[:,nonzero_theta_1]\n",
    "U_2_best_sparse.shape"
   ]
  },
  {
   "cell_type": "code",
   "execution_count": 30,
   "metadata": {},
   "outputs": [
    {
     "data": {
      "text/plain": [
       "(33, 100)"
      ]
     },
     "execution_count": 30,
     "metadata": {},
     "output_type": "execute_result"
    }
   ],
   "source": [
    "S_J_best_sparse=S_J_best[nonzero_theta_1,:]\n",
    "S_J_best_sparse.shape"
   ]
  },
  {
   "cell_type": "code",
   "execution_count": 42,
   "metadata": {},
   "outputs": [
    {
     "data": {
      "text/plain": [
       "(13,)"
      ]
     },
     "execution_count": 42,
     "metadata": {},
     "output_type": "execute_result"
    }
   ],
   "source": [
    "nonzero_theta_21 = np.nonzero(theta_21_best)[0]\n",
    "theta_21_best_sparse=theta_21_best[nonzero_theta_21]\n",
    "theta_21_best_sparse.shape"
   ]
  },
  {
   "cell_type": "code",
   "execution_count": 32,
   "metadata": {},
   "outputs": [
    {
     "data": {
      "text/plain": [
       "(50, 13)"
      ]
     },
     "execution_count": 32,
     "metadata": {},
     "output_type": "execute_result"
    }
   ],
   "source": [
    "W_1_best_sparse=W_1_best[:,nonzero_theta_21]\n",
    "W_1_best_sparse.shape"
   ]
  },
  {
   "cell_type": "code",
   "execution_count": 34,
   "metadata": {},
   "outputs": [
    {
     "data": {
      "text/plain": [
       "(13, 100)"
      ]
     },
     "execution_count": 34,
     "metadata": {},
     "output_type": "execute_result"
    }
   ],
   "source": [
    "S_1_best_sparse=S_1_best[nonzero_theta_21,:]\n",
    "S_1_best_sparse.shape"
   ]
  },
  {
   "cell_type": "code",
   "execution_count": 43,
   "metadata": {},
   "outputs": [
    {
     "data": {
      "text/plain": [
       "(9,)"
      ]
     },
     "execution_count": 43,
     "metadata": {},
     "output_type": "execute_result"
    }
   ],
   "source": [
    "nonzero_theta_22 = np.nonzero(theta_22_best)[0]\n",
    "theta_22_best_sparse=theta_22_best[nonzero_theta_22]\n",
    "theta_22_best_sparse.shape"
   ]
  },
  {
   "cell_type": "code",
   "execution_count": 36,
   "metadata": {},
   "outputs": [
    {
     "data": {
      "text/plain": [
       "(50, 9)"
      ]
     },
     "execution_count": 36,
     "metadata": {},
     "output_type": "execute_result"
    }
   ],
   "source": [
    "W_2_best_sparse=W_2_best[:,nonzero_theta_22]\n",
    "W_2_best_sparse.shape"
   ]
  },
  {
   "cell_type": "code",
   "execution_count": 37,
   "metadata": {},
   "outputs": [
    {
     "data": {
      "text/plain": [
       "(9, 100)"
      ]
     },
     "execution_count": 37,
     "metadata": {},
     "output_type": "execute_result"
    }
   ],
   "source": [
    "S_2_best_sparse=S_2_best[nonzero_theta_22,:]\n",
    "S_2_best_sparse.shape"
   ]
  },
  {
   "attachments": {},
   "cell_type": "markdown",
   "metadata": {},
   "source": [
    "### パラメータチューニング用の予測を行う"
   ]
  },
  {
   "cell_type": "code",
   "execution_count": null,
   "metadata": {},
   "outputs": [],
   "source": []
  },
  {
   "cell_type": "code",
   "execution_count": 44,
   "metadata": {},
   "outputs": [
    {
     "name": "stderr",
     "output_type": "stream",
     "text": [
      "100%|██████████| 100/100 [00:00<00:00, 6880.98it/s]\n"
     ]
    }
   ],
   "source": [
    "erro_tes_lis,erro_tes_best,S_J_new_best,S_1_new_best,S_2_new_best,y_new,erro_result=function.sJIVE_prediction(\n",
    "    X_1_tes=X_1_test,X_2_tes=X_2_test,y_tes=y_test,U_1_best=U_1_best_sparse,U_2_best=U_2_best_sparse,W_1_best=W_1_best_sparse,W_2_best=W_2_best_sparse,theta_1_best=theta_1_best_sparse,theta_21_best=theta_21_best_sparse,theta_22_best=theta_22_best_sparse,times_tes=100,threshold_tes=0.01\n",
    ")"
   ]
  },
  {
   "cell_type": "code",
   "execution_count": 45,
   "metadata": {},
   "outputs": [
    {
     "data": {
      "text/plain": [
       "[3.3362253587213124,\n",
       " 1.9346284462460344,\n",
       " 0.985763725499966,\n",
       " 0.5894164086712328,\n",
       " 0.5151827496261272,\n",
       " 0.46814270416891374,\n",
       " 0.41943225430955966,\n",
       " 0.4053581694174543,\n",
       " 0.39678361852861554,\n",
       " 0.3852758320889899,\n",
       " 0.38150278739843857,\n",
       " 0.3790744741434614,\n",
       " 0.3755918713411194,\n",
       " 0.37438663230049696,\n",
       " 0.37357694230502353,\n",
       " 0.3723854637624431,\n",
       " 0.37196143688814437,\n",
       " 0.3716694716210569,\n",
       " 0.3712340129909356,\n",
       " 0.3710767518644175,\n",
       " 0.37096676074834456,\n",
       " 0.3708015998429257,\n",
       " 0.3707415358636261,\n",
       " 0.3706989793634281,\n",
       " 0.370634945264674,\n",
       " 0.3706116032384228,\n",
       " 0.37059485153064425,\n",
       " 0.3705696771822522,\n",
       " 0.3705605051497979,\n",
       " 0.37055383370562334,\n",
       " 0.37054384303509136,\n",
       " 0.370540211321829,\n",
       " 0.37053753249071847,\n",
       " 0.3705335406886333,\n",
       " 0.3705320945079319,\n",
       " 0.37053101242391995,\n",
       " 0.3705294093127166,\n",
       " 0.3705288308490496,\n",
       " 0.37052839179973474,\n",
       " 0.3705277453897532,\n",
       " 0.3705275131519722,\n",
       " 0.37052733439944796,\n",
       " 0.3705270728945673,\n",
       " 0.37052697936258355,\n",
       " 0.37052690638986363,\n",
       " 0.37052680030604357,\n",
       " 0.3705267625323312,\n",
       " 0.37052673267779135,\n",
       " 0.3705266895411422,\n",
       " 0.3705266742481079,\n",
       " 0.3705266620122477,\n",
       " 0.3705266444353673,\n",
       " 0.3705266382299577,\n",
       " 0.37052663320759976,\n",
       " 0.37052662603242154,\n",
       " 0.3705266235093153,\n",
       " 0.3705266214451996,\n",
       " 0.37052661851136615,\n",
       " 0.3705266174835483,\n",
       " 0.3705266166342919,\n",
       " 0.37052661543291404,\n",
       " 0.3705266150134954,\n",
       " 0.37052661466374237,\n",
       " 0.37052661417113053,\n",
       " 0.3705266139997062,\n",
       " 0.3705266138555432,\n",
       " 0.3705266136533072,\n",
       " 0.37052661358314,\n",
       " 0.37052661352367366,\n",
       " 0.3705266134405558,\n",
       " 0.37052661341179616,\n",
       " 0.3705266133872499,\n",
       " 0.37052661335305426,\n",
       " 0.37052661334125203,\n",
       " 0.3705266133311137,\n",
       " 0.37052661331703246,\n",
       " 0.37052661331218345,\n",
       " 0.3705266133079943,\n",
       " 0.3705266133021905,\n",
       " 0.3705266133001961,\n",
       " 0.3705266132984636,\n",
       " 0.3705266132960702,\n",
       " 0.37052661329524894,\n",
       " 0.3705266132945323,\n",
       " 0.3705266132935447,\n",
       " 0.37052661329320635,\n",
       " 0.3705266132929097,\n",
       " 0.37052661329250225,\n",
       " 0.37052661329236264,\n",
       " 0.3705266132922398,\n",
       " 0.37052661329207115,\n",
       " 0.3705266132920136,\n",
       " 0.37052661329196285,\n",
       " 0.37052661329189307,\n",
       " 0.3705266132918692,\n",
       " 0.3705266132918477,\n",
       " 0.3705266132918194,\n",
       " 0.3705266132918098,\n",
       " 0.3705266132918011,\n",
       " 0.37052661329178904,\n",
       " 0.3705266132917847,\n",
       " 0.37052661329178094,\n",
       " 0.37052661329177616,\n",
       " 0.3705266132917745,\n",
       " 0.37052661329177305,\n",
       " 0.37052661329177067,\n",
       " 0.37052661329176984,\n",
       " 0.3705266132917697,\n",
       " 0.37052661329176884,\n",
       " 0.37052661329176845,\n",
       " 0.3705266132917681,\n",
       " 0.3705266132917678,\n",
       " 0.370526613291768,\n",
       " 0.37052661329176784,\n",
       " 0.3705266132917673,\n",
       " 0.37052661329176745,\n",
       " 0.3705266132917675,\n",
       " 0.37052661329176784,\n",
       " 0.37052661329176756,\n",
       " 0.3705266132917673,\n",
       " 0.37052661329176734,\n",
       " 0.3705266132917674,\n",
       " 0.3705266132917673,\n",
       " 0.3705266132917676,\n",
       " 0.37052661329176734,\n",
       " 0.37052661329176717,\n",
       " 0.3705266132917673,\n",
       " 0.3705266132917672,\n",
       " 0.3705266132917672,\n",
       " 0.3705266132917675,\n",
       " 0.37052661329176756,\n",
       " 0.3705266132917673,\n",
       " 0.3705266132917676,\n",
       " 0.37052661329176767,\n",
       " 0.3705266132917677,\n",
       " 0.37052661329176745,\n",
       " 0.3705266132917675,\n",
       " 0.3705266132917676,\n",
       " 0.3705266132917676,\n",
       " 0.37052661329176767,\n",
       " 0.3705266132917677,\n",
       " 0.3705266132917676,\n",
       " 0.3705266132917677,\n",
       " 0.3705266132917676,\n",
       " 0.37052661329176717,\n",
       " 0.37052661329176695,\n",
       " 0.3705266132917667,\n",
       " 0.37052661329176706,\n",
       " 0.37052661329176695,\n",
       " 0.37052661329176695,\n",
       " 0.3705266132917675,\n",
       " 0.3705266132917676,\n",
       " 0.3705266132917676,\n",
       " 0.37052661329176695,\n",
       " 0.3705266132917672,\n",
       " 0.3705266132917674,\n",
       " 0.3705266132917674,\n",
       " 0.3705266132917675,\n",
       " 0.3705266132917673,\n",
       " 0.37052661329176717,\n",
       " 0.3705266132917673,\n",
       " 0.3705266132917671,\n",
       " 0.37052661329176695,\n",
       " 0.37052661329176717,\n",
       " 0.3705266132917675,\n",
       " 0.37052661329176706,\n",
       " 0.3705266132917671,\n",
       " 0.3705266132917671,\n",
       " 0.37052661329176756,\n",
       " 0.3705266132917677,\n",
       " 0.3705266132917676,\n",
       " 0.37052661329176756,\n",
       " 0.37052661329176756,\n",
       " 0.37052661329176734,\n",
       " 0.3705266132917674,\n",
       " 0.3705266132917677,\n",
       " 0.37052661329176784,\n",
       " 0.37052661329176717,\n",
       " 0.37052661329176717,\n",
       " 0.37052661329176745,\n",
       " 0.37052661329176756,\n",
       " 0.3705266132917677,\n",
       " 0.3705266132917677,\n",
       " 0.37052661329176756,\n",
       " 0.3705266132917673,\n",
       " 0.3705266132917673,\n",
       " 0.3705266132917677,\n",
       " 0.3705266132917675,\n",
       " 0.3705266132917675,\n",
       " 0.3705266132917675,\n",
       " 0.370526613291768,\n",
       " 0.37052661329176795,\n",
       " 0.3705266132917676,\n",
       " 0.3705266132917677,\n",
       " 0.3705266132917676,\n",
       " 0.3705266132917674,\n",
       " 0.3705266132917676,\n",
       " 0.3705266132917675,\n",
       " 0.37052661329176734,\n",
       " 0.3705266132917676,\n",
       " 0.37052661329176756,\n",
       " 0.3705266132917673,\n",
       " 0.3705266132917675,\n",
       " 0.3705266132917675,\n",
       " 0.37052661329176734,\n",
       " 0.37052661329176734,\n",
       " 0.3705266132917674,\n",
       " 0.3705266132917675,\n",
       " 0.3705266132917676,\n",
       " 0.3705266132917677,\n",
       " 0.3705266132917675,\n",
       " 0.3705266132917675,\n",
       " 0.3705266132917675,\n",
       " 0.3705266132917676,\n",
       " 0.3705266132917675,\n",
       " 0.3705266132917676,\n",
       " 0.37052661329176717,\n",
       " 0.37052661329176734,\n",
       " 0.37052661329176734,\n",
       " 0.3705266132917674,\n",
       " 0.3705266132917674,\n",
       " 0.3705266132917675,\n",
       " 0.3705266132917676,\n",
       " 0.3705266132917676,\n",
       " 0.3705266132917675,\n",
       " 0.3705266132917675,\n",
       " 0.37052661329176734,\n",
       " 0.3705266132917674,\n",
       " 0.3705266132917676,\n",
       " 0.3705266132917675,\n",
       " 0.3705266132917675,\n",
       " 0.3705266132917675,\n",
       " 0.3705266132917675,\n",
       " 0.3705266132917674,\n",
       " 0.3705266132917674,\n",
       " 0.37052661329176756,\n",
       " 0.3705266132917675,\n",
       " 0.37052661329176767,\n",
       " 0.3705266132917675,\n",
       " 0.3705266132917674,\n",
       " 0.3705266132917675,\n",
       " 0.37052661329176767,\n",
       " 0.37052661329176767,\n",
       " 0.3705266132917676,\n",
       " 0.37052661329176745,\n",
       " 0.37052661329176734,\n",
       " 0.37052661329176745,\n",
       " 0.3705266132917675,\n",
       " 0.3705266132917674,\n",
       " 0.3705266132917675,\n",
       " 0.3705266132917674,\n",
       " 0.3705266132917675,\n",
       " 0.37052661329176756,\n",
       " 0.3705266132917675,\n",
       " 0.3705266132917676,\n",
       " 0.3705266132917675,\n",
       " 0.3705266132917675,\n",
       " 0.3705266132917674,\n",
       " 0.3705266132917676,\n",
       " 0.3705266132917676,\n",
       " 0.3705266132917675,\n",
       " 0.3705266132917673,\n",
       " 0.3705266132917672,\n",
       " 0.3705266132917674,\n",
       " 0.3705266132917674,\n",
       " 0.37052661329176756,\n",
       " 0.37052661329176767,\n",
       " 0.3705266132917675,\n",
       " 0.3705266132917674,\n",
       " 0.3705266132917674,\n",
       " 0.3705266132917675,\n",
       " 0.3705266132917675,\n",
       " 0.3705266132917677,\n",
       " 0.3705266132917674,\n",
       " 0.3705266132917674,\n",
       " 0.3705266132917675,\n",
       " 0.3705266132917675,\n",
       " 0.3705266132917676,\n",
       " 0.3705266132917676,\n",
       " 0.37052661329176767,\n",
       " 0.37052661329176756,\n",
       " 0.3705266132917675,\n",
       " 0.3705266132917676,\n",
       " 0.37052661329176767,\n",
       " 0.3705266132917677,\n",
       " 0.3705266132917675,\n",
       " 0.3705266132917677,\n",
       " 0.3705266132917677,\n",
       " 0.3705266132917676,\n",
       " 0.37052661329176745,\n",
       " 0.3705266132917675,\n",
       " 0.3705266132917675,\n",
       " 0.3705266132917675,\n",
       " 0.3705266132917675,\n",
       " 0.3705266132917675,\n",
       " 0.3705266132917675,\n",
       " 0.37052661329176756,\n",
       " 0.37052661329176784,\n",
       " 0.37052661329176784,\n",
       " 0.3705266132917678]"
      ]
     },
     "execution_count": 45,
     "metadata": {},
     "output_type": "execute_result"
    }
   ],
   "source": [
    "erro_tes_lis"
   ]
  },
  {
   "cell_type": "code",
   "execution_count": null,
   "metadata": {},
   "outputs": [],
   "source": []
  },
  {
   "cell_type": "code",
   "execution_count": null,
   "metadata": {},
   "outputs": [],
   "source": []
  },
  {
   "cell_type": "code",
   "execution_count": null,
   "metadata": {},
   "outputs": [],
   "source": []
  },
  {
   "cell_type": "code",
   "execution_count": null,
   "metadata": {},
   "outputs": [],
   "source": []
  },
  {
   "attachments": {},
   "cell_type": "markdown",
   "metadata": {},
   "source": [
    "## テスト広場"
   ]
  },
  {
   "cell_type": "code",
   "execution_count": 84,
   "metadata": {},
   "outputs": [],
   "source": [
    "lam_J=1.0\n",
    "lam_1=0.001\n",
    "lam_2=0.001\n",
    "gamma=0\n",
    "#(j=0,1,...,r_J)"
   ]
  },
  {
   "cell_type": "code",
   "execution_count": 85,
   "metadata": {},
   "outputs": [],
   "source": [
    "erro_y_lis=[]\n",
    "theta_1=theta_1_best=np.random.uniform(low=-0.1, high=0.1, size=int(r_J))\n",
    "theta_21=theta_21_best=np.random.uniform(low=-0.1, high=0.1, size=int(r_1))\n",
    "theta_22=theta_22_best=np.random.uniform(low=-0.1, high=0.1, size=int(r_2))\n",
    "for l in range(100):\n",
    "    #pcLassoの対角行列を作成\n",
    "    pcLasso_sigma_J=[]\n",
    "    for i in range(len(sigma_J_best)):\n",
    "        a_i=sigma_J_best[0]**2-sigma_J_best[i]**2\n",
    "        pcLasso_sigma_J.append(a_i)\n",
    "    diag_sigma_J_final=np.diag(pcLasso_sigma_J)\n",
    "    diag_sigma_J_final_r_J=diag_sigma_J_final[:r_J,:r_J]\n",
    "\n",
    "    pcLasso_sigma_1=[]\n",
    "    for i in range(len(sigma_1_best)):\n",
    "        a_i=sigma_1_best[0]**2-sigma_1_best[i]**2\n",
    "        pcLasso_sigma_1.append(a_i)\n",
    "    diag_sigma_1_final=np.diag(pcLasso_sigma_1)\n",
    "    diag_sigma_1_final_r_1=diag_sigma_1_final[:r_1,:r_1]\n",
    "\n",
    "    pcLasso_sigma_2=[]\n",
    "    for i in range(len(sigma_2_best)):\n",
    "        a_i=sigma_2_best[0]**2-sigma_2_best[i]**2\n",
    "        pcLasso_sigma_2.append(a_i)\n",
    "    diag_sigma_2_final=np.diag(pcLasso_sigma_2)\n",
    "    diag_sigma_2_final_r_2=diag_sigma_2_final[:r_2,:r_2]\n",
    "\n",
    "    #theta_1を更新\n",
    "    for j in range(r_J):\n",
    "        theta_1_del_j=np.delete(theta_1,j)\n",
    "        S_J_best_del_j=np.delete(S_J_best,j,axis=0)\n",
    "        S_J_best_j=S_J_best[j]\n",
    "        z=(y_original-theta_21.dot(S_1_best)-theta_22.dot(S_2_best)-theta_1_del_j.dot(S_J_best_del_j)).dot(S_J_best_j.T)\n",
    "        if z>lam_J:\n",
    "            theta_1[j]=(z-lam_J)/(np.linalg.norm(S_J_best_j,ord=2)**2)\n",
    "        elif np.absolute(z)<=lam_J:\n",
    "            theta_1[j]=0\n",
    "        else:\n",
    "            theta_1[j]=(z+lam_J)/(np.linalg.norm(S_J_best_j,ord=2)**2)\n",
    "\n",
    "\n",
    "\n",
    "    #誤差をとる\n",
    "    hat_y=theta_1.dot(S_J_best)+theta_21.dot(S_1_best)+theta_22.dot(S_2_best)\n",
    "    erro=np.linalg.norm(y_original-hat_y,ord=2)**2\n",
    "    erro_y_lis.append(erro)\n",
    "\n",
    "    #theta_21を更新\n",
    "    for j in range(r_1):\n",
    "        theta_21_del_j=np.delete(theta_21,j)\n",
    "        S_1_best_del_j=np.delete(S_1_best,j,axis=0)\n",
    "        S_1_best_j=S_1_best[j]\n",
    "        z=(y_original-theta_1.dot(S_J_best)-theta_22.dot(S_2_best)-theta_21_del_j.dot(S_1_best_del_j)).dot(S_1_best_j.T)\n",
    "        if z>lam_1:\n",
    "            theta_21[j]=(z-lam_1)/(np.linalg.norm(S_1_best_j,ord=2)**2+gamma*diag_sigma_1_final_r_1[j,j])\n",
    "        elif np.absolute(z)<=lam_1:\n",
    "            theta_21[j]=0\n",
    "        else:\n",
    "            theta_21[j]=(z+lam_1)/(np.linalg.norm(S_1_best_j,ord=2)**2+gamma*diag_sigma_1_final_r_1[j,j])\n",
    "\n",
    "    #誤差をとる\n",
    "    hat_y=theta_1.dot(S_J_best)+theta_21.dot(S_1_best)+theta_22.dot(S_2_best)\n",
    "    erro=np.linalg.norm(y_original-hat_y,ord=2)**2\n",
    "    erro_y_lis.append(erro)\n",
    "\n",
    "    #theta_22を更新\n",
    "    for j in range(r_2):\n",
    "        theta_22_del_j=np.delete(theta_22,j)\n",
    "        S_2_best_del_j=np.delete(S_2_best,j,axis=0)\n",
    "        S_2_best_j=S_2_best[j]\n",
    "        z=(y_original-theta_1.dot(S_J_best)-theta_21.dot(S_1_best)-theta_22_del_j.dot(S_2_best_del_j)).dot(S_2_best_j.T)\n",
    "        if z>lam_2:\n",
    "            theta_22[j]=-(z-lam_2)/(np.linalg.norm(S_2_best_j,ord=2)**2+gamma*diag_sigma_2_final_r_2[j,j])\n",
    "        elif np.absolute(z)<=lam_2:\n",
    "            theta_22[j]=0\n",
    "        else:\n",
    "            theta_22[j]=(z+lam_2)/(np.linalg.norm(S_2_best_j,ord=2)**2+gamma*diag_sigma_2_final_r_2[j,j])\n",
    "\n",
    "    #誤差をとる\n",
    "    hat_y=theta_1.dot(S_J_best)+theta_21.dot(S_1_best)+theta_22.dot(S_2_best)\n",
    "    erro=np.linalg.norm(y_original-hat_y,ord=2)**2\n",
    "    erro_y_lis.append(erro)"
   ]
  },
  {
   "cell_type": "code",
   "execution_count": 86,
   "metadata": {},
   "outputs": [
    {
     "data": {
      "text/plain": [
       "[1.180689302434097,\n",
       " 1.1500635705903877,\n",
       " 1.150444071476731,\n",
       " 1.1522481627171597,\n",
       " 1.1492425939879125,\n",
       " 1.1489214406890114,\n",
       " 1.149152605207301,\n",
       " 1.1490227408597071,\n",
       " 1.1490426073381153,\n",
       " 1.149619933914947,\n",
       " 1.1495868394722397,\n",
       " 1.1495694507133962,\n",
       " 1.1498381888011233,\n",
       " 1.1500171183434653,\n",
       " 1.150024711792463,\n",
       " 1.150027937563656,\n",
       " 1.150093173896041,\n",
       " 1.150047208097193,\n",
       " 1.1500725599135557,\n",
       " 1.1500956137551002,\n",
       " 1.1501133472575187,\n",
       " 1.1501433684653937,\n",
       " 1.1501196553126094,\n",
       " 1.1501048950592745,\n",
       " 1.1501309708720757,\n",
       " 1.1501244087986604,\n",
       " 1.1501194100959842,\n",
       " 1.150107057559982,\n",
       " 1.150110394458781,\n",
       " 1.150110685090219,\n",
       " 1.1501339921019011,\n",
       " 1.1501289226434919,\n",
       " 1.150118121043688,\n",
       " 1.150089781489033,\n",
       " 1.1501015353793735,\n",
       " 1.150102810020176,\n",
       " 1.1501299829272098,\n",
       " 1.1501284926108353,\n",
       " 1.1501185747542602,\n",
       " 1.150090371969414,\n",
       " 1.1500994721501285,\n",
       " 1.1501014932560387,\n",
       " 1.1501246791831656,\n",
       " 1.1501245565200138,\n",
       " 1.1501170689298932,\n",
       " 1.150095555096449,\n",
       " 1.1501019821672949,\n",
       " 1.1501037925932533,\n",
       " 1.1501204006750547,\n",
       " 1.1501205871116686,\n",
       " 1.1501154804804474,\n",
       " 1.1501007131482521,\n",
       " 1.15010508350568,\n",
       " 1.1501063565222267,\n",
       " 1.1501173773963242,\n",
       " 1.1501176182040018,\n",
       " 1.1501143125905144,\n",
       " 1.1501047435666232,\n",
       " 1.1501076082593584,\n",
       " 1.1501084350018216,\n",
       " 1.1501154311811916,\n",
       " 1.1501156484383688,\n",
       " 1.1501135782095133,\n",
       " 1.1501076055122545,\n",
       " 1.150109430045224,\n",
       " 1.1501099461806217,\n",
       " 1.1501142630246293,\n",
       " 1.1501144321588146,\n",
       " 1.1501131626669971,\n",
       " 1.1501095095224734,\n",
       " 1.1501106491234099,\n",
       " 1.1501109609104618,\n",
       " 1.1501135816459742,\n",
       " 1.1501137084132178,\n",
       " 1.1501129390157045,\n",
       " 1.1501107306617127,\n",
       " 1.150111435067536,\n",
       " 1.1501116198271508,\n",
       " 1.1501131961008537,\n",
       " 1.1501132876797688,\n",
       " 1.1501128244028835,\n",
       " 1.15011149822069,\n",
       " 1.1501119314468646,\n",
       " 1.150112039825983,\n",
       " 1.1501129835320112,\n",
       " 1.1501130478587471,\n",
       " 1.1501127696109206,\n",
       " 1.150111975103221,\n",
       " 1.1501122411220461,\n",
       " 1.150112304292502,\n",
       " 1.150112868614886,\n",
       " 1.150112913021109,\n",
       " 1.1501127459064124,\n",
       " 1.1501122698492612,\n",
       " 1.1501124332881092,\n",
       " 1.1501124699472578,\n",
       " 1.1501128076809797,\n",
       " 1.1501128380011068,\n",
       " 1.1501127374880853,\n",
       " 1.1501124517811987,\n",
       " 1.150112552385786,\n",
       " 1.1501125735947404,\n",
       " 1.1501127761218217,\n",
       " 1.1501127966703726,\n",
       " 1.1501127360751346,\n",
       " 1.1501125641810075,\n",
       " 1.150112626273609,\n",
       " 1.15011263851655,\n",
       " 1.150112760290426,\n",
       " 1.1501127741409836,\n",
       " 1.1501127375055995,\n",
       " 1.150112633775542,\n",
       " 1.1501126722182327,\n",
       " 1.150112679273071,\n",
       " 1.1501127527186519,\n",
       " 1.1501127620152896,\n",
       " 1.1501127397947486,\n",
       " 1.1501126769915144,\n",
       " 1.1501127008716119,\n",
       " 1.1501127049306068,\n",
       " 1.1501127493755219,\n",
       " 1.1501127555943935,\n",
       " 1.150112742070952,\n",
       " 1.1501127039145536,\n",
       " 1.1501127187992792,\n",
       " 1.150112721131118,\n",
       " 1.15011274811994,\n",
       " 1.150112752268284,\n",
       " 1.150112744008878,\n",
       " 1.150112720743969,\n",
       " 1.15011273005337,\n",
       " 1.1501127313908588,\n",
       " 1.1501127478378317,\n",
       " 1.1501127505984243,\n",
       " 1.1501127455359148,\n",
       " 1.1501127312993862,\n",
       " 1.15011273714119,\n",
       " 1.1501127379069842,\n",
       " 1.1501127479658009,\n",
       " 1.1501127497991344,\n",
       " 1.150112746684919,\n",
       " 1.1501127379414795,\n",
       " 1.1501127416191115,\n",
       " 1.1501127420566821,\n",
       " 1.150112748230795,\n",
       " 1.1501127494461763,\n",
       " 1.150112747523549,\n",
       " 1.1501127421342427,\n",
       " 1.1501127444565893,\n",
       " 1.1501127447060207,\n",
       " 1.1501127485093845,\n",
       " 1.150112749313866,\n",
       " 1.1501127481226456,\n",
       " 1.1501127447888102,\n",
       " 1.1501127462596261,\n",
       " 1.1501127464014114,\n",
       " 1.1501127487527667,\n",
       " 1.1501127492845535,\n",
       " 1.1501127485438922,\n",
       " 1.1501127464742433,\n",
       " 1.1501127474083421,\n",
       " 1.150112747488671,\n",
       " 1.1501127489475158,\n",
       " 1.1501127492986312,\n",
       " 1.15011274883652,\n",
       " 1.1501127475471913,\n",
       " 1.1501127481419773,\n",
       " 1.1501127481873055,\n",
       " 1.1501127490955776,\n",
       " 1.1501127493271657,\n",
       " 1.150112749037874,\n",
       " 1.1501127482319227,\n",
       " 1.1501127486115776,\n",
       " 1.150112748637034,\n",
       " 1.1501127492044558,\n",
       " 1.1501127493570698,\n",
       " 1.1501127491753762,\n",
       " 1.150112748669909,\n",
       " 1.1501127489127976,\n",
       " 1.150112748927012,\n",
       " 1.1501127492826757,\n",
       " 1.1501127493831662,\n",
       " 1.1501127492686913,\n",
       " 1.1501127489506657,\n",
       " 1.1501127491063856,\n",
       " 1.1501127491142664,\n",
       " 1.1501127493379162,\n",
       " 1.1501127494040404,\n",
       " 1.1501127493316992,\n",
       " 1.1501127491309906,\n",
       " 1.15011274923102,\n",
       " 1.1501127492353516,\n",
       " 1.1501127493764238,\n",
       " 1.1501127494199068,\n",
       " 1.1501127493740602,\n",
       " 1.1501127492470202,\n",
       " 1.1501127493113925,\n",
       " 1.1501127493137466,\n",
       " 1.1501127494029937,\n",
       " 1.1501127494315728,\n",
       " 1.1501127494024392,\n",
       " 1.150112749321804,\n",
       " 1.1501127493632972,\n",
       " 1.1501127493645589,\n",
       " 1.1501127494211805,\n",
       " 1.1501127494399543,\n",
       " 1.1501127494213927,\n",
       " 1.1501127493700778,\n",
       " 1.1501127493968648,\n",
       " 1.1501127493975285,\n",
       " 1.1501127494335446,\n",
       " 1.1501127494458734,\n",
       " 1.1501127494340193,\n",
       " 1.150112749401281,\n",
       " 1.1501127494185992,\n",
       " 1.1501127494189383,\n",
       " 1.1501127494419052,\n",
       " 1.1501127494499992,\n",
       " 1.1501127494424115,\n",
       " 1.150112749421478,\n",
       " 1.1501127494326868,\n",
       " 1.1501127494328554,\n",
       " 1.150112749447535,\n",
       " 1.1501127494528458,\n",
       " 1.1501127494479793,\n",
       " 1.150112749434566,\n",
       " 1.1501127494418286,\n",
       " 1.1501127494419066,\n",
       " 1.1501127494513104,\n",
       " 1.1501127494547945,\n",
       " 1.1501127494516665,\n",
       " 1.1501127494430539,\n",
       " 1.1501127494477654,\n",
       " 1.1501127494477983,\n",
       " 1.150112749453834,\n",
       " 1.15011274945612,\n",
       " 1.150112749454106,\n",
       " 1.1501127494485648,\n",
       " 1.1501127494516241,\n",
       " 1.1501127494516357,\n",
       " 1.1501127494555166,\n",
       " 1.150112749457015,\n",
       " 1.1501127494557162,\n",
       " 1.150112749452147,\n",
       " 1.1501127494541354,\n",
       " 1.150112749454135,\n",
       " 1.1501127494566363,\n",
       " 1.1501127494576178,\n",
       " 1.1501127494567795,\n",
       " 1.150112749454476,\n",
       " 1.1501127494557695,\n",
       " 1.1501127494557666,\n",
       " 1.1501127494573788,\n",
       " 1.1501127494580232,\n",
       " 1.1501127494574808,\n",
       " 1.1501127494559915,\n",
       " 1.150112749456833,\n",
       " 1.1501127494568297,\n",
       " 1.1501127494578711,\n",
       " 1.1501127494582937,\n",
       " 1.1501127494579417,\n",
       " 1.1501127494569778,\n",
       " 1.1501127494575263,\n",
       " 1.1501127494575225,\n",
       " 1.1501127494581975,\n",
       " 1.1501127494584726,\n",
       " 1.1501127494582455,\n",
       " 1.1501127494576215,\n",
       " 1.1501127494579793,\n",
       " 1.1501127494579764,\n",
       " 1.1501127494584131,\n",
       " 1.1501127494585937,\n",
       " 1.150112749458445,\n",
       " 1.1501127494580416,\n",
       " 1.1501127494582741,\n",
       " 1.1501127494582712,\n",
       " 1.1501127494585537,\n",
       " 1.1501127494586736,\n",
       " 1.1501127494585774,\n",
       " 1.150112749458314,\n",
       " 1.150112749458466,\n",
       " 1.1501127494584646,\n",
       " 1.1501127494586485,\n",
       " 1.150112749458726,\n",
       " 1.1501127494586636,\n",
       " 1.1501127494584926,\n",
       " 1.1501127494585923,\n",
       " 1.1501127494585903,\n",
       " 1.150112749458711,\n",
       " 1.1501127494587609,\n",
       " 1.1501127494587209,\n",
       " 1.150112749458609,\n",
       " 1.1501127494586747,\n",
       " 1.1501127494586731,\n",
       " 1.1501127494587509,\n",
       " 1.1501127494587837,\n",
       " 1.1501127494587575,\n",
       " 1.1501127494586851,\n",
       " 1.1501127494587267,\n",
       " 1.150112749458726]"
      ]
     },
     "execution_count": 86,
     "metadata": {},
     "output_type": "execute_result"
    }
   ],
   "source": [
    "erro_y_lis"
   ]
  },
  {
   "cell_type": "code",
   "execution_count": 87,
   "metadata": {},
   "outputs": [
    {
     "data": {
      "text/plain": [
       "<function matplotlib.pyplot.show(close=None, block=None)>"
      ]
     },
     "execution_count": 87,
     "metadata": {},
     "output_type": "execute_result"
    },
    {
     "data": {
      "image/png": "[encoded data removed]",
      "text/plain": [
       "<Figure size 640x480 with 1 Axes>"
      ]
     },
     "metadata": {},
     "output_type": "display_data"
    }
   ],
   "source": [
    "plt.plot(erro_y_lis)\n",
    "plt.scatter(range(len(erro_y_lis)),erro_y_lis,color=\"black\")\n",
    "plt.show"
   ]
  },
  {
   "cell_type": "code",
   "execution_count": 88,
   "metadata": {},
   "outputs": [
    {
     "data": {
      "text/plain": [
       "array([ 0.05123244,  0.21120311, -0.03056201,  0.        , -0.0825378 ,\n",
       "       -0.00996745, -0.11545755,  0.00231046,  0.16151542, -0.20438591,\n",
       "        0.17587973,  0.01330369,  0.        , -0.05405301,  0.07145153,\n",
       "        0.04051003,  0.        ,  0.        , -0.13833197,  0.        ,\n",
       "        0.        ,  0.        ,  0.14603287,  0.        ,  0.        ,\n",
       "        0.        ,  0.        , -0.03281539,  0.        ,  0.        ,\n",
       "        0.        ,  0.        ,  0.        ,  0.        ,  0.        ,\n",
       "        0.        ,  0.        ,  0.        ,  0.        ,  0.        ])"
      ]
     },
     "execution_count": 88,
     "metadata": {},
     "output_type": "execute_result"
    }
   ],
   "source": [
    "theta_1"
   ]
  },
  {
   "cell_type": "code",
   "execution_count": 89,
   "metadata": {},
   "outputs": [
    {
     "data": {
      "text/plain": [
       "array([ 0.        ,  0.11131884,  0.        ,  0.31693071,  0.        ,\n",
       "        0.29120397,  0.        ,  0.12867229,  0.52926681,  0.0218962 ,\n",
       "        0.        ,  0.08793252, -0.29574765,  0.        , -0.20577262,\n",
       "        0.10414683,  0.23922591, -0.25982112,  0.        ,  0.        ,\n",
       "       -0.26305251,  0.        ,  0.15634289,  0.        ,  0.14958489,\n",
       "        0.        ,  0.        ,  0.14843874, -0.28434528, -0.13296656,\n",
       "       -0.35570612,  0.        , -0.19926241,  0.        ,  0.        ,\n",
       "        0.08975083, -0.29224076,  0.        ,  0.        , -0.0154694 ])"
      ]
     },
     "execution_count": 89,
     "metadata": {},
     "output_type": "execute_result"
    }
   ],
   "source": [
    "theta_21"
   ]
  },
  {
   "cell_type": "code",
   "execution_count": 90,
   "metadata": {},
   "outputs": [
    {
     "data": {
      "text/plain": [
       "array([ 0.00000000e+00, -2.91925175e-12,  0.00000000e+00, -2.00539501e-12,\n",
       "        0.00000000e+00,  0.00000000e+00,  0.00000000e+00,  0.00000000e+00,\n",
       "        0.00000000e+00,  0.00000000e+00,  0.00000000e+00,  0.00000000e+00,\n",
       "        0.00000000e+00,  0.00000000e+00, -3.02303997e-02, -5.09256503e-12,\n",
       "        0.00000000e+00, -8.86264230e-02,  0.00000000e+00,  0.00000000e+00,\n",
       "        0.00000000e+00,  0.00000000e+00,  0.00000000e+00,  0.00000000e+00,\n",
       "       -1.51538168e-12,  0.00000000e+00, -6.21063398e-02, -1.56509578e-12,\n",
       "       -2.38409923e-04, -4.19130340e-02, -5.95110542e-04,  0.00000000e+00,\n",
       "       -1.51358670e-04,  0.00000000e+00,  0.00000000e+00, -2.77157845e-12,\n",
       "       -1.13029871e-03,  0.00000000e+00,  0.00000000e+00, -1.30745106e-12])"
      ]
     },
     "execution_count": 90,
     "metadata": {},
     "output_type": "execute_result"
    }
   ],
   "source": [
    "theta_22"
   ]
  },
  {
   "cell_type": "code",
   "execution_count": 91,
   "metadata": {},
   "outputs": [
    {
     "data": {
      "text/plain": [
       "<function matplotlib.pyplot.show(close=None, block=None)>"
      ]
     },
     "execution_count": 91,
     "metadata": {},
     "output_type": "execute_result"
    },
    {
     "data": {
      "image/png": "[encoded data removed]",
      "text/plain": [
       "<Figure size 640x480 with 1 Axes>"
      ]
     },
     "metadata": {},
     "output_type": "display_data"
    }
   ],
   "source": [
    "plt.plot(np.absolute(theta_1))\n",
    "plt.scatter(range(len(theta_1)),np.absolute(theta_1),color=\"black\")\n",
    "plt.show"
   ]
  },
  {
   "cell_type": "code",
   "execution_count": 62,
   "metadata": {},
   "outputs": [
    {
     "data": {
      "text/plain": [
       "<function matplotlib.pyplot.show(close=None, block=None)>"
      ]
     },
     "execution_count": 62,
     "metadata": {},
     "output_type": "execute_result"
    },
    {
     "data": {
      "image/png": "[encoded data removed]",
      "text/plain": [
       "<Figure size 640x480 with 1 Axes>"
      ]
     },
     "metadata": {},
     "output_type": "display_data"
    }
   ],
   "source": [
    "plt.plot(np.absolute(theta_21))\n",
    "plt.scatter(range(len(theta_21)),np.absolute(theta_21),color=\"black\")\n",
    "plt.show"
   ]
  },
  {
   "cell_type": "code",
   "execution_count": 93,
   "metadata": {},
   "outputs": [
    {
     "data": {
      "text/plain": [
       "<function matplotlib.pyplot.show(close=None, block=None)>"
      ]
     },
     "execution_count": 93,
     "metadata": {},
     "output_type": "execute_result"
    },
    {
     "data": {
      "image/png": "[encoded data removed]",
      "text/plain": [
       "<Figure size 640x480 with 1 Axes>"
      ]
     },
     "metadata": {},
     "output_type": "display_data"
    }
   ],
   "source": [
    "plt.plot(np.absolute(theta_22))\n",
    "plt.scatter(range(len(theta_22)),np.absolute(theta_22),color=\"black\")\n",
    "plt.show"
   ]
  },
  {
   "cell_type": "code",
   "execution_count": null,
   "metadata": {},
   "outputs": [],
   "source": [
    "theta_1_del_j=np.delete(theta_1,j)\n",
    "S_J_best_del_j=np.delete(S_J_best,j,axis=0)\n",
    "S_J_best_j=S_J_best[j]"
   ]
  },
  {
   "cell_type": "code",
   "execution_count": 42,
   "metadata": {},
   "outputs": [
    {
     "data": {
      "text/plain": [
       "array([[ 2.72888248e+00,  3.31787949e+00,  2.46493542e+00, ...,\n",
       "         2.45960637e+00,  2.88358910e+00,  2.04330008e+00],\n",
       "       [-4.08221182e-01,  1.89048705e+00, -6.68969952e-01, ...,\n",
       "        -3.64775919e-01,  1.01346155e+00, -2.46112373e-01],\n",
       "       [-2.64411253e-01,  5.98335664e-02, -6.14434190e-01, ...,\n",
       "        -2.24623455e-01,  1.43356130e-01,  1.79692324e-01],\n",
       "       ...,\n",
       "       [-1.10637652e-02,  3.10750482e-02, -4.03260996e-03, ...,\n",
       "         5.33046856e-03, -9.12227569e-03, -2.20904068e-02],\n",
       "       [-3.67050318e-02, -2.58426797e-03, -2.32908202e-03, ...,\n",
       "         2.63756270e-02, -2.17371867e-02, -3.23724277e-02],\n",
       "       [-7.41970466e-04,  1.08945909e-02,  1.95582739e-02, ...,\n",
       "        -1.35940669e-02, -9.26236613e-03, -4.74493719e-03]])"
      ]
     },
     "execution_count": 42,
     "metadata": {},
     "output_type": "execute_result"
    }
   ],
   "source": [
    "S_J_best"
   ]
  },
  {
   "cell_type": "code",
   "execution_count": 46,
   "metadata": {},
   "outputs": [
    {
     "data": {
      "text/plain": [
       "(100,)"
      ]
     },
     "execution_count": 46,
     "metadata": {},
     "output_type": "execute_result"
    }
   ],
   "source": [
    "S_J_best_j=S_J_best[0]\n",
    "S_J_best_j.shape"
   ]
  },
  {
   "cell_type": "code",
   "execution_count": 49,
   "metadata": {},
   "outputs": [
    {
     "data": {
      "text/plain": [
       "642.4561179275595"
      ]
     },
     "execution_count": 49,
     "metadata": {},
     "output_type": "execute_result"
    }
   ],
   "source": [
    "np.linalg.norm(S_J_best_j,ord=2)**2"
   ]
  },
  {
   "cell_type": "code",
   "execution_count": 50,
   "metadata": {},
   "outputs": [
    {
     "data": {
      "text/plain": [
       "642.4561179275595"
      ]
     },
     "execution_count": 50,
     "metadata": {},
     "output_type": "execute_result"
    }
   ],
   "source": [
    "S_J_best_j.dot(S_J_best_j.T)"
   ]
  },
  {
   "cell_type": "code",
   "execution_count": 41,
   "metadata": {},
   "outputs": [
    {
     "name": "stdout",
     "output_type": "stream",
     "text": [
      "0\n",
      "1\n",
      "2\n",
      "3\n",
      "4\n",
      "5\n",
      "6\n",
      "7\n",
      "8\n",
      "9\n",
      "10\n",
      "11\n",
      "12\n",
      "13\n",
      "14\n",
      "15\n",
      "16\n",
      "17\n",
      "18\n",
      "19\n",
      "20\n",
      "21\n",
      "22\n",
      "23\n",
      "24\n",
      "25\n",
      "26\n",
      "27\n",
      "28\n",
      "29\n",
      "30\n",
      "31\n",
      "32\n",
      "33\n",
      "34\n",
      "35\n",
      "36\n",
      "37\n",
      "38\n",
      "39\n"
     ]
    }
   ],
   "source": [
    "for j in range(r_J):\n",
    "    print(j)"
   ]
  },
  {
   "cell_type": "code",
   "execution_count": 48,
   "metadata": {},
   "outputs": [
    {
     "data": {
      "text/plain": [
       "array([5.62063886e-08])"
      ]
     },
     "execution_count": 48,
     "metadata": {},
     "output_type": "execute_result"
    }
   ],
   "source": [
    "(y_original-theta_21.dot(S_1_best)-theta_22.dot(S_2_best)-theta_1_del_j.dot(S_J_best_del_j)).dot(S_J_best_j)"
   ]
  },
  {
   "cell_type": "code",
   "execution_count": 32,
   "metadata": {},
   "outputs": [],
   "source": [
    "pcLasso_sigma_J=[]\n",
    "for i in range(len(sigma_J_best)):\n",
    "    a_i=sigma_J_best[0]**2-sigma_J_best[i]**2\n",
    "    pcLasso_sigma_J.append(a_i)\n",
    "diag_sigma_J_final=np.diag(pcLasso_sigma_J)\n",
    "diag_sigma_J_final_r_J=diag_sigma_J_final[:r_J,:r_J]"
   ]
  },
  {
   "cell_type": "code",
   "execution_count": 33,
   "metadata": {},
   "outputs": [
    {
     "data": {
      "text/plain": [
       "array([  0.        , 438.12865427,   0.        ,   0.        ,\n",
       "         0.        ,   0.        ,   0.        ,   0.        ,\n",
       "         0.        ,   0.        ,   0.        ,   0.        ,\n",
       "         0.        ,   0.        ,   0.        ,   0.        ,\n",
       "         0.        ,   0.        ,   0.        ,   0.        ,\n",
       "         0.        ,   0.        ,   0.        ,   0.        ,\n",
       "         0.        ,   0.        ,   0.        ,   0.        ,\n",
       "         0.        ,   0.        ,   0.        ,   0.        ,\n",
       "         0.        ,   0.        ,   0.        ,   0.        ,\n",
       "         0.        ,   0.        ,   0.        ,   0.        ,\n",
       "         0.        ,   0.        ,   0.        ,   0.        ,\n",
       "         0.        ,   0.        ,   0.        ,   0.        ,\n",
       "         0.        ,   0.        ,   0.        ,   0.        ,\n",
       "         0.        ,   0.        ,   0.        ,   0.        ,\n",
       "         0.        ,   0.        ,   0.        ,   0.        ,\n",
       "         0.        ,   0.        ,   0.        ,   0.        ,\n",
       "         0.        ,   0.        ,   0.        ,   0.        ,\n",
       "         0.        ,   0.        ,   0.        ,   0.        ,\n",
       "         0.        ,   0.        ,   0.        ,   0.        ,\n",
       "         0.        ,   0.        ,   0.        ,   0.        ])"
      ]
     },
     "execution_count": 33,
     "metadata": {},
     "output_type": "execute_result"
    }
   ],
   "source": [
    "diag_sigma_J_final[1]"
   ]
  },
  {
   "cell_type": "code",
   "execution_count": 29,
   "metadata": {},
   "outputs": [
    {
     "name": "stderr",
     "output_type": "stream",
     "text": [
      "100%|██████████| 100/100 [00:01<00:00, 97.20it/s]\n",
      "100%|██████████| 100/100 [00:00<00:00, 405.84it/s]\n",
      "100%|██████████| 100/100 [00:00<00:00, 12801.17it/s]\n",
      "100%|██████████| 100/100 [00:01<00:00, 87.63it/s]\n",
      "100%|██████████| 100/100 [00:00<00:00, 462.07it/s]\n",
      "100%|██████████| 100/100 [00:00<00:00, 4255.02it/s]\n",
      "100%|██████████| 100/100 [00:01<00:00, 52.89it/s]\n",
      "100%|██████████| 100/100 [00:00<00:00, 322.57it/s]\n",
      "100%|██████████| 100/100 [00:00<00:00, 11039.68it/s]\n",
      "100%|██████████| 100/100 [00:02<00:00, 45.81it/s]\n",
      "100%|██████████| 100/100 [00:00<00:00, 375.48it/s]\n",
      "100%|██████████| 100/100 [00:00<00:00, 11618.25it/s]\n",
      "100%|██████████| 100/100 [00:01<00:00, 64.30it/s]\n",
      "100%|██████████| 100/100 [00:00<00:00, 371.47it/s]\n",
      "100%|██████████| 100/100 [00:00<00:00, 10530.78it/s]\n"
     ]
    }
   ],
   "source": [
    "k = 5\n",
    "kf = KFold(n_splits=k)\n",
    "lis_cv_best=[]\n",
    "for train_idex,test_idx in kf.split(df_tra.T):\n",
    "    train_data=df_tra[:,train_idex]\n",
    "    test_data=df_tra[:,test_idx]\n",
    "    \n",
    "    X_1_or=train_data[:p_1,:]\n",
    "    X_2_or=train_data[p_1:p_1+p_2,:]\n",
    "    y_or=train_data[p_1+p_2:,:]\n",
    "\n",
    "    erro_lis,erro_best,S_J_best,U_1_best,U_2_best,S_1_best,W_1_best,S_2_best,W_2_best,sigma_J_best,sigma_1_best,sigma_2_best,hat_X_best=function.W_sJIVE_decompositon_1(\n",
    "        times=times,r_J=r_J,r_1=r_1,r_2=r_2,X_1_or=X_1_or,X_2_or=X_2_or,threshold=threshold\n",
    "        )\n",
    "    erro_y_lis,erro_best,theta_1_best,theta_21_best,theta_22_best,hat_y_best=function.W_sJIVE_decomposition_2(\n",
    "        y_original=y_or,threshold=threshold,times=times,lam_J=lam_J,lam_1=lam_1,lam_2=lam_2,gamma=gamma,S_J_best=S_J_best,S_1_best=S_1_best,S_2_best=S_2_best,sigma_J_best=sigma_J_best,sigma_1_best=sigma_1_best,sigma_2_best=sigma_2_best\n",
    "        )\n",
    "    \n",
    "    nonzero_theta_1 = np.nonzero(theta_1_best)[0]\n",
    "    theta_1_best_sparse=theta_1_best[nonzero_theta_1]\n",
    "\n",
    "    U_1_best_sparse=U_1_best[:,nonzero_theta_1]\n",
    "    U_2_best_sparse=U_2_best[:,nonzero_theta_1]\n",
    "    S_J_best_sparse=S_J_best[nonzero_theta_1,:]\n",
    "\n",
    "    nonzero_theta_21 = np.nonzero(theta_21_best)[0]\n",
    "    theta_21_best_sparse=theta_21_best[nonzero_theta_21]\n",
    "    W_1_best_sparse=W_1_best[:,nonzero_theta_21]\n",
    "    S_1_best_sparse=S_1_best[nonzero_theta_21,:]\n",
    "\n",
    "    nonzero_theta_22 = np.nonzero(theta_22_best)[0]\n",
    "    theta_22_best_sparse=theta_22_best[nonzero_theta_22]\n",
    "    W_2_best_sparse=W_2_best[:,nonzero_theta_22]\n",
    "    S_2_best_sparse=S_2_best[nonzero_theta_22,:]\n",
    "\n",
    "\n",
    "    X_1_tes=test_data[:p_1,:]\n",
    "    X_2_tes=test_data[p_1:p_1+p_2,:]\n",
    "    y_tes=test_data[p_1+p_2:,:]\n",
    "    \n",
    "    erro_tes_lis,erro_tes_best,S_J_new_best,S_1_new_best,S_2_new_best,y_new,erro_result=function.sJIVE_prediction(\n",
    "        X_1_tes=X_1_tes,X_2_tes=X_2_tes,y_tes=y_tes,U_1_best=U_1_best_sparse,U_2_best=U_2_best_sparse,W_1_best=W_1_best_sparse,W_2_best=W_2_best_sparse,theta_1_best=theta_1_best_sparse,theta_21_best=theta_21_best_sparse,theta_22_best=theta_22_best_sparse,times_tes=100,threshold_tes=0.001\n",
    "    )\n",
    "    lis_cv_best.append(erro_tes_best)"
   ]
  },
  {
   "cell_type": "code",
   "execution_count": 30,
   "metadata": {},
   "outputs": [
    {
     "data": {
      "text/plain": [
       "[0.23028655856638552,\n",
       " 2.297212643733626,\n",
       " 0.17923024558139528,\n",
       " 0.21965857565984204,\n",
       " 0.1942184079988002]"
      ]
     },
     "execution_count": 30,
     "metadata": {},
     "output_type": "execute_result"
    }
   ],
   "source": [
    "lis_cv_best"
   ]
  },
  {
   "cell_type": "code",
   "execution_count": 34,
   "metadata": {},
   "outputs": [
    {
     "data": {
      "text/plain": [
       "array([[1, 0, 0],\n",
       "       [0, 5, 0],\n",
       "       [0, 0, 9]])"
      ]
     },
     "execution_count": 34,
     "metadata": {},
     "output_type": "execute_result"
    }
   ],
   "source": [
    "A = np.array([[1, 2, 3],\n",
    "              [4, 5, 6],\n",
    "              [7, 8, 9]])\n",
    "\n",
    "# 対角成分だけを残した対角行列\n",
    "D = np.diag(np.diag(A))\n",
    "D"
   ]
  },
  {
   "cell_type": "code",
   "execution_count": null,
   "metadata": {},
   "outputs": [],
   "source": []
  }
 ],
 "metadata": {
  "kernelspec": {
   "display_name": "Python 3",
   "language": "python",
   "name": "python3"
  },
  "language_info": {
   "codemirror_mode": {
    "name": "ipython",
    "version": 3
   },
   "file_extension": ".py",
   "mimetype": "text/x-python",
   "name": "python",
   "nbconvert_exporter": "python",
   "pygments_lexer": "ipython3",
   "version": "3.9.6"
  },
  "orig_nbformat": 4
 },
 "nbformat": 4,
 "nbformat_minor": 2
}
